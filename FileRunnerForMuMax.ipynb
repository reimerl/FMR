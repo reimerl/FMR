{
 "cells": [
  {
   "cell_type": "code",
   "execution_count": 1,
   "metadata": {},
   "outputs": [],
   "source": [
    "import os \n",
    "import glob\n"
   ]
  },
  {
   "cell_type": "code",
   "execution_count": 4,
   "metadata": {},
   "outputs": [
    {
     "name": "stdout",
     "output_type": "stream",
     "text": [
      "\n"
     ]
    }
   ],
   "source": [
    "basepath = os.getcwd()\n",
    "print()\n",
    "# os.path.join()\n",
    "# os.chdir()\n",
    "# outfiles = glob.glob(os.getcwd()+ '/In*/In*/Hard*/*.out')\n",
    "outfiles = glob.glob(os.getcwd()+ '/In*/Out*/Easy*/*.out')\n",
    "# len(files)\n",
    "# scripts = glob.glob(os.getcwd()+ '/In*/In*/Hard*/*.mx3')\n",
    "scripts = glob.glob(os.getcwd()+ '/In*/Out*/Easy*/*.mx3')"
   ]
  },
  {
   "cell_type": "code",
   "execution_count": 5,
   "metadata": {},
   "outputs": [
    {
     "name": "stdout",
     "output_type": "stream",
     "text": [
      "975\n",
      "2191\n"
     ]
    }
   ],
   "source": [
    "print(len(outfiles))\n",
    "\n",
    "print(len(scripts))"
   ]
  },
  {
   "cell_type": "code",
   "execution_count": null,
   "metadata": {
    "scrolled": true
   },
   "outputs": [
    {
     "name": "stdout",
     "output_type": "stream",
     "text": [
      "//mumax 3.9.1c windows_amd64 go1.3.3 (gc)\n",
      "//CUDA 10020 TITAN Xp(12288MB) cc6.1, using CC53 PTX \n",
      "//(c) Arne Vansteenkiste, Dynamat LAB, Ghent University, Belgium\n",
      "//This is free software without any warranty. See license.txt\n",
      "//output directory: C:/Users/Rob/Desktop/Research/FMR_Paper/In_Plane_Field/Out_of_Plane_Anis/EasyAxis/ThinFilmFMR_BInPlane(37.12)_Out_of_PlaneAnis_K(30000)_Ratio(1).out/\n",
      "//starting GUI at http://127.0.0.1:35368\n",
      "SetPBC(0, 0, 0)\n",
      "SetGridSize(512, 512.0, 4)\n",
      "SetCellSize(4e-9, 4e-9, 4e-9)\n",
      "Msat = 800000.0\n",
      "Aex = 1.3e-11\n",
      "alpha = 0.008\n",
      "edgesmooth = 8\n",
      "B := 37.12e-3\n",
      "anisU = vector(0.0, 0.0, 1.0)\n",
      "Ku1 = 30000\n",
      "setSolver(5)\n",
      "TableAdd(Ku1)\n",
      "TableAdd(B_ext)\n",
      "TableAutoSave(5e-13)\n",
      "m = uniform(1, 0, 0)\n",
      "B_ext = vector(B*0.9983008564845987, B*0.04995668033125289, B*0.02999550020249575)\n",
      "relax()\n",
      "MaxDt = 5e-13\n",
      "B_ext = vector(B*1, B*0, B*0)\n",
      "run(1e-09)\n"
     ]
    },
    {
     "name": "stderr",
     "output_type": "stream",
     "text": [
      "//Using cached kernel: C:/Users/Rob/Desktop/Research/kernel-cache//mumax3kernel_[512 512 4]_[0 0 0]_[4e-09 4e-09 4e-09]_6_\n"
     ]
    },
    {
     "name": "stdout",
     "output_type": "stream",
     "text": [
      "//mumax 3.9.1c windows_amd64 go1.3.3 (gc)\n",
      "//CUDA 10020 TITAN Xp(12288MB) cc6.1, using CC53 PTX \n",
      "//(c) Arne Vansteenkiste, Dynamat LAB, Ghent University, Belgium\n",
      "//This is free software without any warranty. See license.txt\n",
      "//output directory: C:/Users/Rob/Desktop/Research/FMR_Paper/In_Plane_Field/Out_of_Plane_Anis/EasyAxis/ThinFilmFMR_BInPlane(368.69)_Out_of_PlaneAnis_K(40000)_Ratio(1).out/\n",
      "//starting GUI at http://127.0.0.1:35367\n",
      "SetPBC(0, 0, 0)\n",
      "SetGridSize(512, 512.0, 4)\n",
      "SetCellSize(4e-9, 4e-9, 4e-9)\n",
      "Msat = 800000.0\n",
      "Aex = 1.3e-11\n",
      "alpha = 0.008\n",
      "edgesmooth = 8\n",
      "B := 368.69e-3\n",
      "anisU = vector(0.0, 0.0, 1.0)\n",
      "Ku1 = 40000\n",
      "setSolver(5)\n",
      "TableAdd(Ku1)\n",
      "TableAdd(B_ext)\n",
      "TableAutoSave(5e-13)\n",
      "m = uniform(1, 0, 0)\n",
      "B_ext = vector(B*0.9983008564845987, B*0.04995668033125289, B*0.02999550020249575)\n",
      "relax()\n",
      "MaxDt = 5e-13\n",
      "B_ext = vector(B*1, B*0, B*0)\n",
      "run(1e-09)\n"
     ]
    },
    {
     "name": "stderr",
     "output_type": "stream",
     "text": [
      "//Using cached kernel: C:/Users/Rob/Desktop/Research/kernel-cache//mumax3kernel_[512 512 4]_[0 0 0]_[4e-09 4e-09 4e-09]_6_\n"
     ]
    },
    {
     "name": "stdout",
     "output_type": "stream",
     "text": [
      "//mumax 3.9.1c windows_amd64 go1.3.3 (gc)\n",
      "//CUDA 10020 TITAN Xp(12288MB) cc6.1, using CC53 PTX \n",
      "//(c) Arne Vansteenkiste, Dynamat LAB, Ghent University, Belgium\n",
      "//This is free software without any warranty. See license.txt\n",
      "//output directory: C:/Users/Rob/Desktop/Research/FMR_Paper/In_Plane_Field/Out_of_Plane_Anis/EasyAxis/ThinFilmFMR_BInPlane(368.43)_Out_of_PlaneAnis_K(90000)_Ratio(1).out/\n",
      "//starting GUI at http://127.0.0.1:35367\n",
      "SetPBC(0, 0, 0)\n",
      "SetGridSize(512, 512.0, 4)\n",
      "SetCellSize(4e-9, 4e-9, 4e-9)\n",
      "Msat = 800000.0\n",
      "Aex = 1.3e-11\n",
      "alpha = 0.008\n",
      "edgesmooth = 8\n",
      "B := 368.43e-3\n",
      "anisU = vector(0.0, 0.0, 1.0)\n",
      "Ku1 = 90000\n",
      "setSolver(5)\n",
      "TableAdd(Ku1)\n",
      "TableAdd(B_ext)\n",
      "TableAutoSave(5e-13)\n",
      "m = uniform(1, 0, 0)\n",
      "B_ext = vector(B*0.9983008564845987, B*0.04995668033125289, B*0.02999550020249575)\n",
      "relax()\n",
      "MaxDt = 5e-13\n",
      "B_ext = vector(B*1, B*0, B*0)\n",
      "run(1e-09)\n"
     ]
    },
    {
     "name": "stderr",
     "output_type": "stream",
     "text": [
      "//Using cached kernel: C:/Users/Rob/Desktop/Research/kernel-cache//mumax3kernel_[512 512 4]_[0 0 0]_[4e-09 4e-09 4e-09]_6_\n"
     ]
    },
    {
     "name": "stdout",
     "output_type": "stream",
     "text": [
      "//mumax 3.9.1c windows_amd64 go1.3.3 (gc)\n",
      "//CUDA 10020 TITAN Xp(12288MB) cc6.1, using CC53 PTX \n",
      "//(c) Arne Vansteenkiste, Dynamat LAB, Ghent University, Belgium\n",
      "//This is free software without any warranty. See license.txt\n",
      "//output directory: C:/Users/Rob/Desktop/Research/FMR_Paper/In_Plane_Field/Out_of_Plane_Anis/EasyAxis/ThinFilmFMR_BInPlane(366.67)_Out_of_PlaneAnis_K(30000)_Ratio(1).out/\n",
      "//starting GUI at http://127.0.0.1:35367\n",
      "SetPBC(0, 0, 0)\n",
      "SetGridSize(512, 512.0, 4)\n",
      "SetCellSize(4e-9, 4e-9, 4e-9)\n",
      "Msat = 800000.0\n",
      "Aex = 1.3e-11\n",
      "alpha = 0.008\n",
      "edgesmooth = 8\n",
      "B := 366.67e-3\n",
      "anisU = vector(0.0, 0.0, 1.0)\n",
      "Ku1 = 30000\n",
      "setSolver(5)\n",
      "TableAdd(Ku1)\n",
      "TableAdd(B_ext)\n",
      "TableAutoSave(5e-13)\n",
      "m = uniform(1, 0, 0)\n",
      "B_ext = vector(B*0.9983008564845987, B*0.04995668033125289, B*0.02999550020249575)\n",
      "relax()\n",
      "MaxDt = 5e-13\n",
      "B_ext = vector(B*1, B*0, B*0)\n",
      "run(1e-09)\n"
     ]
    },
    {
     "name": "stderr",
     "output_type": "stream",
     "text": [
      "//Using cached kernel: C:/Users/Rob/Desktop/Research/kernel-cache//mumax3kernel_[512 512 4]_[0 0 0]_[4e-09 4e-09 4e-09]_6_\n"
     ]
    },
    {
     "name": "stdout",
     "output_type": "stream",
     "text": [
      "//mumax 3.9.1c windows_amd64 go1.3.3 (gc)\n",
      "//CUDA 10020 TITAN Xp(12288MB) cc6.1, using CC53 PTX \n",
      "//(c) Arne Vansteenkiste, Dynamat LAB, Ghent University, Belgium\n",
      "//This is free software without any warranty. See license.txt\n",
      "//output directory: C:/Users/Rob/Desktop/Research/FMR_Paper/In_Plane_Field/Out_of_Plane_Anis/EasyAxis/ThinFilmFMR_BInPlane(365.15)_Out_of_PlaneAnis_K(20000)_Ratio(1).out/\n",
      "//starting GUI at http://127.0.0.1:35367\n",
      "SetPBC(0, 0, 0)\n",
      "SetGridSize(512, 512.0, 4)\n",
      "SetCellSize(4e-9, 4e-9, 4e-9)\n",
      "Msat = 800000.0\n",
      "Aex = 1.3e-11\n",
      "alpha = 0.008\n",
      "edgesmooth = 8\n",
      "B := 365.15e-3\n",
      "anisU = vector(0.0, 0.0, 1.0)\n",
      "Ku1 = 20000\n",
      "setSolver(5)\n",
      "TableAdd(Ku1)\n",
      "TableAdd(B_ext)\n",
      "TableAutoSave(5e-13)\n",
      "m = uniform(1, 0, 0)\n",
      "B_ext = vector(B*0.9983008564845987, B*0.04995668033125289, B*0.02999550020249575)\n",
      "relax()\n",
      "MaxDt = 5e-13\n",
      "B_ext = vector(B*1, B*0, B*0)\n",
      "run(1e-09)\n"
     ]
    },
    {
     "name": "stderr",
     "output_type": "stream",
     "text": [
      "//Using cached kernel: C:/Users/Rob/Desktop/Research/kernel-cache//mumax3kernel_[512 512 4]_[0 0 0]_[4e-09 4e-09 4e-09]_6_\n"
     ]
    },
    {
     "name": "stdout",
     "output_type": "stream",
     "text": [
      "//mumax 3.9.1c windows_amd64 go1.3.3 (gc)\n",
      "//CUDA 10020 TITAN Xp(12288MB) cc6.1, using CC53 PTX \n",
      "//(c) Arne Vansteenkiste, Dynamat LAB, Ghent University, Belgium\n",
      "//This is free software without any warranty. See license.txt\n",
      "//output directory: C:/Users/Rob/Desktop/Research/FMR_Paper/In_Plane_Field/Out_of_Plane_Anis/EasyAxis/ThinFilmFMR_BInPlane(364.14)_Out_of_PlaneAnis_K(10000)_Ratio(1).out/\n",
      "//starting GUI at http://127.0.0.1:35367\n",
      "SetPBC(0, 0, 0)\n",
      "SetGridSize(512, 512.0, 4)\n",
      "SetCellSize(4e-9, 4e-9, 4e-9)\n",
      "Msat = 800000.0\n",
      "Aex = 1.3e-11\n",
      "alpha = 0.008\n",
      "edgesmooth = 8\n",
      "B := 364.14e-3\n",
      "anisU = vector(0.0, 0.0, 1.0)\n",
      "Ku1 = 10000\n",
      "setSolver(5)\n",
      "TableAdd(Ku1)\n",
      "TableAdd(B_ext)\n",
      "TableAutoSave(5e-13)\n",
      "m = uniform(1, 0, 0)\n",
      "B_ext = vector(B*0.9983008564845987, B*0.04995668033125289, B*0.02999550020249575)\n",
      "relax()\n",
      "MaxDt = 5e-13\n",
      "B_ext = vector(B*1, B*0, B*0)\n",
      "run(1e-09)\n"
     ]
    },
    {
     "name": "stderr",
     "output_type": "stream",
     "text": [
      "//Using cached kernel: C:/Users/Rob/Desktop/Research/kernel-cache//mumax3kernel_[512 512 4]_[0 0 0]_[4e-09 4e-09 4e-09]_6_\n"
     ]
    },
    {
     "name": "stdout",
     "output_type": "stream",
     "text": [
      "//mumax 3.9.1c windows_amd64 go1.3.3 (gc)\n",
      "//CUDA 10020 TITAN Xp(12288MB) cc6.1, using CC53 PTX \n",
      "//(c) Arne Vansteenkiste, Dynamat LAB, Ghent University, Belgium\n",
      "//This is free software without any warranty. See license.txt\n",
      "//output directory: C:/Users/Rob/Desktop/Research/FMR_Paper/In_Plane_Field/Out_of_Plane_Anis/EasyAxis/ThinFilmFMR_BInPlane(363.64)_Out_of_PlaneAnis_K(80000)_Ratio(1).out/\n",
      "//starting GUI at http://127.0.0.1:35367\n",
      "SetPBC(0, 0, 0)\n",
      "SetGridSize(512, 512.0, 4)\n",
      "SetCellSize(4e-9, 4e-9, 4e-9)\n",
      "Msat = 800000.0\n",
      "Aex = 1.3e-11\n",
      "alpha = 0.008\n",
      "edgesmooth = 8\n",
      "B := 363.64e-3\n",
      "anisU = vector(0.0, 0.0, 1.0)\n",
      "Ku1 = 80000\n",
      "setSolver(5)\n",
      "TableAdd(Ku1)\n",
      "TableAdd(B_ext)\n",
      "TableAutoSave(5e-13)\n",
      "m = uniform(1, 0, 0)\n",
      "B_ext = vector(B*0.9983008564845987, B*0.04995668033125289, B*0.02999550020249575)\n",
      "relax()\n",
      "MaxDt = 5e-13\n",
      "B_ext = vector(B*1, B*0, B*0)\n",
      "run(1e-09)\n"
     ]
    },
    {
     "name": "stderr",
     "output_type": "stream",
     "text": [
      "//Using cached kernel: C:/Users/Rob/Desktop/Research/kernel-cache//mumax3kernel_[512 512 4]_[0 0 0]_[4e-09 4e-09 4e-09]_6_\n"
     ]
    },
    {
     "name": "stdout",
     "output_type": "stream",
     "text": [
      "//mumax 3.9.1c windows_amd64 go1.3.3 (gc)\n",
      "//CUDA 10020 TITAN Xp(12288MB) cc6.1, using CC53 PTX \n",
      "//(c) Arne Vansteenkiste, Dynamat LAB, Ghent University, Belgium\n",
      "//This is free software without any warranty. See license.txt\n",
      "//output directory: C:/Users/Rob/Desktop/Research/FMR_Paper/In_Plane_Field/Out_of_Plane_Anis/EasyAxis/ThinFilmFMR_BInPlane(360)_Out_of_PlaneAnis_K(0)_Ratio(1).out/\n",
      "//starting GUI at http://127.0.0.1:35367\n",
      "SetPBC(0, 0, 0)\n",
      "SetGridSize(512, 512.0, 4)\n",
      "SetCellSize(4e-9, 4e-9, 4e-9)\n",
      "Msat = 800000.0\n",
      "Aex = 1.3e-11\n",
      "alpha = 0.008\n",
      "edgesmooth = 8\n",
      "B := 360e-3\n",
      "anisU = vector(0.0, 0.0, 1.0)\n",
      "Ku1 = 0\n",
      "setSolver(5)\n",
      "TableAdd(Ku1)\n",
      "TableAdd(B_ext)\n",
      "TableAutoSave(5e-13)\n",
      "m = uniform(1, 0, 0)\n",
      "B_ext = vector(B*0.9983008564845987, B*0.04995668033125289, B*0.02999550020249575)\n",
      "relax()\n",
      "MaxDt = 5e-13\n",
      "B_ext = vector(B*1, B*0, B*0)\n",
      "run(1e-09)\n"
     ]
    },
    {
     "name": "stderr",
     "output_type": "stream",
     "text": [
      "//Using cached kernel: C:/Users/Rob/Desktop/Research/kernel-cache//mumax3kernel_[512 512 4]_[0 0 0]_[4e-09 4e-09 4e-09]_6_\n"
     ]
    },
    {
     "name": "stdout",
     "output_type": "stream",
     "text": [
      "//mumax 3.9.1c windows_amd64 go1.3.3 (gc)\n",
      "//CUDA 10020 TITAN Xp(12288MB) cc6.1, using CC53 PTX \n",
      "//(c) Arne Vansteenkiste, Dynamat LAB, Ghent University, Belgium\n",
      "//This is free software without any warranty. See license.txt\n",
      "//output directory: C:/Users/Rob/Desktop/Research/FMR_Paper/In_Plane_Field/Out_of_Plane_Anis/EasyAxis/ThinFilmFMR_BInPlane(36.87)_Out_of_PlaneAnis_K(20000)_Ratio(1).out/\n",
      "//starting GUI at http://127.0.0.1:35367\n",
      "SetPBC(0, 0, 0)\n",
      "SetGridSize(512, 512.0, 4)\n",
      "SetCellSize(4e-9, 4e-9, 4e-9)\n",
      "Msat = 800000.0\n",
      "Aex = 1.3e-11\n",
      "alpha = 0.008\n",
      "edgesmooth = 8\n",
      "B := 36.87e-3\n",
      "anisU = vector(0.0, 0.0, 1.0)\n",
      "Ku1 = 20000\n",
      "setSolver(5)\n",
      "TableAdd(Ku1)\n",
      "TableAdd(B_ext)\n",
      "TableAutoSave(5e-13)\n",
      "m = uniform(1, 0, 0)\n",
      "B_ext = vector(B*0.9983008564845987, B*0.04995668033125289, B*0.02999550020249575)\n",
      "relax()\n",
      "MaxDt = 5e-13\n",
      "B_ext = vector(B*1, B*0, B*0)\n",
      "run(1e-09)\n"
     ]
    },
    {
     "name": "stderr",
     "output_type": "stream",
     "text": [
      "//Using cached kernel: C:/Users/Rob/Desktop/Research/kernel-cache//mumax3kernel_[512 512 4]_[0 0 0]_[4e-09 4e-09 4e-09]_6_\n"
     ]
    },
    {
     "name": "stdout",
     "output_type": "stream",
     "text": [
      "//mumax 3.9.1c windows_amd64 go1.3.3 (gc)\n",
      "//CUDA 10020 TITAN Xp(12288MB) cc6.1, using CC53 PTX \n",
      "//(c) Arne Vansteenkiste, Dynamat LAB, Ghent University, Belgium\n",
      "//This is free software without any warranty. See license.txt\n",
      "//output directory: C:/Users/Rob/Desktop/Research/FMR_Paper/In_Plane_Field/Out_of_Plane_Anis/EasyAxis/ThinFilmFMR_BInPlane(36.62)_Out_of_PlaneAnis_K(50000)_Ratio(1).out/\n",
      "//starting GUI at http://127.0.0.1:35367\n",
      "SetPBC(0, 0, 0)\n",
      "SetGridSize(512, 512.0, 4)\n",
      "SetCellSize(4e-9, 4e-9, 4e-9)\n",
      "Msat = 800000.0\n",
      "Aex = 1.3e-11\n",
      "alpha = 0.008\n",
      "edgesmooth = 8\n",
      "B := 36.62e-3\n",
      "anisU = vector(0.0, 0.0, 1.0)\n",
      "Ku1 = 50000\n",
      "setSolver(5)\n",
      "TableAdd(Ku1)\n",
      "TableAdd(B_ext)\n",
      "TableAutoSave(5e-13)\n",
      "m = uniform(1, 0, 0)\n",
      "B_ext = vector(B*0.9983008564845987, B*0.04995668033125289, B*0.02999550020249575)\n",
      "relax()\n",
      "MaxDt = 5e-13\n",
      "B_ext = vector(B*1, B*0, B*0)\n",
      "run(1e-09)\n"
     ]
    },
    {
     "name": "stderr",
     "output_type": "stream",
     "text": [
      "//Using cached kernel: C:/Users/Rob/Desktop/Research/kernel-cache//mumax3kernel_[512 512 4]_[0 0 0]_[4e-09 4e-09 4e-09]_6_\n"
     ]
    },
    {
     "name": "stdout",
     "output_type": "stream",
     "text": [
      "//mumax 3.9.1c windows_amd64 go1.3.3 (gc)\n",
      "//CUDA 10020 TITAN Xp(12288MB) cc6.1, using CC53 PTX \n",
      "//(c) Arne Vansteenkiste, Dynamat LAB, Ghent University, Belgium\n",
      "//This is free software without any warranty. See license.txt\n",
      "//output directory: C:/Users/Rob/Desktop/Research/FMR_Paper/In_Plane_Field/Out_of_Plane_Anis/EasyAxis/ThinFilmFMR_BInPlane(36.36)_Out_of_PlaneAnis_K(90000)_Ratio(1).out/\n",
      "//starting GUI at http://127.0.0.1:35367\n",
      "SetPBC(0, 0, 0)\n",
      "SetGridSize(512, 512.0, 4)\n",
      "SetCellSize(4e-9, 4e-9, 4e-9)\n",
      "Msat = 800000.0\n",
      "Aex = 1.3e-11\n",
      "alpha = 0.008\n",
      "edgesmooth = 8\n",
      "B := 36.36e-3\n",
      "anisU = vector(0.0, 0.0, 1.0)\n",
      "Ku1 = 90000\n",
      "setSolver(5)\n",
      "TableAdd(Ku1)\n",
      "TableAdd(B_ext)\n",
      "TableAutoSave(5e-13)\n",
      "m = uniform(1, 0, 0)\n",
      "B_ext = vector(B*0.9983008564845987, B*0.04995668033125289, B*0.02999550020249575)\n",
      "relax()\n",
      "MaxDt = 5e-13\n",
      "B_ext = vector(B*1, B*0, B*0)\n",
      "run(1e-09)\n"
     ]
    },
    {
     "name": "stderr",
     "output_type": "stream",
     "text": [
      "//Using cached kernel: C:/Users/Rob/Desktop/Research/kernel-cache//mumax3kernel_[512 512 4]_[0 0 0]_[4e-09 4e-09 4e-09]_6_\n"
     ]
    },
    {
     "name": "stdout",
     "output_type": "stream",
     "text": [
      "//mumax 3.9.1c windows_amd64 go1.3.3 (gc)\n",
      "//CUDA 10020 TITAN Xp(12288MB) cc6.1, using CC53 PTX \n",
      "//(c) Arne Vansteenkiste, Dynamat LAB, Ghent University, Belgium\n",
      "//This is free software without any warranty. See license.txt\n",
      "//output directory: C:/Users/Rob/Desktop/Research/FMR_Paper/In_Plane_Field/Out_of_Plane_Anis/EasyAxis/ThinFilmFMR_BInPlane(36.36)_Out_of_PlaneAnis_K(80000)_Ratio(1).out/\n",
      "//starting GUI at http://127.0.0.1:35367\n",
      "SetPBC(0, 0, 0)\n",
      "SetGridSize(512, 512.0, 4)\n",
      "SetCellSize(4e-9, 4e-9, 4e-9)\n",
      "Msat = 800000.0\n",
      "Aex = 1.3e-11\n",
      "alpha = 0.008\n",
      "edgesmooth = 8\n",
      "B := 36.36e-3\n",
      "anisU = vector(0.0, 0.0, 1.0)\n",
      "Ku1 = 80000\n",
      "setSolver(5)\n",
      "TableAdd(Ku1)\n",
      "TableAdd(B_ext)\n",
      "TableAutoSave(5e-13)\n",
      "m = uniform(1, 0, 0)\n",
      "B_ext = vector(B*0.9983008564845987, B*0.04995668033125289, B*0.02999550020249575)\n",
      "relax()\n",
      "MaxDt = 5e-13\n",
      "B_ext = vector(B*1, B*0, B*0)\n",
      "run(1e-09)\n"
     ]
    },
    {
     "name": "stderr",
     "output_type": "stream",
     "text": [
      "//Using cached kernel: C:/Users/Rob/Desktop/Research/kernel-cache//mumax3kernel_[512 512 4]_[0 0 0]_[4e-09 4e-09 4e-09]_6_\n"
     ]
    },
    {
     "name": "stdout",
     "output_type": "stream",
     "text": [
      "//mumax 3.9.1c windows_amd64 go1.3.3 (gc)\n",
      "//CUDA 10020 TITAN Xp(12288MB) cc6.1, using CC53 PTX \n",
      "//(c) Arne Vansteenkiste, Dynamat LAB, Ghent University, Belgium\n",
      "//This is free software without any warranty. See license.txt\n",
      "//output directory: C:/Users/Rob/Desktop/Research/FMR_Paper/In_Plane_Field/Out_of_Plane_Anis/EasyAxis/ThinFilmFMR_BInPlane(36.36)_Out_of_PlaneAnis_K(60000)_Ratio(1).out/\n",
      "//starting GUI at http://127.0.0.1:35367\n",
      "SetPBC(0, 0, 0)\n",
      "SetGridSize(512, 512.0, 4)\n",
      "SetCellSize(4e-9, 4e-9, 4e-9)\n",
      "Msat = 800000.0\n",
      "Aex = 1.3e-11\n",
      "alpha = 0.008\n",
      "edgesmooth = 8\n",
      "B := 36.36e-3\n",
      "anisU = vector(0.0, 0.0, 1.0)\n",
      "Ku1 = 60000\n",
      "setSolver(5)\n",
      "TableAdd(Ku1)\n",
      "TableAdd(B_ext)\n",
      "TableAutoSave(5e-13)\n",
      "m = uniform(1, 0, 0)\n",
      "B_ext = vector(B*0.9983008564845987, B*0.04995668033125289, B*0.02999550020249575)\n",
      "relax()\n",
      "MaxDt = 5e-13\n",
      "B_ext = vector(B*1, B*0, B*0)\n",
      "run(1e-09)\n"
     ]
    },
    {
     "name": "stderr",
     "output_type": "stream",
     "text": [
      "//Using cached kernel: C:/Users/Rob/Desktop/Research/kernel-cache//mumax3kernel_[512 512 4]_[0 0 0]_[4e-09 4e-09 4e-09]_6_\n"
     ]
    },
    {
     "name": "stdout",
     "output_type": "stream",
     "text": [
      "//mumax 3.9.1c windows_amd64 go1.3.3 (gc)\n",
      "//CUDA 10020 TITAN Xp(12288MB) cc6.1, using CC53 PTX \n",
      "//(c) Arne Vansteenkiste, Dynamat LAB, Ghent University, Belgium\n",
      "//This is free software without any warranty. See license.txt\n",
      "//output directory: C:/Users/Rob/Desktop/Research/FMR_Paper/In_Plane_Field/Out_of_Plane_Anis/EasyAxis/ThinFilmFMR_BInPlane(36.36)_Out_of_PlaneAnis_K(40000)_Ratio(1).out/\n",
      "//starting GUI at http://127.0.0.1:35367\n",
      "SetPBC(0, 0, 0)\n",
      "SetGridSize(512, 512.0, 4)\n",
      "SetCellSize(4e-9, 4e-9, 4e-9)\n",
      "Msat = 800000.0\n",
      "Aex = 1.3e-11\n",
      "alpha = 0.008\n",
      "edgesmooth = 8\n",
      "B := 36.36e-3\n",
      "anisU = vector(0.0, 0.0, 1.0)\n",
      "Ku1 = 40000\n",
      "setSolver(5)\n",
      "TableAdd(Ku1)\n",
      "TableAdd(B_ext)\n",
      "TableAutoSave(5e-13)\n",
      "m = uniform(1, 0, 0)\n",
      "B_ext = vector(B*0.9983008564845987, B*0.04995668033125289, B*0.02999550020249575)\n",
      "relax()\n",
      "MaxDt = 5e-13\n",
      "B_ext = vector(B*1, B*0, B*0)\n",
      "run(1e-09)\n"
     ]
    },
    {
     "name": "stderr",
     "output_type": "stream",
     "text": [
      "//Using cached kernel: C:/Users/Rob/Desktop/Research/kernel-cache//mumax3kernel_[512 512 4]_[0 0 0]_[4e-09 4e-09 4e-09]_6_\n"
     ]
    },
    {
     "name": "stdout",
     "output_type": "stream",
     "text": [
      "//mumax 3.9.1c windows_amd64 go1.3.3 (gc)\n",
      "//CUDA 10020 TITAN Xp(12288MB) cc6.1, using CC53 PTX \n",
      "//(c) Arne Vansteenkiste, Dynamat LAB, Ghent University, Belgium\n",
      "//This is free software without any warranty. See license.txt\n",
      "//output directory: C:/Users/Rob/Desktop/Research/FMR_Paper/In_Plane_Field/Out_of_Plane_Anis/EasyAxis/ThinFilmFMR_BInPlane(36.36)_Out_of_PlaneAnis_K(30000)_Ratio(1).out/\n",
      "//starting GUI at http://127.0.0.1:35367\n",
      "SetPBC(0, 0, 0)\n",
      "SetGridSize(512, 512.0, 4)\n",
      "SetCellSize(4e-9, 4e-9, 4e-9)\n",
      "Msat = 800000.0\n",
      "Aex = 1.3e-11\n",
      "alpha = 0.008\n",
      "edgesmooth = 8\n",
      "B := 36.36e-3\n",
      "anisU = vector(0.0, 0.0, 1.0)\n",
      "Ku1 = 30000\n",
      "setSolver(5)\n",
      "TableAdd(Ku1)\n",
      "TableAdd(B_ext)\n",
      "TableAutoSave(5e-13)\n",
      "m = uniform(1, 0, 0)\n",
      "B_ext = vector(B*0.9983008564845987, B*0.04995668033125289, B*0.02999550020249575)\n",
      "relax()\n",
      "MaxDt = 5e-13\n",
      "B_ext = vector(B*1, B*0, B*0)\n",
      "run(1e-09)\n"
     ]
    },
    {
     "name": "stderr",
     "output_type": "stream",
     "text": [
      "//Using cached kernel: C:/Users/Rob/Desktop/Research/kernel-cache//mumax3kernel_[512 512 4]_[0 0 0]_[4e-09 4e-09 4e-09]_6_\n"
     ]
    },
    {
     "name": "stdout",
     "output_type": "stream",
     "text": [
      "//mumax 3.9.1c windows_amd64 go1.3.3 (gc)\n",
      "//CUDA 10020 TITAN Xp(12288MB) cc6.1, using CC53 PTX \n",
      "//(c) Arne Vansteenkiste, Dynamat LAB, Ghent University, Belgium\n",
      "//This is free software without any warranty. See license.txt\n",
      "//output directory: C:/Users/Rob/Desktop/Research/FMR_Paper/In_Plane_Field/Out_of_Plane_Anis/EasyAxis/ThinFilmFMR_BInPlane(36.36)_Out_of_PlaneAnis_K(20000)_Ratio(1).out/\n",
      "//starting GUI at http://127.0.0.1:35367\n",
      "SetPBC(0, 0, 0)\n",
      "SetGridSize(512, 512.0, 4)\n",
      "SetCellSize(4e-9, 4e-9, 4e-9)\n",
      "Msat = 800000.0\n",
      "Aex = 1.3e-11\n",
      "alpha = 0.008\n",
      "edgesmooth = 8\n",
      "B := 36.36e-3\n",
      "anisU = vector(0.0, 0.0, 1.0)\n",
      "Ku1 = 20000\n",
      "setSolver(5)\n",
      "TableAdd(Ku1)\n",
      "TableAdd(B_ext)\n",
      "TableAutoSave(5e-13)\n",
      "m = uniform(1, 0, 0)\n",
      "B_ext = vector(B*0.9983008564845987, B*0.04995668033125289, B*0.02999550020249575)\n",
      "relax()\n",
      "MaxDt = 5e-13\n",
      "B_ext = vector(B*1, B*0, B*0)\n",
      "run(1e-09)\n"
     ]
    },
    {
     "name": "stderr",
     "output_type": "stream",
     "text": [
      "//Using cached kernel: C:/Users/Rob/Desktop/Research/kernel-cache//mumax3kernel_[512 512 4]_[0 0 0]_[4e-09 4e-09 4e-09]_6_\n"
     ]
    },
    {
     "name": "stdout",
     "output_type": "stream",
     "text": [
      "//mumax 3.9.1c windows_amd64 go1.3.3 (gc)\n",
      "//CUDA 10020 TITAN Xp(12288MB) cc6.1, using CC53 PTX \n",
      "//(c) Arne Vansteenkiste, Dynamat LAB, Ghent University, Belgium\n",
      "//This is free software without any warranty. See license.txt\n",
      "//output directory: C:/Users/Rob/Desktop/Research/FMR_Paper/In_Plane_Field/Out_of_Plane_Anis/EasyAxis/ThinFilmFMR_BInPlane(359.34)_Out_of_PlaneAnis_K(70000)_Ratio(1).out/\n",
      "//starting GUI at http://127.0.0.1:35367\n",
      "SetPBC(0, 0, 0)\n",
      "SetGridSize(512, 512.0, 4)\n",
      "SetCellSize(4e-9, 4e-9, 4e-9)\n",
      "Msat = 800000.0\n",
      "Aex = 1.3e-11\n",
      "alpha = 0.008\n",
      "edgesmooth = 8\n",
      "B := 359.34e-3\n",
      "anisU = vector(0.0, 0.0, 1.0)\n",
      "Ku1 = 70000\n",
      "setSolver(5)\n",
      "TableAdd(Ku1)\n",
      "TableAdd(B_ext)\n",
      "TableAutoSave(5e-13)\n",
      "m = uniform(1, 0, 0)\n",
      "B_ext = vector(B*0.9983008564845987, B*0.04995668033125289, B*0.02999550020249575)\n",
      "relax()\n",
      "MaxDt = 5e-13\n",
      "B_ext = vector(B*1, B*0, B*0)\n",
      "run(1e-09)\n"
     ]
    },
    {
     "name": "stderr",
     "output_type": "stream",
     "text": [
      "//Using cached kernel: C:/Users/Rob/Desktop/Research/kernel-cache//mumax3kernel_[512 512 4]_[0 0 0]_[4e-09 4e-09 4e-09]_6_\n"
     ]
    },
    {
     "name": "stdout",
     "output_type": "stream",
     "text": [
      "//mumax 3.9.1c windows_amd64 go1.3.3 (gc)\n",
      "//CUDA 10020 TITAN Xp(12288MB) cc6.1, using CC53 PTX \n",
      "//(c) Arne Vansteenkiste, Dynamat LAB, Ghent University, Belgium\n",
      "//This is free software without any warranty. See license.txt\n",
      "//output directory: C:/Users/Rob/Desktop/Research/FMR_Paper/In_Plane_Field/Out_of_Plane_Anis/EasyAxis/ThinFilmFMR_BInPlane(356.06)_Out_of_PlaneAnis_K(100000)_Ratio(1).out/\n",
      "//starting GUI at http://127.0.0.1:35367\n",
      "SetPBC(0, 0, 0)\n",
      "SetGridSize(512, 512.0, 4)\n",
      "SetCellSize(4e-9, 4e-9, 4e-9)\n",
      "Msat = 800000.0\n",
      "Aex = 1.3e-11\n",
      "alpha = 0.008\n",
      "edgesmooth = 8\n",
      "B := 356.06e-3\n",
      "anisU = vector(0.0, 0.0, 1.0)\n",
      "Ku1 = 100000\n",
      "setSolver(5)\n",
      "TableAdd(Ku1)\n",
      "TableAdd(B_ext)\n",
      "TableAutoSave(5e-13)\n",
      "m = uniform(1, 0, 0)\n",
      "B_ext = vector(B*0.9983008564845987, B*0.04995668033125289, B*0.02999550020249575)\n",
      "relax()\n",
      "MaxDt = 5e-13\n",
      "B_ext = vector(B*1, B*0, B*0)\n",
      "run(1e-09)\n"
     ]
    },
    {
     "name": "stderr",
     "output_type": "stream",
     "text": [
      "//Using cached kernel: C:/Users/Rob/Desktop/Research/kernel-cache//mumax3kernel_[512 512 4]_[0 0 0]_[4e-09 4e-09 4e-09]_6_\n"
     ]
    },
    {
     "name": "stdout",
     "output_type": "stream",
     "text": [
      "//mumax 3.9.1c windows_amd64 go1.3.3 (gc)\n",
      "//CUDA 10020 TITAN Xp(12288MB) cc6.1, using CC53 PTX \n",
      "//(c) Arne Vansteenkiste, Dynamat LAB, Ghent University, Belgium\n",
      "//This is free software without any warranty. See license.txt\n",
      "//output directory: C:/Users/Rob/Desktop/Research/FMR_Paper/In_Plane_Field/Out_of_Plane_Anis/EasyAxis/ThinFilmFMR_BInPlane(355.56)_Out_of_PlaneAnis_K(60000)_Ratio(1).out/\n",
      "//starting GUI at http://127.0.0.1:35367\n",
      "SetPBC(0, 0, 0)\n",
      "SetGridSize(512, 512.0, 4)\n",
      "SetCellSize(4e-9, 4e-9, 4e-9)\n",
      "Msat = 800000.0\n",
      "Aex = 1.3e-11\n",
      "alpha = 0.008\n",
      "edgesmooth = 8\n",
      "B := 355.56e-3\n",
      "anisU = vector(0.0, 0.0, 1.0)\n",
      "Ku1 = 60000\n",
      "setSolver(5)\n",
      "TableAdd(Ku1)\n",
      "TableAdd(B_ext)\n",
      "TableAutoSave(5e-13)\n",
      "m = uniform(1, 0, 0)\n",
      "B_ext = vector(B*0.9983008564845987, B*0.04995668033125289, B*0.02999550020249575)\n",
      "relax()\n",
      "MaxDt = 5e-13\n",
      "B_ext = vector(B*1, B*0, B*0)\n",
      "run(1e-09)\n"
     ]
    },
    {
     "name": "stderr",
     "output_type": "stream",
     "text": [
      "//Using cached kernel: C:/Users/Rob/Desktop/Research/kernel-cache//mumax3kernel_[512 512 4]_[0 0 0]_[4e-09 4e-09 4e-09]_6_\n"
     ]
    },
    {
     "name": "stdout",
     "output_type": "stream",
     "text": [
      "//mumax 3.9.1c windows_amd64 go1.3.3 (gc)\n",
      "//CUDA 10020 TITAN Xp(12288MB) cc6.1, using CC53 PTX \n",
      "//(c) Arne Vansteenkiste, Dynamat LAB, Ghent University, Belgium\n",
      "//This is free software without any warranty. See license.txt\n",
      "//output directory: C:/Users/Rob/Desktop/Research/FMR_Paper/In_Plane_Field/Out_of_Plane_Anis/EasyAxis/ThinFilmFMR_BInPlane(352.27)_Out_of_PlaneAnis_K(50000)_Ratio(1).out/\n",
      "//starting GUI at http://127.0.0.1:35367\n",
      "SetPBC(0, 0, 0)\n",
      "SetGridSize(512, 512.0, 4)\n",
      "SetCellSize(4e-9, 4e-9, 4e-9)\n",
      "Msat = 800000.0\n",
      "Aex = 1.3e-11\n",
      "alpha = 0.008\n",
      "edgesmooth = 8\n",
      "B := 352.27e-3\n",
      "anisU = vector(0.0, 0.0, 1.0)\n",
      "Ku1 = 50000\n",
      "setSolver(5)\n",
      "TableAdd(Ku1)\n",
      "TableAdd(B_ext)\n",
      "TableAutoSave(5e-13)\n",
      "m = uniform(1, 0, 0)\n",
      "B_ext = vector(B*0.9983008564845987, B*0.04995668033125289, B*0.02999550020249575)\n",
      "relax()\n",
      "MaxDt = 5e-13\n",
      "B_ext = vector(B*1, B*0, B*0)\n",
      "run(1e-09)\n"
     ]
    },
    {
     "name": "stderr",
     "output_type": "stream",
     "text": [
      "//Using cached kernel: C:/Users/Rob/Desktop/Research/kernel-cache//mumax3kernel_[512 512 4]_[0 0 0]_[4e-09 4e-09 4e-09]_6_\n"
     ]
    },
    {
     "name": "stdout",
     "output_type": "stream",
     "text": [
      "//mumax 3.9.1c windows_amd64 go1.3.3 (gc)\n",
      "//CUDA 10020 TITAN Xp(12288MB) cc6.1, using CC53 PTX \n",
      "//(c) Arne Vansteenkiste, Dynamat LAB, Ghent University, Belgium\n",
      "//This is free software without any warranty. See license.txt\n",
      "//output directory: C:/Users/Rob/Desktop/Research/FMR_Paper/In_Plane_Field/Out_of_Plane_Anis/EasyAxis/ThinFilmFMR_BInPlane(350.51)_Out_of_PlaneAnis_K(90000)_Ratio(1).out/\n",
      "//starting GUI at http://127.0.0.1:35367\n",
      "SetPBC(0, 0, 0)\n",
      "SetGridSize(512, 512.0, 4)\n",
      "SetCellSize(4e-9, 4e-9, 4e-9)\n",
      "Msat = 800000.0\n",
      "Aex = 1.3e-11\n",
      "alpha = 0.008\n",
      "edgesmooth = 8\n",
      "B := 350.51e-3\n",
      "anisU = vector(0.0, 0.0, 1.0)\n",
      "Ku1 = 90000\n",
      "setSolver(5)\n",
      "TableAdd(Ku1)\n",
      "TableAdd(B_ext)\n",
      "TableAutoSave(5e-13)\n",
      "m = uniform(1, 0, 0)\n",
      "B_ext = vector(B*0.9983008564845987, B*0.04995668033125289, B*0.02999550020249575)\n",
      "relax()\n",
      "MaxDt = 5e-13\n",
      "B_ext = vector(B*1, B*0, B*0)\n",
      "run(1e-09)\n"
     ]
    },
    {
     "name": "stderr",
     "output_type": "stream",
     "text": [
      "//Using cached kernel: C:/Users/Rob/Desktop/Research/kernel-cache//mumax3kernel_[512 512 4]_[0 0 0]_[4e-09 4e-09 4e-09]_6_\n"
     ]
    },
    {
     "name": "stdout",
     "output_type": "stream",
     "text": [
      "//mumax 3.9.1c windows_amd64 go1.3.3 (gc)\n",
      "//CUDA 10020 TITAN Xp(12288MB) cc6.1, using CC53 PTX \n",
      "//(c) Arne Vansteenkiste, Dynamat LAB, Ghent University, Belgium\n",
      "//This is free software without any warranty. See license.txt\n",
      "//output directory: C:/Users/Rob/Desktop/Research/FMR_Paper/In_Plane_Field/Out_of_Plane_Anis/EasyAxis/ThinFilmFMR_BInPlane(350)_Out_of_PlaneAnis_K(0)_Ratio(1).out/\n",
      "//starting GUI at http://127.0.0.1:35367\n",
      "SetPBC(0, 0, 0)\n",
      "SetGridSize(512, 512.0, 4)\n",
      "SetCellSize(4e-9, 4e-9, 4e-9)\n",
      "Msat = 800000.0\n",
      "Aex = 1.3e-11\n",
      "alpha = 0.008\n",
      "edgesmooth = 8\n",
      "B := 350e-3\n",
      "anisU = vector(0.0, 0.0, 1.0)\n",
      "Ku1 = 0\n",
      "setSolver(5)\n",
      "TableAdd(Ku1)\n",
      "TableAdd(B_ext)\n",
      "TableAutoSave(5e-13)\n",
      "m = uniform(1, 0, 0)\n",
      "B_ext = vector(B*0.9983008564845987, B*0.04995668033125289, B*0.02999550020249575)\n",
      "relax()\n",
      "MaxDt = 5e-13\n",
      "B_ext = vector(B*1, B*0, B*0)\n",
      "run(1e-09)\n"
     ]
    },
    {
     "name": "stderr",
     "output_type": "stream",
     "text": [
      "//Using cached kernel: C:/Users/Rob/Desktop/Research/kernel-cache//mumax3kernel_[512 512 4]_[0 0 0]_[4e-09 4e-09 4e-09]_6_\n"
     ]
    },
    {
     "name": "stdout",
     "output_type": "stream",
     "text": [
      "//mumax 3.9.1c windows_amd64 go1.3.3 (gc)\n",
      "//CUDA 10020 TITAN Xp(12288MB) cc6.1, using CC53 PTX \n",
      "//(c) Arne Vansteenkiste, Dynamat LAB, Ghent University, Belgium\n",
      "//This is free software without any warranty. See license.txt\n",
      "//output directory: C:/Users/Rob/Desktop/Research/FMR_Paper/In_Plane_Field/Out_of_Plane_Anis/EasyAxis/ThinFilmFMR_BInPlane(35.86)_Out_of_PlaneAnis_K(20000)_Ratio(1).out/\n",
      "//starting GUI at http://127.0.0.1:35367\n",
      "SetPBC(0, 0, 0)\n",
      "SetGridSize(512, 512.0, 4)\n",
      "SetCellSize(4e-9, 4e-9, 4e-9)\n",
      "Msat = 800000.0\n",
      "Aex = 1.3e-11\n",
      "alpha = 0.008\n",
      "edgesmooth = 8\n",
      "B := 35.86e-3\n",
      "anisU = vector(0.0, 0.0, 1.0)\n",
      "Ku1 = 20000\n",
      "setSolver(5)\n",
      "TableAdd(Ku1)\n",
      "TableAdd(B_ext)\n",
      "TableAutoSave(5e-13)\n",
      "m = uniform(1, 0, 0)\n",
      "B_ext = vector(B*0.9983008564845987, B*0.04995668033125289, B*0.02999550020249575)\n",
      "relax()\n",
      "MaxDt = 5e-13\n",
      "B_ext = vector(B*1, B*0, B*0)\n",
      "run(1e-09)\n"
     ]
    },
    {
     "name": "stderr",
     "output_type": "stream",
     "text": [
      "//Using cached kernel: C:/Users/Rob/Desktop/Research/kernel-cache//mumax3kernel_[512 512 4]_[0 0 0]_[4e-09 4e-09 4e-09]_6_\n"
     ]
    },
    {
     "name": "stdout",
     "output_type": "stream",
     "text": [
      "//mumax 3.9.1c windows_amd64 go1.3.3 (gc)\n",
      "//CUDA 10020 TITAN Xp(12288MB) cc6.1, using CC53 PTX \n",
      "//(c) Arne Vansteenkiste, Dynamat LAB, Ghent University, Belgium\n",
      "//This is free software without any warranty. See license.txt\n",
      "//output directory: C:/Users/Rob/Desktop/Research/FMR_Paper/In_Plane_Field/Out_of_Plane_Anis/EasyAxis/ThinFilmFMR_BInPlane(35.61)_Out_of_PlaneAnis_K(30000)_Ratio(1).out/\n",
      "//starting GUI at http://127.0.0.1:35367\n",
      "SetPBC(0, 0, 0)\n",
      "SetGridSize(512, 512.0, 4)\n",
      "SetCellSize(4e-9, 4e-9, 4e-9)\n",
      "Msat = 800000.0\n",
      "Aex = 1.3e-11\n",
      "alpha = 0.008\n",
      "edgesmooth = 8\n",
      "B := 35.61e-3\n",
      "anisU = vector(0.0, 0.0, 1.0)\n",
      "Ku1 = 30000\n",
      "setSolver(5)\n",
      "TableAdd(Ku1)\n",
      "TableAdd(B_ext)\n",
      "TableAutoSave(5e-13)\n",
      "m = uniform(1, 0, 0)\n",
      "B_ext = vector(B*0.9983008564845987, B*0.04995668033125289, B*0.02999550020249575)\n",
      "relax()\n",
      "MaxDt = 5e-13\n",
      "B_ext = vector(B*1, B*0, B*0)\n",
      "run(1e-09)\n"
     ]
    },
    {
     "name": "stderr",
     "output_type": "stream",
     "text": [
      "//Using cached kernel: C:/Users/Rob/Desktop/Research/kernel-cache//mumax3kernel_[512 512 4]_[0 0 0]_[4e-09 4e-09 4e-09]_6_\n"
     ]
    },
    {
     "name": "stdout",
     "output_type": "stream",
     "text": [
      "//mumax 3.9.1c windows_amd64 go1.3.3 (gc)\n",
      "//CUDA 10020 TITAN Xp(12288MB) cc6.1, using CC53 PTX \n",
      "//(c) Arne Vansteenkiste, Dynamat LAB, Ghent University, Belgium\n",
      "//This is free software without any warranty. See license.txt\n",
      "//output directory: C:/Users/Rob/Desktop/Research/FMR_Paper/In_Plane_Field/Out_of_Plane_Anis/EasyAxis/ThinFilmFMR_BInPlane(35.35)_Out_of_PlaneAnis_K(70000)_Ratio(1).out/\n",
      "//starting GUI at http://127.0.0.1:35367\n",
      "SetPBC(0, 0, 0)\n",
      "SetGridSize(512, 512.0, 4)\n",
      "SetCellSize(4e-9, 4e-9, 4e-9)\n",
      "Msat = 800000.0\n",
      "Aex = 1.3e-11\n",
      "alpha = 0.008\n",
      "edgesmooth = 8\n",
      "B := 35.35e-3\n",
      "anisU = vector(0.0, 0.0, 1.0)\n",
      "Ku1 = 70000\n",
      "setSolver(5)\n",
      "TableAdd(Ku1)\n",
      "TableAdd(B_ext)\n",
      "TableAutoSave(5e-13)\n",
      "m = uniform(1, 0, 0)\n",
      "B_ext = vector(B*0.9983008564845987, B*0.04995668033125289, B*0.02999550020249575)\n",
      "relax()\n",
      "MaxDt = 5e-13\n",
      "B_ext = vector(B*1, B*0, B*0)\n",
      "run(1e-09)\n"
     ]
    },
    {
     "name": "stderr",
     "output_type": "stream",
     "text": [
      "//Using cached kernel: C:/Users/Rob/Desktop/Research/kernel-cache//mumax3kernel_[512 512 4]_[0 0 0]_[4e-09 4e-09 4e-09]_6_\n"
     ]
    },
    {
     "name": "stdout",
     "output_type": "stream",
     "text": [
      "//mumax 3.9.1c windows_amd64 go1.3.3 (gc)\n",
      "//CUDA 10020 TITAN Xp(12288MB) cc6.1, using CC53 PTX \n",
      "//(c) Arne Vansteenkiste, Dynamat LAB, Ghent University, Belgium\n",
      "//This is free software without any warranty. See license.txt\n",
      "//output directory: C:/Users/Rob/Desktop/Research/FMR_Paper/In_Plane_Field/Out_of_Plane_Anis/EasyAxis/ThinFilmFMR_BInPlane(35.35)_Out_of_PlaneAnis_K(50000)_Ratio(1).out/\n",
      "//starting GUI at http://127.0.0.1:35367\n",
      "SetPBC(0, 0, 0)\n",
      "SetGridSize(512, 512.0, 4)\n",
      "SetCellSize(4e-9, 4e-9, 4e-9)\n",
      "Msat = 800000.0\n",
      "Aex = 1.3e-11\n",
      "alpha = 0.008\n",
      "edgesmooth = 8\n",
      "B := 35.35e-3\n",
      "anisU = vector(0.0, 0.0, 1.0)\n",
      "Ku1 = 50000\n",
      "setSolver(5)\n",
      "TableAdd(Ku1)\n",
      "TableAdd(B_ext)\n",
      "TableAutoSave(5e-13)\n",
      "m = uniform(1, 0, 0)\n",
      "B_ext = vector(B*0.9983008564845987, B*0.04995668033125289, B*0.02999550020249575)\n",
      "relax()\n",
      "MaxDt = 5e-13\n",
      "B_ext = vector(B*1, B*0, B*0)\n",
      "run(1e-09)\n"
     ]
    },
    {
     "name": "stderr",
     "output_type": "stream",
     "text": [
      "//Using cached kernel: C:/Users/Rob/Desktop/Research/kernel-cache//mumax3kernel_[512 512 4]_[0 0 0]_[4e-09 4e-09 4e-09]_6_\n"
     ]
    },
    {
     "name": "stdout",
     "output_type": "stream",
     "text": [
      "//mumax 3.9.1c windows_amd64 go1.3.3 (gc)\n",
      "//CUDA 10020 TITAN Xp(12288MB) cc6.1, using CC53 PTX \n",
      "//(c) Arne Vansteenkiste, Dynamat LAB, Ghent University, Belgium\n",
      "//This is free software without any warranty. See license.txt\n",
      "//output directory: C:/Users/Rob/Desktop/Research/FMR_Paper/In_Plane_Field/Out_of_Plane_Anis/EasyAxis/ThinFilmFMR_BInPlane(35.35)_Out_of_PlaneAnis_K(40000)_Ratio(1).out/\n",
      "//starting GUI at http://127.0.0.1:35367\n",
      "SetPBC(0, 0, 0)\n",
      "SetGridSize(512, 512.0, 4)\n",
      "SetCellSize(4e-9, 4e-9, 4e-9)\n",
      "Msat = 800000.0\n",
      "Aex = 1.3e-11\n",
      "alpha = 0.008\n",
      "edgesmooth = 8\n",
      "B := 35.35e-3\n",
      "anisU = vector(0.0, 0.0, 1.0)\n",
      "Ku1 = 40000\n",
      "setSolver(5)\n",
      "TableAdd(Ku1)\n",
      "TableAdd(B_ext)\n",
      "TableAutoSave(5e-13)\n",
      "m = uniform(1, 0, 0)\n",
      "B_ext = vector(B*0.9983008564845987, B*0.04995668033125289, B*0.02999550020249575)\n",
      "relax()\n",
      "MaxDt = 5e-13\n",
      "B_ext = vector(B*1, B*0, B*0)\n",
      "run(1e-09)\n"
     ]
    },
    {
     "name": "stderr",
     "output_type": "stream",
     "text": [
      "//Using cached kernel: C:/Users/Rob/Desktop/Research/kernel-cache//mumax3kernel_[512 512 4]_[0 0 0]_[4e-09 4e-09 4e-09]_6_\n"
     ]
    },
    {
     "name": "stdout",
     "output_type": "stream",
     "text": [
      "//mumax 3.9.1c windows_amd64 go1.3.3 (gc)\n",
      "//CUDA 10020 TITAN Xp(12288MB) cc6.1, using CC53 PTX \n",
      "//(c) Arne Vansteenkiste, Dynamat LAB, Ghent University, Belgium\n",
      "//This is free software without any warranty. See license.txt\n",
      "//output directory: C:/Users/Rob/Desktop/Research/FMR_Paper/In_Plane_Field/Out_of_Plane_Anis/EasyAxis/ThinFilmFMR_BInPlane(35.35)_Out_of_PlaneAnis_K(20000)_Ratio(1).out/\n",
      "//starting GUI at http://127.0.0.1:35367\n",
      "SetPBC(0, 0, 0)\n",
      "SetGridSize(512, 512.0, 4)\n",
      "SetCellSize(4e-9, 4e-9, 4e-9)\n",
      "Msat = 800000.0\n",
      "Aex = 1.3e-11\n",
      "alpha = 0.008\n",
      "edgesmooth = 8\n",
      "B := 35.35e-3\n",
      "anisU = vector(0.0, 0.0, 1.0)\n",
      "Ku1 = 20000\n",
      "setSolver(5)\n",
      "TableAdd(Ku1)\n",
      "TableAdd(B_ext)\n",
      "TableAutoSave(5e-13)\n",
      "m = uniform(1, 0, 0)\n",
      "B_ext = vector(B*0.9983008564845987, B*0.04995668033125289, B*0.02999550020249575)\n",
      "relax()\n",
      "MaxDt = 5e-13\n",
      "B_ext = vector(B*1, B*0, B*0)\n",
      "run(1e-09)\n"
     ]
    },
    {
     "name": "stderr",
     "output_type": "stream",
     "text": [
      "//Using cached kernel: C:/Users/Rob/Desktop/Research/kernel-cache//mumax3kernel_[512 512 4]_[0 0 0]_[4e-09 4e-09 4e-09]_6_\n"
     ]
    },
    {
     "name": "stdout",
     "output_type": "stream",
     "text": [
      "//mumax 3.9.1c windows_amd64 go1.3.3 (gc)\n",
      "//CUDA 10020 TITAN Xp(12288MB) cc6.1, using CC53 PTX \n",
      "//(c) Arne Vansteenkiste, Dynamat LAB, Ghent University, Belgium\n",
      "//This is free software without any warranty. See license.txt\n",
      "//output directory: C:/Users/Rob/Desktop/Research/FMR_Paper/In_Plane_Field/Out_of_Plane_Anis/EasyAxis/ThinFilmFMR_BInPlane(35.35)_Out_of_PlaneAnis_K(100000)_Ratio(1).out/\n",
      "//starting GUI at http://127.0.0.1:35367\n",
      "SetPBC(0, 0, 0)\n",
      "SetGridSize(512, 512.0, 4)\n",
      "SetCellSize(4e-9, 4e-9, 4e-9)\n",
      "Msat = 800000.0\n",
      "Aex = 1.3e-11\n",
      "alpha = 0.008\n",
      "edgesmooth = 8\n",
      "B := 35.35e-3\n",
      "anisU = vector(0.0, 0.0, 1.0)\n",
      "Ku1 = 100000\n",
      "setSolver(5)\n",
      "TableAdd(Ku1)\n",
      "TableAdd(B_ext)\n",
      "TableAutoSave(5e-13)\n",
      "m = uniform(1, 0, 0)\n",
      "B_ext = vector(B*0.9983008564845987, B*0.04995668033125289, B*0.02999550020249575)\n",
      "relax()\n",
      "MaxDt = 5e-13\n",
      "B_ext = vector(B*1, B*0, B*0)\n",
      "run(1e-09)\n"
     ]
    },
    {
     "name": "stderr",
     "output_type": "stream",
     "text": [
      "//Using cached kernel: C:/Users/Rob/Desktop/Research/kernel-cache//mumax3kernel_[512 512 4]_[0 0 0]_[4e-09 4e-09 4e-09]_6_\n"
     ]
    },
    {
     "name": "stdout",
     "output_type": "stream",
     "text": [
      "//mumax 3.9.1c windows_amd64 go1.3.3 (gc)\n",
      "//CUDA 10020 TITAN Xp(12288MB) cc6.1, using CC53 PTX \n",
      "//(c) Arne Vansteenkiste, Dynamat LAB, Ghent University, Belgium\n",
      "//This is free software without any warranty. See license.txt\n",
      "//output directory: C:/Users/Rob/Desktop/Research/FMR_Paper/In_Plane_Field/Out_of_Plane_Anis/EasyAxis/ThinFilmFMR_BInPlane(349.49)_Out_of_PlaneAnis_K(40000)_Ratio(1).out/\n",
      "//starting GUI at http://127.0.0.1:35367\n",
      "SetPBC(0, 0, 0)\n",
      "SetGridSize(512, 512.0, 4)\n",
      "SetCellSize(4e-9, 4e-9, 4e-9)\n",
      "Msat = 800000.0\n",
      "Aex = 1.3e-11\n",
      "alpha = 0.008\n",
      "edgesmooth = 8\n",
      "B := 349.49e-3\n",
      "anisU = vector(0.0, 0.0, 1.0)\n",
      "Ku1 = 40000\n",
      "setSolver(5)\n",
      "TableAdd(Ku1)\n",
      "TableAdd(B_ext)\n",
      "TableAutoSave(5e-13)\n",
      "m = uniform(1, 0, 0)\n",
      "B_ext = vector(B*0.9983008564845987, B*0.04995668033125289, B*0.02999550020249575)\n",
      "relax()\n",
      "MaxDt = 5e-13\n",
      "B_ext = vector(B*1, B*0, B*0)\n",
      "run(1e-09)\n"
     ]
    },
    {
     "name": "stderr",
     "output_type": "stream",
     "text": [
      "//Using cached kernel: C:/Users/Rob/Desktop/Research/kernel-cache//mumax3kernel_[512 512 4]_[0 0 0]_[4e-09 4e-09 4e-09]_6_\n"
     ]
    },
    {
     "name": "stdout",
     "output_type": "stream",
     "text": [
      "//mumax 3.9.1c windows_amd64 go1.3.3 (gc)\n",
      "//CUDA 10020 TITAN Xp(12288MB) cc6.1, using CC53 PTX \n",
      "//(c) Arne Vansteenkiste, Dynamat LAB, Ghent University, Belgium\n",
      "//This is free software without any warranty. See license.txt\n",
      "//output directory: C:/Users/Rob/Desktop/Research/FMR_Paper/In_Plane_Field/Out_of_Plane_Anis/EasyAxis/ThinFilmFMR_BInPlane(347.22)_Out_of_PlaneAnis_K(30000)_Ratio(1).out/\n",
      "//starting GUI at http://127.0.0.1:35367\n",
      "SetPBC(0, 0, 0)\n",
      "SetGridSize(512, 512.0, 4)\n",
      "SetCellSize(4e-9, 4e-9, 4e-9)\n",
      "Msat = 800000.0\n",
      "Aex = 1.3e-11\n",
      "alpha = 0.008\n",
      "edgesmooth = 8\n",
      "B := 347.22e-3\n",
      "anisU = vector(0.0, 0.0, 1.0)\n",
      "Ku1 = 30000\n",
      "setSolver(5)\n",
      "TableAdd(Ku1)\n",
      "TableAdd(B_ext)\n",
      "TableAutoSave(5e-13)\n",
      "m = uniform(1, 0, 0)\n",
      "B_ext = vector(B*0.9983008564845987, B*0.04995668033125289, B*0.02999550020249575)\n",
      "relax()\n",
      "MaxDt = 5e-13\n",
      "B_ext = vector(B*1, B*0, B*0)\n",
      "run(1e-09)\n"
     ]
    },
    {
     "name": "stderr",
     "output_type": "stream",
     "text": [
      "//Using cached kernel: C:/Users/Rob/Desktop/Research/kernel-cache//mumax3kernel_[512 512 4]_[0 0 0]_[4e-09 4e-09 4e-09]_6_\n"
     ]
    },
    {
     "name": "stdout",
     "output_type": "stream",
     "text": [
      "//mumax 3.9.1c windows_amd64 go1.3.3 (gc)\n",
      "//CUDA 10020 TITAN Xp(12288MB) cc6.1, using CC53 PTX \n",
      "//(c) Arne Vansteenkiste, Dynamat LAB, Ghent University, Belgium\n",
      "//This is free software without any warranty. See license.txt\n",
      "//output directory: C:/Users/Rob/Desktop/Research/FMR_Paper/In_Plane_Field/Out_of_Plane_Anis/EasyAxis/ThinFilmFMR_BInPlane(345.45)_Out_of_PlaneAnis_K(80000)_Ratio(1).out/\n",
      "//starting GUI at http://127.0.0.1:35367\n",
      "SetPBC(0, 0, 0)\n",
      "SetGridSize(512, 512.0, 4)\n",
      "SetCellSize(4e-9, 4e-9, 4e-9)\n",
      "Msat = 800000.0\n",
      "Aex = 1.3e-11\n",
      "alpha = 0.008\n",
      "edgesmooth = 8\n",
      "B := 345.45e-3\n",
      "anisU = vector(0.0, 0.0, 1.0)\n",
      "Ku1 = 80000\n",
      "setSolver(5)\n",
      "TableAdd(Ku1)\n",
      "TableAdd(B_ext)\n",
      "TableAutoSave(5e-13)\n",
      "m = uniform(1, 0, 0)\n",
      "B_ext = vector(B*0.9983008564845987, B*0.04995668033125289, B*0.02999550020249575)\n",
      "relax()\n",
      "MaxDt = 5e-13\n",
      "B_ext = vector(B*1, B*0, B*0)\n",
      "run(1e-09)\n"
     ]
    },
    {
     "name": "stderr",
     "output_type": "stream",
     "text": [
      "//Using cached kernel: C:/Users/Rob/Desktop/Research/kernel-cache//mumax3kernel_[512 512 4]_[0 0 0]_[4e-09 4e-09 4e-09]_6_\n"
     ]
    },
    {
     "name": "stdout",
     "output_type": "stream",
     "text": [
      "//mumax 3.9.1c windows_amd64 go1.3.3 (gc)\n",
      "//CUDA 10020 TITAN Xp(12288MB) cc6.1, using CC53 PTX \n",
      "//(c) Arne Vansteenkiste, Dynamat LAB, Ghent University, Belgium\n",
      "//This is free software without any warranty. See license.txt\n",
      "//output directory: C:/Users/Rob/Desktop/Research/FMR_Paper/In_Plane_Field/Out_of_Plane_Anis/EasyAxis/ThinFilmFMR_BInPlane(345.45)_Out_of_PlaneAnis_K(20000)_Ratio(1).out/\n",
      "//starting GUI at http://127.0.0.1:35367\n",
      "SetPBC(0, 0, 0)\n",
      "SetGridSize(512, 512.0, 4)\n",
      "SetCellSize(4e-9, 4e-9, 4e-9)\n",
      "Msat = 800000.0\n",
      "Aex = 1.3e-11\n",
      "alpha = 0.008\n",
      "edgesmooth = 8\n",
      "B := 345.45e-3\n",
      "anisU = vector(0.0, 0.0, 1.0)\n",
      "Ku1 = 20000\n",
      "setSolver(5)\n",
      "TableAdd(Ku1)\n",
      "TableAdd(B_ext)\n",
      "TableAutoSave(5e-13)\n",
      "m = uniform(1, 0, 0)\n",
      "B_ext = vector(B*0.9983008564845987, B*0.04995668033125289, B*0.02999550020249575)\n",
      "relax()\n",
      "MaxDt = 5e-13\n",
      "B_ext = vector(B*1, B*0, B*0)\n",
      "run(1e-09)\n"
     ]
    },
    {
     "name": "stderr",
     "output_type": "stream",
     "text": [
      "//Using cached kernel: C:/Users/Rob/Desktop/Research/kernel-cache//mumax3kernel_[512 512 4]_[0 0 0]_[4e-09 4e-09 4e-09]_6_\n"
     ]
    },
    {
     "name": "stdout",
     "output_type": "stream",
     "text": [
      "//mumax 3.9.1c windows_amd64 go1.3.3 (gc)\n",
      "//CUDA 10020 TITAN Xp(12288MB) cc6.1, using CC53 PTX \n",
      "//(c) Arne Vansteenkiste, Dynamat LAB, Ghent University, Belgium\n",
      "//This is free software without any warranty. See license.txt\n",
      "//output directory: C:/Users/Rob/Desktop/Research/FMR_Paper/In_Plane_Field/Out_of_Plane_Anis/EasyAxis/ThinFilmFMR_BInPlane(344.19)_Out_of_PlaneAnis_K(10000)_Ratio(1).out/\n",
      "//starting GUI at http://127.0.0.1:35367\n",
      "SetPBC(0, 0, 0)\n",
      "SetGridSize(512, 512.0, 4)\n",
      "SetCellSize(4e-9, 4e-9, 4e-9)\n",
      "Msat = 800000.0\n",
      "Aex = 1.3e-11\n",
      "alpha = 0.008\n",
      "edgesmooth = 8\n",
      "B := 344.19e-3\n",
      "anisU = vector(0.0, 0.0, 1.0)\n",
      "Ku1 = 10000\n",
      "setSolver(5)\n",
      "TableAdd(Ku1)\n",
      "TableAdd(B_ext)\n",
      "TableAutoSave(5e-13)\n",
      "m = uniform(1, 0, 0)\n",
      "B_ext = vector(B*0.9983008564845987, B*0.04995668033125289, B*0.02999550020249575)\n",
      "relax()\n",
      "MaxDt = 5e-13\n",
      "B_ext = vector(B*1, B*0, B*0)\n",
      "run(1e-09)\n"
     ]
    },
    {
     "name": "stderr",
     "output_type": "stream",
     "text": [
      "//Using cached kernel: C:/Users/Rob/Desktop/Research/kernel-cache//mumax3kernel_[512 512 4]_[0 0 0]_[4e-09 4e-09 4e-09]_6_\n"
     ]
    },
    {
     "name": "stdout",
     "output_type": "stream",
     "text": [
      "//mumax 3.9.1c windows_amd64 go1.3.3 (gc)\n",
      "//CUDA 10020 TITAN Xp(12288MB) cc6.1, using CC53 PTX \n",
      "//(c) Arne Vansteenkiste, Dynamat LAB, Ghent University, Belgium\n",
      "//This is free software without any warranty. See license.txt\n",
      "//output directory: C:/Users/Rob/Desktop/Research/FMR_Paper/In_Plane_Field/Out_of_Plane_Anis/EasyAxis/ThinFilmFMR_BInPlane(340.91)_Out_of_PlaneAnis_K(70000)_Ratio(1).out/\n",
      "//starting GUI at http://127.0.0.1:35367\n",
      "SetPBC(0, 0, 0)\n",
      "SetGridSize(512, 512.0, 4)\n",
      "SetCellSize(4e-9, 4e-9, 4e-9)\n",
      "Msat = 800000.0\n",
      "Aex = 1.3e-11\n",
      "alpha = 0.008\n",
      "edgesmooth = 8\n",
      "B := 340.91e-3\n",
      "anisU = vector(0.0, 0.0, 1.0)\n",
      "Ku1 = 70000\n",
      "setSolver(5)\n",
      "TableAdd(Ku1)\n",
      "TableAdd(B_ext)\n",
      "TableAutoSave(5e-13)\n",
      "m = uniform(1, 0, 0)\n",
      "B_ext = vector(B*0.9983008564845987, B*0.04995668033125289, B*0.02999550020249575)\n",
      "relax()\n",
      "MaxDt = 5e-13\n",
      "B_ext = vector(B*1, B*0, B*0)\n",
      "run(1e-09)\n"
     ]
    },
    {
     "name": "stderr",
     "output_type": "stream",
     "text": [
      "//Using cached kernel: C:/Users/Rob/Desktop/Research/kernel-cache//mumax3kernel_[512 512 4]_[0 0 0]_[4e-09 4e-09 4e-09]_6_\n"
     ]
    },
    {
     "name": "stdout",
     "output_type": "stream",
     "text": [
      "//mumax 3.9.1c windows_amd64 go1.3.3 (gc)\n",
      "//CUDA 10020 TITAN Xp(12288MB) cc6.1, using CC53 PTX \n",
      "//(c) Arne Vansteenkiste, Dynamat LAB, Ghent University, Belgium\n",
      "//This is free software without any warranty. See license.txt\n",
      "//output directory: C:/Users/Rob/Desktop/Research/FMR_Paper/In_Plane_Field/Out_of_Plane_Anis/EasyAxis/ThinFilmFMR_BInPlane(340)_Out_of_PlaneAnis_K(0)_Ratio(1).out/\n",
      "//starting GUI at http://127.0.0.1:35367\n",
      "SetPBC(0, 0, 0)\n",
      "SetGridSize(512, 512.0, 4)\n",
      "SetCellSize(4e-9, 4e-9, 4e-9)\n",
      "Msat = 800000.0\n",
      "Aex = 1.3e-11\n",
      "alpha = 0.008\n",
      "edgesmooth = 8\n",
      "B := 340e-3\n",
      "anisU = vector(0.0, 0.0, 1.0)\n",
      "Ku1 = 0\n",
      "setSolver(5)\n",
      "TableAdd(Ku1)\n",
      "TableAdd(B_ext)\n",
      "TableAutoSave(5e-13)\n",
      "m = uniform(1, 0, 0)\n",
      "B_ext = vector(B*0.9983008564845987, B*0.04995668033125289, B*0.02999550020249575)\n",
      "relax()\n",
      "MaxDt = 5e-13\n",
      "B_ext = vector(B*1, B*0, B*0)\n",
      "run(1e-09)\n"
     ]
    },
    {
     "name": "stderr",
     "output_type": "stream",
     "text": [
      "//Using cached kernel: C:/Users/Rob/Desktop/Research/kernel-cache//mumax3kernel_[512 512 4]_[0 0 0]_[4e-09 4e-09 4e-09]_6_\n"
     ]
    },
    {
     "name": "stdout",
     "output_type": "stream",
     "text": [
      "//mumax 3.9.1c windows_amd64 go1.3.3 (gc)\n",
      "//CUDA 10020 TITAN Xp(12288MB) cc6.1, using CC53 PTX \n",
      "//(c) Arne Vansteenkiste, Dynamat LAB, Ghent University, Belgium\n",
      "//This is free software without any warranty. See license.txt\n",
      "//output directory: C:/Users/Rob/Desktop/Research/FMR_Paper/In_Plane_Field/Out_of_Plane_Anis/EasyAxis/ThinFilmFMR_BInPlane(34.85)_Out_of_PlaneAnis_K(60000)_Ratio(1).out/\n",
      "//starting GUI at http://127.0.0.1:35367\n",
      "SetPBC(0, 0, 0)\n",
      "SetGridSize(512, 512.0, 4)\n",
      "SetCellSize(4e-9, 4e-9, 4e-9)\n",
      "Msat = 800000.0\n",
      "Aex = 1.3e-11\n",
      "alpha = 0.008\n",
      "edgesmooth = 8\n",
      "B := 34.85e-3\n",
      "anisU = vector(0.0, 0.0, 1.0)\n",
      "Ku1 = 60000\n",
      "setSolver(5)\n",
      "TableAdd(Ku1)\n",
      "TableAdd(B_ext)\n",
      "TableAutoSave(5e-13)\n",
      "m = uniform(1, 0, 0)\n",
      "B_ext = vector(B*0.9983008564845987, B*0.04995668033125289, B*0.02999550020249575)\n",
      "relax()\n",
      "MaxDt = 5e-13\n",
      "B_ext = vector(B*1, B*0, B*0)\n",
      "run(1e-09)\n"
     ]
    },
    {
     "name": "stderr",
     "output_type": "stream",
     "text": [
      "//Using cached kernel: C:/Users/Rob/Desktop/Research/kernel-cache//mumax3kernel_[512 512 4]_[0 0 0]_[4e-09 4e-09 4e-09]_6_\n"
     ]
    },
    {
     "name": "stdout",
     "output_type": "stream",
     "text": [
      "//mumax 3.9.1c windows_amd64 go1.3.3 (gc)\n",
      "//CUDA 10020 TITAN Xp(12288MB) cc6.1, using CC53 PTX \n",
      "//(c) Arne Vansteenkiste, Dynamat LAB, Ghent University, Belgium\n",
      "//This is free software without any warranty. See license.txt\n",
      "//output directory: C:/Users/Rob/Desktop/Research/FMR_Paper/In_Plane_Field/Out_of_Plane_Anis/EasyAxis/ThinFilmFMR_BInPlane(34.85)_Out_of_PlaneAnis_K(30000)_Ratio(1).out/\n",
      "//starting GUI at http://127.0.0.1:35367\n",
      "SetPBC(0, 0, 0)\n",
      "SetGridSize(512, 512.0, 4)\n",
      "SetCellSize(4e-9, 4e-9, 4e-9)\n",
      "Msat = 800000.0\n",
      "Aex = 1.3e-11\n",
      "alpha = 0.008\n",
      "edgesmooth = 8\n",
      "B := 34.85e-3\n",
      "anisU = vector(0.0, 0.0, 1.0)\n",
      "Ku1 = 30000\n",
      "setSolver(5)\n",
      "TableAdd(Ku1)\n",
      "TableAdd(B_ext)\n",
      "TableAutoSave(5e-13)\n",
      "m = uniform(1, 0, 0)\n",
      "B_ext = vector(B*0.9983008564845987, B*0.04995668033125289, B*0.02999550020249575)\n",
      "relax()\n",
      "MaxDt = 5e-13\n",
      "B_ext = vector(B*1, B*0, B*0)\n",
      "run(1e-09)\n"
     ]
    },
    {
     "name": "stderr",
     "output_type": "stream",
     "text": [
      "//Using cached kernel: C:/Users/Rob/Desktop/Research/kernel-cache//mumax3kernel_[512 512 4]_[0 0 0]_[4e-09 4e-09 4e-09]_6_\n"
     ]
    },
    {
     "name": "stdout",
     "output_type": "stream",
     "text": [
      "//mumax 3.9.1c windows_amd64 go1.3.3 (gc)\n",
      "//CUDA 10020 TITAN Xp(12288MB) cc6.1, using CC53 PTX \n",
      "//(c) Arne Vansteenkiste, Dynamat LAB, Ghent University, Belgium\n",
      "//This is free software without any warranty. See license.txt\n",
      "//output directory: C:/Users/Rob/Desktop/Research/FMR_Paper/In_Plane_Field/Out_of_Plane_Anis/EasyAxis/ThinFilmFMR_BInPlane(34.85)_Out_of_PlaneAnis_K(20000)_Ratio(1).out/\n",
      "//starting GUI at http://127.0.0.1:35367\n",
      "SetPBC(0, 0, 0)\n",
      "SetGridSize(512, 512.0, 4)\n",
      "SetCellSize(4e-9, 4e-9, 4e-9)\n",
      "Msat = 800000.0\n",
      "Aex = 1.3e-11\n",
      "alpha = 0.008\n",
      "edgesmooth = 8\n",
      "B := 34.85e-3\n",
      "anisU = vector(0.0, 0.0, 1.0)\n",
      "Ku1 = 20000\n",
      "setSolver(5)\n",
      "TableAdd(Ku1)\n",
      "TableAdd(B_ext)\n",
      "TableAutoSave(5e-13)\n",
      "m = uniform(1, 0, 0)\n",
      "B_ext = vector(B*0.9983008564845987, B*0.04995668033125289, B*0.02999550020249575)\n",
      "relax()\n",
      "MaxDt = 5e-13\n",
      "B_ext = vector(B*1, B*0, B*0)\n",
      "run(1e-09)\n"
     ]
    },
    {
     "name": "stderr",
     "output_type": "stream",
     "text": [
      "//Using cached kernel: C:/Users/Rob/Desktop/Research/kernel-cache//mumax3kernel_[512 512 4]_[0 0 0]_[4e-09 4e-09 4e-09]_6_\n"
     ]
    },
    {
     "name": "stdout",
     "output_type": "stream",
     "text": [
      "//mumax 3.9.1c windows_amd64 go1.3.3 (gc)\n",
      "//CUDA 10020 TITAN Xp(12288MB) cc6.1, using CC53 PTX \n",
      "//(c) Arne Vansteenkiste, Dynamat LAB, Ghent University, Belgium\n",
      "//This is free software without any warranty. See license.txt\n",
      "//output directory: C:/Users/Rob/Desktop/Research/FMR_Paper/In_Plane_Field/Out_of_Plane_Anis/EasyAxis/ThinFilmFMR_BInPlane(34.34)_Out_of_PlaneAnis_K(80000)_Ratio(1).out/\n",
      "//starting GUI at http://127.0.0.1:35367\n",
      "SetPBC(0, 0, 0)\n",
      "SetGridSize(512, 512.0, 4)\n",
      "SetCellSize(4e-9, 4e-9, 4e-9)\n",
      "Msat = 800000.0\n",
      "Aex = 1.3e-11\n",
      "alpha = 0.008\n",
      "edgesmooth = 8\n",
      "B := 34.34e-3\n",
      "anisU = vector(0.0, 0.0, 1.0)\n",
      "Ku1 = 80000\n",
      "setSolver(5)\n",
      "TableAdd(Ku1)\n",
      "TableAdd(B_ext)\n",
      "TableAutoSave(5e-13)\n",
      "m = uniform(1, 0, 0)\n",
      "B_ext = vector(B*0.9983008564845987, B*0.04995668033125289, B*0.02999550020249575)\n",
      "relax()\n",
      "MaxDt = 5e-13\n",
      "B_ext = vector(B*1, B*0, B*0)\n",
      "run(1e-09)\n"
     ]
    },
    {
     "name": "stderr",
     "output_type": "stream",
     "text": [
      "//Using cached kernel: C:/Users/Rob/Desktop/Research/kernel-cache//mumax3kernel_[512 512 4]_[0 0 0]_[4e-09 4e-09 4e-09]_6_\n"
     ]
    },
    {
     "name": "stdout",
     "output_type": "stream",
     "text": [
      "//mumax 3.9.1c windows_amd64 go1.3.3 (gc)\n",
      "//CUDA 10020 TITAN Xp(12288MB) cc6.1, using CC53 PTX \n",
      "//(c) Arne Vansteenkiste, Dynamat LAB, Ghent University, Belgium\n",
      "//This is free software without any warranty. See license.txt\n",
      "//output directory: C:/Users/Rob/Desktop/Research/FMR_Paper/In_Plane_Field/Out_of_Plane_Anis/EasyAxis/ThinFilmFMR_BInPlane(34.34)_Out_of_PlaneAnis_K(40000)_Ratio(1).out/\n",
      "//starting GUI at http://127.0.0.1:35367\n",
      "SetPBC(0, 0, 0)\n",
      "SetGridSize(512, 512.0, 4)\n",
      "SetCellSize(4e-9, 4e-9, 4e-9)\n",
      "Msat = 800000.0\n",
      "Aex = 1.3e-11\n",
      "alpha = 0.008\n",
      "edgesmooth = 8\n",
      "B := 34.34e-3\n",
      "anisU = vector(0.0, 0.0, 1.0)\n",
      "Ku1 = 40000\n",
      "setSolver(5)\n",
      "TableAdd(Ku1)\n",
      "TableAdd(B_ext)\n",
      "TableAutoSave(5e-13)\n",
      "m = uniform(1, 0, 0)\n",
      "B_ext = vector(B*0.9983008564845987, B*0.04995668033125289, B*0.02999550020249575)\n",
      "relax()\n",
      "MaxDt = 5e-13\n",
      "B_ext = vector(B*1, B*0, B*0)\n",
      "run(1e-09)\n"
     ]
    },
    {
     "name": "stderr",
     "output_type": "stream",
     "text": [
      "//Using cached kernel: C:/Users/Rob/Desktop/Research/kernel-cache//mumax3kernel_[512 512 4]_[0 0 0]_[4e-09 4e-09 4e-09]_6_\n"
     ]
    },
    {
     "name": "stdout",
     "output_type": "stream",
     "text": [
      "//mumax 3.9.1c windows_amd64 go1.3.3 (gc)\n",
      "//CUDA 10020 TITAN Xp(12288MB) cc6.1, using CC53 PTX \n",
      "//(c) Arne Vansteenkiste, Dynamat LAB, Ghent University, Belgium\n",
      "//This is free software without any warranty. See license.txt\n",
      "//output directory: C:/Users/Rob/Desktop/Research/FMR_Paper/In_Plane_Field/Out_of_Plane_Anis/EasyAxis/ThinFilmFMR_BInPlane(34.34)_Out_of_PlaneAnis_K(20000)_Ratio(1).out/\n",
      "//starting GUI at http://127.0.0.1:35367\n",
      "SetPBC(0, 0, 0)\n",
      "SetGridSize(512, 512.0, 4)\n",
      "SetCellSize(4e-9, 4e-9, 4e-9)\n",
      "Msat = 800000.0\n",
      "Aex = 1.3e-11\n",
      "alpha = 0.008\n",
      "edgesmooth = 8\n",
      "B := 34.34e-3\n",
      "anisU = vector(0.0, 0.0, 1.0)\n",
      "Ku1 = 20000\n",
      "setSolver(5)\n",
      "TableAdd(Ku1)\n",
      "TableAdd(B_ext)\n",
      "TableAutoSave(5e-13)\n",
      "m = uniform(1, 0, 0)\n",
      "B_ext = vector(B*0.9983008564845987, B*0.04995668033125289, B*0.02999550020249575)\n",
      "relax()\n",
      "MaxDt = 5e-13\n",
      "B_ext = vector(B*1, B*0, B*0)\n",
      "run(1e-09)\n"
     ]
    },
    {
     "name": "stderr",
     "output_type": "stream",
     "text": [
      "//Using cached kernel: C:/Users/Rob/Desktop/Research/kernel-cache//mumax3kernel_[512 512 4]_[0 0 0]_[4e-09 4e-09 4e-09]_6_\n"
     ]
    },
    {
     "name": "stdout",
     "output_type": "stream",
     "text": [
      "//mumax 3.9.1c windows_amd64 go1.3.3 (gc)\n",
      "//CUDA 10020 TITAN Xp(12288MB) cc6.1, using CC53 PTX \n",
      "//(c) Arne Vansteenkiste, Dynamat LAB, Ghent University, Belgium\n",
      "//This is free software without any warranty. See license.txt\n",
      "//output directory: C:/Users/Rob/Desktop/Research/FMR_Paper/In_Plane_Field/Out_of_Plane_Anis/EasyAxis/ThinFilmFMR_BInPlane(34.09)_Out_of_PlaneAnis_K(90000)_Ratio(1).out/\n",
      "//starting GUI at http://127.0.0.1:35367\n",
      "SetPBC(0, 0, 0)\n",
      "SetGridSize(512, 512.0, 4)\n",
      "SetCellSize(4e-9, 4e-9, 4e-9)\n",
      "Msat = 800000.0\n",
      "Aex = 1.3e-11\n",
      "alpha = 0.008\n",
      "edgesmooth = 8\n",
      "B := 34.09e-3\n",
      "anisU = vector(0.0, 0.0, 1.0)\n",
      "Ku1 = 90000\n",
      "setSolver(5)\n",
      "TableAdd(Ku1)\n",
      "TableAdd(B_ext)\n",
      "TableAutoSave(5e-13)\n",
      "m = uniform(1, 0, 0)\n",
      "B_ext = vector(B*0.9983008564845987, B*0.04995668033125289, B*0.02999550020249575)\n",
      "relax()\n",
      "MaxDt = 5e-13\n",
      "B_ext = vector(B*1, B*0, B*0)\n",
      "run(1e-09)\n"
     ]
    },
    {
     "name": "stderr",
     "output_type": "stream",
     "text": [
      "//Using cached kernel: C:/Users/Rob/Desktop/Research/kernel-cache//mumax3kernel_[512 512 4]_[0 0 0]_[4e-09 4e-09 4e-09]_6_\n"
     ]
    },
    {
     "name": "stdout",
     "output_type": "stream",
     "text": [
      "//mumax 3.9.1c windows_amd64 go1.3.3 (gc)\n",
      "//CUDA 10020 TITAN Xp(12288MB) cc6.1, using CC53 PTX \n",
      "//(c) Arne Vansteenkiste, Dynamat LAB, Ghent University, Belgium\n",
      "//This is free software without any warranty. See license.txt\n",
      "//output directory: C:/Users/Rob/Desktop/Research/FMR_Paper/In_Plane_Field/Out_of_Plane_Anis/EasyAxis/ThinFilmFMR_BInPlane(34.09)_Out_of_PlaneAnis_K(50000)_Ratio(1).out/\n",
      "//starting GUI at http://127.0.0.1:35367\n",
      "SetPBC(0, 0, 0)\n",
      "SetGridSize(512, 512.0, 4)\n",
      "SetCellSize(4e-9, 4e-9, 4e-9)\n",
      "Msat = 800000.0\n",
      "Aex = 1.3e-11\n",
      "alpha = 0.008\n",
      "edgesmooth = 8\n",
      "B := 34.09e-3\n",
      "anisU = vector(0.0, 0.0, 1.0)\n",
      "Ku1 = 50000\n",
      "setSolver(5)\n",
      "TableAdd(Ku1)\n",
      "TableAdd(B_ext)\n",
      "TableAutoSave(5e-13)\n",
      "m = uniform(1, 0, 0)\n",
      "B_ext = vector(B*0.9983008564845987, B*0.04995668033125289, B*0.02999550020249575)\n",
      "relax()\n",
      "MaxDt = 5e-13\n",
      "B_ext = vector(B*1, B*0, B*0)\n",
      "run(1e-09)\n"
     ]
    },
    {
     "name": "stderr",
     "output_type": "stream",
     "text": [
      "//Using cached kernel: C:/Users/Rob/Desktop/Research/kernel-cache//mumax3kernel_[512 512 4]_[0 0 0]_[4e-09 4e-09 4e-09]_6_\n"
     ]
    },
    {
     "name": "stdout",
     "output_type": "stream",
     "text": [
      "//mumax 3.9.1c windows_amd64 go1.3.3 (gc)\n",
      "//CUDA 10020 TITAN Xp(12288MB) cc6.1, using CC53 PTX \n",
      "//(c) Arne Vansteenkiste, Dynamat LAB, Ghent University, Belgium\n",
      "//This is free software without any warranty. See license.txt\n",
      "//output directory: C:/Users/Rob/Desktop/Research/FMR_Paper/In_Plane_Field/Out_of_Plane_Anis/EasyAxis/ThinFilmFMR_BInPlane(34.09)_Out_of_PlaneAnis_K(30000)_Ratio(1).out/\n",
      "//starting GUI at http://127.0.0.1:35367\n",
      "SetPBC(0, 0, 0)\n",
      "SetGridSize(512, 512.0, 4)\n",
      "SetCellSize(4e-9, 4e-9, 4e-9)\n",
      "Msat = 800000.0\n",
      "Aex = 1.3e-11\n",
      "alpha = 0.008\n",
      "edgesmooth = 8\n",
      "B := 34.09e-3\n",
      "anisU = vector(0.0, 0.0, 1.0)\n",
      "Ku1 = 30000\n",
      "setSolver(5)\n",
      "TableAdd(Ku1)\n",
      "TableAdd(B_ext)\n",
      "TableAutoSave(5e-13)\n",
      "m = uniform(1, 0, 0)\n",
      "B_ext = vector(B*0.9983008564845987, B*0.04995668033125289, B*0.02999550020249575)\n",
      "relax()\n",
      "MaxDt = 5e-13\n",
      "B_ext = vector(B*1, B*0, B*0)\n",
      "run(1e-09)\n"
     ]
    },
    {
     "name": "stderr",
     "output_type": "stream",
     "text": [
      "//Using cached kernel: C:/Users/Rob/Desktop/Research/kernel-cache//mumax3kernel_[512 512 4]_[0 0 0]_[4e-09 4e-09 4e-09]_6_\n"
     ]
    },
    {
     "name": "stdout",
     "output_type": "stream",
     "text": [
      "//mumax 3.9.1c windows_amd64 go1.3.3 (gc)\n",
      "//CUDA 10020 TITAN Xp(12288MB) cc6.1, using CC53 PTX \n",
      "//(c) Arne Vansteenkiste, Dynamat LAB, Ghent University, Belgium\n",
      "//This is free software without any warranty. See license.txt\n",
      "//output directory: C:/Users/Rob/Desktop/Research/FMR_Paper/In_Plane_Field/Out_of_Plane_Anis/EasyAxis/ThinFilmFMR_BInPlane(338.38)_Out_of_PlaneAnis_K(100000)_Ratio(1).out/\n",
      "//starting GUI at http://127.0.0.1:35367\n",
      "SetPBC(0, 0, 0)\n",
      "SetGridSize(512, 512.0, 4)\n",
      "SetCellSize(4e-9, 4e-9, 4e-9)\n",
      "Msat = 800000.0\n",
      "Aex = 1.3e-11\n",
      "alpha = 0.008\n",
      "edgesmooth = 8\n",
      "B := 338.38e-3\n",
      "anisU = vector(0.0, 0.0, 1.0)\n",
      "Ku1 = 100000\n",
      "setSolver(5)\n",
      "TableAdd(Ku1)\n",
      "TableAdd(B_ext)\n",
      "TableAutoSave(5e-13)\n",
      "m = uniform(1, 0, 0)\n",
      "B_ext = vector(B*0.9983008564845987, B*0.04995668033125289, B*0.02999550020249575)\n",
      "relax()\n",
      "MaxDt = 5e-13\n",
      "B_ext = vector(B*1, B*0, B*0)\n",
      "run(1e-09)\n"
     ]
    },
    {
     "name": "stderr",
     "output_type": "stream",
     "text": [
      "//Using cached kernel: C:/Users/Rob/Desktop/Research/kernel-cache//mumax3kernel_[512 512 4]_[0 0 0]_[4e-09 4e-09 4e-09]_6_\n"
     ]
    },
    {
     "name": "stdout",
     "output_type": "stream",
     "text": [
      "//mumax 3.9.1c windows_amd64 go1.3.3 (gc)\n",
      "//CUDA 10020 TITAN Xp(12288MB) cc6.1, using CC53 PTX \n",
      "//(c) Arne Vansteenkiste, Dynamat LAB, Ghent University, Belgium\n",
      "//This is free software without any warranty. See license.txt\n",
      "//output directory: C:/Users/Rob/Desktop/Research/FMR_Paper/In_Plane_Field/Out_of_Plane_Anis/EasyAxis/ThinFilmFMR_BInPlane(336.87)_Out_of_PlaneAnis_K(60000)_Ratio(1).out/\n",
      "//starting GUI at http://127.0.0.1:35367\n",
      "SetPBC(0, 0, 0)\n",
      "SetGridSize(512, 512.0, 4)\n",
      "SetCellSize(4e-9, 4e-9, 4e-9)\n",
      "Msat = 800000.0\n",
      "Aex = 1.3e-11\n",
      "alpha = 0.008\n",
      "edgesmooth = 8\n",
      "B := 336.87e-3\n",
      "anisU = vector(0.0, 0.0, 1.0)\n",
      "Ku1 = 60000\n",
      "setSolver(5)\n",
      "TableAdd(Ku1)\n",
      "TableAdd(B_ext)\n",
      "TableAutoSave(5e-13)\n",
      "m = uniform(1, 0, 0)\n",
      "B_ext = vector(B*0.9983008564845987, B*0.04995668033125289, B*0.02999550020249575)\n",
      "relax()\n",
      "MaxDt = 5e-13\n",
      "B_ext = vector(B*1, B*0, B*0)\n",
      "run(1e-09)\n"
     ]
    },
    {
     "name": "stderr",
     "output_type": "stream",
     "text": [
      "//Using cached kernel: C:/Users/Rob/Desktop/Research/kernel-cache//mumax3kernel_[512 512 4]_[0 0 0]_[4e-09 4e-09 4e-09]_6_\n"
     ]
    },
    {
     "name": "stdout",
     "output_type": "stream",
     "text": [
      "//mumax 3.9.1c windows_amd64 go1.3.3 (gc)\n",
      "//CUDA 10020 TITAN Xp(12288MB) cc6.1, using CC53 PTX \n",
      "//(c) Arne Vansteenkiste, Dynamat LAB, Ghent University, Belgium\n",
      "//This is free software without any warranty. See license.txt\n",
      "//output directory: C:/Users/Rob/Desktop/Research/FMR_Paper/In_Plane_Field/Out_of_Plane_Anis/EasyAxis/ThinFilmFMR_BInPlane(333.33)_Out_of_PlaneAnis_K(50000)_Ratio(1).out/\n",
      "//starting GUI at http://127.0.0.1:35367\n",
      "SetPBC(0, 0, 0)\n",
      "SetGridSize(512, 512.0, 4)\n",
      "SetCellSize(4e-9, 4e-9, 4e-9)\n",
      "Msat = 800000.0\n",
      "Aex = 1.3e-11\n",
      "alpha = 0.008\n",
      "edgesmooth = 8\n",
      "B := 333.33e-3\n",
      "anisU = vector(0.0, 0.0, 1.0)\n",
      "Ku1 = 50000\n",
      "setSolver(5)\n",
      "TableAdd(Ku1)\n",
      "TableAdd(B_ext)\n",
      "TableAutoSave(5e-13)\n",
      "m = uniform(1, 0, 0)\n",
      "B_ext = vector(B*0.9983008564845987, B*0.04995668033125289, B*0.02999550020249575)\n",
      "relax()\n",
      "MaxDt = 5e-13\n",
      "B_ext = vector(B*1, B*0, B*0)\n",
      "run(1e-09)\n"
     ]
    },
    {
     "name": "stderr",
     "output_type": "stream",
     "text": [
      "//Using cached kernel: C:/Users/Rob/Desktop/Research/kernel-cache//mumax3kernel_[512 512 4]_[0 0 0]_[4e-09 4e-09 4e-09]_6_\n"
     ]
    },
    {
     "name": "stdout",
     "output_type": "stream",
     "text": [
      "//mumax 3.9.1c windows_amd64 go1.3.3 (gc)\n",
      "//CUDA 10020 TITAN Xp(12288MB) cc6.1, using CC53 PTX \n",
      "//(c) Arne Vansteenkiste, Dynamat LAB, Ghent University, Belgium\n",
      "//This is free software without any warranty. See license.txt\n",
      "//output directory: C:/Users/Rob/Desktop/Research/FMR_Paper/In_Plane_Field/Out_of_Plane_Anis/EasyAxis/ThinFilmFMR_BInPlane(332.58)_Out_of_PlaneAnis_K(90000)_Ratio(1).out/\n",
      "//starting GUI at http://127.0.0.1:35367\n",
      "SetPBC(0, 0, 0)\n",
      "SetGridSize(512, 512.0, 4)\n",
      "SetCellSize(4e-9, 4e-9, 4e-9)\n",
      "Msat = 800000.0\n",
      "Aex = 1.3e-11\n",
      "alpha = 0.008\n",
      "edgesmooth = 8\n",
      "B := 332.58e-3\n",
      "anisU = vector(0.0, 0.0, 1.0)\n",
      "Ku1 = 90000\n",
      "setSolver(5)\n",
      "TableAdd(Ku1)\n",
      "TableAdd(B_ext)\n",
      "TableAutoSave(5e-13)\n",
      "m = uniform(1, 0, 0)\n",
      "B_ext = vector(B*0.9983008564845987, B*0.04995668033125289, B*0.02999550020249575)\n",
      "relax()\n",
      "MaxDt = 5e-13\n",
      "B_ext = vector(B*1, B*0, B*0)\n",
      "run(1e-09)\n"
     ]
    },
    {
     "name": "stderr",
     "output_type": "stream",
     "text": [
      "//Using cached kernel: C:/Users/Rob/Desktop/Research/kernel-cache//mumax3kernel_[512 512 4]_[0 0 0]_[4e-09 4e-09 4e-09]_6_\n"
     ]
    },
    {
     "name": "stdout",
     "output_type": "stream",
     "text": [
      "//mumax 3.9.1c windows_amd64 go1.3.3 (gc)\n",
      "//CUDA 10020 TITAN Xp(12288MB) cc6.1, using CC53 PTX \n",
      "//(c) Arne Vansteenkiste, Dynamat LAB, Ghent University, Belgium\n",
      "//This is free software without any warranty. See license.txt\n",
      "//output directory: C:/Users/Rob/Desktop/Research/FMR_Paper/In_Plane_Field/Out_of_Plane_Anis/EasyAxis/ThinFilmFMR_BInPlane(330.3)_Out_of_PlaneAnis_K(40000)_Ratio(1).out/\n",
      "//starting GUI at http://127.0.0.1:35367\n",
      "SetPBC(0, 0, 0)\n",
      "SetGridSize(512, 512.0, 4)\n",
      "SetCellSize(4e-9, 4e-9, 4e-9)\n",
      "Msat = 800000.0\n",
      "Aex = 1.3e-11\n",
      "alpha = 0.008\n",
      "edgesmooth = 8\n",
      "B := 330.3e-3\n",
      "anisU = vector(0.0, 0.0, 1.0)\n",
      "Ku1 = 40000\n",
      "setSolver(5)\n",
      "TableAdd(Ku1)\n",
      "TableAdd(B_ext)\n",
      "TableAutoSave(5e-13)\n",
      "m = uniform(1, 0, 0)\n",
      "B_ext = vector(B*0.9983008564845987, B*0.04995668033125289, B*0.02999550020249575)\n",
      "relax()\n",
      "MaxDt = 5e-13\n",
      "B_ext = vector(B*1, B*0, B*0)\n",
      "run(1e-09)\n"
     ]
    },
    {
     "name": "stderr",
     "output_type": "stream",
     "text": [
      "//Using cached kernel: C:/Users/Rob/Desktop/Research/kernel-cache//mumax3kernel_[512 512 4]_[0 0 0]_[4e-09 4e-09 4e-09]_6_\n"
     ]
    },
    {
     "name": "stdout",
     "output_type": "stream",
     "text": [
      "//mumax 3.9.1c windows_amd64 go1.3.3 (gc)\n",
      "//CUDA 10020 TITAN Xp(12288MB) cc6.1, using CC53 PTX \n",
      "//(c) Arne Vansteenkiste, Dynamat LAB, Ghent University, Belgium\n",
      "//This is free software without any warranty. See license.txt\n",
      "//output directory: C:/Users/Rob/Desktop/Research/FMR_Paper/In_Plane_Field/Out_of_Plane_Anis/EasyAxis/ThinFilmFMR_BInPlane(330)_Out_of_PlaneAnis_K(0)_Ratio(1).out/\n",
      "//starting GUI at http://127.0.0.1:35367\n",
      "SetPBC(0, 0, 0)\n",
      "SetGridSize(512, 512.0, 4)\n",
      "SetCellSize(4e-9, 4e-9, 4e-9)\n",
      "Msat = 800000.0\n",
      "Aex = 1.3e-11\n",
      "alpha = 0.008\n",
      "edgesmooth = 8\n",
      "B := 330e-3\n",
      "anisU = vector(0.0, 0.0, 1.0)\n",
      "Ku1 = 0\n",
      "setSolver(5)\n",
      "TableAdd(Ku1)\n",
      "TableAdd(B_ext)\n",
      "TableAutoSave(5e-13)\n",
      "m = uniform(1, 0, 0)\n",
      "B_ext = vector(B*0.9983008564845987, B*0.04995668033125289, B*0.02999550020249575)\n",
      "relax()\n",
      "MaxDt = 5e-13\n",
      "B_ext = vector(B*1, B*0, B*0)\n",
      "run(1e-09)\n"
     ]
    },
    {
     "name": "stderr",
     "output_type": "stream",
     "text": [
      "//Using cached kernel: C:/Users/Rob/Desktop/Research/kernel-cache//mumax3kernel_[512 512 4]_[0 0 0]_[4e-09 4e-09 4e-09]_6_\n"
     ]
    },
    {
     "name": "stdout",
     "output_type": "stream",
     "text": [
      "//mumax 3.9.1c windows_amd64 go1.3.3 (gc)\n",
      "//CUDA 10020 TITAN Xp(12288MB) cc6.1, using CC53 PTX \n",
      "//(c) Arne Vansteenkiste, Dynamat LAB, Ghent University, Belgium\n",
      "//This is free software without any warranty. See license.txt\n",
      "//output directory: C:/Users/Rob/Desktop/Research/FMR_Paper/In_Plane_Field/Out_of_Plane_Anis/EasyAxis/ThinFilmFMR_BInPlane(33.84)_Out_of_PlaneAnis_K(20000)_Ratio(1).out/\n",
      "//starting GUI at http://127.0.0.1:35367\n",
      "SetPBC(0, 0, 0)\n",
      "SetGridSize(512, 512.0, 4)\n",
      "SetCellSize(4e-9, 4e-9, 4e-9)\n",
      "Msat = 800000.0\n",
      "Aex = 1.3e-11\n",
      "alpha = 0.008\n",
      "edgesmooth = 8\n",
      "B := 33.84e-3\n",
      "anisU = vector(0.0, 0.0, 1.0)\n",
      "Ku1 = 20000\n",
      "setSolver(5)\n",
      "TableAdd(Ku1)\n",
      "TableAdd(B_ext)\n",
      "TableAutoSave(5e-13)\n",
      "m = uniform(1, 0, 0)\n",
      "B_ext = vector(B*0.9983008564845987, B*0.04995668033125289, B*0.02999550020249575)\n",
      "relax()\n",
      "MaxDt = 5e-13\n",
      "B_ext = vector(B*1, B*0, B*0)\n",
      "run(1e-09)\n"
     ]
    },
    {
     "name": "stderr",
     "output_type": "stream",
     "text": [
      "//Using cached kernel: C:/Users/Rob/Desktop/Research/kernel-cache//mumax3kernel_[512 512 4]_[0 0 0]_[4e-09 4e-09 4e-09]_6_\n"
     ]
    },
    {
     "name": "stdout",
     "output_type": "stream",
     "text": [
      "//mumax 3.9.1c windows_amd64 go1.3.3 (gc)\n",
      "//CUDA 10020 TITAN Xp(12288MB) cc6.1, using CC53 PTX \n",
      "//(c) Arne Vansteenkiste, Dynamat LAB, Ghent University, Belgium\n",
      "//This is free software without any warranty. See license.txt\n",
      "//output directory: C:/Users/Rob/Desktop/Research/FMR_Paper/In_Plane_Field/Out_of_Plane_Anis/EasyAxis/ThinFilmFMR_BInPlane(33.59)_Out_of_PlaneAnis_K(70000)_Ratio(1).out/\n",
      "//starting GUI at http://127.0.0.1:35367\n",
      "SetPBC(0, 0, 0)\n",
      "SetGridSize(512, 512.0, 4)\n",
      "SetCellSize(4e-9, 4e-9, 4e-9)\n",
      "Msat = 800000.0\n",
      "Aex = 1.3e-11\n",
      "alpha = 0.008\n",
      "edgesmooth = 8\n",
      "B := 33.59e-3\n",
      "anisU = vector(0.0, 0.0, 1.0)\n",
      "Ku1 = 70000\n",
      "setSolver(5)\n",
      "TableAdd(Ku1)\n",
      "TableAdd(B_ext)\n",
      "TableAutoSave(5e-13)\n",
      "m = uniform(1, 0, 0)\n",
      "B_ext = vector(B*0.9983008564845987, B*0.04995668033125289, B*0.02999550020249575)\n",
      "relax()\n",
      "MaxDt = 5e-13\n",
      "B_ext = vector(B*1, B*0, B*0)\n",
      "run(1e-09)\n"
     ]
    },
    {
     "name": "stderr",
     "output_type": "stream",
     "text": [
      "//Using cached kernel: C:/Users/Rob/Desktop/Research/kernel-cache//mumax3kernel_[512 512 4]_[0 0 0]_[4e-09 4e-09 4e-09]_6_\n"
     ]
    },
    {
     "name": "stdout",
     "output_type": "stream",
     "text": [
      "//mumax 3.9.1c windows_amd64 go1.3.3 (gc)\n",
      "//CUDA 10020 TITAN Xp(12288MB) cc6.1, using CC53 PTX \n",
      "//(c) Arne Vansteenkiste, Dynamat LAB, Ghent University, Belgium\n",
      "//This is free software without any warranty. See license.txt\n",
      "//output directory: C:/Users/Rob/Desktop/Research/FMR_Paper/In_Plane_Field/Out_of_Plane_Anis/EasyAxis/ThinFilmFMR_BInPlane(33.33)_Out_of_PlaneAnis_K(60000)_Ratio(1).out/\n",
      "//starting GUI at http://127.0.0.1:35367\n",
      "SetPBC(0, 0, 0)\n",
      "SetGridSize(512, 512.0, 4)\n",
      "SetCellSize(4e-9, 4e-9, 4e-9)\n",
      "Msat = 800000.0\n",
      "Aex = 1.3e-11\n",
      "alpha = 0.008\n",
      "edgesmooth = 8\n",
      "B := 33.33e-3\n",
      "anisU = vector(0.0, 0.0, 1.0)\n",
      "Ku1 = 60000\n",
      "setSolver(5)\n",
      "TableAdd(Ku1)\n",
      "TableAdd(B_ext)\n",
      "TableAutoSave(5e-13)\n",
      "m = uniform(1, 0, 0)\n",
      "B_ext = vector(B*0.9983008564845987, B*0.04995668033125289, B*0.02999550020249575)\n",
      "relax()\n",
      "MaxDt = 5e-13\n",
      "B_ext = vector(B*1, B*0, B*0)\n",
      "run(1e-09)\n"
     ]
    },
    {
     "name": "stderr",
     "output_type": "stream",
     "text": [
      "//Using cached kernel: C:/Users/Rob/Desktop/Research/kernel-cache//mumax3kernel_[512 512 4]_[0 0 0]_[4e-09 4e-09 4e-09]_6_\n"
     ]
    },
    {
     "name": "stdout",
     "output_type": "stream",
     "text": [
      "//mumax 3.9.1c windows_amd64 go1.3.3 (gc)\n",
      "//CUDA 10020 TITAN Xp(12288MB) cc6.1, using CC53 PTX \n",
      "//(c) Arne Vansteenkiste, Dynamat LAB, Ghent University, Belgium\n",
      "//This is free software without any warranty. See license.txt\n",
      "//output directory: C:/Users/Rob/Desktop/Research/FMR_Paper/In_Plane_Field/Out_of_Plane_Anis/EasyAxis/ThinFilmFMR_BInPlane(33.33)_Out_of_PlaneAnis_K(40000)_Ratio(1).out/\n",
      "//starting GUI at http://127.0.0.1:35367\n",
      "SetPBC(0, 0, 0)\n",
      "SetGridSize(512, 512.0, 4)\n",
      "SetCellSize(4e-9, 4e-9, 4e-9)\n",
      "Msat = 800000.0\n",
      "Aex = 1.3e-11\n",
      "alpha = 0.008\n",
      "edgesmooth = 8\n",
      "B := 33.33e-3\n",
      "anisU = vector(0.0, 0.0, 1.0)\n",
      "Ku1 = 40000\n",
      "setSolver(5)\n",
      "TableAdd(Ku1)\n",
      "TableAdd(B_ext)\n",
      "TableAutoSave(5e-13)\n",
      "m = uniform(1, 0, 0)\n",
      "B_ext = vector(B*0.9983008564845987, B*0.04995668033125289, B*0.02999550020249575)\n",
      "relax()\n",
      "MaxDt = 5e-13\n",
      "B_ext = vector(B*1, B*0, B*0)\n",
      "run(1e-09)\n"
     ]
    },
    {
     "name": "stderr",
     "output_type": "stream",
     "text": [
      "//Using cached kernel: C:/Users/Rob/Desktop/Research/kernel-cache//mumax3kernel_[512 512 4]_[0 0 0]_[4e-09 4e-09 4e-09]_6_\n"
     ]
    },
    {
     "name": "stdout",
     "output_type": "stream",
     "text": [
      "//mumax 3.9.1c windows_amd64 go1.3.3 (gc)\n",
      "//CUDA 10020 TITAN Xp(12288MB) cc6.1, using CC53 PTX \n",
      "//(c) Arne Vansteenkiste, Dynamat LAB, Ghent University, Belgium\n",
      "//This is free software without any warranty. See license.txt\n",
      "//output directory: C:/Users/Rob/Desktop/Research/FMR_Paper/In_Plane_Field/Out_of_Plane_Anis/EasyAxis/ThinFilmFMR_BInPlane(33.33)_Out_of_PlaneAnis_K(30000)_Ratio(1).out/\n",
      "//starting GUI at http://127.0.0.1:35367\n",
      "SetPBC(0, 0, 0)\n",
      "SetGridSize(512, 512.0, 4)\n",
      "SetCellSize(4e-9, 4e-9, 4e-9)\n",
      "Msat = 800000.0\n",
      "Aex = 1.3e-11\n",
      "alpha = 0.008\n",
      "edgesmooth = 8\n",
      "B := 33.33e-3\n",
      "anisU = vector(0.0, 0.0, 1.0)\n",
      "Ku1 = 30000\n",
      "setSolver(5)\n",
      "TableAdd(Ku1)\n",
      "TableAdd(B_ext)\n",
      "TableAutoSave(5e-13)\n",
      "m = uniform(1, 0, 0)\n",
      "B_ext = vector(B*0.9983008564845987, B*0.04995668033125289, B*0.02999550020249575)\n",
      "relax()\n",
      "MaxDt = 5e-13\n",
      "B_ext = vector(B*1, B*0, B*0)\n",
      "run(1e-09)\n"
     ]
    },
    {
     "name": "stderr",
     "output_type": "stream",
     "text": [
      "//Using cached kernel: C:/Users/Rob/Desktop/Research/kernel-cache//mumax3kernel_[512 512 4]_[0 0 0]_[4e-09 4e-09 4e-09]_6_\n"
     ]
    },
    {
     "name": "stdout",
     "output_type": "stream",
     "text": [
      "//mumax 3.9.1c windows_amd64 go1.3.3 (gc)\n",
      "//CUDA 10020 TITAN Xp(12288MB) cc6.1, using CC53 PTX \n",
      "//(c) Arne Vansteenkiste, Dynamat LAB, Ghent University, Belgium\n",
      "//This is free software without any warranty. See license.txt\n",
      "//output directory: C:/Users/Rob/Desktop/Research/FMR_Paper/In_Plane_Field/Out_of_Plane_Anis/EasyAxis/ThinFilmFMR_BInPlane(33.33)_Out_of_PlaneAnis_K(20000)_Ratio(1).out/\n",
      "//starting GUI at http://127.0.0.1:35367\n",
      "SetPBC(0, 0, 0)\n",
      "SetGridSize(512, 512.0, 4)\n",
      "SetCellSize(4e-9, 4e-9, 4e-9)\n",
      "Msat = 800000.0\n",
      "Aex = 1.3e-11\n",
      "alpha = 0.008\n",
      "edgesmooth = 8\n",
      "B := 33.33e-3\n",
      "anisU = vector(0.0, 0.0, 1.0)\n",
      "Ku1 = 20000\n",
      "setSolver(5)\n",
      "TableAdd(Ku1)\n",
      "TableAdd(B_ext)\n",
      "TableAutoSave(5e-13)\n",
      "m = uniform(1, 0, 0)\n",
      "B_ext = vector(B*0.9983008564845987, B*0.04995668033125289, B*0.02999550020249575)\n",
      "relax()\n",
      "MaxDt = 5e-13\n",
      "B_ext = vector(B*1, B*0, B*0)\n",
      "run(1e-09)\n"
     ]
    },
    {
     "name": "stderr",
     "output_type": "stream",
     "text": [
      "//Using cached kernel: C:/Users/Rob/Desktop/Research/kernel-cache//mumax3kernel_[512 512 4]_[0 0 0]_[4e-09 4e-09 4e-09]_6_\n"
     ]
    },
    {
     "name": "stdout",
     "output_type": "stream",
     "text": [
      "//mumax 3.9.1c windows_amd64 go1.3.3 (gc)\n",
      "//CUDA 10020 TITAN Xp(12288MB) cc6.1, using CC53 PTX \n",
      "//(c) Arne Vansteenkiste, Dynamat LAB, Ghent University, Belgium\n",
      "//This is free software without any warranty. See license.txt\n",
      "//output directory: C:/Users/Rob/Desktop/Research/FMR_Paper/In_Plane_Field/Out_of_Plane_Anis/EasyAxis/ThinFilmFMR_BInPlane(327.78)_Out_of_PlaneAnis_K(30000)_Ratio(1).out/\n",
      "//starting GUI at http://127.0.0.1:35367\n",
      "SetPBC(0, 0, 0)\n",
      "SetGridSize(512, 512.0, 4)\n",
      "SetCellSize(4e-9, 4e-9, 4e-9)\n",
      "Msat = 800000.0\n",
      "Aex = 1.3e-11\n",
      "alpha = 0.008\n",
      "edgesmooth = 8\n",
      "B := 327.78e-3\n",
      "anisU = vector(0.0, 0.0, 1.0)\n",
      "Ku1 = 30000\n",
      "setSolver(5)\n",
      "TableAdd(Ku1)\n",
      "TableAdd(B_ext)\n",
      "TableAutoSave(5e-13)\n",
      "m = uniform(1, 0, 0)\n",
      "B_ext = vector(B*0.9983008564845987, B*0.04995668033125289, B*0.02999550020249575)\n",
      "relax()\n",
      "MaxDt = 5e-13\n",
      "B_ext = vector(B*1, B*0, B*0)\n",
      "run(1e-09)\n"
     ]
    },
    {
     "name": "stderr",
     "output_type": "stream",
     "text": [
      "//Using cached kernel: C:/Users/Rob/Desktop/Research/kernel-cache//mumax3kernel_[512 512 4]_[0 0 0]_[4e-09 4e-09 4e-09]_6_\n"
     ]
    },
    {
     "name": "stdout",
     "output_type": "stream",
     "text": [
      "//mumax 3.9.1c windows_amd64 go1.3.3 (gc)\n",
      "//CUDA 10020 TITAN Xp(12288MB) cc6.1, using CC53 PTX \n",
      "//(c) Arne Vansteenkiste, Dynamat LAB, Ghent University, Belgium\n",
      "//This is free software without any warranty. See license.txt\n",
      "//output directory: C:/Users/Rob/Desktop/Research/FMR_Paper/In_Plane_Field/Out_of_Plane_Anis/EasyAxis/ThinFilmFMR_BInPlane(327.27)_Out_of_PlaneAnis_K(80000)_Ratio(1).out/\n",
      "//starting GUI at http://127.0.0.1:35367\n",
      "SetPBC(0, 0, 0)\n",
      "SetGridSize(512, 512.0, 4)\n",
      "SetCellSize(4e-9, 4e-9, 4e-9)\n",
      "Msat = 800000.0\n",
      "Aex = 1.3e-11\n",
      "alpha = 0.008\n",
      "edgesmooth = 8\n",
      "B := 327.27e-3\n",
      "anisU = vector(0.0, 0.0, 1.0)\n",
      "Ku1 = 80000\n",
      "setSolver(5)\n",
      "TableAdd(Ku1)\n",
      "TableAdd(B_ext)\n",
      "TableAutoSave(5e-13)\n",
      "m = uniform(1, 0, 0)\n",
      "B_ext = vector(B*0.9983008564845987, B*0.04995668033125289, B*0.02999550020249575)\n",
      "relax()\n",
      "MaxDt = 5e-13\n",
      "B_ext = vector(B*1, B*0, B*0)\n",
      "run(1e-09)\n"
     ]
    },
    {
     "name": "stderr",
     "output_type": "stream",
     "text": [
      "//Using cached kernel: C:/Users/Rob/Desktop/Research/kernel-cache//mumax3kernel_[512 512 4]_[0 0 0]_[4e-09 4e-09 4e-09]_6_\n"
     ]
    },
    {
     "name": "stdout",
     "output_type": "stream",
     "text": [
      "//mumax 3.9.1c windows_amd64 go1.3.3 (gc)\n",
      "//CUDA 10020 TITAN Xp(12288MB) cc6.1, using CC53 PTX \n",
      "//(c) Arne Vansteenkiste, Dynamat LAB, Ghent University, Belgium\n",
      "//This is free software without any warranty. See license.txt\n",
      "//output directory: C:/Users/Rob/Desktop/Research/FMR_Paper/In_Plane_Field/Out_of_Plane_Anis/EasyAxis/ThinFilmFMR_BInPlane(325.76)_Out_of_PlaneAnis_K(20000)_Ratio(1).out/\n",
      "//starting GUI at http://127.0.0.1:35367\n",
      "SetPBC(0, 0, 0)\n",
      "SetGridSize(512, 512.0, 4)\n",
      "SetCellSize(4e-9, 4e-9, 4e-9)\n",
      "Msat = 800000.0\n",
      "Aex = 1.3e-11\n",
      "alpha = 0.008\n",
      "edgesmooth = 8\n",
      "B := 325.76e-3\n",
      "anisU = vector(0.0, 0.0, 1.0)\n",
      "Ku1 = 20000\n",
      "setSolver(5)\n",
      "TableAdd(Ku1)\n",
      "TableAdd(B_ext)\n",
      "TableAutoSave(5e-13)\n",
      "m = uniform(1, 0, 0)\n",
      "B_ext = vector(B*0.9983008564845987, B*0.04995668033125289, B*0.02999550020249575)\n",
      "relax()\n",
      "MaxDt = 5e-13\n",
      "B_ext = vector(B*1, B*0, B*0)\n",
      "run(1e-09)\n"
     ]
    },
    {
     "name": "stderr",
     "output_type": "stream",
     "text": [
      "//Using cached kernel: C:/Users/Rob/Desktop/Research/kernel-cache//mumax3kernel_[512 512 4]_[0 0 0]_[4e-09 4e-09 4e-09]_6_\n"
     ]
    },
    {
     "name": "stdout",
     "output_type": "stream",
     "text": [
      "//mumax 3.9.1c windows_amd64 go1.3.3 (gc)\n",
      "//CUDA 10020 TITAN Xp(12288MB) cc6.1, using CC53 PTX \n",
      "//(c) Arne Vansteenkiste, Dynamat LAB, Ghent University, Belgium\n",
      "//This is free software without any warranty. See license.txt\n",
      "//output directory: C:/Users/Rob/Desktop/Research/FMR_Paper/In_Plane_Field/Out_of_Plane_Anis/EasyAxis/ThinFilmFMR_BInPlane(324.24)_Out_of_PlaneAnis_K(10000)_Ratio(1).out/\n",
      "//starting GUI at http://127.0.0.1:35367\n",
      "SetPBC(0, 0, 0)\n",
      "SetGridSize(512, 512.0, 4)\n",
      "SetCellSize(4e-9, 4e-9, 4e-9)\n",
      "Msat = 800000.0\n",
      "Aex = 1.3e-11\n",
      "alpha = 0.008\n",
      "edgesmooth = 8\n",
      "B := 324.24e-3\n",
      "anisU = vector(0.0, 0.0, 1.0)\n",
      "Ku1 = 10000\n",
      "setSolver(5)\n",
      "TableAdd(Ku1)\n",
      "TableAdd(B_ext)\n",
      "TableAutoSave(5e-13)\n",
      "m = uniform(1, 0, 0)\n",
      "B_ext = vector(B*0.9983008564845987, B*0.04995668033125289, B*0.02999550020249575)\n",
      "relax()\n",
      "MaxDt = 5e-13\n",
      "B_ext = vector(B*1, B*0, B*0)\n",
      "run(1e-09)\n"
     ]
    },
    {
     "name": "stderr",
     "output_type": "stream",
     "text": [
      "//Using cached kernel: C:/Users/Rob/Desktop/Research/kernel-cache//mumax3kernel_[512 512 4]_[0 0 0]_[4e-09 4e-09 4e-09]_6_\n"
     ]
    },
    {
     "name": "stdout",
     "output_type": "stream",
     "text": [
      "//mumax 3.9.1c windows_amd64 go1.3.3 (gc)\n",
      "//CUDA 10020 TITAN Xp(12288MB) cc6.1, using CC53 PTX \n",
      "//(c) Arne Vansteenkiste, Dynamat LAB, Ghent University, Belgium\n",
      "//This is free software without any warranty. See license.txt\n",
      "//output directory: C:/Users/Rob/Desktop/Research/FMR_Paper/In_Plane_Field/Out_of_Plane_Anis/EasyAxis/ThinFilmFMR_BInPlane(322.47)_Out_of_PlaneAnis_K(70000)_Ratio(1).out/\n",
      "//starting GUI at http://127.0.0.1:35367\n",
      "SetPBC(0, 0, 0)\n",
      "SetGridSize(512, 512.0, 4)\n",
      "SetCellSize(4e-9, 4e-9, 4e-9)\n",
      "Msat = 800000.0\n",
      "Aex = 1.3e-11\n",
      "alpha = 0.008\n",
      "edgesmooth = 8\n",
      "B := 322.47e-3\n",
      "anisU = vector(0.0, 0.0, 1.0)\n",
      "Ku1 = 70000\n",
      "setSolver(5)\n",
      "TableAdd(Ku1)\n",
      "TableAdd(B_ext)\n",
      "TableAutoSave(5e-13)\n",
      "m = uniform(1, 0, 0)\n",
      "B_ext = vector(B*0.9983008564845987, B*0.04995668033125289, B*0.02999550020249575)\n",
      "relax()\n",
      "MaxDt = 5e-13\n",
      "B_ext = vector(B*1, B*0, B*0)\n",
      "run(1e-09)\n"
     ]
    },
    {
     "name": "stderr",
     "output_type": "stream",
     "text": [
      "//Using cached kernel: C:/Users/Rob/Desktop/Research/kernel-cache//mumax3kernel_[512 512 4]_[0 0 0]_[4e-09 4e-09 4e-09]_6_\n"
     ]
    },
    {
     "name": "stdout",
     "output_type": "stream",
     "text": [
      "//mumax 3.9.1c windows_amd64 go1.3.3 (gc)\n",
      "//CUDA 10020 TITAN Xp(12288MB) cc6.1, using CC53 PTX \n",
      "//(c) Arne Vansteenkiste, Dynamat LAB, Ghent University, Belgium\n",
      "//This is free software without any warranty. See license.txt\n",
      "//output directory: C:/Users/Rob/Desktop/Research/FMR_Paper/In_Plane_Field/Out_of_Plane_Anis/EasyAxis/ThinFilmFMR_BInPlane(320.71)_Out_of_PlaneAnis_K(100000)_Ratio(1).out/\n",
      "//starting GUI at http://127.0.0.1:35367\n",
      "SetPBC(0, 0, 0)\n",
      "SetGridSize(512, 512.0, 4)\n",
      "SetCellSize(4e-9, 4e-9, 4e-9)\n",
      "Msat = 800000.0\n",
      "Aex = 1.3e-11\n",
      "alpha = 0.008\n",
      "edgesmooth = 8\n",
      "B := 320.71e-3\n",
      "anisU = vector(0.0, 0.0, 1.0)\n",
      "Ku1 = 100000\n",
      "setSolver(5)\n",
      "TableAdd(Ku1)\n",
      "TableAdd(B_ext)\n",
      "TableAutoSave(5e-13)\n",
      "m = uniform(1, 0, 0)\n",
      "B_ext = vector(B*0.9983008564845987, B*0.04995668033125289, B*0.02999550020249575)\n",
      "relax()\n",
      "MaxDt = 5e-13\n",
      "B_ext = vector(B*1, B*0, B*0)\n",
      "run(1e-09)\n"
     ]
    },
    {
     "name": "stderr",
     "output_type": "stream",
     "text": [
      "//Using cached kernel: C:/Users/Rob/Desktop/Research/kernel-cache//mumax3kernel_[512 512 4]_[0 0 0]_[4e-09 4e-09 4e-09]_6_\n"
     ]
    },
    {
     "name": "stdout",
     "output_type": "stream",
     "text": [
      "//mumax 3.9.1c windows_amd64 go1.3.3 (gc)\n",
      "//CUDA 10020 TITAN Xp(12288MB) cc6.1, using CC53 PTX \n",
      "//(c) Arne Vansteenkiste, Dynamat LAB, Ghent University, Belgium\n",
      "//This is free software without any warranty. See license.txt\n",
      "//output directory: C:/Users/Rob/Desktop/Research/FMR_Paper/In_Plane_Field/Out_of_Plane_Anis/EasyAxis/ThinFilmFMR_BInPlane(320)_Out_of_PlaneAnis_K(0)_Ratio(1).out/\n",
      "//starting GUI at http://127.0.0.1:35367\n",
      "SetPBC(0, 0, 0)\n",
      "SetGridSize(512, 512.0, 4)\n",
      "SetCellSize(4e-9, 4e-9, 4e-9)\n",
      "Msat = 800000.0\n",
      "Aex = 1.3e-11\n",
      "alpha = 0.008\n",
      "edgesmooth = 8\n",
      "B := 320e-3\n",
      "anisU = vector(0.0, 0.0, 1.0)\n",
      "Ku1 = 0\n",
      "setSolver(5)\n",
      "TableAdd(Ku1)\n",
      "TableAdd(B_ext)\n",
      "TableAutoSave(5e-13)\n",
      "m = uniform(1, 0, 0)\n",
      "B_ext = vector(B*0.9983008564845987, B*0.04995668033125289, B*0.02999550020249575)\n",
      "relax()\n",
      "MaxDt = 5e-13\n",
      "B_ext = vector(B*1, B*0, B*0)\n",
      "run(1e-09)\n"
     ]
    },
    {
     "name": "stderr",
     "output_type": "stream",
     "text": [
      "//Using cached kernel: C:/Users/Rob/Desktop/Research/kernel-cache//mumax3kernel_[512 512 4]_[0 0 0]_[4e-09 4e-09 4e-09]_6_\n"
     ]
    },
    {
     "name": "stdout",
     "output_type": "stream",
     "text": [
      "//mumax 3.9.1c windows_amd64 go1.3.3 (gc)\n",
      "//CUDA 10020 TITAN Xp(12288MB) cc6.1, using CC53 PTX \n",
      "//(c) Arne Vansteenkiste, Dynamat LAB, Ghent University, Belgium\n",
      "//This is free software without any warranty. See license.txt\n",
      "//output directory: C:/Users/Rob/Desktop/Research/FMR_Paper/In_Plane_Field/Out_of_Plane_Anis/EasyAxis/ThinFilmFMR_BInPlane(32.83)_Out_of_PlaneAnis_K(50000)_Ratio(1).out/\n",
      "//starting GUI at http://127.0.0.1:35367\n",
      "SetPBC(0, 0, 0)\n",
      "SetGridSize(512, 512.0, 4)\n",
      "SetCellSize(4e-9, 4e-9, 4e-9)\n",
      "Msat = 800000.0\n",
      "Aex = 1.3e-11\n",
      "alpha = 0.008\n",
      "edgesmooth = 8\n",
      "B := 32.83e-3\n",
      "anisU = vector(0.0, 0.0, 1.0)\n",
      "Ku1 = 50000\n",
      "setSolver(5)\n",
      "TableAdd(Ku1)\n",
      "TableAdd(B_ext)\n",
      "TableAutoSave(5e-13)\n",
      "m = uniform(1, 0, 0)\n",
      "B_ext = vector(B*0.9983008564845987, B*0.04995668033125289, B*0.02999550020249575)\n",
      "relax()\n",
      "MaxDt = 5e-13\n",
      "B_ext = vector(B*1, B*0, B*0)\n",
      "run(1e-09)\n"
     ]
    },
    {
     "name": "stderr",
     "output_type": "stream",
     "text": [
      "//Using cached kernel: C:/Users/Rob/Desktop/Research/kernel-cache//mumax3kernel_[512 512 4]_[0 0 0]_[4e-09 4e-09 4e-09]_6_\n"
     ]
    },
    {
     "name": "stdout",
     "output_type": "stream",
     "text": [
      "//mumax 3.9.1c windows_amd64 go1.3.3 (gc)\n",
      "//CUDA 10020 TITAN Xp(12288MB) cc6.1, using CC53 PTX \n",
      "//(c) Arne Vansteenkiste, Dynamat LAB, Ghent University, Belgium\n",
      "//This is free software without any warranty. See license.txt\n",
      "//output directory: C:/Users/Rob/Desktop/Research/FMR_Paper/In_Plane_Field/Out_of_Plane_Anis/EasyAxis/ThinFilmFMR_BInPlane(32.83)_Out_of_PlaneAnis_K(20000)_Ratio(1).out/\n",
      "//starting GUI at http://127.0.0.1:35367\n",
      "SetPBC(0, 0, 0)\n",
      "SetGridSize(512, 512.0, 4)\n",
      "SetCellSize(4e-9, 4e-9, 4e-9)\n",
      "Msat = 800000.0\n",
      "Aex = 1.3e-11\n",
      "alpha = 0.008\n",
      "edgesmooth = 8\n",
      "B := 32.83e-3\n",
      "anisU = vector(0.0, 0.0, 1.0)\n",
      "Ku1 = 20000\n",
      "setSolver(5)\n",
      "TableAdd(Ku1)\n",
      "TableAdd(B_ext)\n",
      "TableAutoSave(5e-13)\n",
      "m = uniform(1, 0, 0)\n",
      "B_ext = vector(B*0.9983008564845987, B*0.04995668033125289, B*0.02999550020249575)\n",
      "relax()\n",
      "MaxDt = 5e-13\n",
      "B_ext = vector(B*1, B*0, B*0)\n",
      "run(1e-09)\n"
     ]
    },
    {
     "name": "stderr",
     "output_type": "stream",
     "text": [
      "//Using cached kernel: C:/Users/Rob/Desktop/Research/kernel-cache//mumax3kernel_[512 512 4]_[0 0 0]_[4e-09 4e-09 4e-09]_6_\n"
     ]
    },
    {
     "name": "stdout",
     "output_type": "stream",
     "text": [
      "//mumax 3.9.1c windows_amd64 go1.3.3 (gc)\n",
      "//CUDA 10020 TITAN Xp(12288MB) cc6.1, using CC53 PTX \n",
      "//(c) Arne Vansteenkiste, Dynamat LAB, Ghent University, Belgium\n",
      "//This is free software without any warranty. See license.txt\n",
      "//output directory: C:/Users/Rob/Desktop/Research/FMR_Paper/In_Plane_Field/Out_of_Plane_Anis/EasyAxis/ThinFilmFMR_BInPlane(32.83)_Out_of_PlaneAnis_K(100000)_Ratio(1).out/\n",
      "//starting GUI at http://127.0.0.1:35367\n",
      "SetPBC(0, 0, 0)\n",
      "SetGridSize(512, 512.0, 4)\n",
      "SetCellSize(4e-9, 4e-9, 4e-9)\n",
      "Msat = 800000.0\n",
      "Aex = 1.3e-11\n",
      "alpha = 0.008\n",
      "edgesmooth = 8\n",
      "B := 32.83e-3\n",
      "anisU = vector(0.0, 0.0, 1.0)\n",
      "Ku1 = 100000\n",
      "setSolver(5)\n",
      "TableAdd(Ku1)\n",
      "TableAdd(B_ext)\n",
      "TableAutoSave(5e-13)\n",
      "m = uniform(1, 0, 0)\n",
      "B_ext = vector(B*0.9983008564845987, B*0.04995668033125289, B*0.02999550020249575)\n",
      "relax()\n",
      "MaxDt = 5e-13\n",
      "B_ext = vector(B*1, B*0, B*0)\n",
      "run(1e-09)\n"
     ]
    },
    {
     "name": "stderr",
     "output_type": "stream",
     "text": [
      "//Using cached kernel: C:/Users/Rob/Desktop/Research/kernel-cache//mumax3kernel_[512 512 4]_[0 0 0]_[4e-09 4e-09 4e-09]_6_\n"
     ]
    },
    {
     "name": "stdout",
     "output_type": "stream",
     "text": [
      "//mumax 3.9.1c windows_amd64 go1.3.3 (gc)\n",
      "//CUDA 10020 TITAN Xp(12288MB) cc6.1, using CC53 PTX \n",
      "//(c) Arne Vansteenkiste, Dynamat LAB, Ghent University, Belgium\n",
      "//This is free software without any warranty. See license.txt\n",
      "//output directory: C:/Users/Rob/Desktop/Research/FMR_Paper/In_Plane_Field/Out_of_Plane_Anis/EasyAxis/ThinFilmFMR_BInPlane(32.58)_Out_of_PlaneAnis_K(30000)_Ratio(1).out/\n",
      "//starting GUI at http://127.0.0.1:35367\n",
      "SetPBC(0, 0, 0)\n",
      "SetGridSize(512, 512.0, 4)\n",
      "SetCellSize(4e-9, 4e-9, 4e-9)\n",
      "Msat = 800000.0\n",
      "Aex = 1.3e-11\n",
      "alpha = 0.008\n",
      "edgesmooth = 8\n",
      "B := 32.58e-3\n",
      "anisU = vector(0.0, 0.0, 1.0)\n",
      "Ku1 = 30000\n",
      "setSolver(5)\n",
      "TableAdd(Ku1)\n",
      "TableAdd(B_ext)\n",
      "TableAutoSave(5e-13)\n",
      "m = uniform(1, 0, 0)\n",
      "B_ext = vector(B*0.9983008564845987, B*0.04995668033125289, B*0.02999550020249575)\n",
      "relax()\n",
      "MaxDt = 5e-13\n",
      "B_ext = vector(B*1, B*0, B*0)\n",
      "run(1e-09)\n"
     ]
    },
    {
     "name": "stderr",
     "output_type": "stream",
     "text": [
      "//Using cached kernel: C:/Users/Rob/Desktop/Research/kernel-cache//mumax3kernel_[512 512 4]_[0 0 0]_[4e-09 4e-09 4e-09]_6_\n"
     ]
    },
    {
     "name": "stdout",
     "output_type": "stream",
     "text": [
      "//mumax 3.9.1c windows_amd64 go1.3.3 (gc)\n",
      "//CUDA 10020 TITAN Xp(12288MB) cc6.1, using CC53 PTX \n",
      "//(c) Arne Vansteenkiste, Dynamat LAB, Ghent University, Belgium\n",
      "//This is free software without any warranty. See license.txt\n",
      "//output directory: C:/Users/Rob/Desktop/Research/FMR_Paper/In_Plane_Field/Out_of_Plane_Anis/EasyAxis/ThinFilmFMR_BInPlane(32.32)_Out_of_PlaneAnis_K(80000)_Ratio(1).out/\n",
      "//starting GUI at http://127.0.0.1:35367\n",
      "SetPBC(0, 0, 0)\n",
      "SetGridSize(512, 512.0, 4)\n",
      "SetCellSize(4e-9, 4e-9, 4e-9)\n",
      "Msat = 800000.0\n",
      "Aex = 1.3e-11\n",
      "alpha = 0.008\n",
      "edgesmooth = 8\n",
      "B := 32.32e-3\n",
      "anisU = vector(0.0, 0.0, 1.0)\n",
      "Ku1 = 80000\n",
      "setSolver(5)\n",
      "TableAdd(Ku1)\n",
      "TableAdd(B_ext)\n",
      "TableAutoSave(5e-13)\n",
      "m = uniform(1, 0, 0)\n",
      "B_ext = vector(B*0.9983008564845987, B*0.04995668033125289, B*0.02999550020249575)\n",
      "relax()\n",
      "MaxDt = 5e-13\n",
      "B_ext = vector(B*1, B*0, B*0)\n",
      "run(1e-09)\n"
     ]
    },
    {
     "name": "stderr",
     "output_type": "stream",
     "text": [
      "//Using cached kernel: C:/Users/Rob/Desktop/Research/kernel-cache//mumax3kernel_[512 512 4]_[0 0 0]_[4e-09 4e-09 4e-09]_6_\n"
     ]
    },
    {
     "name": "stdout",
     "output_type": "stream",
     "text": [
      "//mumax 3.9.1c windows_amd64 go1.3.3 (gc)\n",
      "//CUDA 10020 TITAN Xp(12288MB) cc6.1, using CC53 PTX \n",
      "//(c) Arne Vansteenkiste, Dynamat LAB, Ghent University, Belgium\n",
      "//This is free software without any warranty. See license.txt\n",
      "//output directory: C:/Users/Rob/Desktop/Research/FMR_Paper/In_Plane_Field/Out_of_Plane_Anis/EasyAxis/ThinFilmFMR_BInPlane(32.32)_Out_of_PlaneAnis_K(40000)_Ratio(1).out/\n",
      "//starting GUI at http://127.0.0.1:35367\n",
      "SetPBC(0, 0, 0)\n",
      "SetGridSize(512, 512.0, 4)\n",
      "SetCellSize(4e-9, 4e-9, 4e-9)\n",
      "Msat = 800000.0\n",
      "Aex = 1.3e-11\n",
      "alpha = 0.008\n",
      "edgesmooth = 8\n",
      "B := 32.32e-3\n",
      "anisU = vector(0.0, 0.0, 1.0)\n",
      "Ku1 = 40000\n",
      "setSolver(5)\n",
      "TableAdd(Ku1)\n",
      "TableAdd(B_ext)\n",
      "TableAutoSave(5e-13)\n",
      "m = uniform(1, 0, 0)\n",
      "B_ext = vector(B*0.9983008564845987, B*0.04995668033125289, B*0.02999550020249575)\n",
      "relax()\n",
      "MaxDt = 5e-13\n",
      "B_ext = vector(B*1, B*0, B*0)\n",
      "run(1e-09)\n"
     ]
    },
    {
     "name": "stderr",
     "output_type": "stream",
     "text": [
      "//Using cached kernel: C:/Users/Rob/Desktop/Research/kernel-cache//mumax3kernel_[512 512 4]_[0 0 0]_[4e-09 4e-09 4e-09]_6_\n"
     ]
    },
    {
     "name": "stdout",
     "output_type": "stream",
     "text": [
      "//mumax 3.9.1c windows_amd64 go1.3.3 (gc)\n",
      "//CUDA 10020 TITAN Xp(12288MB) cc6.1, using CC53 PTX \n",
      "//(c) Arne Vansteenkiste, Dynamat LAB, Ghent University, Belgium\n",
      "//This is free software without any warranty. See license.txt\n",
      "//output directory: C:/Users/Rob/Desktop/Research/FMR_Paper/In_Plane_Field/Out_of_Plane_Anis/EasyAxis/ThinFilmFMR_BInPlane(32.32)_Out_of_PlaneAnis_K(20000)_Ratio(1).out/\n",
      "//starting GUI at http://127.0.0.1:35367\n",
      "SetPBC(0, 0, 0)\n",
      "SetGridSize(512, 512.0, 4)\n",
      "SetCellSize(4e-9, 4e-9, 4e-9)\n",
      "Msat = 800000.0\n",
      "Aex = 1.3e-11\n",
      "alpha = 0.008\n",
      "edgesmooth = 8\n",
      "B := 32.32e-3\n",
      "anisU = vector(0.0, 0.0, 1.0)\n",
      "Ku1 = 20000\n",
      "setSolver(5)\n",
      "TableAdd(Ku1)\n",
      "TableAdd(B_ext)\n",
      "TableAutoSave(5e-13)\n",
      "m = uniform(1, 0, 0)\n",
      "B_ext = vector(B*0.9983008564845987, B*0.04995668033125289, B*0.02999550020249575)\n",
      "relax()\n",
      "MaxDt = 5e-13\n",
      "B_ext = vector(B*1, B*0, B*0)\n",
      "run(1e-09)\n"
     ]
    },
    {
     "name": "stderr",
     "output_type": "stream",
     "text": [
      "//Using cached kernel: C:/Users/Rob/Desktop/Research/kernel-cache//mumax3kernel_[512 512 4]_[0 0 0]_[4e-09 4e-09 4e-09]_6_\n"
     ]
    },
    {
     "name": "stdout",
     "output_type": "stream",
     "text": [
      "//mumax 3.9.1c windows_amd64 go1.3.3 (gc)\n",
      "//CUDA 10020 TITAN Xp(12288MB) cc6.1, using CC53 PTX \n",
      "//(c) Arne Vansteenkiste, Dynamat LAB, Ghent University, Belgium\n",
      "//This is free software without any warranty. See license.txt\n",
      "//output directory: C:/Users/Rob/Desktop/Research/FMR_Paper/In_Plane_Field/Out_of_Plane_Anis/EasyAxis/ThinFilmFMR_BInPlane(318.18)_Out_of_PlaneAnis_K(60000)_Ratio(1).out/\n",
      "//starting GUI at http://127.0.0.1:35367\n",
      "SetPBC(0, 0, 0)\n",
      "SetGridSize(512, 512.0, 4)\n",
      "SetCellSize(4e-9, 4e-9, 4e-9)\n",
      "Msat = 800000.0\n",
      "Aex = 1.3e-11\n",
      "alpha = 0.008\n",
      "edgesmooth = 8\n",
      "B := 318.18e-3\n",
      "anisU = vector(0.0, 0.0, 1.0)\n",
      "Ku1 = 60000\n",
      "setSolver(5)\n",
      "TableAdd(Ku1)\n",
      "TableAdd(B_ext)\n",
      "TableAutoSave(5e-13)\n",
      "m = uniform(1, 0, 0)\n",
      "B_ext = vector(B*0.9983008564845987, B*0.04995668033125289, B*0.02999550020249575)\n",
      "relax()\n",
      "MaxDt = 5e-13\n",
      "B_ext = vector(B*1, B*0, B*0)\n",
      "run(1e-09)\n"
     ]
    },
    {
     "name": "stderr",
     "output_type": "stream",
     "text": [
      "//Using cached kernel: C:/Users/Rob/Desktop/Research/kernel-cache//mumax3kernel_[512 512 4]_[0 0 0]_[4e-09 4e-09 4e-09]_6_\n"
     ]
    },
    {
     "name": "stdout",
     "output_type": "stream",
     "text": [
      "//mumax 3.9.1c windows_amd64 go1.3.3 (gc)\n",
      "//CUDA 10020 TITAN Xp(12288MB) cc6.1, using CC53 PTX \n",
      "//(c) Arne Vansteenkiste, Dynamat LAB, Ghent University, Belgium\n",
      "//This is free software without any warranty. See license.txt\n",
      "//output directory: C:/Users/Rob/Desktop/Research/FMR_Paper/In_Plane_Field/Out_of_Plane_Anis/EasyAxis/ThinFilmFMR_BInPlane(314.65)_Out_of_PlaneAnis_K(90000)_Ratio(1).out/\n",
      "//starting GUI at http://127.0.0.1:35367\n",
      "SetPBC(0, 0, 0)\n",
      "SetGridSize(512, 512.0, 4)\n",
      "SetCellSize(4e-9, 4e-9, 4e-9)\n",
      "Msat = 800000.0\n",
      "Aex = 1.3e-11\n",
      "alpha = 0.008\n",
      "edgesmooth = 8\n",
      "B := 314.65e-3\n",
      "anisU = vector(0.0, 0.0, 1.0)\n",
      "Ku1 = 90000\n",
      "setSolver(5)\n",
      "TableAdd(Ku1)\n",
      "TableAdd(B_ext)\n",
      "TableAutoSave(5e-13)\n",
      "m = uniform(1, 0, 0)\n",
      "B_ext = vector(B*0.9983008564845987, B*0.04995668033125289, B*0.02999550020249575)\n",
      "relax()\n",
      "MaxDt = 5e-13\n",
      "B_ext = vector(B*1, B*0, B*0)\n",
      "run(1e-09)\n"
     ]
    },
    {
     "name": "stderr",
     "output_type": "stream",
     "text": [
      "//Using cached kernel: C:/Users/Rob/Desktop/Research/kernel-cache//mumax3kernel_[512 512 4]_[0 0 0]_[4e-09 4e-09 4e-09]_6_\n"
     ]
    },
    {
     "name": "stdout",
     "output_type": "stream",
     "text": [
      "//mumax 3.9.1c windows_amd64 go1.3.3 (gc)\n",
      "//CUDA 10020 TITAN Xp(12288MB) cc6.1, using CC53 PTX \n",
      "//(c) Arne Vansteenkiste, Dynamat LAB, Ghent University, Belgium\n",
      "//This is free software without any warranty. See license.txt\n",
      "//output directory: C:/Users/Rob/Desktop/Research/FMR_Paper/In_Plane_Field/Out_of_Plane_Anis/EasyAxis/ThinFilmFMR_BInPlane(314.39)_Out_of_PlaneAnis_K(50000)_Ratio(1).out/\n",
      "//starting GUI at http://127.0.0.1:35367\n",
      "SetPBC(0, 0, 0)\n",
      "SetGridSize(512, 512.0, 4)\n",
      "SetCellSize(4e-9, 4e-9, 4e-9)\n",
      "Msat = 800000.0\n",
      "Aex = 1.3e-11\n",
      "alpha = 0.008\n",
      "edgesmooth = 8\n",
      "B := 314.39e-3\n",
      "anisU = vector(0.0, 0.0, 1.0)\n",
      "Ku1 = 50000\n",
      "setSolver(5)\n",
      "TableAdd(Ku1)\n",
      "TableAdd(B_ext)\n",
      "TableAutoSave(5e-13)\n",
      "m = uniform(1, 0, 0)\n",
      "B_ext = vector(B*0.9983008564845987, B*0.04995668033125289, B*0.02999550020249575)\n",
      "relax()\n",
      "MaxDt = 5e-13\n",
      "B_ext = vector(B*1, B*0, B*0)\n",
      "run(1e-09)\n"
     ]
    },
    {
     "name": "stderr",
     "output_type": "stream",
     "text": [
      "//Using cached kernel: C:/Users/Rob/Desktop/Research/kernel-cache//mumax3kernel_[512 512 4]_[0 0 0]_[4e-09 4e-09 4e-09]_6_\n"
     ]
    },
    {
     "name": "stdout",
     "output_type": "stream",
     "text": [
      "//mumax 3.9.1c windows_amd64 go1.3.3 (gc)\n",
      "//CUDA 10020 TITAN Xp(12288MB) cc6.1, using CC53 PTX \n",
      "//(c) Arne Vansteenkiste, Dynamat LAB, Ghent University, Belgium\n",
      "//This is free software without any warranty. See license.txt\n",
      "//output directory: C:/Users/Rob/Desktop/Research/FMR_Paper/In_Plane_Field/Out_of_Plane_Anis/EasyAxis/ThinFilmFMR_BInPlane(311.11)_Out_of_PlaneAnis_K(40000)_Ratio(1).out/\n",
      "//starting GUI at http://127.0.0.1:35367\n",
      "SetPBC(0, 0, 0)\n",
      "SetGridSize(512, 512.0, 4)\n",
      "SetCellSize(4e-9, 4e-9, 4e-9)\n",
      "Msat = 800000.0\n",
      "Aex = 1.3e-11\n",
      "alpha = 0.008\n",
      "edgesmooth = 8\n",
      "B := 311.11e-3\n",
      "anisU = vector(0.0, 0.0, 1.0)\n",
      "Ku1 = 40000\n",
      "setSolver(5)\n",
      "TableAdd(Ku1)\n",
      "TableAdd(B_ext)\n",
      "TableAutoSave(5e-13)\n",
      "m = uniform(1, 0, 0)\n",
      "B_ext = vector(B*0.9983008564845987, B*0.04995668033125289, B*0.02999550020249575)\n",
      "relax()\n",
      "MaxDt = 5e-13\n",
      "B_ext = vector(B*1, B*0, B*0)\n",
      "run(1e-09)\n"
     ]
    },
    {
     "name": "stderr",
     "output_type": "stream",
     "text": [
      "//Using cached kernel: C:/Users/Rob/Desktop/Research/kernel-cache//mumax3kernel_[512 512 4]_[0 0 0]_[4e-09 4e-09 4e-09]_6_\n"
     ]
    },
    {
     "name": "stdout",
     "output_type": "stream",
     "text": [
      "//mumax 3.9.1c windows_amd64 go1.3.3 (gc)\n",
      "//CUDA 10020 TITAN Xp(12288MB) cc6.1, using CC53 PTX \n",
      "//(c) Arne Vansteenkiste, Dynamat LAB, Ghent University, Belgium\n",
      "//This is free software without any warranty. See license.txt\n",
      "//output directory: C:/Users/Rob/Desktop/Research/FMR_Paper/In_Plane_Field/Out_of_Plane_Anis/EasyAxis/ThinFilmFMR_BInPlane(310)_Out_of_PlaneAnis_K(0)_Ratio(1).out/\n",
      "//starting GUI at http://127.0.0.1:35367\n",
      "SetPBC(0, 0, 0)\n",
      "SetGridSize(512, 512.0, 4)\n",
      "SetCellSize(4e-9, 4e-9, 4e-9)\n",
      "Msat = 800000.0\n",
      "Aex = 1.3e-11\n",
      "alpha = 0.008\n",
      "edgesmooth = 8\n",
      "B := 310e-3\n",
      "anisU = vector(0.0, 0.0, 1.0)\n",
      "Ku1 = 0\n",
      "setSolver(5)\n",
      "TableAdd(Ku1)\n",
      "TableAdd(B_ext)\n",
      "TableAutoSave(5e-13)\n",
      "m = uniform(1, 0, 0)\n",
      "B_ext = vector(B*0.9983008564845987, B*0.04995668033125289, B*0.02999550020249575)\n",
      "relax()\n",
      "MaxDt = 5e-13\n",
      "B_ext = vector(B*1, B*0, B*0)\n",
      "run(1e-09)\n"
     ]
    },
    {
     "name": "stderr",
     "output_type": "stream",
     "text": [
      "//Using cached kernel: C:/Users/Rob/Desktop/Research/kernel-cache//mumax3kernel_[512 512 4]_[0 0 0]_[4e-09 4e-09 4e-09]_6_\n"
     ]
    },
    {
     "name": "stdout",
     "output_type": "stream",
     "text": [
      "//mumax 3.9.1c windows_amd64 go1.3.3 (gc)\n",
      "//CUDA 10020 TITAN Xp(12288MB) cc6.1, using CC53 PTX \n",
      "//(c) Arne Vansteenkiste, Dynamat LAB, Ghent University, Belgium\n",
      "//This is free software without any warranty. See license.txt\n",
      "//output directory: C:/Users/Rob/Desktop/Research/FMR_Paper/In_Plane_Field/Out_of_Plane_Anis/EasyAxis/ThinFilmFMR_BInPlane(31.82)_Out_of_PlaneAnis_K(90000)_Ratio(1).out/\n",
      "//starting GUI at http://127.0.0.1:35367\n",
      "SetPBC(0, 0, 0)\n",
      "SetGridSize(512, 512.0, 4)\n",
      "SetCellSize(4e-9, 4e-9, 4e-9)\n",
      "Msat = 800000.0\n",
      "Aex = 1.3e-11\n",
      "alpha = 0.008\n",
      "edgesmooth = 8\n",
      "B := 31.82e-3\n",
      "anisU = vector(0.0, 0.0, 1.0)\n",
      "Ku1 = 90000\n",
      "setSolver(5)\n",
      "TableAdd(Ku1)\n",
      "TableAdd(B_ext)\n",
      "TableAutoSave(5e-13)\n",
      "m = uniform(1, 0, 0)\n",
      "B_ext = vector(B*0.9983008564845987, B*0.04995668033125289, B*0.02999550020249575)\n",
      "relax()\n",
      "MaxDt = 5e-13\n",
      "B_ext = vector(B*1, B*0, B*0)\n",
      "run(1e-09)\n"
     ]
    },
    {
     "name": "stderr",
     "output_type": "stream",
     "text": [
      "//Using cached kernel: C:/Users/Rob/Desktop/Research/kernel-cache//mumax3kernel_[512 512 4]_[0 0 0]_[4e-09 4e-09 4e-09]_6_\n"
     ]
    },
    {
     "name": "stdout",
     "output_type": "stream",
     "text": [
      "//mumax 3.9.1c windows_amd64 go1.3.3 (gc)\n",
      "//CUDA 10020 TITAN Xp(12288MB) cc6.1, using CC53 PTX \n",
      "//(c) Arne Vansteenkiste, Dynamat LAB, Ghent University, Belgium\n",
      "//This is free software without any warranty. See license.txt\n",
      "//output directory: C:/Users/Rob/Desktop/Research/FMR_Paper/In_Plane_Field/Out_of_Plane_Anis/EasyAxis/ThinFilmFMR_BInPlane(31.82)_Out_of_PlaneAnis_K(70000)_Ratio(1).out/\n",
      "//starting GUI at http://127.0.0.1:35367\n",
      "SetPBC(0, 0, 0)\n",
      "SetGridSize(512, 512.0, 4)\n",
      "SetCellSize(4e-9, 4e-9, 4e-9)\n",
      "Msat = 800000.0\n",
      "Aex = 1.3e-11\n",
      "alpha = 0.008\n",
      "edgesmooth = 8\n",
      "B := 31.82e-3\n",
      "anisU = vector(0.0, 0.0, 1.0)\n",
      "Ku1 = 70000\n",
      "setSolver(5)\n",
      "TableAdd(Ku1)\n",
      "TableAdd(B_ext)\n",
      "TableAutoSave(5e-13)\n",
      "m = uniform(1, 0, 0)\n",
      "B_ext = vector(B*0.9983008564845987, B*0.04995668033125289, B*0.02999550020249575)\n",
      "relax()\n",
      "MaxDt = 5e-13\n",
      "B_ext = vector(B*1, B*0, B*0)\n",
      "run(1e-09)\n"
     ]
    },
    {
     "name": "stderr",
     "output_type": "stream",
     "text": [
      "//Using cached kernel: C:/Users/Rob/Desktop/Research/kernel-cache//mumax3kernel_[512 512 4]_[0 0 0]_[4e-09 4e-09 4e-09]_6_\n"
     ]
    },
    {
     "name": "stdout",
     "output_type": "stream",
     "text": [
      "//mumax 3.9.1c windows_amd64 go1.3.3 (gc)\n",
      "//CUDA 10020 TITAN Xp(12288MB) cc6.1, using CC53 PTX \n",
      "//(c) Arne Vansteenkiste, Dynamat LAB, Ghent University, Belgium\n",
      "//This is free software without any warranty. See license.txt\n",
      "//output directory: C:/Users/Rob/Desktop/Research/FMR_Paper/In_Plane_Field/Out_of_Plane_Anis/EasyAxis/ThinFilmFMR_BInPlane(31.82)_Out_of_PlaneAnis_K(60000)_Ratio(1).out/\n",
      "//starting GUI at http://127.0.0.1:35367\n",
      "SetPBC(0, 0, 0)\n",
      "SetGridSize(512, 512.0, 4)\n",
      "SetCellSize(4e-9, 4e-9, 4e-9)\n",
      "Msat = 800000.0\n",
      "Aex = 1.3e-11\n",
      "alpha = 0.008\n",
      "edgesmooth = 8\n",
      "B := 31.82e-3\n",
      "anisU = vector(0.0, 0.0, 1.0)\n",
      "Ku1 = 60000\n",
      "setSolver(5)\n",
      "TableAdd(Ku1)\n",
      "TableAdd(B_ext)\n",
      "TableAutoSave(5e-13)\n",
      "m = uniform(1, 0, 0)\n",
      "B_ext = vector(B*0.9983008564845987, B*0.04995668033125289, B*0.02999550020249575)\n",
      "relax()\n",
      "MaxDt = 5e-13\n",
      "B_ext = vector(B*1, B*0, B*0)\n",
      "run(1e-09)\n"
     ]
    },
    {
     "name": "stderr",
     "output_type": "stream",
     "text": [
      "//Using cached kernel: C:/Users/Rob/Desktop/Research/kernel-cache//mumax3kernel_[512 512 4]_[0 0 0]_[4e-09 4e-09 4e-09]_6_\n"
     ]
    },
    {
     "name": "stdout",
     "output_type": "stream",
     "text": [
      "//mumax 3.9.1c windows_amd64 go1.3.3 (gc)\n",
      "//CUDA 10020 TITAN Xp(12288MB) cc6.1, using CC53 PTX \n",
      "//(c) Arne Vansteenkiste, Dynamat LAB, Ghent University, Belgium\n",
      "//This is free software without any warranty. See license.txt\n",
      "//output directory: C:/Users/Rob/Desktop/Research/FMR_Paper/In_Plane_Field/Out_of_Plane_Anis/EasyAxis/ThinFilmFMR_BInPlane(31.82)_Out_of_PlaneAnis_K(30000)_Ratio(1).out/\n",
      "//starting GUI at http://127.0.0.1:35367\n",
      "SetPBC(0, 0, 0)\n",
      "SetGridSize(512, 512.0, 4)\n",
      "SetCellSize(4e-9, 4e-9, 4e-9)\n",
      "Msat = 800000.0\n",
      "Aex = 1.3e-11\n",
      "alpha = 0.008\n",
      "edgesmooth = 8\n",
      "B := 31.82e-3\n",
      "anisU = vector(0.0, 0.0, 1.0)\n",
      "Ku1 = 30000\n",
      "setSolver(5)\n",
      "TableAdd(Ku1)\n",
      "TableAdd(B_ext)\n",
      "TableAutoSave(5e-13)\n",
      "m = uniform(1, 0, 0)\n",
      "B_ext = vector(B*0.9983008564845987, B*0.04995668033125289, B*0.02999550020249575)\n",
      "relax()\n",
      "MaxDt = 5e-13\n",
      "B_ext = vector(B*1, B*0, B*0)\n",
      "run(1e-09)\n"
     ]
    },
    {
     "name": "stderr",
     "output_type": "stream",
     "text": [
      "//Using cached kernel: C:/Users/Rob/Desktop/Research/kernel-cache//mumax3kernel_[512 512 4]_[0 0 0]_[4e-09 4e-09 4e-09]_6_\n"
     ]
    },
    {
     "name": "stdout",
     "output_type": "stream",
     "text": [
      "//mumax 3.9.1c windows_amd64 go1.3.3 (gc)\n",
      "//CUDA 10020 TITAN Xp(12288MB) cc6.1, using CC53 PTX \n",
      "//(c) Arne Vansteenkiste, Dynamat LAB, Ghent University, Belgium\n",
      "//This is free software without any warranty. See license.txt\n",
      "//output directory: C:/Users/Rob/Desktop/Research/FMR_Paper/In_Plane_Field/Out_of_Plane_Anis/EasyAxis/ThinFilmFMR_BInPlane(31.82)_Out_of_PlaneAnis_K(20000)_Ratio(1).out/\n",
      "//starting GUI at http://127.0.0.1:35367\n",
      "SetPBC(0, 0, 0)\n",
      "SetGridSize(512, 512.0, 4)\n",
      "SetCellSize(4e-9, 4e-9, 4e-9)\n",
      "Msat = 800000.0\n",
      "Aex = 1.3e-11\n",
      "alpha = 0.008\n",
      "edgesmooth = 8\n",
      "B := 31.82e-3\n",
      "anisU = vector(0.0, 0.0, 1.0)\n",
      "Ku1 = 20000\n",
      "setSolver(5)\n",
      "TableAdd(Ku1)\n",
      "TableAdd(B_ext)\n",
      "TableAutoSave(5e-13)\n",
      "m = uniform(1, 0, 0)\n",
      "B_ext = vector(B*0.9983008564845987, B*0.04995668033125289, B*0.02999550020249575)\n",
      "relax()\n",
      "MaxDt = 5e-13\n",
      "B_ext = vector(B*1, B*0, B*0)\n",
      "run(1e-09)\n"
     ]
    },
    {
     "name": "stderr",
     "output_type": "stream",
     "text": [
      "//Using cached kernel: C:/Users/Rob/Desktop/Research/kernel-cache//mumax3kernel_[512 512 4]_[0 0 0]_[4e-09 4e-09 4e-09]_6_\n"
     ]
    },
    {
     "name": "stdout",
     "output_type": "stream",
     "text": [
      "//mumax 3.9.1c windows_amd64 go1.3.3 (gc)\n",
      "//CUDA 10020 TITAN Xp(12288MB) cc6.1, using CC53 PTX \n",
      "//(c) Arne Vansteenkiste, Dynamat LAB, Ghent University, Belgium\n",
      "//This is free software without any warranty. See license.txt\n",
      "//output directory: C:/Users/Rob/Desktop/Research/FMR_Paper/In_Plane_Field/Out_of_Plane_Anis/EasyAxis/ThinFilmFMR_BInPlane(31.57)_Out_of_PlaneAnis_K(50000)_Ratio(1).out/\n",
      "//starting GUI at http://127.0.0.1:35367\n",
      "SetPBC(0, 0, 0)\n",
      "SetGridSize(512, 512.0, 4)\n",
      "SetCellSize(4e-9, 4e-9, 4e-9)\n",
      "Msat = 800000.0\n",
      "Aex = 1.3e-11\n",
      "alpha = 0.008\n",
      "edgesmooth = 8\n",
      "B := 31.57e-3\n",
      "anisU = vector(0.0, 0.0, 1.0)\n",
      "Ku1 = 50000\n",
      "setSolver(5)\n",
      "TableAdd(Ku1)\n",
      "TableAdd(B_ext)\n",
      "TableAutoSave(5e-13)\n",
      "m = uniform(1, 0, 0)\n",
      "B_ext = vector(B*0.9983008564845987, B*0.04995668033125289, B*0.02999550020249575)\n",
      "relax()\n",
      "MaxDt = 5e-13\n",
      "B_ext = vector(B*1, B*0, B*0)\n",
      "run(1e-09)\n"
     ]
    },
    {
     "name": "stderr",
     "output_type": "stream",
     "text": [
      "//Using cached kernel: C:/Users/Rob/Desktop/Research/kernel-cache//mumax3kernel_[512 512 4]_[0 0 0]_[4e-09 4e-09 4e-09]_6_\n"
     ]
    },
    {
     "name": "stdout",
     "output_type": "stream",
     "text": [
      "//mumax 3.9.1c windows_amd64 go1.3.3 (gc)\n",
      "//CUDA 10020 TITAN Xp(12288MB) cc6.1, using CC53 PTX \n",
      "//(c) Arne Vansteenkiste, Dynamat LAB, Ghent University, Belgium\n",
      "//This is free software without any warranty. See license.txt\n",
      "//output directory: C:/Users/Rob/Desktop/Research/FMR_Paper/In_Plane_Field/Out_of_Plane_Anis/EasyAxis/ThinFilmFMR_BInPlane(31.31)_Out_of_PlaneAnis_K(40000)_Ratio(1).out/\n",
      "//starting GUI at http://127.0.0.1:35367\n",
      "SetPBC(0, 0, 0)\n",
      "SetGridSize(512, 512.0, 4)\n",
      "SetCellSize(4e-9, 4e-9, 4e-9)\n",
      "Msat = 800000.0\n",
      "Aex = 1.3e-11\n",
      "alpha = 0.008\n",
      "edgesmooth = 8\n",
      "B := 31.31e-3\n",
      "anisU = vector(0.0, 0.0, 1.0)\n",
      "Ku1 = 40000\n",
      "setSolver(5)\n",
      "TableAdd(Ku1)\n",
      "TableAdd(B_ext)\n",
      "TableAutoSave(5e-13)\n",
      "m = uniform(1, 0, 0)\n",
      "B_ext = vector(B*0.9983008564845987, B*0.04995668033125289, B*0.02999550020249575)\n",
      "relax()\n",
      "MaxDt = 5e-13\n",
      "B_ext = vector(B*1, B*0, B*0)\n",
      "run(1e-09)\n"
     ]
    },
    {
     "name": "stderr",
     "output_type": "stream",
     "text": [
      "//Using cached kernel: C:/Users/Rob/Desktop/Research/kernel-cache//mumax3kernel_[512 512 4]_[0 0 0]_[4e-09 4e-09 4e-09]_6_\n"
     ]
    },
    {
     "name": "stdout",
     "output_type": "stream",
     "text": [
      "//mumax 3.9.1c windows_amd64 go1.3.3 (gc)\n",
      "//CUDA 10020 TITAN Xp(12288MB) cc6.1, using CC53 PTX \n",
      "//(c) Arne Vansteenkiste, Dynamat LAB, Ghent University, Belgium\n",
      "//This is free software without any warranty. See license.txt\n",
      "//output directory: C:/Users/Rob/Desktop/Research/FMR_Paper/In_Plane_Field/Out_of_Plane_Anis/EasyAxis/ThinFilmFMR_BInPlane(31.31)_Out_of_PlaneAnis_K(20000)_Ratio(1).out/\n",
      "//starting GUI at http://127.0.0.1:35367\n",
      "SetPBC(0, 0, 0)\n",
      "SetGridSize(512, 512.0, 4)\n",
      "SetCellSize(4e-9, 4e-9, 4e-9)\n",
      "Msat = 800000.0\n",
      "Aex = 1.3e-11\n",
      "alpha = 0.008\n",
      "edgesmooth = 8\n",
      "B := 31.31e-3\n",
      "anisU = vector(0.0, 0.0, 1.0)\n",
      "Ku1 = 20000\n",
      "setSolver(5)\n",
      "TableAdd(Ku1)\n",
      "TableAdd(B_ext)\n",
      "TableAutoSave(5e-13)\n",
      "m = uniform(1, 0, 0)\n",
      "B_ext = vector(B*0.9983008564845987, B*0.04995668033125289, B*0.02999550020249575)\n",
      "relax()\n",
      "MaxDt = 5e-13\n",
      "B_ext = vector(B*1, B*0, B*0)\n",
      "run(1e-09)\n"
     ]
    },
    {
     "name": "stderr",
     "output_type": "stream",
     "text": [
      "//Using cached kernel: C:/Users/Rob/Desktop/Research/kernel-cache//mumax3kernel_[512 512 4]_[0 0 0]_[4e-09 4e-09 4e-09]_6_\n"
     ]
    }
   ],
   "source": [
    "for s in [o.split('.mx3')[0] for o in scripts][::-1]:\n",
    "    if s in [o.split('.out')[0] for o in outfiles]:\n",
    "        continue\n",
    "    cache = r'C:/Users/Rob/Desktop/Research/kernel-cache/'\n",
    "    !C:/Users/Rob/Desktop/Research/mumax3.exe  -cache={cache} {s.replace('\\\\','/')}.mx3\n"
   ]
  },
  {
   "cell_type": "code",
   "execution_count": null,
   "metadata": {},
   "outputs": [],
   "source": []
  },
  {
   "cell_type": "code",
   "execution_count": null,
   "metadata": {},
   "outputs": [],
   "source": []
  },
  {
   "cell_type": "code",
   "execution_count": null,
   "metadata": {},
   "outputs": [],
   "source": []
  },
  {
   "cell_type": "code",
   "execution_count": null,
   "metadata": {},
   "outputs": [],
   "source": []
  }
 ],
 "metadata": {
  "kernelspec": {
   "display_name": "Python 3",
   "language": "python",
   "name": "python3"
  },
  "language_info": {
   "codemirror_mode": {
    "name": "ipython",
    "version": 3
   },
   "file_extension": ".py",
   "mimetype": "text/x-python",
   "name": "python",
   "nbconvert_exporter": "python",
   "pygments_lexer": "ipython3",
   "version": "3.7.6"
  }
 },
 "nbformat": 4,
 "nbformat_minor": 4
}
