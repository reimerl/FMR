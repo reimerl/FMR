{
 "cells": [
  {
   "cell_type": "code",
   "execution_count": 2,
   "metadata": {},
   "outputs": [],
   "source": [
    "import os \n",
    "import glob\n"
   ]
  },
  {
   "cell_type": "code",
   "execution_count": 3,
   "metadata": {},
   "outputs": [
    {
     "name": "stdout",
     "output_type": "stream",
     "text": [
      "\n"
     ]
    }
   ],
   "source": [
    "basepath = os.getcwd()\n",
    "print()\n",
    "# os.path.join()\n",
    "# os.chdir()\n",
    "outfiles = glob.glob(os.getcwd()+ '/In*/In*/Hard*/*.out')\n",
    "# len(files)\n",
    "scripts = glob.glob(os.getcwd()+ '/In*/In*/Hard*/*.mx3')"
   ]
  },
  {
   "cell_type": "code",
   "execution_count": 4,
   "metadata": {},
   "outputs": [
    {
     "name": "stdout",
     "output_type": "stream",
     "text": [
      "1334\n",
      "2191\n"
     ]
    }
   ],
   "source": [
    "print(len(outfiles))\n",
    "\n",
    "print(len(scripts))"
   ]
  },
  {
   "cell_type": "code",
   "execution_count": null,
   "metadata": {
    "scrolled": true
   },
   "outputs": [
    {
     "name": "stdout",
     "output_type": "stream",
     "text": [
      "//mumax 3.9.1c windows_amd64 go1.3.3 (gc)\n",
      "//CUDA 10020 TITAN Xp(12288MB) cc6.1, using CC53 PTX \n",
      "//(c) Arne Vansteenkiste, Dynamat LAB, Ghent University, Belgium\n",
      "//This is free software without any warranty. See license.txt\n",
      "//output directory: C:/Users/Rob/Desktop/Research/FMR_Paper/In_Plane_Field/In_Plane_Anis/HardAxis/ThinFilmFMR_BInPlane(215.91)_In_PlaneAnis_K(90000)_Ratio(1).out/\n",
      "//starting GUI at http://127.0.0.1:35367\n",
      "SetPBC(0, 0, 0)\n",
      "SetGridSize(512, 512.0, 4)\n",
      "SetCellSize(4e-9, 4e-9, 4e-9)\n",
      "Msat = 800000.0\n",
      "Aex = 1.3e-11\n",
      "alpha = 0.008\n",
      "edgesmooth = 8\n",
      "B := 215.91e-3\n",
      "anisU = vector(1.0, 0.0, 6.123233995736766e-17)\n",
      "Ku1 = 90000\n",
      "setSolver(5)\n",
      "TableAdd(Ku1)\n",
      "TableAdd(B_ext)\n",
      "TableAutoSave(5e-13)\n",
      "m = uniform(0, 1, 0)\n",
      "B_ext = vector(B*0.039891400317339676, B*0.9967530658528422, B*0.06994284733753288)\n",
      "relax()\n",
      "MaxDt = 5e-13\n",
      "B_ext = vector(B*0, B*1, B*0)\n",
      "run(1e-09)\n"
     ]
    },
    {
     "name": "stderr",
     "output_type": "stream",
     "text": [
      "//Using cached kernel: C:/Users/Rob/Desktop/Research/kernel-cache//mumax3kernel_[512 512 4]_[0 0 0]_[4e-09 4e-09 4e-09]_6_\n"
     ]
    },
    {
     "name": "stdout",
     "output_type": "stream",
     "text": [
      "//mumax 3.9.1c windows_amd64 go1.3.3 (gc)\n",
      "//CUDA 10020 TITAN Xp(12288MB) cc6.1, using CC53 PTX \n",
      "//(c) Arne Vansteenkiste, Dynamat LAB, Ghent University, Belgium\n",
      "//This is free software without any warranty. See license.txt\n",
      "//output directory: C:/Users/Rob/Desktop/Research/FMR_Paper/In_Plane_Field/In_Plane_Anis/HardAxis/ThinFilmFMR_BInPlane(215.15)_In_PlaneAnis_K(40000)_Ratio(1).out/\n",
      "//starting GUI at http://127.0.0.1:35367\n",
      "SetPBC(0, 0, 0)\n",
      "SetGridSize(512, 512.0, 4)\n",
      "SetCellSize(4e-9, 4e-9, 4e-9)\n",
      "Msat = 800000.0\n",
      "Aex = 1.3e-11\n",
      "alpha = 0.008\n",
      "edgesmooth = 8\n",
      "B := 215.15e-3\n",
      "anisU = vector(1.0, 0.0, 6.123233995736766e-17)\n",
      "Ku1 = 40000\n",
      "setSolver(5)\n",
      "TableAdd(Ku1)\n",
      "TableAdd(B_ext)\n",
      "TableAutoSave(5e-13)\n",
      "m = uniform(0, 1, 0)\n",
      "B_ext = vector(B*0.039891400317339676, B*0.9967530658528422, B*0.06994284733753288)\n",
      "relax()\n",
      "MaxDt = 5e-13\n",
      "B_ext = vector(B*0, B*1, B*0)\n",
      "run(1e-09)\n"
     ]
    },
    {
     "name": "stderr",
     "output_type": "stream",
     "text": [
      "//Using cached kernel: C:/Users/Rob/Desktop/Research/kernel-cache//mumax3kernel_[512 512 4]_[0 0 0]_[4e-09 4e-09 4e-09]_6_\n"
     ]
    },
    {
     "name": "stdout",
     "output_type": "stream",
     "text": [
      "//mumax 3.9.1c windows_amd64 go1.3.3 (gc)\n",
      "//CUDA 10020 TITAN Xp(12288MB) cc6.1, using CC53 PTX \n",
      "//(c) Arne Vansteenkiste, Dynamat LAB, Ghent University, Belgium\n",
      "//This is free software without any warranty. See license.txt\n",
      "//output directory: C:/Users/Rob/Desktop/Research/FMR_Paper/In_Plane_Field/In_Plane_Anis/HardAxis/ThinFilmFMR_BInPlane(214.65)_In_PlaneAnis_K(100000)_Ratio(1).out/\n",
      "//starting GUI at http://127.0.0.1:35367\n",
      "SetPBC(0, 0, 0)\n",
      "SetGridSize(512, 512.0, 4)\n",
      "SetCellSize(4e-9, 4e-9, 4e-9)\n",
      "Msat = 800000.0\n",
      "Aex = 1.3e-11\n",
      "alpha = 0.008\n",
      "edgesmooth = 8\n",
      "B := 214.65e-3\n",
      "anisU = vector(1.0, 0.0, 6.123233995736766e-17)\n",
      "Ku1 = 100000\n",
      "setSolver(5)\n",
      "TableAdd(Ku1)\n",
      "TableAdd(B_ext)\n",
      "TableAutoSave(5e-13)\n",
      "m = uniform(0, 1, 0)\n",
      "B_ext = vector(B*0.039891400317339676, B*0.9967530658528422, B*0.06994284733753288)\n",
      "relax()\n",
      "MaxDt = 5e-13\n",
      "B_ext = vector(B*0, B*1, B*0)\n",
      "run(1e-09)\n"
     ]
    },
    {
     "name": "stderr",
     "output_type": "stream",
     "text": [
      "//Using cached kernel: C:/Users/Rob/Desktop/Research/kernel-cache//mumax3kernel_[512 512 4]_[0 0 0]_[4e-09 4e-09 4e-09]_6_\n"
     ]
    },
    {
     "name": "stdout",
     "output_type": "stream",
     "text": [
      "//mumax 3.9.1c windows_amd64 go1.3.3 (gc)\n",
      "//CUDA 10020 TITAN Xp(12288MB) cc6.1, using CC53 PTX \n",
      "//(c) Arne Vansteenkiste, Dynamat LAB, Ghent University, Belgium\n",
      "//This is free software without any warranty. See license.txt\n",
      "//output directory: C:/Users/Rob/Desktop/Research/FMR_Paper/In_Plane_Field/In_Plane_Anis/HardAxis/ThinFilmFMR_BInPlane(213.64)_In_PlaneAnis_K(90000)_Ratio(1).out/\n",
      "//starting GUI at http://127.0.0.1:35367\n",
      "SetPBC(0, 0, 0)\n",
      "SetGridSize(512, 512.0, 4)\n",
      "SetCellSize(4e-9, 4e-9, 4e-9)\n",
      "Msat = 800000.0\n",
      "Aex = 1.3e-11\n",
      "alpha = 0.008\n",
      "edgesmooth = 8\n",
      "B := 213.64e-3\n",
      "anisU = vector(1.0, 0.0, 6.123233995736766e-17)\n",
      "Ku1 = 90000\n",
      "setSolver(5)\n",
      "TableAdd(Ku1)\n",
      "TableAdd(B_ext)\n",
      "TableAutoSave(5e-13)\n",
      "m = uniform(0, 1, 0)\n",
      "B_ext = vector(B*0.039891400317339676, B*0.9967530658528422, B*0.06994284733753288)\n",
      "relax()\n",
      "MaxDt = 5e-13\n",
      "B_ext = vector(B*0, B*1, B*0)\n",
      "run(1e-09)\n"
     ]
    },
    {
     "name": "stderr",
     "output_type": "stream",
     "text": [
      "//Using cached kernel: C:/Users/Rob/Desktop/Research/kernel-cache//mumax3kernel_[512 512 4]_[0 0 0]_[4e-09 4e-09 4e-09]_6_\n"
     ]
    },
    {
     "name": "stdout",
     "output_type": "stream",
     "text": [
      "//mumax 3.9.1c windows_amd64 go1.3.3 (gc)\n",
      "//CUDA 10020 TITAN Xp(12288MB) cc6.1, using CC53 PTX \n",
      "//(c) Arne Vansteenkiste, Dynamat LAB, Ghent University, Belgium\n",
      "//This is free software without any warranty. See license.txt\n",
      "//output directory: C:/Users/Rob/Desktop/Research/FMR_Paper/In_Plane_Field/In_Plane_Anis/HardAxis/ThinFilmFMR_BInPlane(212.12)_In_PlaneAnis_K(100000)_Ratio(1).out/\n",
      "//starting GUI at http://127.0.0.1:35367\n",
      "SetPBC(0, 0, 0)\n",
      "SetGridSize(512, 512.0, 4)\n",
      "SetCellSize(4e-9, 4e-9, 4e-9)\n",
      "Msat = 800000.0\n",
      "Aex = 1.3e-11\n",
      "alpha = 0.008\n",
      "edgesmooth = 8\n",
      "B := 212.12e-3\n",
      "anisU = vector(1.0, 0.0, 6.123233995736766e-17)\n",
      "Ku1 = 100000\n",
      "setSolver(5)\n",
      "TableAdd(Ku1)\n",
      "TableAdd(B_ext)\n",
      "TableAutoSave(5e-13)\n",
      "m = uniform(0, 1, 0)\n",
      "B_ext = vector(B*0.039891400317339676, B*0.9967530658528422, B*0.06994284733753288)\n",
      "relax()\n",
      "MaxDt = 5e-13\n",
      "B_ext = vector(B*0, B*1, B*0)\n",
      "run(1e-09)\n"
     ]
    },
    {
     "name": "stderr",
     "output_type": "stream",
     "text": [
      "//Using cached kernel: C:/Users/Rob/Desktop/Research/kernel-cache//mumax3kernel_[512 512 4]_[0 0 0]_[4e-09 4e-09 4e-09]_6_\n"
     ]
    },
    {
     "name": "stdout",
     "output_type": "stream",
     "text": [
      "//mumax 3.9.1c windows_amd64 go1.3.3 (gc)\n",
      "//CUDA 10020 TITAN Xp(12288MB) cc6.1, using CC53 PTX \n",
      "//(c) Arne Vansteenkiste, Dynamat LAB, Ghent University, Belgium\n",
      "//This is free software without any warranty. See license.txt\n",
      "//output directory: C:/Users/Rob/Desktop/Research/FMR_Paper/In_Plane_Field/In_Plane_Anis/HardAxis/ThinFilmFMR_BInPlane(211.87)_In_PlaneAnis_K(70000)_Ratio(1).out/\n",
      "//starting GUI at http://127.0.0.1:35367\n",
      "SetPBC(0, 0, 0)\n",
      "SetGridSize(512, 512.0, 4)\n",
      "SetCellSize(4e-9, 4e-9, 4e-9)\n",
      "Msat = 800000.0\n",
      "Aex = 1.3e-11\n",
      "alpha = 0.008\n",
      "edgesmooth = 8\n",
      "B := 211.87e-3\n",
      "anisU = vector(1.0, 0.0, 6.123233995736766e-17)\n",
      "Ku1 = 70000\n",
      "setSolver(5)\n",
      "TableAdd(Ku1)\n",
      "TableAdd(B_ext)\n",
      "TableAutoSave(5e-13)\n",
      "m = uniform(0, 1, 0)\n",
      "B_ext = vector(B*0.039891400317339676, B*0.9967530658528422, B*0.06994284733753288)\n",
      "relax()\n",
      "MaxDt = 5e-13\n",
      "B_ext = vector(B*0, B*1, B*0)\n",
      "run(1e-09)\n"
     ]
    },
    {
     "name": "stderr",
     "output_type": "stream",
     "text": [
      "//Using cached kernel: C:/Users/Rob/Desktop/Research/kernel-cache//mumax3kernel_[512 512 4]_[0 0 0]_[4e-09 4e-09 4e-09]_6_\n"
     ]
    },
    {
     "name": "stdout",
     "output_type": "stream",
     "text": [
      "//mumax 3.9.1c windows_amd64 go1.3.3 (gc)\n",
      "//CUDA 10020 TITAN Xp(12288MB) cc6.1, using CC53 PTX \n",
      "//(c) Arne Vansteenkiste, Dynamat LAB, Ghent University, Belgium\n",
      "//This is free software without any warranty. See license.txt\n",
      "//output directory: C:/Users/Rob/Desktop/Research/FMR_Paper/In_Plane_Field/In_Plane_Anis/HardAxis/ThinFilmFMR_BInPlane(211.36)_In_PlaneAnis_K(90000)_Ratio(1).out/\n",
      "//starting GUI at http://127.0.0.1:35367\n",
      "SetPBC(0, 0, 0)\n",
      "SetGridSize(512, 512.0, 4)\n",
      "SetCellSize(4e-9, 4e-9, 4e-9)\n",
      "Msat = 800000.0\n",
      "Aex = 1.3e-11\n",
      "alpha = 0.008\n",
      "edgesmooth = 8\n",
      "B := 211.36e-3\n",
      "anisU = vector(1.0, 0.0, 6.123233995736766e-17)\n",
      "Ku1 = 90000\n",
      "setSolver(5)\n",
      "TableAdd(Ku1)\n",
      "TableAdd(B_ext)\n",
      "TableAutoSave(5e-13)\n",
      "m = uniform(0, 1, 0)\n",
      "B_ext = vector(B*0.039891400317339676, B*0.9967530658528422, B*0.06994284733753288)\n",
      "relax()\n",
      "MaxDt = 5e-13\n",
      "B_ext = vector(B*0, B*1, B*0)\n",
      "run(1e-09)\n"
     ]
    },
    {
     "name": "stderr",
     "output_type": "stream",
     "text": [
      "//Using cached kernel: C:/Users/Rob/Desktop/Research/kernel-cache//mumax3kernel_[512 512 4]_[0 0 0]_[4e-09 4e-09 4e-09]_6_\n"
     ]
    },
    {
     "name": "stdout",
     "output_type": "stream",
     "text": [
      "//mumax 3.9.1c windows_amd64 go1.3.3 (gc)\n",
      "//CUDA 10020 TITAN Xp(12288MB) cc6.1, using CC53 PTX \n",
      "//(c) Arne Vansteenkiste, Dynamat LAB, Ghent University, Belgium\n",
      "//This is free software without any warranty. See license.txt\n",
      "//output directory: C:/Users/Rob/Desktop/Research/FMR_Paper/In_Plane_Field/In_Plane_Anis/HardAxis/ThinFilmFMR_BInPlane(211.11)_In_PlaneAnis_K(30000)_Ratio(1).out/\n",
      "//starting GUI at http://127.0.0.1:35367\n",
      "SetPBC(0, 0, 0)\n",
      "SetGridSize(512, 512.0, 4)\n",
      "SetCellSize(4e-9, 4e-9, 4e-9)\n",
      "Msat = 800000.0\n",
      "Aex = 1.3e-11\n",
      "alpha = 0.008\n",
      "edgesmooth = 8\n",
      "B := 211.11e-3\n",
      "anisU = vector(1.0, 0.0, 6.123233995736766e-17)\n",
      "Ku1 = 30000\n",
      "setSolver(5)\n",
      "TableAdd(Ku1)\n",
      "TableAdd(B_ext)\n",
      "TableAutoSave(5e-13)\n",
      "m = uniform(0, 1, 0)\n",
      "B_ext = vector(B*0.039891400317339676, B*0.9967530658528422, B*0.06994284733753288)\n",
      "relax()\n",
      "MaxDt = 5e-13\n",
      "B_ext = vector(B*0, B*1, B*0)\n",
      "run(1e-09)\n"
     ]
    },
    {
     "name": "stderr",
     "output_type": "stream",
     "text": [
      "//Using cached kernel: C:/Users/Rob/Desktop/Research/kernel-cache//mumax3kernel_[512 512 4]_[0 0 0]_[4e-09 4e-09 4e-09]_6_\n"
     ]
    },
    {
     "name": "stdout",
     "output_type": "stream",
     "text": [
      "//mumax 3.9.1c windows_amd64 go1.3.3 (gc)\n",
      "//CUDA 10020 TITAN Xp(12288MB) cc6.1, using CC53 PTX \n",
      "//(c) Arne Vansteenkiste, Dynamat LAB, Ghent University, Belgium\n",
      "//This is free software without any warranty. See license.txt\n",
      "//output directory: C:/Users/Rob/Desktop/Research/FMR_Paper/In_Plane_Field/In_Plane_Anis/HardAxis/ThinFilmFMR_BInPlane(210)_In_PlaneAnis_K(0)_Ratio(1).out/\n",
      "//starting GUI at http://127.0.0.1:35367\n",
      "SetPBC(0, 0, 0)\n",
      "SetGridSize(512, 512.0, 4)\n",
      "SetCellSize(4e-9, 4e-9, 4e-9)\n",
      "Msat = 800000.0\n",
      "Aex = 1.3e-11\n",
      "alpha = 0.008\n",
      "edgesmooth = 8\n",
      "B := 210e-3\n",
      "anisU = vector(1.0, 0.0, 6.123233995736766e-17)\n",
      "Ku1 = 0\n",
      "setSolver(5)\n",
      "TableAdd(Ku1)\n",
      "TableAdd(B_ext)\n",
      "TableAutoSave(5e-13)\n",
      "m = uniform(0, 1, 0)\n",
      "B_ext = vector(B*0.039891400317339676, B*0.9967530658528422, B*0.06994284733753288)\n",
      "relax()\n",
      "MaxDt = 5e-13\n",
      "B_ext = vector(B*0, B*1, B*0)\n",
      "run(1e-09)\n"
     ]
    },
    {
     "name": "stderr",
     "output_type": "stream",
     "text": [
      "//Using cached kernel: C:/Users/Rob/Desktop/Research/kernel-cache//mumax3kernel_[512 512 4]_[0 0 0]_[4e-09 4e-09 4e-09]_6_\n"
     ]
    },
    {
     "name": "stdout",
     "output_type": "stream",
     "text": [
      "//mumax 3.9.1c windows_amd64 go1.3.3 (gc)\n",
      "//CUDA 10020 TITAN Xp(12288MB) cc6.1, using CC53 PTX \n",
      "//(c) Arne Vansteenkiste, Dynamat LAB, Ghent University, Belgium\n",
      "//This is free software without any warranty. See license.txt\n",
      "//output directory: C:/Users/Rob/Desktop/Research/FMR_Paper/In_Plane_Field/In_Plane_Anis/HardAxis/ThinFilmFMR_BInPlane(21.97)_In_PlaneAnis_K(30000)_Ratio(1).out/\n",
      "//starting GUI at http://127.0.0.1:35367\n",
      "SetPBC(0, 0, 0)\n",
      "SetGridSize(512, 512.0, 4)\n",
      "SetCellSize(4e-9, 4e-9, 4e-9)\n",
      "Msat = 800000.0\n",
      "Aex = 1.3e-11\n",
      "alpha = 0.008\n",
      "edgesmooth = 8\n",
      "B := 21.97e-3\n",
      "anisU = vector(1.0, 0.0, 6.123233995736766e-17)\n",
      "Ku1 = 30000\n",
      "setSolver(5)\n",
      "TableAdd(Ku1)\n",
      "TableAdd(B_ext)\n",
      "TableAutoSave(5e-13)\n",
      "m = uniform(0, 1, 0)\n",
      "B_ext = vector(B*0.039891400317339676, B*0.9967530658528422, B*0.06994284733753288)\n",
      "relax()\n",
      "MaxDt = 5e-13\n",
      "B_ext = vector(B*0, B*1, B*0)\n",
      "run(1e-09)\n"
     ]
    },
    {
     "name": "stderr",
     "output_type": "stream",
     "text": [
      "//Using cached kernel: C:/Users/Rob/Desktop/Research/kernel-cache//mumax3kernel_[512 512 4]_[0 0 0]_[4e-09 4e-09 4e-09]_6_\n"
     ]
    },
    {
     "name": "stdout",
     "output_type": "stream",
     "text": [
      "//mumax 3.9.1c windows_amd64 go1.3.3 (gc)\n",
      "//CUDA 10020 TITAN Xp(12288MB) cc6.1, using CC53 PTX \n",
      "//(c) Arne Vansteenkiste, Dynamat LAB, Ghent University, Belgium\n",
      "//This is free software without any warranty. See license.txt\n",
      "//output directory: C:/Users/Rob/Desktop/Research/FMR_Paper/In_Plane_Field/In_Plane_Anis/HardAxis/ThinFilmFMR_BInPlane(21.97)_In_PlaneAnis_K(10000)_Ratio(1).out/\n",
      "//starting GUI at http://127.0.0.1:35367\n",
      "SetPBC(0, 0, 0)\n",
      "SetGridSize(512, 512.0, 4)\n",
      "SetCellSize(4e-9, 4e-9, 4e-9)\n",
      "Msat = 800000.0\n",
      "Aex = 1.3e-11\n",
      "alpha = 0.008\n",
      "edgesmooth = 8\n",
      "B := 21.97e-3\n",
      "anisU = vector(1.0, 0.0, 6.123233995736766e-17)\n",
      "Ku1 = 10000\n",
      "setSolver(5)\n",
      "TableAdd(Ku1)\n",
      "TableAdd(B_ext)\n",
      "TableAutoSave(5e-13)\n",
      "m = uniform(0, 1, 0)\n",
      "B_ext = vector(B*0.039891400317339676, B*0.9967530658528422, B*0.06994284733753288)\n",
      "relax()\n",
      "MaxDt = 5e-13\n",
      "B_ext = vector(B*0, B*1, B*0)\n",
      "run(1e-09)\n"
     ]
    },
    {
     "name": "stderr",
     "output_type": "stream",
     "text": [
      "//Using cached kernel: C:/Users/Rob/Desktop/Research/kernel-cache//mumax3kernel_[512 512 4]_[0 0 0]_[4e-09 4e-09 4e-09]_6_\n"
     ]
    },
    {
     "name": "stdout",
     "output_type": "stream",
     "text": [
      "//mumax 3.9.1c windows_amd64 go1.3.3 (gc)\n",
      "//CUDA 10020 TITAN Xp(12288MB) cc6.1, using CC53 PTX \n",
      "//(c) Arne Vansteenkiste, Dynamat LAB, Ghent University, Belgium\n",
      "//This is free software without any warranty. See license.txt\n",
      "//output directory: C:/Users/Rob/Desktop/Research/FMR_Paper/In_Plane_Field/In_Plane_Anis/HardAxis/ThinFilmFMR_BInPlane(21.72)_In_PlaneAnis_K(20000)_Ratio(1).out/\n",
      "//starting GUI at http://127.0.0.1:35367\n",
      "SetPBC(0, 0, 0)\n",
      "SetGridSize(512, 512.0, 4)\n",
      "SetCellSize(4e-9, 4e-9, 4e-9)\n",
      "Msat = 800000.0\n",
      "Aex = 1.3e-11\n",
      "alpha = 0.008\n",
      "edgesmooth = 8\n",
      "B := 21.72e-3\n",
      "anisU = vector(1.0, 0.0, 6.123233995736766e-17)\n",
      "Ku1 = 20000\n",
      "setSolver(5)\n",
      "TableAdd(Ku1)\n",
      "TableAdd(B_ext)\n",
      "TableAutoSave(5e-13)\n",
      "m = uniform(0, 1, 0)\n",
      "B_ext = vector(B*0.039891400317339676, B*0.9967530658528422, B*0.06994284733753288)\n",
      "relax()\n",
      "MaxDt = 5e-13\n",
      "B_ext = vector(B*0, B*1, B*0)\n",
      "run(1e-09)\n"
     ]
    },
    {
     "name": "stderr",
     "output_type": "stream",
     "text": [
      "//Using cached kernel: C:/Users/Rob/Desktop/Research/kernel-cache//mumax3kernel_[512 512 4]_[0 0 0]_[4e-09 4e-09 4e-09]_6_\n"
     ]
    },
    {
     "name": "stdout",
     "output_type": "stream",
     "text": [
      "//mumax 3.9.1c windows_amd64 go1.3.3 (gc)\n",
      "//CUDA 10020 TITAN Xp(12288MB) cc6.1, using CC53 PTX \n",
      "//(c) Arne Vansteenkiste, Dynamat LAB, Ghent University, Belgium\n",
      "//This is free software without any warranty. See license.txt\n",
      "//output directory: C:/Users/Rob/Desktop/Research/FMR_Paper/In_Plane_Field/In_Plane_Anis/HardAxis/ThinFilmFMR_BInPlane(21.72)_In_PlaneAnis_K(10000)_Ratio(1).out/\n",
      "//starting GUI at http://127.0.0.1:35367\n",
      "SetPBC(0, 0, 0)\n",
      "SetGridSize(512, 512.0, 4)\n",
      "SetCellSize(4e-9, 4e-9, 4e-9)\n",
      "Msat = 800000.0\n",
      "Aex = 1.3e-11\n",
      "alpha = 0.008\n",
      "edgesmooth = 8\n",
      "B := 21.72e-3\n",
      "anisU = vector(1.0, 0.0, 6.123233995736766e-17)\n",
      "Ku1 = 10000\n",
      "setSolver(5)\n",
      "TableAdd(Ku1)\n",
      "TableAdd(B_ext)\n",
      "TableAutoSave(5e-13)\n",
      "m = uniform(0, 1, 0)\n",
      "B_ext = vector(B*0.039891400317339676, B*0.9967530658528422, B*0.06994284733753288)\n",
      "relax()\n",
      "MaxDt = 5e-13\n",
      "B_ext = vector(B*0, B*1, B*0)\n",
      "run(1e-09)\n"
     ]
    },
    {
     "name": "stderr",
     "output_type": "stream",
     "text": [
      "//Using cached kernel: C:/Users/Rob/Desktop/Research/kernel-cache//mumax3kernel_[512 512 4]_[0 0 0]_[4e-09 4e-09 4e-09]_6_\n"
     ]
    },
    {
     "name": "stdout",
     "output_type": "stream",
     "text": [
      "//mumax 3.9.1c windows_amd64 go1.3.3 (gc)\n",
      "//CUDA 10020 TITAN Xp(12288MB) cc6.1, using CC53 PTX \n",
      "//(c) Arne Vansteenkiste, Dynamat LAB, Ghent University, Belgium\n",
      "//This is free software without any warranty. See license.txt\n",
      "//output directory: C:/Users/Rob/Desktop/Research/FMR_Paper/In_Plane_Field/In_Plane_Anis/HardAxis/ThinFilmFMR_BInPlane(21.46)_In_PlaneAnis_K(50000)_Ratio(1).out/\n",
      "//starting GUI at http://127.0.0.1:35367\n",
      "SetPBC(0, 0, 0)\n",
      "SetGridSize(512, 512.0, 4)\n",
      "SetCellSize(4e-9, 4e-9, 4e-9)\n",
      "Msat = 800000.0\n",
      "Aex = 1.3e-11\n",
      "alpha = 0.008\n",
      "edgesmooth = 8\n",
      "B := 21.46e-3\n",
      "anisU = vector(1.0, 0.0, 6.123233995736766e-17)\n",
      "Ku1 = 50000\n",
      "setSolver(5)\n",
      "TableAdd(Ku1)\n",
      "TableAdd(B_ext)\n",
      "TableAutoSave(5e-13)\n",
      "m = uniform(0, 1, 0)\n",
      "B_ext = vector(B*0.039891400317339676, B*0.9967530658528422, B*0.06994284733753288)\n",
      "relax()\n",
      "MaxDt = 5e-13\n",
      "B_ext = vector(B*0, B*1, B*0)\n",
      "run(1e-09)\n"
     ]
    },
    {
     "name": "stderr",
     "output_type": "stream",
     "text": [
      "//Using cached kernel: C:/Users/Rob/Desktop/Research/kernel-cache//mumax3kernel_[512 512 4]_[0 0 0]_[4e-09 4e-09 4e-09]_6_\n"
     ]
    },
    {
     "name": "stdout",
     "output_type": "stream",
     "text": [
      "//mumax 3.9.1c windows_amd64 go1.3.3 (gc)\n",
      "//CUDA 10020 TITAN Xp(12288MB) cc6.1, using CC53 PTX \n",
      "//(c) Arne Vansteenkiste, Dynamat LAB, Ghent University, Belgium\n",
      "//This is free software without any warranty. See license.txt\n",
      "//output directory: C:/Users/Rob/Desktop/Research/FMR_Paper/In_Plane_Field/In_Plane_Anis/HardAxis/ThinFilmFMR_BInPlane(21.46)_In_PlaneAnis_K(10000)_Ratio(1).out/\n",
      "//starting GUI at http://127.0.0.1:35367\n",
      "SetPBC(0, 0, 0)\n",
      "SetGridSize(512, 512.0, 4)\n",
      "SetCellSize(4e-9, 4e-9, 4e-9)\n",
      "Msat = 800000.0\n",
      "Aex = 1.3e-11\n",
      "alpha = 0.008\n",
      "edgesmooth = 8\n",
      "B := 21.46e-3\n",
      "anisU = vector(1.0, 0.0, 6.123233995736766e-17)\n",
      "Ku1 = 10000\n",
      "setSolver(5)\n",
      "TableAdd(Ku1)\n",
      "TableAdd(B_ext)\n",
      "TableAutoSave(5e-13)\n",
      "m = uniform(0, 1, 0)\n",
      "B_ext = vector(B*0.039891400317339676, B*0.9967530658528422, B*0.06994284733753288)\n",
      "relax()\n",
      "MaxDt = 5e-13\n",
      "B_ext = vector(B*0, B*1, B*0)\n",
      "run(1e-09)\n"
     ]
    },
    {
     "name": "stderr",
     "output_type": "stream",
     "text": [
      "//Using cached kernel: C:/Users/Rob/Desktop/Research/kernel-cache//mumax3kernel_[512 512 4]_[0 0 0]_[4e-09 4e-09 4e-09]_6_\n"
     ]
    },
    {
     "name": "stdout",
     "output_type": "stream",
     "text": [
      "//mumax 3.9.1c windows_amd64 go1.3.3 (gc)\n",
      "//CUDA 10020 TITAN Xp(12288MB) cc6.1, using CC53 PTX \n",
      "//(c) Arne Vansteenkiste, Dynamat LAB, Ghent University, Belgium\n",
      "//This is free software without any warranty. See license.txt\n",
      "//output directory: C:/Users/Rob/Desktop/Research/FMR_Paper/In_Plane_Field/In_Plane_Anis/HardAxis/ThinFilmFMR_BInPlane(21.21)_In_PlaneAnis_K(70000)_Ratio(1).out/\n",
      "//starting GUI at http://127.0.0.1:35367\n",
      "SetPBC(0, 0, 0)\n",
      "SetGridSize(512, 512.0, 4)\n",
      "SetCellSize(4e-9, 4e-9, 4e-9)\n",
      "Msat = 800000.0\n",
      "Aex = 1.3e-11\n",
      "alpha = 0.008\n",
      "edgesmooth = 8\n",
      "B := 21.21e-3\n",
      "anisU = vector(1.0, 0.0, 6.123233995736766e-17)\n",
      "Ku1 = 70000\n",
      "setSolver(5)\n",
      "TableAdd(Ku1)\n",
      "TableAdd(B_ext)\n",
      "TableAutoSave(5e-13)\n",
      "m = uniform(0, 1, 0)\n",
      "B_ext = vector(B*0.039891400317339676, B*0.9967530658528422, B*0.06994284733753288)\n",
      "relax()\n",
      "MaxDt = 5e-13\n",
      "B_ext = vector(B*0, B*1, B*0)\n",
      "run(1e-09)\n"
     ]
    },
    {
     "name": "stderr",
     "output_type": "stream",
     "text": [
      "//Using cached kernel: C:/Users/Rob/Desktop/Research/kernel-cache//mumax3kernel_[512 512 4]_[0 0 0]_[4e-09 4e-09 4e-09]_6_\n"
     ]
    },
    {
     "name": "stdout",
     "output_type": "stream",
     "text": [
      "//mumax 3.9.1c windows_amd64 go1.3.3 (gc)\n",
      "//CUDA 10020 TITAN Xp(12288MB) cc6.1, using CC53 PTX \n",
      "//(c) Arne Vansteenkiste, Dynamat LAB, Ghent University, Belgium\n",
      "//This is free software without any warranty. See license.txt\n",
      "//output directory: C:/Users/Rob/Desktop/Research/FMR_Paper/In_Plane_Field/In_Plane_Anis/HardAxis/ThinFilmFMR_BInPlane(21.21)_In_PlaneAnis_K(60000)_Ratio(1).out/\n",
      "//starting GUI at http://127.0.0.1:35367\n",
      "SetPBC(0, 0, 0)\n",
      "SetGridSize(512, 512.0, 4)\n",
      "SetCellSize(4e-9, 4e-9, 4e-9)\n",
      "Msat = 800000.0\n",
      "Aex = 1.3e-11\n",
      "alpha = 0.008\n",
      "edgesmooth = 8\n",
      "B := 21.21e-3\n",
      "anisU = vector(1.0, 0.0, 6.123233995736766e-17)\n",
      "Ku1 = 60000\n",
      "setSolver(5)\n",
      "TableAdd(Ku1)\n",
      "TableAdd(B_ext)\n",
      "TableAutoSave(5e-13)\n",
      "m = uniform(0, 1, 0)\n",
      "B_ext = vector(B*0.039891400317339676, B*0.9967530658528422, B*0.06994284733753288)\n",
      "relax()\n",
      "MaxDt = 5e-13\n",
      "B_ext = vector(B*0, B*1, B*0)\n",
      "run(1e-09)\n"
     ]
    },
    {
     "name": "stderr",
     "output_type": "stream",
     "text": [
      "//Using cached kernel: C:/Users/Rob/Desktop/Research/kernel-cache//mumax3kernel_[512 512 4]_[0 0 0]_[4e-09 4e-09 4e-09]_6_\n"
     ]
    },
    {
     "name": "stdout",
     "output_type": "stream",
     "text": [
      "//mumax 3.9.1c windows_amd64 go1.3.3 (gc)\n",
      "//CUDA 10020 TITAN Xp(12288MB) cc6.1, using CC53 PTX \n",
      "//(c) Arne Vansteenkiste, Dynamat LAB, Ghent University, Belgium\n",
      "//This is free software without any warranty. See license.txt\n",
      "//output directory: C:/Users/Rob/Desktop/Research/FMR_Paper/In_Plane_Field/In_Plane_Anis/HardAxis/ThinFilmFMR_BInPlane(21.21)_In_PlaneAnis_K(40000)_Ratio(1).out/\n",
      "//starting GUI at http://127.0.0.1:35367\n",
      "SetPBC(0, 0, 0)\n",
      "SetGridSize(512, 512.0, 4)\n",
      "SetCellSize(4e-9, 4e-9, 4e-9)\n",
      "Msat = 800000.0\n",
      "Aex = 1.3e-11\n",
      "alpha = 0.008\n",
      "edgesmooth = 8\n",
      "B := 21.21e-3\n",
      "anisU = vector(1.0, 0.0, 6.123233995736766e-17)\n",
      "Ku1 = 40000\n",
      "setSolver(5)\n",
      "TableAdd(Ku1)\n",
      "TableAdd(B_ext)\n",
      "TableAutoSave(5e-13)\n",
      "m = uniform(0, 1, 0)\n",
      "B_ext = vector(B*0.039891400317339676, B*0.9967530658528422, B*0.06994284733753288)\n",
      "relax()\n",
      "MaxDt = 5e-13\n",
      "B_ext = vector(B*0, B*1, B*0)\n",
      "run(1e-09)\n"
     ]
    },
    {
     "name": "stderr",
     "output_type": "stream",
     "text": [
      "//Using cached kernel: C:/Users/Rob/Desktop/Research/kernel-cache//mumax3kernel_[512 512 4]_[0 0 0]_[4e-09 4e-09 4e-09]_6_\n"
     ]
    },
    {
     "name": "stdout",
     "output_type": "stream",
     "text": [
      "//mumax 3.9.1c windows_amd64 go1.3.3 (gc)\n",
      "//CUDA 10020 TITAN Xp(12288MB) cc6.1, using CC53 PTX \n",
      "//(c) Arne Vansteenkiste, Dynamat LAB, Ghent University, Belgium\n",
      "//This is free software without any warranty. See license.txt\n",
      "//output directory: C:/Users/Rob/Desktop/Research/FMR_Paper/In_Plane_Field/In_Plane_Anis/HardAxis/ThinFilmFMR_BInPlane(21.21)_In_PlaneAnis_K(30000)_Ratio(1).out/\n",
      "//starting GUI at http://127.0.0.1:35367\n",
      "SetPBC(0, 0, 0)\n",
      "SetGridSize(512, 512.0, 4)\n",
      "SetCellSize(4e-9, 4e-9, 4e-9)\n",
      "Msat = 800000.0\n",
      "Aex = 1.3e-11\n",
      "alpha = 0.008\n",
      "edgesmooth = 8\n",
      "B := 21.21e-3\n",
      "anisU = vector(1.0, 0.0, 6.123233995736766e-17)\n",
      "Ku1 = 30000\n",
      "setSolver(5)\n",
      "TableAdd(Ku1)\n",
      "TableAdd(B_ext)\n",
      "TableAutoSave(5e-13)\n",
      "m = uniform(0, 1, 0)\n",
      "B_ext = vector(B*0.039891400317339676, B*0.9967530658528422, B*0.06994284733753288)\n",
      "relax()\n",
      "MaxDt = 5e-13\n",
      "B_ext = vector(B*0, B*1, B*0)\n",
      "run(1e-09)\n"
     ]
    },
    {
     "name": "stderr",
     "output_type": "stream",
     "text": [
      "//Using cached kernel: C:/Users/Rob/Desktop/Research/kernel-cache//mumax3kernel_[512 512 4]_[0 0 0]_[4e-09 4e-09 4e-09]_6_\n"
     ]
    },
    {
     "name": "stdout",
     "output_type": "stream",
     "text": [
      "//mumax 3.9.1c windows_amd64 go1.3.3 (gc)\n",
      "//CUDA 10020 TITAN Xp(12288MB) cc6.1, using CC53 PTX \n",
      "//(c) Arne Vansteenkiste, Dynamat LAB, Ghent University, Belgium\n",
      "//This is free software without any warranty. See license.txt\n",
      "//output directory: C:/Users/Rob/Desktop/Research/FMR_Paper/In_Plane_Field/In_Plane_Anis/HardAxis/ThinFilmFMR_BInPlane(21.21)_In_PlaneAnis_K(20000)_Ratio(1).out/\n",
      "//starting GUI at http://127.0.0.1:35367\n",
      "SetPBC(0, 0, 0)\n",
      "SetGridSize(512, 512.0, 4)\n",
      "SetCellSize(4e-9, 4e-9, 4e-9)\n",
      "Msat = 800000.0\n",
      "Aex = 1.3e-11\n",
      "alpha = 0.008\n",
      "edgesmooth = 8\n",
      "B := 21.21e-3\n",
      "anisU = vector(1.0, 0.0, 6.123233995736766e-17)\n",
      "Ku1 = 20000\n",
      "setSolver(5)\n",
      "TableAdd(Ku1)\n",
      "TableAdd(B_ext)\n",
      "TableAutoSave(5e-13)\n",
      "m = uniform(0, 1, 0)\n",
      "B_ext = vector(B*0.039891400317339676, B*0.9967530658528422, B*0.06994284733753288)\n",
      "relax()\n",
      "MaxDt = 5e-13\n",
      "B_ext = vector(B*0, B*1, B*0)\n",
      "run(1e-09)\n"
     ]
    },
    {
     "name": "stderr",
     "output_type": "stream",
     "text": [
      "//Using cached kernel: C:/Users/Rob/Desktop/Research/kernel-cache//mumax3kernel_[512 512 4]_[0 0 0]_[4e-09 4e-09 4e-09]_6_\n"
     ]
    },
    {
     "name": "stdout",
     "output_type": "stream",
     "text": [
      "//mumax 3.9.1c windows_amd64 go1.3.3 (gc)\n",
      "//CUDA 10020 TITAN Xp(12288MB) cc6.1, using CC53 PTX \n",
      "//(c) Arne Vansteenkiste, Dynamat LAB, Ghent University, Belgium\n",
      "//This is free software without any warranty. See license.txt\n",
      "//output directory: C:/Users/Rob/Desktop/Research/FMR_Paper/In_Plane_Field/In_Plane_Anis/HardAxis/ThinFilmFMR_BInPlane(21.21)_In_PlaneAnis_K(10000)_Ratio(1).out/\n",
      "//starting GUI at http://127.0.0.1:35367\n",
      "SetPBC(0, 0, 0)\n",
      "SetGridSize(512, 512.0, 4)\n",
      "SetCellSize(4e-9, 4e-9, 4e-9)\n",
      "Msat = 800000.0\n",
      "Aex = 1.3e-11\n",
      "alpha = 0.008\n",
      "edgesmooth = 8\n",
      "B := 21.21e-3\n",
      "anisU = vector(1.0, 0.0, 6.123233995736766e-17)\n",
      "Ku1 = 10000\n",
      "setSolver(5)\n",
      "TableAdd(Ku1)\n",
      "TableAdd(B_ext)\n",
      "TableAutoSave(5e-13)\n",
      "m = uniform(0, 1, 0)\n",
      "B_ext = vector(B*0.039891400317339676, B*0.9967530658528422, B*0.06994284733753288)\n",
      "relax()\n",
      "MaxDt = 5e-13\n",
      "B_ext = vector(B*0, B*1, B*0)\n",
      "run(1e-09)\n"
     ]
    },
    {
     "name": "stderr",
     "output_type": "stream",
     "text": [
      "//Using cached kernel: C:/Users/Rob/Desktop/Research/kernel-cache//mumax3kernel_[512 512 4]_[0 0 0]_[4e-09 4e-09 4e-09]_6_\n"
     ]
    },
    {
     "name": "stdout",
     "output_type": "stream",
     "text": [
      "//mumax 3.9.1c windows_amd64 go1.3.3 (gc)\n",
      "//CUDA 10020 TITAN Xp(12288MB) cc6.1, using CC53 PTX \n",
      "//(c) Arne Vansteenkiste, Dynamat LAB, Ghent University, Belgium\n",
      "//This is free software without any warranty. See license.txt\n",
      "//output directory: C:/Users/Rob/Desktop/Research/FMR_Paper/In_Plane_Field/In_Plane_Anis/HardAxis/ThinFilmFMR_BInPlane(209.6)_In_PlaneAnis_K(100000)_Ratio(1).out/\n",
      "//starting GUI at http://127.0.0.1:35367\n",
      "SetPBC(0, 0, 0)\n",
      "SetGridSize(512, 512.0, 4)\n",
      "SetCellSize(4e-9, 4e-9, 4e-9)\n",
      "Msat = 800000.0\n",
      "Aex = 1.3e-11\n",
      "alpha = 0.008\n",
      "edgesmooth = 8\n",
      "B := 209.6e-3\n",
      "anisU = vector(1.0, 0.0, 6.123233995736766e-17)\n",
      "Ku1 = 100000\n",
      "setSolver(5)\n",
      "TableAdd(Ku1)\n",
      "TableAdd(B_ext)\n",
      "TableAutoSave(5e-13)\n",
      "m = uniform(0, 1, 0)\n",
      "B_ext = vector(B*0.039891400317339676, B*0.9967530658528422, B*0.06994284733753288)\n",
      "relax()\n",
      "MaxDt = 5e-13\n",
      "B_ext = vector(B*0, B*1, B*0)\n",
      "run(1e-09)\n"
     ]
    },
    {
     "name": "stderr",
     "output_type": "stream",
     "text": [
      "//Using cached kernel: C:/Users/Rob/Desktop/Research/kernel-cache//mumax3kernel_[512 512 4]_[0 0 0]_[4e-09 4e-09 4e-09]_6_\n"
     ]
    },
    {
     "name": "stdout",
     "output_type": "stream",
     "text": [
      "//mumax 3.9.1c windows_amd64 go1.3.3 (gc)\n",
      "//CUDA 10020 TITAN Xp(12288MB) cc6.1, using CC53 PTX \n",
      "//(c) Arne Vansteenkiste, Dynamat LAB, Ghent University, Belgium\n",
      "//This is free software without any warranty. See license.txt\n",
      "//output directory: C:/Users/Rob/Desktop/Research/FMR_Paper/In_Plane_Field/In_Plane_Anis/HardAxis/ThinFilmFMR_BInPlane(209.09)_In_PlaneAnis_K(90000)_Ratio(1).out/\n",
      "//starting GUI at http://127.0.0.1:35367\n",
      "SetPBC(0, 0, 0)\n",
      "SetGridSize(512, 512.0, 4)\n",
      "SetCellSize(4e-9, 4e-9, 4e-9)\n",
      "Msat = 800000.0\n",
      "Aex = 1.3e-11\n",
      "alpha = 0.008\n",
      "edgesmooth = 8\n",
      "B := 209.09e-3\n",
      "anisU = vector(1.0, 0.0, 6.123233995736766e-17)\n",
      "Ku1 = 90000\n",
      "setSolver(5)\n",
      "TableAdd(Ku1)\n",
      "TableAdd(B_ext)\n",
      "TableAutoSave(5e-13)\n",
      "m = uniform(0, 1, 0)\n",
      "B_ext = vector(B*0.039891400317339676, B*0.9967530658528422, B*0.06994284733753288)\n",
      "relax()\n",
      "MaxDt = 5e-13\n",
      "B_ext = vector(B*0, B*1, B*0)\n",
      "run(1e-09)\n"
     ]
    },
    {
     "name": "stderr",
     "output_type": "stream",
     "text": [
      "//Using cached kernel: C:/Users/Rob/Desktop/Research/kernel-cache//mumax3kernel_[512 512 4]_[0 0 0]_[4e-09 4e-09 4e-09]_6_\n"
     ]
    },
    {
     "name": "stdout",
     "output_type": "stream",
     "text": [
      "//mumax 3.9.1c windows_amd64 go1.3.3 (gc)\n",
      "//CUDA 10020 TITAN Xp(12288MB) cc6.1, using CC53 PTX \n",
      "//(c) Arne Vansteenkiste, Dynamat LAB, Ghent University, Belgium\n",
      "//This is free software without any warranty. See license.txt\n",
      "//output directory: C:/Users/Rob/Desktop/Research/FMR_Paper/In_Plane_Field/In_Plane_Anis/HardAxis/ThinFilmFMR_BInPlane(207.58)_In_PlaneAnis_K(20000)_Ratio(1).out/\n",
      "//starting GUI at http://127.0.0.1:35367\n",
      "SetPBC(0, 0, 0)\n",
      "SetGridSize(512, 512.0, 4)\n",
      "SetCellSize(4e-9, 4e-9, 4e-9)\n",
      "Msat = 800000.0\n",
      "Aex = 1.3e-11\n",
      "alpha = 0.008\n",
      "edgesmooth = 8\n",
      "B := 207.58e-3\n",
      "anisU = vector(1.0, 0.0, 6.123233995736766e-17)\n",
      "Ku1 = 20000\n",
      "setSolver(5)\n",
      "TableAdd(Ku1)\n",
      "TableAdd(B_ext)\n",
      "TableAutoSave(5e-13)\n",
      "m = uniform(0, 1, 0)\n",
      "B_ext = vector(B*0.039891400317339676, B*0.9967530658528422, B*0.06994284733753288)\n",
      "relax()\n",
      "MaxDt = 5e-13\n",
      "B_ext = vector(B*0, B*1, B*0)\n",
      "run(1e-09)\n"
     ]
    },
    {
     "name": "stderr",
     "output_type": "stream",
     "text": [
      "//Using cached kernel: C:/Users/Rob/Desktop/Research/kernel-cache//mumax3kernel_[512 512 4]_[0 0 0]_[4e-09 4e-09 4e-09]_6_\n"
     ]
    },
    {
     "name": "stdout",
     "output_type": "stream",
     "text": [
      "//mumax 3.9.1c windows_amd64 go1.3.3 (gc)\n",
      "//CUDA 10020 TITAN Xp(12288MB) cc6.1, using CC53 PTX \n",
      "//(c) Arne Vansteenkiste, Dynamat LAB, Ghent University, Belgium\n",
      "//This is free software without any warranty. See license.txt\n",
      "//output directory: C:/Users/Rob/Desktop/Research/FMR_Paper/In_Plane_Field/In_Plane_Anis/HardAxis/ThinFilmFMR_BInPlane(207.07)_In_PlaneAnis_K(100000)_Ratio(1).out/\n",
      "//starting GUI at http://127.0.0.1:35367\n",
      "SetPBC(0, 0, 0)\n",
      "SetGridSize(512, 512.0, 4)\n",
      "SetCellSize(4e-9, 4e-9, 4e-9)\n",
      "Msat = 800000.0\n",
      "Aex = 1.3e-11\n",
      "alpha = 0.008\n",
      "edgesmooth = 8\n",
      "B := 207.07e-3\n",
      "anisU = vector(1.0, 0.0, 6.123233995736766e-17)\n",
      "Ku1 = 100000\n",
      "setSolver(5)\n",
      "TableAdd(Ku1)\n",
      "TableAdd(B_ext)\n",
      "TableAutoSave(5e-13)\n",
      "m = uniform(0, 1, 0)\n",
      "B_ext = vector(B*0.039891400317339676, B*0.9967530658528422, B*0.06994284733753288)\n",
      "relax()\n",
      "MaxDt = 5e-13\n",
      "B_ext = vector(B*0, B*1, B*0)\n",
      "run(1e-09)\n"
     ]
    },
    {
     "name": "stderr",
     "output_type": "stream",
     "text": [
      "//Using cached kernel: C:/Users/Rob/Desktop/Research/kernel-cache//mumax3kernel_[512 512 4]_[0 0 0]_[4e-09 4e-09 4e-09]_6_\n"
     ]
    },
    {
     "name": "stdout",
     "output_type": "stream",
     "text": [
      "//mumax 3.9.1c windows_amd64 go1.3.3 (gc)\n",
      "//CUDA 10020 TITAN Xp(12288MB) cc6.1, using CC53 PTX \n",
      "//(c) Arne Vansteenkiste, Dynamat LAB, Ghent University, Belgium\n",
      "//This is free software without any warranty. See license.txt\n",
      "//output directory: C:/Users/Rob/Desktop/Research/FMR_Paper/In_Plane_Field/In_Plane_Anis/HardAxis/ThinFilmFMR_BInPlane(206.82)_In_PlaneAnis_K(90000)_Ratio(1).out/\n",
      "//starting GUI at http://127.0.0.1:35367\n",
      "SetPBC(0, 0, 0)\n",
      "SetGridSize(512, 512.0, 4)\n",
      "SetCellSize(4e-9, 4e-9, 4e-9)\n",
      "Msat = 800000.0\n",
      "Aex = 1.3e-11\n",
      "alpha = 0.008\n",
      "edgesmooth = 8\n",
      "B := 206.82e-3\n",
      "anisU = vector(1.0, 0.0, 6.123233995736766e-17)\n",
      "Ku1 = 90000\n",
      "setSolver(5)\n",
      "TableAdd(Ku1)\n",
      "TableAdd(B_ext)\n",
      "TableAutoSave(5e-13)\n",
      "m = uniform(0, 1, 0)\n",
      "B_ext = vector(B*0.039891400317339676, B*0.9967530658528422, B*0.06994284733753288)\n",
      "relax()\n",
      "MaxDt = 5e-13\n",
      "B_ext = vector(B*0, B*1, B*0)\n",
      "run(1e-09)\n"
     ]
    },
    {
     "name": "stderr",
     "output_type": "stream",
     "text": [
      "//Using cached kernel: C:/Users/Rob/Desktop/Research/kernel-cache//mumax3kernel_[512 512 4]_[0 0 0]_[4e-09 4e-09 4e-09]_6_\n"
     ]
    },
    {
     "name": "stdout",
     "output_type": "stream",
     "text": [
      "//mumax 3.9.1c windows_amd64 go1.3.3 (gc)\n",
      "//CUDA 10020 TITAN Xp(12288MB) cc6.1, using CC53 PTX \n",
      "//(c) Arne Vansteenkiste, Dynamat LAB, Ghent University, Belgium\n",
      "//This is free software without any warranty. See license.txt\n",
      "//output directory: C:/Users/Rob/Desktop/Research/FMR_Paper/In_Plane_Field/In_Plane_Anis/HardAxis/ThinFilmFMR_BInPlane(206.06)_In_PlaneAnis_K(60000)_Ratio(1).out/\n",
      "//starting GUI at http://127.0.0.1:35367\n",
      "SetPBC(0, 0, 0)\n",
      "SetGridSize(512, 512.0, 4)\n",
      "SetCellSize(4e-9, 4e-9, 4e-9)\n",
      "Msat = 800000.0\n",
      "Aex = 1.3e-11\n",
      "alpha = 0.008\n",
      "edgesmooth = 8\n",
      "B := 206.06e-3\n",
      "anisU = vector(1.0, 0.0, 6.123233995736766e-17)\n",
      "Ku1 = 60000\n",
      "setSolver(5)\n",
      "TableAdd(Ku1)\n",
      "TableAdd(B_ext)\n",
      "TableAutoSave(5e-13)\n",
      "m = uniform(0, 1, 0)\n",
      "B_ext = vector(B*0.039891400317339676, B*0.9967530658528422, B*0.06994284733753288)\n",
      "relax()\n",
      "MaxDt = 5e-13\n",
      "B_ext = vector(B*0, B*1, B*0)\n",
      "run(1e-09)\n"
     ]
    },
    {
     "name": "stderr",
     "output_type": "stream",
     "text": [
      "//Using cached kernel: C:/Users/Rob/Desktop/Research/kernel-cache//mumax3kernel_[512 512 4]_[0 0 0]_[4e-09 4e-09 4e-09]_6_\n"
     ]
    },
    {
     "name": "stdout",
     "output_type": "stream",
     "text": [
      "//mumax 3.9.1c windows_amd64 go1.3.3 (gc)\n",
      "//CUDA 10020 TITAN Xp(12288MB) cc6.1, using CC53 PTX \n",
      "//(c) Arne Vansteenkiste, Dynamat LAB, Ghent University, Belgium\n",
      "//This is free software without any warranty. See license.txt\n",
      "//output directory: C:/Users/Rob/Desktop/Research/FMR_Paper/In_Plane_Field/In_Plane_Anis/HardAxis/ThinFilmFMR_BInPlane(204.55)_In_PlaneAnis_K(90000)_Ratio(1).out/\n",
      "//starting GUI at http://127.0.0.1:35367\n",
      "SetPBC(0, 0, 0)\n",
      "SetGridSize(512, 512.0, 4)\n",
      "SetCellSize(4e-9, 4e-9, 4e-9)\n",
      "Msat = 800000.0\n",
      "Aex = 1.3e-11\n",
      "alpha = 0.008\n",
      "edgesmooth = 8\n",
      "B := 204.55e-3\n",
      "anisU = vector(1.0, 0.0, 6.123233995736766e-17)\n",
      "Ku1 = 90000\n",
      "setSolver(5)\n",
      "TableAdd(Ku1)\n",
      "TableAdd(B_ext)\n",
      "TableAutoSave(5e-13)\n",
      "m = uniform(0, 1, 0)\n",
      "B_ext = vector(B*0.039891400317339676, B*0.9967530658528422, B*0.06994284733753288)\n",
      "relax()\n",
      "MaxDt = 5e-13\n",
      "B_ext = vector(B*0, B*1, B*0)\n",
      "run(1e-09)\n"
     ]
    },
    {
     "name": "stderr",
     "output_type": "stream",
     "text": [
      "//Using cached kernel: C:/Users/Rob/Desktop/Research/kernel-cache//mumax3kernel_[512 512 4]_[0 0 0]_[4e-09 4e-09 4e-09]_6_\n"
     ]
    },
    {
     "name": "stdout",
     "output_type": "stream",
     "text": [
      "//mumax 3.9.1c windows_amd64 go1.3.3 (gc)\n",
      "//CUDA 10020 TITAN Xp(12288MB) cc6.1, using CC53 PTX \n",
      "//(c) Arne Vansteenkiste, Dynamat LAB, Ghent University, Belgium\n",
      "//This is free software without any warranty. See license.txt\n",
      "//output directory: C:/Users/Rob/Desktop/Research/FMR_Paper/In_Plane_Field/In_Plane_Anis/HardAxis/ThinFilmFMR_BInPlane(204.55)_In_PlaneAnis_K(100000)_Ratio(1).out/\n",
      "//starting GUI at http://127.0.0.1:35367\n",
      "SetPBC(0, 0, 0)\n",
      "SetGridSize(512, 512.0, 4)\n",
      "SetCellSize(4e-9, 4e-9, 4e-9)\n",
      "Msat = 800000.0\n",
      "Aex = 1.3e-11\n",
      "alpha = 0.008\n",
      "edgesmooth = 8\n",
      "B := 204.55e-3\n",
      "anisU = vector(1.0, 0.0, 6.123233995736766e-17)\n",
      "Ku1 = 100000\n",
      "setSolver(5)\n",
      "TableAdd(Ku1)\n",
      "TableAdd(B_ext)\n",
      "TableAutoSave(5e-13)\n",
      "m = uniform(0, 1, 0)\n",
      "B_ext = vector(B*0.039891400317339676, B*0.9967530658528422, B*0.06994284733753288)\n",
      "relax()\n",
      "MaxDt = 5e-13\n",
      "B_ext = vector(B*0, B*1, B*0)\n",
      "run(1e-09)\n"
     ]
    },
    {
     "name": "stderr",
     "output_type": "stream",
     "text": [
      "//Using cached kernel: C:/Users/Rob/Desktop/Research/kernel-cache//mumax3kernel_[512 512 4]_[0 0 0]_[4e-09 4e-09 4e-09]_6_\n"
     ]
    },
    {
     "name": "stdout",
     "output_type": "stream",
     "text": [
      "//mumax 3.9.1c windows_amd64 go1.3.3 (gc)\n",
      "//CUDA 10020 TITAN Xp(12288MB) cc6.1, using CC53 PTX \n",
      "//(c) Arne Vansteenkiste, Dynamat LAB, Ghent University, Belgium\n",
      "//This is free software without any warranty. See license.txt\n",
      "//output directory: C:/Users/Rob/Desktop/Research/FMR_Paper/In_Plane_Field/In_Plane_Anis/HardAxis/ThinFilmFMR_BInPlane(204.55)_In_PlaneAnis_K(10000)_Ratio(1).out/\n",
      "//starting GUI at http://127.0.0.1:35367\n",
      "SetPBC(0, 0, 0)\n",
      "SetGridSize(512, 512.0, 4)\n",
      "SetCellSize(4e-9, 4e-9, 4e-9)\n",
      "Msat = 800000.0\n",
      "Aex = 1.3e-11\n",
      "alpha = 0.008\n",
      "edgesmooth = 8\n",
      "B := 204.55e-3\n",
      "anisU = vector(1.0, 0.0, 6.123233995736766e-17)\n",
      "Ku1 = 10000\n",
      "setSolver(5)\n",
      "TableAdd(Ku1)\n",
      "TableAdd(B_ext)\n",
      "TableAutoSave(5e-13)\n",
      "m = uniform(0, 1, 0)\n",
      "B_ext = vector(B*0.039891400317339676, B*0.9967530658528422, B*0.06994284733753288)\n",
      "relax()\n",
      "MaxDt = 5e-13\n",
      "B_ext = vector(B*0, B*1, B*0)\n",
      "run(1e-09)\n"
     ]
    },
    {
     "name": "stderr",
     "output_type": "stream",
     "text": [
      "//Using cached kernel: C:/Users/Rob/Desktop/Research/kernel-cache//mumax3kernel_[512 512 4]_[0 0 0]_[4e-09 4e-09 4e-09]_6_\n"
     ]
    },
    {
     "name": "stdout",
     "output_type": "stream",
     "text": [
      "//mumax 3.9.1c windows_amd64 go1.3.3 (gc)\n",
      "//CUDA 10020 TITAN Xp(12288MB) cc6.1, using CC53 PTX \n",
      "//(c) Arne Vansteenkiste, Dynamat LAB, Ghent University, Belgium\n",
      "//This is free software without any warranty. See license.txt\n",
      "//output directory: C:/Users/Rob/Desktop/Research/FMR_Paper/In_Plane_Field/In_Plane_Anis/HardAxis/ThinFilmFMR_BInPlane(202.27)_In_PlaneAnis_K(90000)_Ratio(1).out/\n",
      "//starting GUI at http://127.0.0.1:35367\n",
      "SetPBC(0, 0, 0)\n",
      "SetGridSize(512, 512.0, 4)\n",
      "SetCellSize(4e-9, 4e-9, 4e-9)\n",
      "Msat = 800000.0\n",
      "Aex = 1.3e-11\n",
      "alpha = 0.008\n",
      "edgesmooth = 8\n",
      "B := 202.27e-3\n",
      "anisU = vector(1.0, 0.0, 6.123233995736766e-17)\n",
      "Ku1 = 90000\n",
      "setSolver(5)\n",
      "TableAdd(Ku1)\n",
      "TableAdd(B_ext)\n",
      "TableAutoSave(5e-13)\n",
      "m = uniform(0, 1, 0)\n",
      "B_ext = vector(B*0.039891400317339676, B*0.9967530658528422, B*0.06994284733753288)\n",
      "relax()\n",
      "MaxDt = 5e-13\n",
      "B_ext = vector(B*0, B*1, B*0)\n",
      "run(1e-09)\n"
     ]
    },
    {
     "name": "stderr",
     "output_type": "stream",
     "text": [
      "//Using cached kernel: C:/Users/Rob/Desktop/Research/kernel-cache//mumax3kernel_[512 512 4]_[0 0 0]_[4e-09 4e-09 4e-09]_6_\n"
     ]
    },
    {
     "name": "stdout",
     "output_type": "stream",
     "text": [
      "//mumax 3.9.1c windows_amd64 go1.3.3 (gc)\n",
      "//CUDA 10020 TITAN Xp(12288MB) cc6.1, using CC53 PTX \n",
      "//(c) Arne Vansteenkiste, Dynamat LAB, Ghent University, Belgium\n",
      "//This is free software without any warranty. See license.txt\n",
      "//output directory: C:/Users/Rob/Desktop/Research/FMR_Paper/In_Plane_Field/In_Plane_Anis/HardAxis/ThinFilmFMR_BInPlane(202.02)_In_PlaneAnis_K(100000)_Ratio(1).out/\n",
      "//starting GUI at http://127.0.0.1:35367\n",
      "SetPBC(0, 0, 0)\n",
      "SetGridSize(512, 512.0, 4)\n",
      "SetCellSize(4e-9, 4e-9, 4e-9)\n",
      "Msat = 800000.0\n",
      "Aex = 1.3e-11\n",
      "alpha = 0.008\n",
      "edgesmooth = 8\n",
      "B := 202.02e-3\n",
      "anisU = vector(1.0, 0.0, 6.123233995736766e-17)\n",
      "Ku1 = 100000\n",
      "setSolver(5)\n",
      "TableAdd(Ku1)\n",
      "TableAdd(B_ext)\n",
      "TableAutoSave(5e-13)\n",
      "m = uniform(0, 1, 0)\n",
      "B_ext = vector(B*0.039891400317339676, B*0.9967530658528422, B*0.06994284733753288)\n",
      "relax()\n",
      "MaxDt = 5e-13\n",
      "B_ext = vector(B*0, B*1, B*0)\n",
      "run(1e-09)\n"
     ]
    },
    {
     "name": "stderr",
     "output_type": "stream",
     "text": [
      "//Using cached kernel: C:/Users/Rob/Desktop/Research/kernel-cache//mumax3kernel_[512 512 4]_[0 0 0]_[4e-09 4e-09 4e-09]_6_\n"
     ]
    },
    {
     "name": "stdout",
     "output_type": "stream",
     "text": [
      "//mumax 3.9.1c windows_amd64 go1.3.3 (gc)\n",
      "//CUDA 10020 TITAN Xp(12288MB) cc6.1, using CC53 PTX \n",
      "//(c) Arne Vansteenkiste, Dynamat LAB, Ghent University, Belgium\n",
      "//This is free software without any warranty. See license.txt\n",
      "//output directory: C:/Users/Rob/Desktop/Research/FMR_Paper/In_Plane_Field/In_Plane_Anis/HardAxis/ThinFilmFMR_BInPlane(2000.0)_In_PlaneAnis_K(90000)_Ratio(1).out/\n",
      "//starting GUI at http://127.0.0.1:35367\n",
      "SetPBC(0, 0, 0)\n",
      "SetGridSize(512, 512.0, 4)\n",
      "SetCellSize(4e-9, 4e-9, 4e-9)\n",
      "Msat = 800000.0\n",
      "Aex = 1.3e-11\n",
      "alpha = 0.008\n",
      "edgesmooth = 8\n",
      "B := 2000.0e-3\n",
      "anisU = vector(1.0, 0.0, 6.123233995736766e-17)\n",
      "Ku1 = 90000\n",
      "setSolver(5)\n",
      "TableAdd(Ku1)\n",
      "TableAdd(B_ext)\n",
      "TableAutoSave(5e-13)\n",
      "m = uniform(0, 1, 0)\n",
      "B_ext = vector(B*0.039891400317339676, B*0.9967530658528422, B*0.06994284733753288)\n",
      "relax()\n",
      "MaxDt = 5e-13\n",
      "B_ext = vector(B*0, B*1, B*0)\n",
      "run(1e-09)\n"
     ]
    },
    {
     "name": "stderr",
     "output_type": "stream",
     "text": [
      "//Using cached kernel: C:/Users/Rob/Desktop/Research/kernel-cache//mumax3kernel_[512 512 4]_[0 0 0]_[4e-09 4e-09 4e-09]_6_\n"
     ]
    },
    {
     "name": "stdout",
     "output_type": "stream",
     "text": [
      "//mumax 3.9.1c windows_amd64 go1.3.3 (gc)\n",
      "//CUDA 10020 TITAN Xp(12288MB) cc6.1, using CC53 PTX \n",
      "//(c) Arne Vansteenkiste, Dynamat LAB, Ghent University, Belgium\n",
      "//This is free software without any warranty. See license.txt\n",
      "//output directory: C:/Users/Rob/Desktop/Research/FMR_Paper/In_Plane_Field/In_Plane_Anis/HardAxis/ThinFilmFMR_BInPlane(2000.0)_In_PlaneAnis_K(80000)_Ratio(1).out/\n",
      "//starting GUI at http://127.0.0.1:35367\n",
      "SetPBC(0, 0, 0)\n",
      "SetGridSize(512, 512.0, 4)\n",
      "SetCellSize(4e-9, 4e-9, 4e-9)\n",
      "Msat = 800000.0\n",
      "Aex = 1.3e-11\n",
      "alpha = 0.008\n",
      "edgesmooth = 8\n",
      "B := 2000.0e-3\n",
      "anisU = vector(1.0, 0.0, 6.123233995736766e-17)\n",
      "Ku1 = 80000\n",
      "setSolver(5)\n",
      "TableAdd(Ku1)\n",
      "TableAdd(B_ext)\n",
      "TableAutoSave(5e-13)\n",
      "m = uniform(0, 1, 0)\n",
      "B_ext = vector(B*0.039891400317339676, B*0.9967530658528422, B*0.06994284733753288)\n",
      "relax()\n",
      "MaxDt = 5e-13\n",
      "B_ext = vector(B*0, B*1, B*0)\n",
      "run(1e-09)\n"
     ]
    },
    {
     "name": "stderr",
     "output_type": "stream",
     "text": [
      "//Using cached kernel: C:/Users/Rob/Desktop/Research/kernel-cache//mumax3kernel_[512 512 4]_[0 0 0]_[4e-09 4e-09 4e-09]_6_\n"
     ]
    },
    {
     "name": "stdout",
     "output_type": "stream",
     "text": [
      "//mumax 3.9.1c windows_amd64 go1.3.3 (gc)\n",
      "//CUDA 10020 TITAN Xp(12288MB) cc6.1, using CC53 PTX \n",
      "//(c) Arne Vansteenkiste, Dynamat LAB, Ghent University, Belgium\n",
      "//This is free software without any warranty. See license.txt\n",
      "//output directory: C:/Users/Rob/Desktop/Research/FMR_Paper/In_Plane_Field/In_Plane_Anis/HardAxis/ThinFilmFMR_BInPlane(2000.0)_In_PlaneAnis_K(70000)_Ratio(1).out/\n",
      "//starting GUI at http://127.0.0.1:35367\n",
      "SetPBC(0, 0, 0)\n",
      "SetGridSize(512, 512.0, 4)\n",
      "SetCellSize(4e-9, 4e-9, 4e-9)\n",
      "Msat = 800000.0\n",
      "Aex = 1.3e-11\n",
      "alpha = 0.008\n",
      "edgesmooth = 8\n",
      "B := 2000.0e-3\n",
      "anisU = vector(1.0, 0.0, 6.123233995736766e-17)\n",
      "Ku1 = 70000\n",
      "setSolver(5)\n",
      "TableAdd(Ku1)\n",
      "TableAdd(B_ext)\n",
      "TableAutoSave(5e-13)\n",
      "m = uniform(0, 1, 0)\n",
      "B_ext = vector(B*0.039891400317339676, B*0.9967530658528422, B*0.06994284733753288)\n",
      "relax()\n",
      "MaxDt = 5e-13\n",
      "B_ext = vector(B*0, B*1, B*0)\n",
      "run(1e-09)\n"
     ]
    },
    {
     "name": "stderr",
     "output_type": "stream",
     "text": [
      "//Using cached kernel: C:/Users/Rob/Desktop/Research/kernel-cache//mumax3kernel_[512 512 4]_[0 0 0]_[4e-09 4e-09 4e-09]_6_\n"
     ]
    },
    {
     "name": "stdout",
     "output_type": "stream",
     "text": [
      "//mumax 3.9.1c windows_amd64 go1.3.3 (gc)\n",
      "//CUDA 10020 TITAN Xp(12288MB) cc6.1, using CC53 PTX \n",
      "//(c) Arne Vansteenkiste, Dynamat LAB, Ghent University, Belgium\n",
      "//This is free software without any warranty. See license.txt\n",
      "//output directory: C:/Users/Rob/Desktop/Research/FMR_Paper/In_Plane_Field/In_Plane_Anis/HardAxis/ThinFilmFMR_BInPlane(2000.0)_In_PlaneAnis_K(60000)_Ratio(1).out/\n",
      "//starting GUI at http://127.0.0.1:35367\n",
      "SetPBC(0, 0, 0)\n",
      "SetGridSize(512, 512.0, 4)\n",
      "SetCellSize(4e-9, 4e-9, 4e-9)\n",
      "Msat = 800000.0\n",
      "Aex = 1.3e-11\n",
      "alpha = 0.008\n",
      "edgesmooth = 8\n",
      "B := 2000.0e-3\n",
      "anisU = vector(1.0, 0.0, 6.123233995736766e-17)\n",
      "Ku1 = 60000\n",
      "setSolver(5)\n",
      "TableAdd(Ku1)\n",
      "TableAdd(B_ext)\n",
      "TableAutoSave(5e-13)\n",
      "m = uniform(0, 1, 0)\n",
      "B_ext = vector(B*0.039891400317339676, B*0.9967530658528422, B*0.06994284733753288)\n",
      "relax()\n",
      "MaxDt = 5e-13\n",
      "B_ext = vector(B*0, B*1, B*0)\n",
      "run(1e-09)\n"
     ]
    },
    {
     "name": "stderr",
     "output_type": "stream",
     "text": [
      "//Using cached kernel: C:/Users/Rob/Desktop/Research/kernel-cache//mumax3kernel_[512 512 4]_[0 0 0]_[4e-09 4e-09 4e-09]_6_\n"
     ]
    },
    {
     "name": "stdout",
     "output_type": "stream",
     "text": [
      "//mumax 3.9.1c windows_amd64 go1.3.3 (gc)\n",
      "//CUDA 10020 TITAN Xp(12288MB) cc6.1, using CC53 PTX \n",
      "//(c) Arne Vansteenkiste, Dynamat LAB, Ghent University, Belgium\n",
      "//This is free software without any warranty. See license.txt\n",
      "//output directory: C:/Users/Rob/Desktop/Research/FMR_Paper/In_Plane_Field/In_Plane_Anis/HardAxis/ThinFilmFMR_BInPlane(2000.0)_In_PlaneAnis_K(50000)_Ratio(1).out/\n",
      "//starting GUI at http://127.0.0.1:35367\n",
      "SetPBC(0, 0, 0)\n",
      "SetGridSize(512, 512.0, 4)\n",
      "SetCellSize(4e-9, 4e-9, 4e-9)\n",
      "Msat = 800000.0\n",
      "Aex = 1.3e-11\n",
      "alpha = 0.008\n",
      "edgesmooth = 8\n",
      "B := 2000.0e-3\n",
      "anisU = vector(1.0, 0.0, 6.123233995736766e-17)\n",
      "Ku1 = 50000\n",
      "setSolver(5)\n",
      "TableAdd(Ku1)\n",
      "TableAdd(B_ext)\n",
      "TableAutoSave(5e-13)\n",
      "m = uniform(0, 1, 0)\n",
      "B_ext = vector(B*0.039891400317339676, B*0.9967530658528422, B*0.06994284733753288)\n",
      "relax()\n",
      "MaxDt = 5e-13\n",
      "B_ext = vector(B*0, B*1, B*0)\n",
      "run(1e-09)\n"
     ]
    },
    {
     "name": "stderr",
     "output_type": "stream",
     "text": [
      "//Using cached kernel: C:/Users/Rob/Desktop/Research/kernel-cache//mumax3kernel_[512 512 4]_[0 0 0]_[4e-09 4e-09 4e-09]_6_\n"
     ]
    },
    {
     "name": "stdout",
     "output_type": "stream",
     "text": [
      "//mumax 3.9.1c windows_amd64 go1.3.3 (gc)\n",
      "//CUDA 10020 TITAN Xp(12288MB) cc6.1, using CC53 PTX \n",
      "//(c) Arne Vansteenkiste, Dynamat LAB, Ghent University, Belgium\n",
      "//This is free software without any warranty. See license.txt\n",
      "//output directory: C:/Users/Rob/Desktop/Research/FMR_Paper/In_Plane_Field/In_Plane_Anis/HardAxis/ThinFilmFMR_BInPlane(2000.0)_In_PlaneAnis_K(40000)_Ratio(1).out/\n",
      "//starting GUI at http://127.0.0.1:35367\n",
      "SetPBC(0, 0, 0)\n",
      "SetGridSize(512, 512.0, 4)\n",
      "SetCellSize(4e-9, 4e-9, 4e-9)\n",
      "Msat = 800000.0\n",
      "Aex = 1.3e-11\n",
      "alpha = 0.008\n",
      "edgesmooth = 8\n",
      "B := 2000.0e-3\n",
      "anisU = vector(1.0, 0.0, 6.123233995736766e-17)\n",
      "Ku1 = 40000\n",
      "setSolver(5)\n",
      "TableAdd(Ku1)\n",
      "TableAdd(B_ext)\n",
      "TableAutoSave(5e-13)\n",
      "m = uniform(0, 1, 0)\n",
      "B_ext = vector(B*0.039891400317339676, B*0.9967530658528422, B*0.06994284733753288)\n",
      "relax()\n",
      "MaxDt = 5e-13\n",
      "B_ext = vector(B*0, B*1, B*0)\n",
      "run(1e-09)\n"
     ]
    },
    {
     "name": "stderr",
     "output_type": "stream",
     "text": [
      "//Using cached kernel: C:/Users/Rob/Desktop/Research/kernel-cache//mumax3kernel_[512 512 4]_[0 0 0]_[4e-09 4e-09 4e-09]_6_\n"
     ]
    },
    {
     "name": "stdout",
     "output_type": "stream",
     "text": [
      "//mumax 3.9.1c windows_amd64 go1.3.3 (gc)\n",
      "//CUDA 10020 TITAN Xp(12288MB) cc6.1, using CC53 PTX \n",
      "//(c) Arne Vansteenkiste, Dynamat LAB, Ghent University, Belgium\n",
      "//This is free software without any warranty. See license.txt\n",
      "//output directory: C:/Users/Rob/Desktop/Research/FMR_Paper/In_Plane_Field/In_Plane_Anis/HardAxis/ThinFilmFMR_BInPlane(2000.0)_In_PlaneAnis_K(30000)_Ratio(1).out/\n",
      "//starting GUI at http://127.0.0.1:35367\n",
      "SetPBC(0, 0, 0)\n",
      "SetGridSize(512, 512.0, 4)\n",
      "SetCellSize(4e-9, 4e-9, 4e-9)\n",
      "Msat = 800000.0\n",
      "Aex = 1.3e-11\n",
      "alpha = 0.008\n",
      "edgesmooth = 8\n",
      "B := 2000.0e-3\n",
      "anisU = vector(1.0, 0.0, 6.123233995736766e-17)\n",
      "Ku1 = 30000\n",
      "setSolver(5)\n",
      "TableAdd(Ku1)\n",
      "TableAdd(B_ext)\n",
      "TableAutoSave(5e-13)\n",
      "m = uniform(0, 1, 0)\n",
      "B_ext = vector(B*0.039891400317339676, B*0.9967530658528422, B*0.06994284733753288)\n",
      "relax()\n",
      "MaxDt = 5e-13\n",
      "B_ext = vector(B*0, B*1, B*0)\n",
      "run(1e-09)\n"
     ]
    },
    {
     "name": "stderr",
     "output_type": "stream",
     "text": [
      "//Using cached kernel: C:/Users/Rob/Desktop/Research/kernel-cache//mumax3kernel_[512 512 4]_[0 0 0]_[4e-09 4e-09 4e-09]_6_\n"
     ]
    },
    {
     "name": "stdout",
     "output_type": "stream",
     "text": [
      "//mumax 3.9.1c windows_amd64 go1.3.3 (gc)\n",
      "//CUDA 10020 TITAN Xp(12288MB) cc6.1, using CC53 PTX \n",
      "//(c) Arne Vansteenkiste, Dynamat LAB, Ghent University, Belgium\n",
      "//This is free software without any warranty. See license.txt\n",
      "//output directory: C:/Users/Rob/Desktop/Research/FMR_Paper/In_Plane_Field/In_Plane_Anis/HardAxis/ThinFilmFMR_BInPlane(2000.0)_In_PlaneAnis_K(20000)_Ratio(1).out/\n",
      "//starting GUI at http://127.0.0.1:35367\n",
      "SetPBC(0, 0, 0)\n",
      "SetGridSize(512, 512.0, 4)\n",
      "SetCellSize(4e-9, 4e-9, 4e-9)\n",
      "Msat = 800000.0\n",
      "Aex = 1.3e-11\n",
      "alpha = 0.008\n",
      "edgesmooth = 8\n",
      "B := 2000.0e-3\n",
      "anisU = vector(1.0, 0.0, 6.123233995736766e-17)\n",
      "Ku1 = 20000\n",
      "setSolver(5)\n",
      "TableAdd(Ku1)\n",
      "TableAdd(B_ext)\n",
      "TableAutoSave(5e-13)\n",
      "m = uniform(0, 1, 0)\n",
      "B_ext = vector(B*0.039891400317339676, B*0.9967530658528422, B*0.06994284733753288)\n",
      "relax()\n",
      "MaxDt = 5e-13\n",
      "B_ext = vector(B*0, B*1, B*0)\n",
      "run(1e-09)\n"
     ]
    },
    {
     "name": "stderr",
     "output_type": "stream",
     "text": [
      "//Using cached kernel: C:/Users/Rob/Desktop/Research/kernel-cache//mumax3kernel_[512 512 4]_[0 0 0]_[4e-09 4e-09 4e-09]_6_\n"
     ]
    },
    {
     "name": "stdout",
     "output_type": "stream",
     "text": [
      "//mumax 3.9.1c windows_amd64 go1.3.3 (gc)\n",
      "//CUDA 10020 TITAN Xp(12288MB) cc6.1, using CC53 PTX \n",
      "//(c) Arne Vansteenkiste, Dynamat LAB, Ghent University, Belgium\n",
      "//This is free software without any warranty. See license.txt\n",
      "//output directory: C:/Users/Rob/Desktop/Research/FMR_Paper/In_Plane_Field/In_Plane_Anis/HardAxis/ThinFilmFMR_BInPlane(2000.0)_In_PlaneAnis_K(100000)_Ratio(1).out/\n",
      "//starting GUI at http://127.0.0.1:35367\n",
      "SetPBC(0, 0, 0)\n",
      "SetGridSize(512, 512.0, 4)\n",
      "SetCellSize(4e-9, 4e-9, 4e-9)\n",
      "Msat = 800000.0\n",
      "Aex = 1.3e-11\n",
      "alpha = 0.008\n",
      "edgesmooth = 8\n",
      "B := 2000.0e-3\n",
      "anisU = vector(1.0, 0.0, 6.123233995736766e-17)\n",
      "Ku1 = 100000\n",
      "setSolver(5)\n",
      "TableAdd(Ku1)\n",
      "TableAdd(B_ext)\n",
      "TableAutoSave(5e-13)\n",
      "m = uniform(0, 1, 0)\n",
      "B_ext = vector(B*0.039891400317339676, B*0.9967530658528422, B*0.06994284733753288)\n",
      "relax()\n",
      "MaxDt = 5e-13\n",
      "B_ext = vector(B*0, B*1, B*0)\n",
      "run(1e-09)\n"
     ]
    },
    {
     "name": "stderr",
     "output_type": "stream",
     "text": [
      "//Using cached kernel: C:/Users/Rob/Desktop/Research/kernel-cache//mumax3kernel_[512 512 4]_[0 0 0]_[4e-09 4e-09 4e-09]_6_\n"
     ]
    },
    {
     "name": "stdout",
     "output_type": "stream",
     "text": [
      "//mumax 3.9.1c windows_amd64 go1.3.3 (gc)\n",
      "//CUDA 10020 TITAN Xp(12288MB) cc6.1, using CC53 PTX \n",
      "//(c) Arne Vansteenkiste, Dynamat LAB, Ghent University, Belgium\n",
      "//This is free software without any warranty. See license.txt\n",
      "//output directory: C:/Users/Rob/Desktop/Research/FMR_Paper/In_Plane_Field/In_Plane_Anis/HardAxis/ThinFilmFMR_BInPlane(2000.0)_In_PlaneAnis_K(10000)_Ratio(1).out/\n",
      "//starting GUI at http://127.0.0.1:35367\n",
      "SetPBC(0, 0, 0)\n",
      "SetGridSize(512, 512.0, 4)\n",
      "SetCellSize(4e-9, 4e-9, 4e-9)\n",
      "Msat = 800000.0\n",
      "Aex = 1.3e-11\n",
      "alpha = 0.008\n",
      "edgesmooth = 8\n",
      "B := 2000.0e-3\n",
      "anisU = vector(1.0, 0.0, 6.123233995736766e-17)\n",
      "Ku1 = 10000\n",
      "setSolver(5)\n",
      "TableAdd(Ku1)\n",
      "TableAdd(B_ext)\n",
      "TableAutoSave(5e-13)\n",
      "m = uniform(0, 1, 0)\n",
      "B_ext = vector(B*0.039891400317339676, B*0.9967530658528422, B*0.06994284733753288)\n",
      "relax()\n",
      "MaxDt = 5e-13\n",
      "B_ext = vector(B*0, B*1, B*0)\n",
      "run(1e-09)\n"
     ]
    },
    {
     "name": "stderr",
     "output_type": "stream",
     "text": [
      "//Using cached kernel: C:/Users/Rob/Desktop/Research/kernel-cache//mumax3kernel_[512 512 4]_[0 0 0]_[4e-09 4e-09 4e-09]_6_\n"
     ]
    },
    {
     "name": "stdout",
     "output_type": "stream",
     "text": [
      "//mumax 3.9.1c windows_amd64 go1.3.3 (gc)\n",
      "//CUDA 10020 TITAN Xp(12288MB) cc6.1, using CC53 PTX \n",
      "//(c) Arne Vansteenkiste, Dynamat LAB, Ghent University, Belgium\n",
      "//This is free software without any warranty. See license.txt\n",
      "//output directory: C:/Users/Rob/Desktop/Research/FMR_Paper/In_Plane_Field/In_Plane_Anis/HardAxis/ThinFilmFMR_BInPlane(2000)_In_PlaneAnis_K(0)_Ratio(1).out/\n",
      "//starting GUI at http://127.0.0.1:35367\n",
      "SetPBC(0, 0, 0)\n",
      "SetGridSize(512, 512.0, 4)\n",
      "SetCellSize(4e-9, 4e-9, 4e-9)\n",
      "Msat = 800000.0\n",
      "Aex = 1.3e-11\n",
      "alpha = 0.008\n",
      "edgesmooth = 8\n",
      "B := 2000e-3\n",
      "anisU = vector(1.0, 0.0, 6.123233995736766e-17)\n",
      "Ku1 = 0\n",
      "setSolver(5)\n",
      "TableAdd(Ku1)\n",
      "TableAdd(B_ext)\n",
      "TableAutoSave(5e-13)\n",
      "m = uniform(0, 1, 0)\n",
      "B_ext = vector(B*0.039891400317339676, B*0.9967530658528422, B*0.06994284733753288)\n",
      "relax()\n",
      "MaxDt = 5e-13\n",
      "B_ext = vector(B*0, B*1, B*0)\n",
      "run(1e-09)\n"
     ]
    },
    {
     "name": "stderr",
     "output_type": "stream",
     "text": [
      "//Using cached kernel: C:/Users/Rob/Desktop/Research/kernel-cache//mumax3kernel_[512 512 4]_[0 0 0]_[4e-09 4e-09 4e-09]_6_\n"
     ]
    },
    {
     "name": "stdout",
     "output_type": "stream",
     "text": [
      "//mumax 3.9.1c windows_amd64 go1.3.3 (gc)\n",
      "//CUDA 10020 TITAN Xp(12288MB) cc6.1, using CC53 PTX \n",
      "//(c) Arne Vansteenkiste, Dynamat LAB, Ghent University, Belgium\n",
      "//This is free software without any warranty. See license.txt\n",
      "//output directory: C:/Users/Rob/Desktop/Research/FMR_Paper/In_Plane_Field/In_Plane_Anis/HardAxis/ThinFilmFMR_BInPlane(200.76)_In_PlaneAnis_K(50000)_Ratio(1).out/\n",
      "//starting GUI at http://127.0.0.1:35367\n",
      "SetPBC(0, 0, 0)\n",
      "SetGridSize(512, 512.0, 4)\n",
      "SetCellSize(4e-9, 4e-9, 4e-9)\n",
      "Msat = 800000.0\n",
      "Aex = 1.3e-11\n",
      "alpha = 0.008\n",
      "edgesmooth = 8\n",
      "B := 200.76e-3\n",
      "anisU = vector(1.0, 0.0, 6.123233995736766e-17)\n",
      "Ku1 = 50000\n",
      "setSolver(5)\n",
      "TableAdd(Ku1)\n",
      "TableAdd(B_ext)\n",
      "TableAutoSave(5e-13)\n",
      "m = uniform(0, 1, 0)\n",
      "B_ext = vector(B*0.039891400317339676, B*0.9967530658528422, B*0.06994284733753288)\n",
      "relax()\n",
      "MaxDt = 5e-13\n",
      "B_ext = vector(B*0, B*1, B*0)\n",
      "run(1e-09)\n"
     ]
    },
    {
     "name": "stderr",
     "output_type": "stream",
     "text": [
      "//Using cached kernel: C:/Users/Rob/Desktop/Research/kernel-cache//mumax3kernel_[512 512 4]_[0 0 0]_[4e-09 4e-09 4e-09]_6_\n"
     ]
    },
    {
     "name": "stdout",
     "output_type": "stream",
     "text": [
      "//mumax 3.9.1c windows_amd64 go1.3.3 (gc)\n",
      "//CUDA 10020 TITAN Xp(12288MB) cc6.1, using CC53 PTX \n",
      "//(c) Arne Vansteenkiste, Dynamat LAB, Ghent University, Belgium\n",
      "//This is free software without any warranty. See license.txt\n",
      "//output directory: C:/Users/Rob/Desktop/Research/FMR_Paper/In_Plane_Field/In_Plane_Anis/HardAxis/ThinFilmFMR_BInPlane(200.0)_In_PlaneAnis_K(90000)_Ratio(1).out/\n",
      "//starting GUI at http://127.0.0.1:35367\n",
      "SetPBC(0, 0, 0)\n",
      "SetGridSize(512, 512.0, 4)\n",
      "SetCellSize(4e-9, 4e-9, 4e-9)\n",
      "Msat = 800000.0\n",
      "Aex = 1.3e-11\n",
      "alpha = 0.008\n",
      "edgesmooth = 8\n",
      "B := 200.0e-3\n",
      "anisU = vector(1.0, 0.0, 6.123233995736766e-17)\n",
      "Ku1 = 90000\n",
      "setSolver(5)\n",
      "TableAdd(Ku1)\n",
      "TableAdd(B_ext)\n",
      "TableAutoSave(5e-13)\n",
      "m = uniform(0, 1, 0)\n",
      "B_ext = vector(B*0.039891400317339676, B*0.9967530658528422, B*0.06994284733753288)\n",
      "relax()\n",
      "MaxDt = 5e-13\n",
      "B_ext = vector(B*0, B*1, B*0)\n",
      "run(1e-09)\n"
     ]
    },
    {
     "name": "stderr",
     "output_type": "stream",
     "text": [
      "//Using cached kernel: C:/Users/Rob/Desktop/Research/kernel-cache//mumax3kernel_[512 512 4]_[0 0 0]_[4e-09 4e-09 4e-09]_6_\n"
     ]
    },
    {
     "name": "stdout",
     "output_type": "stream",
     "text": [
      "//mumax 3.9.1c windows_amd64 go1.3.3 (gc)\n",
      "//CUDA 10020 TITAN Xp(12288MB) cc6.1, using CC53 PTX \n",
      "//(c) Arne Vansteenkiste, Dynamat LAB, Ghent University, Belgium\n",
      "//This is free software without any warranty. See license.txt\n",
      "//output directory: C:/Users/Rob/Desktop/Research/FMR_Paper/In_Plane_Field/In_Plane_Anis/HardAxis/ThinFilmFMR_BInPlane(200.0)_In_PlaneAnis_K(80000)_Ratio(1).out/\n",
      "//starting GUI at http://127.0.0.1:35367\n",
      "SetPBC(0, 0, 0)\n",
      "SetGridSize(512, 512.0, 4)\n",
      "SetCellSize(4e-9, 4e-9, 4e-9)\n",
      "Msat = 800000.0\n",
      "Aex = 1.3e-11\n",
      "alpha = 0.008\n",
      "edgesmooth = 8\n",
      "B := 200.0e-3\n",
      "anisU = vector(1.0, 0.0, 6.123233995736766e-17)\n",
      "Ku1 = 80000\n",
      "setSolver(5)\n",
      "TableAdd(Ku1)\n",
      "TableAdd(B_ext)\n",
      "TableAutoSave(5e-13)\n",
      "m = uniform(0, 1, 0)\n",
      "B_ext = vector(B*0.039891400317339676, B*0.9967530658528422, B*0.06994284733753288)\n",
      "relax()\n",
      "MaxDt = 5e-13\n",
      "B_ext = vector(B*0, B*1, B*0)\n",
      "run(1e-09)\n"
     ]
    },
    {
     "name": "stderr",
     "output_type": "stream",
     "text": [
      "//Using cached kernel: C:/Users/Rob/Desktop/Research/kernel-cache//mumax3kernel_[512 512 4]_[0 0 0]_[4e-09 4e-09 4e-09]_6_\n"
     ]
    },
    {
     "name": "stdout",
     "output_type": "stream",
     "text": [
      "//mumax 3.9.1c windows_amd64 go1.3.3 (gc)\n",
      "//CUDA 10020 TITAN Xp(12288MB) cc6.1, using CC53 PTX \n",
      "//(c) Arne Vansteenkiste, Dynamat LAB, Ghent University, Belgium\n",
      "//This is free software without any warranty. See license.txt\n",
      "//output directory: C:/Users/Rob/Desktop/Research/FMR_Paper/In_Plane_Field/In_Plane_Anis/HardAxis/ThinFilmFMR_BInPlane(200)_In_PlaneAnis_K(0)_Ratio(1).out/\n",
      "//starting GUI at http://127.0.0.1:35367\n",
      "SetPBC(0, 0, 0)\n",
      "SetGridSize(512, 512.0, 4)\n",
      "SetCellSize(4e-9, 4e-9, 4e-9)\n",
      "Msat = 800000.0\n",
      "Aex = 1.3e-11\n",
      "alpha = 0.008\n",
      "edgesmooth = 8\n",
      "B := 200e-3\n",
      "anisU = vector(1.0, 0.0, 6.123233995736766e-17)\n",
      "Ku1 = 0\n",
      "setSolver(5)\n",
      "TableAdd(Ku1)\n",
      "TableAdd(B_ext)\n",
      "TableAutoSave(5e-13)\n",
      "m = uniform(0, 1, 0)\n",
      "B_ext = vector(B*0.039891400317339676, B*0.9967530658528422, B*0.06994284733753288)\n",
      "relax()\n",
      "MaxDt = 5e-13\n",
      "B_ext = vector(B*0, B*1, B*0)\n",
      "run(1e-09)\n"
     ]
    },
    {
     "name": "stderr",
     "output_type": "stream",
     "text": [
      "//Using cached kernel: C:/Users/Rob/Desktop/Research/kernel-cache//mumax3kernel_[512 512 4]_[0 0 0]_[4e-09 4e-09 4e-09]_6_\n"
     ]
    },
    {
     "name": "stdout",
     "output_type": "stream",
     "text": [
      "//mumax 3.9.1c windows_amd64 go1.3.3 (gc)\n",
      "//CUDA 10020 TITAN Xp(12288MB) cc6.1, using CC53 PTX \n",
      "//(c) Arne Vansteenkiste, Dynamat LAB, Ghent University, Belgium\n",
      "//This is free software without any warranty. See license.txt\n",
      "//output directory: C:/Users/Rob/Desktop/Research/FMR_Paper/In_Plane_Field/In_Plane_Anis/HardAxis/ThinFilmFMR_BInPlane(20.96)_In_PlaneAnis_K(10000)_Ratio(1).out/\n",
      "//starting GUI at http://127.0.0.1:35367\n",
      "SetPBC(0, 0, 0)\n",
      "SetGridSize(512, 512.0, 4)\n",
      "SetCellSize(4e-9, 4e-9, 4e-9)\n",
      "Msat = 800000.0\n",
      "Aex = 1.3e-11\n",
      "alpha = 0.008\n",
      "edgesmooth = 8\n",
      "B := 20.96e-3\n",
      "anisU = vector(1.0, 0.0, 6.123233995736766e-17)\n",
      "Ku1 = 10000\n",
      "setSolver(5)\n",
      "TableAdd(Ku1)\n",
      "TableAdd(B_ext)\n",
      "TableAutoSave(5e-13)\n",
      "m = uniform(0, 1, 0)\n",
      "B_ext = vector(B*0.039891400317339676, B*0.9967530658528422, B*0.06994284733753288)\n",
      "relax()\n",
      "MaxDt = 5e-13\n",
      "B_ext = vector(B*0, B*1, B*0)\n",
      "run(1e-09)\n"
     ]
    },
    {
     "name": "stderr",
     "output_type": "stream",
     "text": [
      "//Using cached kernel: C:/Users/Rob/Desktop/Research/kernel-cache//mumax3kernel_[512 512 4]_[0 0 0]_[4e-09 4e-09 4e-09]_6_\n"
     ]
    },
    {
     "name": "stdout",
     "output_type": "stream",
     "text": [
      "//mumax 3.9.1c windows_amd64 go1.3.3 (gc)\n",
      "//CUDA 10020 TITAN Xp(12288MB) cc6.1, using CC53 PTX \n",
      "//(c) Arne Vansteenkiste, Dynamat LAB, Ghent University, Belgium\n",
      "//This is free software without any warranty. See license.txt\n",
      "//output directory: C:/Users/Rob/Desktop/Research/FMR_Paper/In_Plane_Field/In_Plane_Anis/HardAxis/ThinFilmFMR_BInPlane(20.71)_In_PlaneAnis_K(20000)_Ratio(1).out/\n",
      "//starting GUI at http://127.0.0.1:35367\n",
      "SetPBC(0, 0, 0)\n",
      "SetGridSize(512, 512.0, 4)\n",
      "SetCellSize(4e-9, 4e-9, 4e-9)\n",
      "Msat = 800000.0\n",
      "Aex = 1.3e-11\n",
      "alpha = 0.008\n",
      "edgesmooth = 8\n",
      "B := 20.71e-3\n",
      "anisU = vector(1.0, 0.0, 6.123233995736766e-17)\n",
      "Ku1 = 20000\n",
      "setSolver(5)\n",
      "TableAdd(Ku1)\n",
      "TableAdd(B_ext)\n",
      "TableAutoSave(5e-13)\n",
      "m = uniform(0, 1, 0)\n",
      "B_ext = vector(B*0.039891400317339676, B*0.9967530658528422, B*0.06994284733753288)\n",
      "relax()\n",
      "MaxDt = 5e-13\n",
      "B_ext = vector(B*0, B*1, B*0)\n",
      "run(1e-09)\n"
     ]
    },
    {
     "name": "stderr",
     "output_type": "stream",
     "text": [
      "//Using cached kernel: C:/Users/Rob/Desktop/Research/kernel-cache//mumax3kernel_[512 512 4]_[0 0 0]_[4e-09 4e-09 4e-09]_6_\n"
     ]
    },
    {
     "name": "stdout",
     "output_type": "stream",
     "text": [
      "//mumax 3.9.1c windows_amd64 go1.3.3 (gc)\n",
      "//CUDA 10020 TITAN Xp(12288MB) cc6.1, using CC53 PTX \n",
      "//(c) Arne Vansteenkiste, Dynamat LAB, Ghent University, Belgium\n",
      "//This is free software without any warranty. See license.txt\n",
      "//output directory: C:/Users/Rob/Desktop/Research/FMR_Paper/In_Plane_Field/In_Plane_Anis/HardAxis/ThinFilmFMR_BInPlane(20.71)_In_PlaneAnis_K(10000)_Ratio(1).out/\n",
      "//starting GUI at http://127.0.0.1:35367\n",
      "SetPBC(0, 0, 0)\n",
      "SetGridSize(512, 512.0, 4)\n",
      "SetCellSize(4e-9, 4e-9, 4e-9)\n",
      "Msat = 800000.0\n",
      "Aex = 1.3e-11\n",
      "alpha = 0.008\n",
      "edgesmooth = 8\n",
      "B := 20.71e-3\n",
      "anisU = vector(1.0, 0.0, 6.123233995736766e-17)\n",
      "Ku1 = 10000\n",
      "setSolver(5)\n",
      "TableAdd(Ku1)\n",
      "TableAdd(B_ext)\n",
      "TableAutoSave(5e-13)\n",
      "m = uniform(0, 1, 0)\n",
      "B_ext = vector(B*0.039891400317339676, B*0.9967530658528422, B*0.06994284733753288)\n",
      "relax()\n",
      "MaxDt = 5e-13\n",
      "B_ext = vector(B*0, B*1, B*0)\n",
      "run(1e-09)\n"
     ]
    },
    {
     "name": "stderr",
     "output_type": "stream",
     "text": [
      "//Using cached kernel: C:/Users/Rob/Desktop/Research/kernel-cache//mumax3kernel_[512 512 4]_[0 0 0]_[4e-09 4e-09 4e-09]_6_\n"
     ]
    },
    {
     "name": "stdout",
     "output_type": "stream",
     "text": [
      "//mumax 3.9.1c windows_amd64 go1.3.3 (gc)\n",
      "//CUDA 10020 TITAN Xp(12288MB) cc6.1, using CC53 PTX \n",
      "//(c) Arne Vansteenkiste, Dynamat LAB, Ghent University, Belgium\n",
      "//This is free software without any warranty. See license.txt\n",
      "//output directory: C:/Users/Rob/Desktop/Research/FMR_Paper/In_Plane_Field/In_Plane_Anis/HardAxis/ThinFilmFMR_BInPlane(20.45)_In_PlaneAnis_K(90000)_Ratio(1).out/\n",
      "//starting GUI at http://127.0.0.1:35367\n",
      "SetPBC(0, 0, 0)\n",
      "SetGridSize(512, 512.0, 4)\n",
      "SetCellSize(4e-9, 4e-9, 4e-9)\n",
      "Msat = 800000.0\n",
      "Aex = 1.3e-11\n",
      "alpha = 0.008\n",
      "edgesmooth = 8\n",
      "B := 20.45e-3\n",
      "anisU = vector(1.0, 0.0, 6.123233995736766e-17)\n",
      "Ku1 = 90000\n",
      "setSolver(5)\n",
      "TableAdd(Ku1)\n",
      "TableAdd(B_ext)\n",
      "TableAutoSave(5e-13)\n",
      "m = uniform(0, 1, 0)\n",
      "B_ext = vector(B*0.039891400317339676, B*0.9967530658528422, B*0.06994284733753288)\n",
      "relax()\n",
      "MaxDt = 5e-13\n",
      "B_ext = vector(B*0, B*1, B*0)\n",
      "run(1e-09)\n"
     ]
    },
    {
     "name": "stderr",
     "output_type": "stream",
     "text": [
      "//Using cached kernel: C:/Users/Rob/Desktop/Research/kernel-cache//mumax3kernel_[512 512 4]_[0 0 0]_[4e-09 4e-09 4e-09]_6_\n"
     ]
    },
    {
     "name": "stdout",
     "output_type": "stream",
     "text": [
      "//mumax 3.9.1c windows_amd64 go1.3.3 (gc)\n",
      "//CUDA 10020 TITAN Xp(12288MB) cc6.1, using CC53 PTX \n",
      "//(c) Arne Vansteenkiste, Dynamat LAB, Ghent University, Belgium\n",
      "//This is free software without any warranty. See license.txt\n",
      "//output directory: C:/Users/Rob/Desktop/Research/FMR_Paper/In_Plane_Field/In_Plane_Anis/HardAxis/ThinFilmFMR_BInPlane(20.45)_In_PlaneAnis_K(30000)_Ratio(1).out/\n",
      "//starting GUI at http://127.0.0.1:35367\n",
      "SetPBC(0, 0, 0)\n",
      "SetGridSize(512, 512.0, 4)\n",
      "SetCellSize(4e-9, 4e-9, 4e-9)\n",
      "Msat = 800000.0\n",
      "Aex = 1.3e-11\n",
      "alpha = 0.008\n",
      "edgesmooth = 8\n",
      "B := 20.45e-3\n",
      "anisU = vector(1.0, 0.0, 6.123233995736766e-17)\n",
      "Ku1 = 30000\n",
      "setSolver(5)\n",
      "TableAdd(Ku1)\n",
      "TableAdd(B_ext)\n",
      "TableAutoSave(5e-13)\n",
      "m = uniform(0, 1, 0)\n",
      "B_ext = vector(B*0.039891400317339676, B*0.9967530658528422, B*0.06994284733753288)\n",
      "relax()\n",
      "MaxDt = 5e-13\n",
      "B_ext = vector(B*0, B*1, B*0)\n",
      "run(1e-09)\n"
     ]
    },
    {
     "name": "stderr",
     "output_type": "stream",
     "text": [
      "//Using cached kernel: C:/Users/Rob/Desktop/Research/kernel-cache//mumax3kernel_[512 512 4]_[0 0 0]_[4e-09 4e-09 4e-09]_6_\n"
     ]
    },
    {
     "name": "stdout",
     "output_type": "stream",
     "text": [
      "//mumax 3.9.1c windows_amd64 go1.3.3 (gc)\n",
      "//CUDA 10020 TITAN Xp(12288MB) cc6.1, using CC53 PTX \n",
      "//(c) Arne Vansteenkiste, Dynamat LAB, Ghent University, Belgium\n",
      "//This is free software without any warranty. See license.txt\n",
      "//output directory: C:/Users/Rob/Desktop/Research/FMR_Paper/In_Plane_Field/In_Plane_Anis/HardAxis/ThinFilmFMR_BInPlane(20.45)_In_PlaneAnis_K(10000)_Ratio(1).out/\n",
      "//starting GUI at http://127.0.0.1:35367\n",
      "SetPBC(0, 0, 0)\n",
      "SetGridSize(512, 512.0, 4)\n",
      "SetCellSize(4e-9, 4e-9, 4e-9)\n",
      "Msat = 800000.0\n",
      "Aex = 1.3e-11\n",
      "alpha = 0.008\n",
      "edgesmooth = 8\n",
      "B := 20.45e-3\n",
      "anisU = vector(1.0, 0.0, 6.123233995736766e-17)\n",
      "Ku1 = 10000\n",
      "setSolver(5)\n",
      "TableAdd(Ku1)\n",
      "TableAdd(B_ext)\n",
      "TableAutoSave(5e-13)\n",
      "m = uniform(0, 1, 0)\n",
      "B_ext = vector(B*0.039891400317339676, B*0.9967530658528422, B*0.06994284733753288)\n",
      "relax()\n",
      "MaxDt = 5e-13\n",
      "B_ext = vector(B*0, B*1, B*0)\n",
      "run(1e-09)\n"
     ]
    },
    {
     "name": "stderr",
     "output_type": "stream",
     "text": [
      "//Using cached kernel: C:/Users/Rob/Desktop/Research/kernel-cache//mumax3kernel_[512 512 4]_[0 0 0]_[4e-09 4e-09 4e-09]_6_\n"
     ]
    },
    {
     "name": "stdout",
     "output_type": "stream",
     "text": [
      "//mumax 3.9.1c windows_amd64 go1.3.3 (gc)\n",
      "//CUDA 10020 TITAN Xp(12288MB) cc6.1, using CC53 PTX \n",
      "//(c) Arne Vansteenkiste, Dynamat LAB, Ghent University, Belgium\n",
      "//This is free software without any warranty. See license.txt\n",
      "//output directory: C:/Users/Rob/Desktop/Research/FMR_Paper/In_Plane_Field/In_Plane_Anis/HardAxis/ThinFilmFMR_BInPlane(20.2)_In_PlaneAnis_K(80000)_Ratio(1).out/\n",
      "//starting GUI at http://127.0.0.1:35367\n",
      "SetPBC(0, 0, 0)\n",
      "SetGridSize(512, 512.0, 4)\n",
      "SetCellSize(4e-9, 4e-9, 4e-9)\n",
      "Msat = 800000.0\n",
      "Aex = 1.3e-11\n",
      "alpha = 0.008\n",
      "edgesmooth = 8\n",
      "B := 20.2e-3\n",
      "anisU = vector(1.0, 0.0, 6.123233995736766e-17)\n",
      "Ku1 = 80000\n",
      "setSolver(5)\n",
      "TableAdd(Ku1)\n",
      "TableAdd(B_ext)\n",
      "TableAutoSave(5e-13)\n",
      "m = uniform(0, 1, 0)\n",
      "B_ext = vector(B*0.039891400317339676, B*0.9967530658528422, B*0.06994284733753288)\n",
      "relax()\n",
      "MaxDt = 5e-13\n",
      "B_ext = vector(B*0, B*1, B*0)\n",
      "run(1e-09)\n"
     ]
    },
    {
     "name": "stderr",
     "output_type": "stream",
     "text": [
      "//Using cached kernel: C:/Users/Rob/Desktop/Research/kernel-cache//mumax3kernel_[512 512 4]_[0 0 0]_[4e-09 4e-09 4e-09]_6_\n"
     ]
    },
    {
     "name": "stdout",
     "output_type": "stream",
     "text": [
      "//mumax 3.9.1c windows_amd64 go1.3.3 (gc)\n",
      "//CUDA 10020 TITAN Xp(12288MB) cc6.1, using CC53 PTX \n",
      "//(c) Arne Vansteenkiste, Dynamat LAB, Ghent University, Belgium\n",
      "//This is free software without any warranty. See license.txt\n",
      "//output directory: C:/Users/Rob/Desktop/Research/FMR_Paper/In_Plane_Field/In_Plane_Anis/HardAxis/ThinFilmFMR_BInPlane(20.2)_In_PlaneAnis_K(50000)_Ratio(1).out/\n",
      "//starting GUI at http://127.0.0.1:35367\n",
      "SetPBC(0, 0, 0)\n",
      "SetGridSize(512, 512.0, 4)\n",
      "SetCellSize(4e-9, 4e-9, 4e-9)\n",
      "Msat = 800000.0\n",
      "Aex = 1.3e-11\n",
      "alpha = 0.008\n",
      "edgesmooth = 8\n",
      "B := 20.2e-3\n",
      "anisU = vector(1.0, 0.0, 6.123233995736766e-17)\n",
      "Ku1 = 50000\n",
      "setSolver(5)\n",
      "TableAdd(Ku1)\n",
      "TableAdd(B_ext)\n",
      "TableAutoSave(5e-13)\n",
      "m = uniform(0, 1, 0)\n",
      "B_ext = vector(B*0.039891400317339676, B*0.9967530658528422, B*0.06994284733753288)\n",
      "relax()\n",
      "MaxDt = 5e-13\n",
      "B_ext = vector(B*0, B*1, B*0)\n",
      "run(1e-09)\n"
     ]
    },
    {
     "name": "stderr",
     "output_type": "stream",
     "text": [
      "//Using cached kernel: C:/Users/Rob/Desktop/Research/kernel-cache//mumax3kernel_[512 512 4]_[0 0 0]_[4e-09 4e-09 4e-09]_6_\n"
     ]
    },
    {
     "name": "stdout",
     "output_type": "stream",
     "text": [
      "//mumax 3.9.1c windows_amd64 go1.3.3 (gc)\n",
      "//CUDA 10020 TITAN Xp(12288MB) cc6.1, using CC53 PTX \n",
      "//(c) Arne Vansteenkiste, Dynamat LAB, Ghent University, Belgium\n",
      "//This is free software without any warranty. See license.txt\n",
      "//output directory: C:/Users/Rob/Desktop/Research/FMR_Paper/In_Plane_Field/In_Plane_Anis/HardAxis/ThinFilmFMR_BInPlane(20.2)_In_PlaneAnis_K(40000)_Ratio(1).out/\n",
      "//starting GUI at http://127.0.0.1:35367\n",
      "SetPBC(0, 0, 0)\n",
      "SetGridSize(512, 512.0, 4)\n",
      "SetCellSize(4e-9, 4e-9, 4e-9)\n",
      "Msat = 800000.0\n",
      "Aex = 1.3e-11\n",
      "alpha = 0.008\n",
      "edgesmooth = 8\n",
      "B := 20.2e-3\n",
      "anisU = vector(1.0, 0.0, 6.123233995736766e-17)\n",
      "Ku1 = 40000\n",
      "setSolver(5)\n",
      "TableAdd(Ku1)\n",
      "TableAdd(B_ext)\n",
      "TableAutoSave(5e-13)\n",
      "m = uniform(0, 1, 0)\n",
      "B_ext = vector(B*0.039891400317339676, B*0.9967530658528422, B*0.06994284733753288)\n",
      "relax()\n",
      "MaxDt = 5e-13\n",
      "B_ext = vector(B*0, B*1, B*0)\n",
      "run(1e-09)\n"
     ]
    },
    {
     "name": "stderr",
     "output_type": "stream",
     "text": [
      "//Using cached kernel: C:/Users/Rob/Desktop/Research/kernel-cache//mumax3kernel_[512 512 4]_[0 0 0]_[4e-09 4e-09 4e-09]_6_\n"
     ]
    },
    {
     "name": "stdout",
     "output_type": "stream",
     "text": [
      "//mumax 3.9.1c windows_amd64 go1.3.3 (gc)\n",
      "//CUDA 10020 TITAN Xp(12288MB) cc6.1, using CC53 PTX \n",
      "//(c) Arne Vansteenkiste, Dynamat LAB, Ghent University, Belgium\n",
      "//This is free software without any warranty. See license.txt\n",
      "//output directory: C:/Users/Rob/Desktop/Research/FMR_Paper/In_Plane_Field/In_Plane_Anis/HardAxis/ThinFilmFMR_BInPlane(20.2)_In_PlaneAnis_K(20000)_Ratio(1).out/\n",
      "//starting GUI at http://127.0.0.1:35367\n",
      "SetPBC(0, 0, 0)\n",
      "SetGridSize(512, 512.0, 4)\n",
      "SetCellSize(4e-9, 4e-9, 4e-9)\n",
      "Msat = 800000.0\n",
      "Aex = 1.3e-11\n",
      "alpha = 0.008\n",
      "edgesmooth = 8\n",
      "B := 20.2e-3\n",
      "anisU = vector(1.0, 0.0, 6.123233995736766e-17)\n",
      "Ku1 = 20000\n",
      "setSolver(5)\n",
      "TableAdd(Ku1)\n",
      "TableAdd(B_ext)\n",
      "TableAutoSave(5e-13)\n",
      "m = uniform(0, 1, 0)\n",
      "B_ext = vector(B*0.039891400317339676, B*0.9967530658528422, B*0.06994284733753288)\n",
      "relax()\n",
      "MaxDt = 5e-13\n",
      "B_ext = vector(B*0, B*1, B*0)\n",
      "run(1e-09)\n"
     ]
    },
    {
     "name": "stderr",
     "output_type": "stream",
     "text": [
      "//Using cached kernel: C:/Users/Rob/Desktop/Research/kernel-cache//mumax3kernel_[512 512 4]_[0 0 0]_[4e-09 4e-09 4e-09]_6_\n"
     ]
    },
    {
     "name": "stdout",
     "output_type": "stream",
     "text": [
      "//mumax 3.9.1c windows_amd64 go1.3.3 (gc)\n",
      "//CUDA 10020 TITAN Xp(12288MB) cc6.1, using CC53 PTX \n",
      "//(c) Arne Vansteenkiste, Dynamat LAB, Ghent University, Belgium\n",
      "//This is free software without any warranty. See license.txt\n",
      "//output directory: C:/Users/Rob/Desktop/Research/FMR_Paper/In_Plane_Field/In_Plane_Anis/HardAxis/ThinFilmFMR_BInPlane(20.2)_In_PlaneAnis_K(100000)_Ratio(1).out/\n",
      "//starting GUI at http://127.0.0.1:35367\n",
      "SetPBC(0, 0, 0)\n",
      "SetGridSize(512, 512.0, 4)\n",
      "SetCellSize(4e-9, 4e-9, 4e-9)\n",
      "Msat = 800000.0\n",
      "Aex = 1.3e-11\n",
      "alpha = 0.008\n",
      "edgesmooth = 8\n",
      "B := 20.2e-3\n",
      "anisU = vector(1.0, 0.0, 6.123233995736766e-17)\n",
      "Ku1 = 100000\n",
      "setSolver(5)\n",
      "TableAdd(Ku1)\n",
      "TableAdd(B_ext)\n",
      "TableAutoSave(5e-13)\n",
      "m = uniform(0, 1, 0)\n",
      "B_ext = vector(B*0.039891400317339676, B*0.9967530658528422, B*0.06994284733753288)\n",
      "relax()\n",
      "MaxDt = 5e-13\n",
      "B_ext = vector(B*0, B*1, B*0)\n",
      "run(1e-09)\n"
     ]
    },
    {
     "name": "stderr",
     "output_type": "stream",
     "text": [
      "//Using cached kernel: C:/Users/Rob/Desktop/Research/kernel-cache//mumax3kernel_[512 512 4]_[0 0 0]_[4e-09 4e-09 4e-09]_6_\n"
     ]
    },
    {
     "name": "stdout",
     "output_type": "stream",
     "text": [
      "//mumax 3.9.1c windows_amd64 go1.3.3 (gc)\n",
      "//CUDA 10020 TITAN Xp(12288MB) cc6.1, using CC53 PTX \n",
      "//(c) Arne Vansteenkiste, Dynamat LAB, Ghent University, Belgium\n",
      "//This is free software without any warranty. See license.txt\n",
      "//output directory: C:/Users/Rob/Desktop/Research/FMR_Paper/In_Plane_Field/In_Plane_Anis/HardAxis/ThinFilmFMR_BInPlane(20.2)_In_PlaneAnis_K(10000)_Ratio(1).out/\n",
      "//starting GUI at http://127.0.0.1:35367\n",
      "SetPBC(0, 0, 0)\n",
      "SetGridSize(512, 512.0, 4)\n",
      "SetCellSize(4e-9, 4e-9, 4e-9)\n",
      "Msat = 800000.0\n",
      "Aex = 1.3e-11\n",
      "alpha = 0.008\n",
      "edgesmooth = 8\n",
      "B := 20.2e-3\n",
      "anisU = vector(1.0, 0.0, 6.123233995736766e-17)\n",
      "Ku1 = 10000\n",
      "setSolver(5)\n",
      "TableAdd(Ku1)\n",
      "TableAdd(B_ext)\n",
      "TableAutoSave(5e-13)\n",
      "m = uniform(0, 1, 0)\n",
      "B_ext = vector(B*0.039891400317339676, B*0.9967530658528422, B*0.06994284733753288)\n",
      "relax()\n",
      "MaxDt = 5e-13\n",
      "B_ext = vector(B*0, B*1, B*0)\n",
      "run(1e-09)\n"
     ]
    },
    {
     "name": "stderr",
     "output_type": "stream",
     "text": [
      "//Using cached kernel: C:/Users/Rob/Desktop/Research/kernel-cache//mumax3kernel_[512 512 4]_[0 0 0]_[4e-09 4e-09 4e-09]_6_\n"
     ]
    },
    {
     "name": "stdout",
     "output_type": "stream",
     "text": [
      "//mumax 3.9.1c windows_amd64 go1.3.3 (gc)\n",
      "//CUDA 10020 TITAN Xp(12288MB) cc6.1, using CC53 PTX \n",
      "//(c) Arne Vansteenkiste, Dynamat LAB, Ghent University, Belgium\n",
      "//This is free software without any warranty. See license.txt\n",
      "//output directory: C:/Users/Rob/Desktop/Research/FMR_Paper/In_Plane_Field/In_Plane_Anis/HardAxis/ThinFilmFMR_BInPlane(20)_In_PlaneAnis_K(0)_Ratio(1).out/\n",
      "//starting GUI at http://127.0.0.1:35367\n",
      "SetPBC(0, 0, 0)\n",
      "SetGridSize(512, 512.0, 4)\n",
      "SetCellSize(4e-9, 4e-9, 4e-9)\n",
      "Msat = 800000.0\n",
      "Aex = 1.3e-11\n",
      "alpha = 0.008\n",
      "edgesmooth = 8\n",
      "B := 20e-3\n",
      "anisU = vector(1.0, 0.0, 6.123233995736766e-17)\n",
      "Ku1 = 0\n",
      "setSolver(5)\n",
      "TableAdd(Ku1)\n",
      "TableAdd(B_ext)\n",
      "TableAutoSave(5e-13)\n",
      "m = uniform(0, 1, 0)\n",
      "B_ext = vector(B*0.039891400317339676, B*0.9967530658528422, B*0.06994284733753288)\n",
      "relax()\n",
      "MaxDt = 5e-13\n",
      "B_ext = vector(B*0, B*1, B*0)\n",
      "run(1e-09)\n"
     ]
    },
    {
     "name": "stderr",
     "output_type": "stream",
     "text": [
      "//Using cached kernel: C:/Users/Rob/Desktop/Research/kernel-cache//mumax3kernel_[512 512 4]_[0 0 0]_[4e-09 4e-09 4e-09]_6_\n"
     ]
    },
    {
     "name": "stdout",
     "output_type": "stream",
     "text": [
      "//mumax 3.9.1c windows_amd64 go1.3.3 (gc)\n",
      "//CUDA 10020 TITAN Xp(12288MB) cc6.1, using CC53 PTX \n",
      "//(c) Arne Vansteenkiste, Dynamat LAB, Ghent University, Belgium\n",
      "//This is free software without any warranty. See license.txt\n",
      "//output directory: C:/Users/Rob/Desktop/Research/FMR_Paper/In_Plane_Field/In_Plane_Anis/HardAxis/ThinFilmFMR_BInPlane(2.78)_In_PlaneAnis_K(10000)_Ratio(1).out/\n",
      "//starting GUI at http://127.0.0.1:35367\n",
      "SetPBC(0, 0, 0)\n",
      "SetGridSize(512, 512.0, 4)\n",
      "SetCellSize(4e-9, 4e-9, 4e-9)\n",
      "Msat = 800000.0\n",
      "Aex = 1.3e-11\n",
      "alpha = 0.008\n",
      "edgesmooth = 8\n",
      "B := 2.78e-3\n",
      "anisU = vector(1.0, 0.0, 6.123233995736766e-17)\n",
      "Ku1 = 10000\n",
      "setSolver(5)\n",
      "TableAdd(Ku1)\n",
      "TableAdd(B_ext)\n",
      "TableAutoSave(5e-13)\n",
      "m = uniform(0, 1, 0)\n",
      "B_ext = vector(B*0.039891400317339676, B*0.9967530658528422, B*0.06994284733753288)\n",
      "relax()\n",
      "MaxDt = 5e-13\n",
      "B_ext = vector(B*0, B*1, B*0)\n",
      "run(1e-09)\n"
     ]
    },
    {
     "name": "stderr",
     "output_type": "stream",
     "text": [
      "//Using cached kernel: C:/Users/Rob/Desktop/Research/kernel-cache//mumax3kernel_[512 512 4]_[0 0 0]_[4e-09 4e-09 4e-09]_6_\n"
     ]
    },
    {
     "name": "stdout",
     "output_type": "stream",
     "text": [
      "//mumax 3.9.1c windows_amd64 go1.3.3 (gc)\n",
      "//CUDA 10020 TITAN Xp(12288MB) cc6.1, using CC53 PTX \n",
      "//(c) Arne Vansteenkiste, Dynamat LAB, Ghent University, Belgium\n",
      "//This is free software without any warranty. See license.txt\n",
      "//output directory: C:/Users/Rob/Desktop/Research/FMR_Paper/In_Plane_Field/In_Plane_Anis/HardAxis/ThinFilmFMR_BInPlane(2.53)_In_PlaneAnis_K(50000)_Ratio(1).out/\n",
      "//starting GUI at http://127.0.0.1:35367\n",
      "SetPBC(0, 0, 0)\n",
      "SetGridSize(512, 512.0, 4)\n",
      "SetCellSize(4e-9, 4e-9, 4e-9)\n",
      "Msat = 800000.0\n",
      "Aex = 1.3e-11\n",
      "alpha = 0.008\n",
      "edgesmooth = 8\n",
      "B := 2.53e-3\n",
      "anisU = vector(1.0, 0.0, 6.123233995736766e-17)\n",
      "Ku1 = 50000\n",
      "setSolver(5)\n",
      "TableAdd(Ku1)\n",
      "TableAdd(B_ext)\n",
      "TableAutoSave(5e-13)\n",
      "m = uniform(0, 1, 0)\n",
      "B_ext = vector(B*0.039891400317339676, B*0.9967530658528422, B*0.06994284733753288)\n",
      "relax()\n",
      "MaxDt = 5e-13\n",
      "B_ext = vector(B*0, B*1, B*0)\n",
      "run(1e-09)\n"
     ]
    },
    {
     "name": "stderr",
     "output_type": "stream",
     "text": [
      "//Using cached kernel: C:/Users/Rob/Desktop/Research/kernel-cache//mumax3kernel_[512 512 4]_[0 0 0]_[4e-09 4e-09 4e-09]_6_\n"
     ]
    },
    {
     "name": "stdout",
     "output_type": "stream",
     "text": [
      "//mumax 3.9.1c windows_amd64 go1.3.3 (gc)\n",
      "//CUDA 10020 TITAN Xp(12288MB) cc6.1, using CC53 PTX \n",
      "//(c) Arne Vansteenkiste, Dynamat LAB, Ghent University, Belgium\n",
      "//This is free software without any warranty. See license.txt\n",
      "//output directory: C:/Users/Rob/Desktop/Research/FMR_Paper/In_Plane_Field/In_Plane_Anis/HardAxis/ThinFilmFMR_BInPlane(2.53)_In_PlaneAnis_K(20000)_Ratio(1).out/\n",
      "//starting GUI at http://127.0.0.1:35367\n",
      "SetPBC(0, 0, 0)\n",
      "SetGridSize(512, 512.0, 4)\n",
      "SetCellSize(4e-9, 4e-9, 4e-9)\n",
      "Msat = 800000.0\n",
      "Aex = 1.3e-11\n",
      "alpha = 0.008\n",
      "edgesmooth = 8\n",
      "B := 2.53e-3\n",
      "anisU = vector(1.0, 0.0, 6.123233995736766e-17)\n",
      "Ku1 = 20000\n",
      "setSolver(5)\n",
      "TableAdd(Ku1)\n",
      "TableAdd(B_ext)\n",
      "TableAutoSave(5e-13)\n",
      "m = uniform(0, 1, 0)\n",
      "B_ext = vector(B*0.039891400317339676, B*0.9967530658528422, B*0.06994284733753288)\n",
      "relax()\n",
      "MaxDt = 5e-13\n",
      "B_ext = vector(B*0, B*1, B*0)\n",
      "run(1e-09)\n"
     ]
    },
    {
     "name": "stderr",
     "output_type": "stream",
     "text": [
      "//Using cached kernel: C:/Users/Rob/Desktop/Research/kernel-cache//mumax3kernel_[512 512 4]_[0 0 0]_[4e-09 4e-09 4e-09]_6_\n"
     ]
    },
    {
     "name": "stdout",
     "output_type": "stream",
     "text": [
      "//mumax 3.9.1c windows_amd64 go1.3.3 (gc)\n",
      "//CUDA 10020 TITAN Xp(12288MB) cc6.1, using CC53 PTX \n",
      "//(c) Arne Vansteenkiste, Dynamat LAB, Ghent University, Belgium\n",
      "//This is free software without any warranty. See license.txt\n",
      "//output directory: C:/Users/Rob/Desktop/Research/FMR_Paper/In_Plane_Field/In_Plane_Anis/HardAxis/ThinFilmFMR_BInPlane(2.53)_In_PlaneAnis_K(100000)_Ratio(1).out/\n",
      "//starting GUI at http://127.0.0.1:35367\n",
      "SetPBC(0, 0, 0)\n",
      "SetGridSize(512, 512.0, 4)\n",
      "SetCellSize(4e-9, 4e-9, 4e-9)\n",
      "Msat = 800000.0\n",
      "Aex = 1.3e-11\n",
      "alpha = 0.008\n",
      "edgesmooth = 8\n",
      "B := 2.53e-3\n",
      "anisU = vector(1.0, 0.0, 6.123233995736766e-17)\n",
      "Ku1 = 100000\n",
      "setSolver(5)\n",
      "TableAdd(Ku1)\n",
      "TableAdd(B_ext)\n",
      "TableAutoSave(5e-13)\n",
      "m = uniform(0, 1, 0)\n",
      "B_ext = vector(B*0.039891400317339676, B*0.9967530658528422, B*0.06994284733753288)\n",
      "relax()\n",
      "MaxDt = 5e-13\n",
      "B_ext = vector(B*0, B*1, B*0)\n",
      "run(1e-09)\n"
     ]
    },
    {
     "name": "stderr",
     "output_type": "stream",
     "text": [
      "//Using cached kernel: C:/Users/Rob/Desktop/Research/kernel-cache//mumax3kernel_[512 512 4]_[0 0 0]_[4e-09 4e-09 4e-09]_6_\n"
     ]
    },
    {
     "name": "stdout",
     "output_type": "stream",
     "text": [
      "//mumax 3.9.1c windows_amd64 go1.3.3 (gc)\n",
      "//CUDA 10020 TITAN Xp(12288MB) cc6.1, using CC53 PTX \n",
      "//(c) Arne Vansteenkiste, Dynamat LAB, Ghent University, Belgium\n",
      "//This is free software without any warranty. See license.txt\n",
      "//output directory: C:/Users/Rob/Desktop/Research/FMR_Paper/In_Plane_Field/In_Plane_Anis/HardAxis/ThinFilmFMR_BInPlane(2.53)_In_PlaneAnis_K(10000)_Ratio(1).out/\n",
      "//starting GUI at http://127.0.0.1:35367\n",
      "SetPBC(0, 0, 0)\n",
      "SetGridSize(512, 512.0, 4)\n",
      "SetCellSize(4e-9, 4e-9, 4e-9)\n",
      "Msat = 800000.0\n",
      "Aex = 1.3e-11\n",
      "alpha = 0.008\n",
      "edgesmooth = 8\n",
      "B := 2.53e-3\n",
      "anisU = vector(1.0, 0.0, 6.123233995736766e-17)\n",
      "Ku1 = 10000\n",
      "setSolver(5)\n",
      "TableAdd(Ku1)\n",
      "TableAdd(B_ext)\n",
      "TableAutoSave(5e-13)\n",
      "m = uniform(0, 1, 0)\n",
      "B_ext = vector(B*0.039891400317339676, B*0.9967530658528422, B*0.06994284733753288)\n",
      "relax()\n",
      "MaxDt = 5e-13\n",
      "B_ext = vector(B*0, B*1, B*0)\n",
      "run(1e-09)\n"
     ]
    },
    {
     "name": "stderr",
     "output_type": "stream",
     "text": [
      "//Using cached kernel: C:/Users/Rob/Desktop/Research/kernel-cache//mumax3kernel_[512 512 4]_[0 0 0]_[4e-09 4e-09 4e-09]_6_\n"
     ]
    },
    {
     "name": "stdout",
     "output_type": "stream",
     "text": [
      "//mumax 3.9.1c windows_amd64 go1.3.3 (gc)\n",
      "//CUDA 10020 TITAN Xp(12288MB) cc6.1, using CC53 PTX \n",
      "//(c) Arne Vansteenkiste, Dynamat LAB, Ghent University, Belgium\n",
      "//This is free software without any warranty. See license.txt\n",
      "//output directory: C:/Users/Rob/Desktop/Research/FMR_Paper/In_Plane_Field/In_Plane_Anis/HardAxis/ThinFilmFMR_BInPlane(2.27)_In_PlaneAnis_K(90000)_Ratio(1).out/\n",
      "//starting GUI at http://127.0.0.1:35367\n",
      "SetPBC(0, 0, 0)\n",
      "SetGridSize(512, 512.0, 4)\n",
      "SetCellSize(4e-9, 4e-9, 4e-9)\n",
      "Msat = 800000.0\n",
      "Aex = 1.3e-11\n",
      "alpha = 0.008\n",
      "edgesmooth = 8\n",
      "B := 2.27e-3\n",
      "anisU = vector(1.0, 0.0, 6.123233995736766e-17)\n",
      "Ku1 = 90000\n",
      "setSolver(5)\n",
      "TableAdd(Ku1)\n",
      "TableAdd(B_ext)\n",
      "TableAutoSave(5e-13)\n",
      "m = uniform(0, 1, 0)\n",
      "B_ext = vector(B*0.039891400317339676, B*0.9967530658528422, B*0.06994284733753288)\n",
      "relax()\n",
      "MaxDt = 5e-13\n",
      "B_ext = vector(B*0, B*1, B*0)\n",
      "run(1e-09)\n"
     ]
    },
    {
     "name": "stderr",
     "output_type": "stream",
     "text": [
      "//Using cached kernel: C:/Users/Rob/Desktop/Research/kernel-cache//mumax3kernel_[512 512 4]_[0 0 0]_[4e-09 4e-09 4e-09]_6_\n"
     ]
    },
    {
     "name": "stdout",
     "output_type": "stream",
     "text": [
      "//mumax 3.9.1c windows_amd64 go1.3.3 (gc)\n",
      "//CUDA 10020 TITAN Xp(12288MB) cc6.1, using CC53 PTX \n",
      "//(c) Arne Vansteenkiste, Dynamat LAB, Ghent University, Belgium\n",
      "//This is free software without any warranty. See license.txt\n",
      "//output directory: C:/Users/Rob/Desktop/Research/FMR_Paper/In_Plane_Field/In_Plane_Anis/HardAxis/ThinFilmFMR_BInPlane(2.27)_In_PlaneAnis_K(30000)_Ratio(1).out/\n",
      "//starting GUI at http://127.0.0.1:35367\n",
      "SetPBC(0, 0, 0)\n",
      "SetGridSize(512, 512.0, 4)\n",
      "SetCellSize(4e-9, 4e-9, 4e-9)\n",
      "Msat = 800000.0\n",
      "Aex = 1.3e-11\n",
      "alpha = 0.008\n",
      "edgesmooth = 8\n",
      "B := 2.27e-3\n",
      "anisU = vector(1.0, 0.0, 6.123233995736766e-17)\n",
      "Ku1 = 30000\n",
      "setSolver(5)\n",
      "TableAdd(Ku1)\n",
      "TableAdd(B_ext)\n",
      "TableAutoSave(5e-13)\n",
      "m = uniform(0, 1, 0)\n",
      "B_ext = vector(B*0.039891400317339676, B*0.9967530658528422, B*0.06994284733753288)\n",
      "relax()\n",
      "MaxDt = 5e-13\n",
      "B_ext = vector(B*0, B*1, B*0)\n",
      "run(1e-09)\n"
     ]
    },
    {
     "name": "stderr",
     "output_type": "stream",
     "text": [
      "//Using cached kernel: C:/Users/Rob/Desktop/Research/kernel-cache//mumax3kernel_[512 512 4]_[0 0 0]_[4e-09 4e-09 4e-09]_6_\n"
     ]
    },
    {
     "name": "stdout",
     "output_type": "stream",
     "text": [
      "//mumax 3.9.1c windows_amd64 go1.3.3 (gc)\n",
      "//CUDA 10020 TITAN Xp(12288MB) cc6.1, using CC53 PTX \n",
      "//(c) Arne Vansteenkiste, Dynamat LAB, Ghent University, Belgium\n",
      "//This is free software without any warranty. See license.txt\n",
      "//output directory: C:/Users/Rob/Desktop/Research/FMR_Paper/In_Plane_Field/In_Plane_Anis/HardAxis/ThinFilmFMR_BInPlane(2.27)_In_PlaneAnis_K(10000)_Ratio(1).out/\n",
      "//starting GUI at http://127.0.0.1:35367\n",
      "SetPBC(0, 0, 0)\n",
      "SetGridSize(512, 512.0, 4)\n",
      "SetCellSize(4e-9, 4e-9, 4e-9)\n",
      "Msat = 800000.0\n",
      "Aex = 1.3e-11\n",
      "alpha = 0.008\n",
      "edgesmooth = 8\n",
      "B := 2.27e-3\n",
      "anisU = vector(1.0, 0.0, 6.123233995736766e-17)\n",
      "Ku1 = 10000\n",
      "setSolver(5)\n",
      "TableAdd(Ku1)\n",
      "TableAdd(B_ext)\n",
      "TableAutoSave(5e-13)\n",
      "m = uniform(0, 1, 0)\n",
      "B_ext = vector(B*0.039891400317339676, B*0.9967530658528422, B*0.06994284733753288)\n",
      "relax()\n",
      "MaxDt = 5e-13\n",
      "B_ext = vector(B*0, B*1, B*0)\n",
      "run(1e-09)\n"
     ]
    },
    {
     "name": "stderr",
     "output_type": "stream",
     "text": [
      "//Using cached kernel: C:/Users/Rob/Desktop/Research/kernel-cache//mumax3kernel_[512 512 4]_[0 0 0]_[4e-09 4e-09 4e-09]_6_\n"
     ]
    },
    {
     "name": "stdout",
     "output_type": "stream",
     "text": [
      "//mumax 3.9.1c windows_amd64 go1.3.3 (gc)\n",
      "//CUDA 10020 TITAN Xp(12288MB) cc6.1, using CC53 PTX \n",
      "//(c) Arne Vansteenkiste, Dynamat LAB, Ghent University, Belgium\n",
      "//This is free software without any warranty. See license.txt\n",
      "//output directory: C:/Users/Rob/Desktop/Research/FMR_Paper/In_Plane_Field/In_Plane_Anis/HardAxis/ThinFilmFMR_BInPlane(2.02)_In_PlaneAnis_K(80000)_Ratio(1).out/\n",
      "//starting GUI at http://127.0.0.1:35367\n",
      "SetPBC(0, 0, 0)\n",
      "SetGridSize(512, 512.0, 4)\n",
      "SetCellSize(4e-9, 4e-9, 4e-9)\n",
      "Msat = 800000.0\n",
      "Aex = 1.3e-11\n",
      "alpha = 0.008\n",
      "edgesmooth = 8\n",
      "B := 2.02e-3\n",
      "anisU = vector(1.0, 0.0, 6.123233995736766e-17)\n",
      "Ku1 = 80000\n",
      "setSolver(5)\n",
      "TableAdd(Ku1)\n",
      "TableAdd(B_ext)\n",
      "TableAutoSave(5e-13)\n",
      "m = uniform(0, 1, 0)\n",
      "B_ext = vector(B*0.039891400317339676, B*0.9967530658528422, B*0.06994284733753288)\n",
      "relax()\n",
      "MaxDt = 5e-13\n",
      "B_ext = vector(B*0, B*1, B*0)\n",
      "run(1e-09)\n"
     ]
    },
    {
     "name": "stderr",
     "output_type": "stream",
     "text": [
      "//Using cached kernel: C:/Users/Rob/Desktop/Research/kernel-cache//mumax3kernel_[512 512 4]_[0 0 0]_[4e-09 4e-09 4e-09]_6_\n"
     ]
    },
    {
     "name": "stdout",
     "output_type": "stream",
     "text": [
      "//mumax 3.9.1c windows_amd64 go1.3.3 (gc)\n",
      "//CUDA 10020 TITAN Xp(12288MB) cc6.1, using CC53 PTX \n",
      "//(c) Arne Vansteenkiste, Dynamat LAB, Ghent University, Belgium\n",
      "//This is free software without any warranty. See license.txt\n",
      "//output directory: C:/Users/Rob/Desktop/Research/FMR_Paper/In_Plane_Field/In_Plane_Anis/HardAxis/ThinFilmFMR_BInPlane(2.02)_In_PlaneAnis_K(40000)_Ratio(1).out/\n",
      "//starting GUI at http://127.0.0.1:35367\n",
      "SetPBC(0, 0, 0)\n",
      "SetGridSize(512, 512.0, 4)\n",
      "SetCellSize(4e-9, 4e-9, 4e-9)\n",
      "Msat = 800000.0\n",
      "Aex = 1.3e-11\n",
      "alpha = 0.008\n",
      "edgesmooth = 8\n",
      "B := 2.02e-3\n",
      "anisU = vector(1.0, 0.0, 6.123233995736766e-17)\n",
      "Ku1 = 40000\n",
      "setSolver(5)\n",
      "TableAdd(Ku1)\n",
      "TableAdd(B_ext)\n",
      "TableAutoSave(5e-13)\n",
      "m = uniform(0, 1, 0)\n",
      "B_ext = vector(B*0.039891400317339676, B*0.9967530658528422, B*0.06994284733753288)\n",
      "relax()\n",
      "MaxDt = 5e-13\n",
      "B_ext = vector(B*0, B*1, B*0)\n",
      "run(1e-09)\n"
     ]
    },
    {
     "name": "stderr",
     "output_type": "stream",
     "text": [
      "//Using cached kernel: C:/Users/Rob/Desktop/Research/kernel-cache//mumax3kernel_[512 512 4]_[0 0 0]_[4e-09 4e-09 4e-09]_6_\n"
     ]
    },
    {
     "name": "stdout",
     "output_type": "stream",
     "text": [
      "//mumax 3.9.1c windows_amd64 go1.3.3 (gc)\n",
      "//CUDA 10020 TITAN Xp(12288MB) cc6.1, using CC53 PTX \n",
      "//(c) Arne Vansteenkiste, Dynamat LAB, Ghent University, Belgium\n",
      "//This is free software without any warranty. See license.txt\n",
      "//output directory: C:/Users/Rob/Desktop/Research/FMR_Paper/In_Plane_Field/In_Plane_Anis/HardAxis/ThinFilmFMR_BInPlane(2.02)_In_PlaneAnis_K(20000)_Ratio(1).out/\n",
      "//starting GUI at http://127.0.0.1:35367\n",
      "SetPBC(0, 0, 0)\n",
      "SetGridSize(512, 512.0, 4)\n",
      "SetCellSize(4e-9, 4e-9, 4e-9)\n",
      "Msat = 800000.0\n",
      "Aex = 1.3e-11\n",
      "alpha = 0.008\n",
      "edgesmooth = 8\n",
      "B := 2.02e-3\n",
      "anisU = vector(1.0, 0.0, 6.123233995736766e-17)\n",
      "Ku1 = 20000\n",
      "setSolver(5)\n",
      "TableAdd(Ku1)\n",
      "TableAdd(B_ext)\n",
      "TableAutoSave(5e-13)\n",
      "m = uniform(0, 1, 0)\n",
      "B_ext = vector(B*0.039891400317339676, B*0.9967530658528422, B*0.06994284733753288)\n",
      "relax()\n",
      "MaxDt = 5e-13\n",
      "B_ext = vector(B*0, B*1, B*0)\n",
      "run(1e-09)\n"
     ]
    },
    {
     "name": "stderr",
     "output_type": "stream",
     "text": [
      "//Using cached kernel: C:/Users/Rob/Desktop/Research/kernel-cache//mumax3kernel_[512 512 4]_[0 0 0]_[4e-09 4e-09 4e-09]_6_\n"
     ]
    },
    {
     "name": "stdout",
     "output_type": "stream",
     "text": [
      "//mumax 3.9.1c windows_amd64 go1.3.3 (gc)\n",
      "//CUDA 10020 TITAN Xp(12288MB) cc6.1, using CC53 PTX \n",
      "//(c) Arne Vansteenkiste, Dynamat LAB, Ghent University, Belgium\n",
      "//This is free software without any warranty. See license.txt\n",
      "//output directory: C:/Users/Rob/Desktop/Research/FMR_Paper/In_Plane_Field/In_Plane_Anis/HardAxis/ThinFilmFMR_BInPlane(2.02)_In_PlaneAnis_K(10000)_Ratio(1).out/\n",
      "//starting GUI at http://127.0.0.1:35367\n",
      "SetPBC(0, 0, 0)\n",
      "SetGridSize(512, 512.0, 4)\n",
      "SetCellSize(4e-9, 4e-9, 4e-9)\n",
      "Msat = 800000.0\n",
      "Aex = 1.3e-11\n",
      "alpha = 0.008\n",
      "edgesmooth = 8\n",
      "B := 2.02e-3\n",
      "anisU = vector(1.0, 0.0, 6.123233995736766e-17)\n",
      "Ku1 = 10000\n",
      "setSolver(5)\n",
      "TableAdd(Ku1)\n",
      "TableAdd(B_ext)\n",
      "TableAutoSave(5e-13)\n",
      "m = uniform(0, 1, 0)\n",
      "B_ext = vector(B*0.039891400317339676, B*0.9967530658528422, B*0.06994284733753288)\n",
      "relax()\n",
      "MaxDt = 5e-13\n",
      "B_ext = vector(B*0, B*1, B*0)\n",
      "run(1e-09)\n"
     ]
    },
    {
     "name": "stderr",
     "output_type": "stream",
     "text": [
      "//Using cached kernel: C:/Users/Rob/Desktop/Research/kernel-cache//mumax3kernel_[512 512 4]_[0 0 0]_[4e-09 4e-09 4e-09]_6_\n"
     ]
    },
    {
     "name": "stdout",
     "output_type": "stream",
     "text": [
      "//mumax 3.9.1c windows_amd64 go1.3.3 (gc)\n",
      "//CUDA 10020 TITAN Xp(12288MB) cc6.1, using CC53 PTX \n",
      "//(c) Arne Vansteenkiste, Dynamat LAB, Ghent University, Belgium\n",
      "//This is free software without any warranty. See license.txt\n",
      "//output directory: C:/Users/Rob/Desktop/Research/FMR_Paper/In_Plane_Field/In_Plane_Anis/HardAxis/ThinFilmFMR_BInPlane(1990)_In_PlaneAnis_K(0)_Ratio(1).out/\n",
      "//starting GUI at http://127.0.0.1:35367\n",
      "SetPBC(0, 0, 0)\n",
      "SetGridSize(512, 512.0, 4)\n",
      "SetCellSize(4e-9, 4e-9, 4e-9)\n",
      "Msat = 800000.0\n",
      "Aex = 1.3e-11\n",
      "alpha = 0.008\n",
      "edgesmooth = 8\n",
      "B := 1990e-3\n",
      "anisU = vector(1.0, 0.0, 6.123233995736766e-17)\n",
      "Ku1 = 0\n",
      "setSolver(5)\n",
      "TableAdd(Ku1)\n",
      "TableAdd(B_ext)\n",
      "TableAutoSave(5e-13)\n",
      "m = uniform(0, 1, 0)\n",
      "B_ext = vector(B*0.039891400317339676, B*0.9967530658528422, B*0.06994284733753288)\n",
      "relax()\n",
      "MaxDt = 5e-13\n",
      "B_ext = vector(B*0, B*1, B*0)\n",
      "run(1e-09)\n"
     ]
    },
    {
     "name": "stderr",
     "output_type": "stream",
     "text": [
      "//Using cached kernel: C:/Users/Rob/Desktop/Research/kernel-cache//mumax3kernel_[512 512 4]_[0 0 0]_[4e-09 4e-09 4e-09]_6_\n"
     ]
    },
    {
     "name": "stdout",
     "output_type": "stream",
     "text": [
      "//mumax 3.9.1c windows_amd64 go1.3.3 (gc)\n",
      "//CUDA 10020 TITAN Xp(12288MB) cc6.1, using CC53 PTX \n",
      "//(c) Arne Vansteenkiste, Dynamat LAB, Ghent University, Belgium\n",
      "//This is free software without any warranty. See license.txt\n",
      "//output directory: C:/Users/Rob/Desktop/Research/FMR_Paper/In_Plane_Field/In_Plane_Anis/HardAxis/ThinFilmFMR_BInPlane(199.49)_In_PlaneAnis_K(100000)_Ratio(1).out/\n",
      "//starting GUI at http://127.0.0.1:35367\n",
      "SetPBC(0, 0, 0)\n",
      "SetGridSize(512, 512.0, 4)\n",
      "SetCellSize(4e-9, 4e-9, 4e-9)\n",
      "Msat = 800000.0\n",
      "Aex = 1.3e-11\n",
      "alpha = 0.008\n",
      "edgesmooth = 8\n",
      "B := 199.49e-3\n",
      "anisU = vector(1.0, 0.0, 6.123233995736766e-17)\n",
      "Ku1 = 100000\n",
      "setSolver(5)\n",
      "TableAdd(Ku1)\n",
      "TableAdd(B_ext)\n",
      "TableAutoSave(5e-13)\n",
      "m = uniform(0, 1, 0)\n",
      "B_ext = vector(B*0.039891400317339676, B*0.9967530658528422, B*0.06994284733753288)\n",
      "relax()\n",
      "MaxDt = 5e-13\n",
      "B_ext = vector(B*0, B*1, B*0)\n",
      "run(1e-09)\n"
     ]
    },
    {
     "name": "stderr",
     "output_type": "stream",
     "text": [
      "//Using cached kernel: C:/Users/Rob/Desktop/Research/kernel-cache//mumax3kernel_[512 512 4]_[0 0 0]_[4e-09 4e-09 4e-09]_6_\n"
     ]
    },
    {
     "name": "stdout",
     "output_type": "stream",
     "text": [
      "//mumax 3.9.1c windows_amd64 go1.3.3 (gc)\n",
      "//CUDA 10020 TITAN Xp(12288MB) cc6.1, using CC53 PTX \n",
      "//(c) Arne Vansteenkiste, Dynamat LAB, Ghent University, Belgium\n",
      "//This is free software without any warranty. See license.txt\n",
      "//output directory: C:/Users/Rob/Desktop/Research/FMR_Paper/In_Plane_Field/In_Plane_Anis/HardAxis/ThinFilmFMR_BInPlane(1982.32)_In_PlaneAnis_K(100000)_Ratio(1).out/\n",
      "//starting GUI at http://127.0.0.1:35367\n",
      "SetPBC(0, 0, 0)\n",
      "SetGridSize(512, 512.0, 4)\n",
      "SetCellSize(4e-9, 4e-9, 4e-9)\n",
      "Msat = 800000.0\n",
      "Aex = 1.3e-11\n",
      "alpha = 0.008\n",
      "edgesmooth = 8\n",
      "B := 1982.32e-3\n",
      "anisU = vector(1.0, 0.0, 6.123233995736766e-17)\n",
      "Ku1 = 100000\n",
      "setSolver(5)\n",
      "TableAdd(Ku1)\n",
      "TableAdd(B_ext)\n",
      "TableAutoSave(5e-13)\n",
      "m = uniform(0, 1, 0)\n",
      "B_ext = vector(B*0.039891400317339676, B*0.9967530658528422, B*0.06994284733753288)\n",
      "relax()\n",
      "MaxDt = 5e-13\n",
      "B_ext = vector(B*0, B*1, B*0)\n",
      "run(1e-09)\n"
     ]
    },
    {
     "name": "stderr",
     "output_type": "stream",
     "text": [
      "//Using cached kernel: C:/Users/Rob/Desktop/Research/kernel-cache//mumax3kernel_[512 512 4]_[0 0 0]_[4e-09 4e-09 4e-09]_6_\n"
     ]
    },
    {
     "name": "stdout",
     "output_type": "stream",
     "text": [
      "//mumax 3.9.1c windows_amd64 go1.3.3 (gc)\n",
      "//CUDA 10020 TITAN Xp(12288MB) cc6.1, using CC53 PTX \n",
      "//(c) Arne Vansteenkiste, Dynamat LAB, Ghent University, Belgium\n",
      "//This is free software without any warranty. See license.txt\n",
      "//output directory: C:/Users/Rob/Desktop/Research/FMR_Paper/In_Plane_Field/In_Plane_Anis/HardAxis/ThinFilmFMR_BInPlane(1982.07)_In_PlaneAnis_K(90000)_Ratio(1).out/\n",
      "//starting GUI at http://127.0.0.1:35367\n",
      "SetPBC(0, 0, 0)\n",
      "SetGridSize(512, 512.0, 4)\n",
      "SetCellSize(4e-9, 4e-9, 4e-9)\n",
      "Msat = 800000.0\n",
      "Aex = 1.3e-11\n",
      "alpha = 0.008\n",
      "edgesmooth = 8\n",
      "B := 1982.07e-3\n",
      "anisU = vector(1.0, 0.0, 6.123233995736766e-17)\n",
      "Ku1 = 90000\n",
      "setSolver(5)\n",
      "TableAdd(Ku1)\n",
      "TableAdd(B_ext)\n",
      "TableAutoSave(5e-13)\n",
      "m = uniform(0, 1, 0)\n",
      "B_ext = vector(B*0.039891400317339676, B*0.9967530658528422, B*0.06994284733753288)\n",
      "relax()\n",
      "MaxDt = 5e-13\n",
      "B_ext = vector(B*0, B*1, B*0)\n",
      "run(1e-09)\n"
     ]
    },
    {
     "name": "stderr",
     "output_type": "stream",
     "text": [
      "//Using cached kernel: C:/Users/Rob/Desktop/Research/kernel-cache//mumax3kernel_[512 512 4]_[0 0 0]_[4e-09 4e-09 4e-09]_6_\n"
     ]
    },
    {
     "name": "stdout",
     "output_type": "stream",
     "text": [
      "//mumax 3.9.1c windows_amd64 go1.3.3 (gc)\n",
      "//CUDA 10020 TITAN Xp(12288MB) cc6.1, using CC53 PTX \n",
      "//(c) Arne Vansteenkiste, Dynamat LAB, Ghent University, Belgium\n",
      "//This is free software without any warranty. See license.txt\n",
      "//output directory: C:/Users/Rob/Desktop/Research/FMR_Paper/In_Plane_Field/In_Plane_Anis/HardAxis/ThinFilmFMR_BInPlane(1981.82)_In_PlaneAnis_K(80000)_Ratio(1).out/\n",
      "//starting GUI at http://127.0.0.1:35367\n",
      "SetPBC(0, 0, 0)\n",
      "SetGridSize(512, 512.0, 4)\n",
      "SetCellSize(4e-9, 4e-9, 4e-9)\n",
      "Msat = 800000.0\n",
      "Aex = 1.3e-11\n",
      "alpha = 0.008\n",
      "edgesmooth = 8\n",
      "B := 1981.82e-3\n",
      "anisU = vector(1.0, 0.0, 6.123233995736766e-17)\n",
      "Ku1 = 80000\n",
      "setSolver(5)\n",
      "TableAdd(Ku1)\n",
      "TableAdd(B_ext)\n",
      "TableAutoSave(5e-13)\n",
      "m = uniform(0, 1, 0)\n",
      "B_ext = vector(B*0.039891400317339676, B*0.9967530658528422, B*0.06994284733753288)\n",
      "relax()\n",
      "MaxDt = 5e-13\n",
      "B_ext = vector(B*0, B*1, B*0)\n",
      "run(1e-09)\n"
     ]
    },
    {
     "name": "stderr",
     "output_type": "stream",
     "text": [
      "//Using cached kernel: C:/Users/Rob/Desktop/Research/kernel-cache//mumax3kernel_[512 512 4]_[0 0 0]_[4e-09 4e-09 4e-09]_6_\n"
     ]
    },
    {
     "name": "stdout",
     "output_type": "stream",
     "text": [
      "//mumax 3.9.1c windows_amd64 go1.3.3 (gc)\n",
      "//CUDA 10020 TITAN Xp(12288MB) cc6.1, using CC53 PTX \n",
      "//(c) Arne Vansteenkiste, Dynamat LAB, Ghent University, Belgium\n",
      "//This is free software without any warranty. See license.txt\n",
      "//output directory: C:/Users/Rob/Desktop/Research/FMR_Paper/In_Plane_Field/In_Plane_Anis/HardAxis/ThinFilmFMR_BInPlane(1981.57)_In_PlaneAnis_K(70000)_Ratio(1).out/\n",
      "//starting GUI at http://127.0.0.1:35367\n",
      "SetPBC(0, 0, 0)\n",
      "SetGridSize(512, 512.0, 4)\n",
      "SetCellSize(4e-9, 4e-9, 4e-9)\n",
      "Msat = 800000.0\n",
      "Aex = 1.3e-11\n",
      "alpha = 0.008\n",
      "edgesmooth = 8\n",
      "B := 1981.57e-3\n",
      "anisU = vector(1.0, 0.0, 6.123233995736766e-17)\n",
      "Ku1 = 70000\n",
      "setSolver(5)\n",
      "TableAdd(Ku1)\n",
      "TableAdd(B_ext)\n",
      "TableAutoSave(5e-13)\n",
      "m = uniform(0, 1, 0)\n",
      "B_ext = vector(B*0.039891400317339676, B*0.9967530658528422, B*0.06994284733753288)\n",
      "relax()\n",
      "MaxDt = 5e-13\n",
      "B_ext = vector(B*0, B*1, B*0)\n",
      "run(1e-09)\n"
     ]
    },
    {
     "name": "stderr",
     "output_type": "stream",
     "text": [
      "//Using cached kernel: C:/Users/Rob/Desktop/Research/kernel-cache//mumax3kernel_[512 512 4]_[0 0 0]_[4e-09 4e-09 4e-09]_6_\n"
     ]
    },
    {
     "name": "stdout",
     "output_type": "stream",
     "text": [
      "//mumax 3.9.1c windows_amd64 go1.3.3 (gc)\n",
      "//CUDA 10020 TITAN Xp(12288MB) cc6.1, using CC53 PTX \n",
      "//(c) Arne Vansteenkiste, Dynamat LAB, Ghent University, Belgium\n",
      "//This is free software without any warranty. See license.txt\n",
      "//output directory: C:/Users/Rob/Desktop/Research/FMR_Paper/In_Plane_Field/In_Plane_Anis/HardAxis/ThinFilmFMR_BInPlane(1981.31)_In_PlaneAnis_K(60000)_Ratio(1).out/\n",
      "//starting GUI at http://127.0.0.1:35367\n",
      "SetPBC(0, 0, 0)\n",
      "SetGridSize(512, 512.0, 4)\n",
      "SetCellSize(4e-9, 4e-9, 4e-9)\n",
      "Msat = 800000.0\n",
      "Aex = 1.3e-11\n",
      "alpha = 0.008\n",
      "edgesmooth = 8\n",
      "B := 1981.31e-3\n",
      "anisU = vector(1.0, 0.0, 6.123233995736766e-17)\n",
      "Ku1 = 60000\n",
      "setSolver(5)\n",
      "TableAdd(Ku1)\n",
      "TableAdd(B_ext)\n",
      "TableAutoSave(5e-13)\n",
      "m = uniform(0, 1, 0)\n",
      "B_ext = vector(B*0.039891400317339676, B*0.9967530658528422, B*0.06994284733753288)\n",
      "relax()\n",
      "MaxDt = 5e-13\n",
      "B_ext = vector(B*0, B*1, B*0)\n",
      "run(1e-09)\n"
     ]
    },
    {
     "name": "stderr",
     "output_type": "stream",
     "text": [
      "//Using cached kernel: C:/Users/Rob/Desktop/Research/kernel-cache//mumax3kernel_[512 512 4]_[0 0 0]_[4e-09 4e-09 4e-09]_6_\n"
     ]
    },
    {
     "name": "stdout",
     "output_type": "stream",
     "text": [
      "//mumax 3.9.1c windows_amd64 go1.3.3 (gc)\n",
      "//CUDA 10020 TITAN Xp(12288MB) cc6.1, using CC53 PTX \n",
      "//(c) Arne Vansteenkiste, Dynamat LAB, Ghent University, Belgium\n",
      "//This is free software without any warranty. See license.txt\n",
      "//output directory: C:/Users/Rob/Desktop/Research/FMR_Paper/In_Plane_Field/In_Plane_Anis/HardAxis/ThinFilmFMR_BInPlane(1981.06)_In_PlaneAnis_K(50000)_Ratio(1).out/\n",
      "//starting GUI at http://127.0.0.1:35367\n",
      "SetPBC(0, 0, 0)\n",
      "SetGridSize(512, 512.0, 4)\n",
      "SetCellSize(4e-9, 4e-9, 4e-9)\n",
      "Msat = 800000.0\n",
      "Aex = 1.3e-11\n",
      "alpha = 0.008\n",
      "edgesmooth = 8\n",
      "B := 1981.06e-3\n",
      "anisU = vector(1.0, 0.0, 6.123233995736766e-17)\n",
      "Ku1 = 50000\n",
      "setSolver(5)\n",
      "TableAdd(Ku1)\n",
      "TableAdd(B_ext)\n",
      "TableAutoSave(5e-13)\n",
      "m = uniform(0, 1, 0)\n",
      "B_ext = vector(B*0.039891400317339676, B*0.9967530658528422, B*0.06994284733753288)\n",
      "relax()\n",
      "MaxDt = 5e-13\n",
      "B_ext = vector(B*0, B*1, B*0)\n",
      "run(1e-09)\n"
     ]
    },
    {
     "name": "stderr",
     "output_type": "stream",
     "text": [
      "//Using cached kernel: C:/Users/Rob/Desktop/Research/kernel-cache//mumax3kernel_[512 512 4]_[0 0 0]_[4e-09 4e-09 4e-09]_6_\n"
     ]
    },
    {
     "name": "stdout",
     "output_type": "stream",
     "text": [
      "//mumax 3.9.1c windows_amd64 go1.3.3 (gc)\n",
      "//CUDA 10020 TITAN Xp(12288MB) cc6.1, using CC53 PTX \n",
      "//(c) Arne Vansteenkiste, Dynamat LAB, Ghent University, Belgium\n",
      "//This is free software without any warranty. See license.txt\n",
      "//output directory: C:/Users/Rob/Desktop/Research/FMR_Paper/In_Plane_Field/In_Plane_Anis/HardAxis/ThinFilmFMR_BInPlane(1980.81)_In_PlaneAnis_K(40000)_Ratio(1).out/\n",
      "//starting GUI at http://127.0.0.1:35367\n",
      "SetPBC(0, 0, 0)\n",
      "SetGridSize(512, 512.0, 4)\n",
      "SetCellSize(4e-9, 4e-9, 4e-9)\n",
      "Msat = 800000.0\n",
      "Aex = 1.3e-11\n",
      "alpha = 0.008\n",
      "edgesmooth = 8\n",
      "B := 1980.81e-3\n",
      "anisU = vector(1.0, 0.0, 6.123233995736766e-17)\n",
      "Ku1 = 40000\n",
      "setSolver(5)\n",
      "TableAdd(Ku1)\n",
      "TableAdd(B_ext)\n",
      "TableAutoSave(5e-13)\n",
      "m = uniform(0, 1, 0)\n",
      "B_ext = vector(B*0.039891400317339676, B*0.9967530658528422, B*0.06994284733753288)\n",
      "relax()\n",
      "MaxDt = 5e-13\n",
      "B_ext = vector(B*0, B*1, B*0)\n",
      "run(1e-09)\n"
     ]
    },
    {
     "name": "stderr",
     "output_type": "stream",
     "text": [
      "//Using cached kernel: C:/Users/Rob/Desktop/Research/kernel-cache//mumax3kernel_[512 512 4]_[0 0 0]_[4e-09 4e-09 4e-09]_6_\n"
     ]
    },
    {
     "name": "stdout",
     "output_type": "stream",
     "text": [
      "//mumax 3.9.1c windows_amd64 go1.3.3 (gc)\n",
      "//CUDA 10020 TITAN Xp(12288MB) cc6.1, using CC53 PTX \n",
      "//(c) Arne Vansteenkiste, Dynamat LAB, Ghent University, Belgium\n",
      "//This is free software without any warranty. See license.txt\n",
      "//output directory: C:/Users/Rob/Desktop/Research/FMR_Paper/In_Plane_Field/In_Plane_Anis/HardAxis/ThinFilmFMR_BInPlane(1980.56)_In_PlaneAnis_K(30000)_Ratio(1).out/\n",
      "//starting GUI at http://127.0.0.1:35367\n",
      "SetPBC(0, 0, 0)\n",
      "SetGridSize(512, 512.0, 4)\n",
      "SetCellSize(4e-9, 4e-9, 4e-9)\n",
      "Msat = 800000.0\n",
      "Aex = 1.3e-11\n",
      "alpha = 0.008\n",
      "edgesmooth = 8\n",
      "B := 1980.56e-3\n",
      "anisU = vector(1.0, 0.0, 6.123233995736766e-17)\n",
      "Ku1 = 30000\n",
      "setSolver(5)\n",
      "TableAdd(Ku1)\n",
      "TableAdd(B_ext)\n",
      "TableAutoSave(5e-13)\n",
      "m = uniform(0, 1, 0)\n",
      "B_ext = vector(B*0.039891400317339676, B*0.9967530658528422, B*0.06994284733753288)\n",
      "relax()\n",
      "MaxDt = 5e-13\n",
      "B_ext = vector(B*0, B*1, B*0)\n",
      "run(1e-09)\n"
     ]
    },
    {
     "name": "stderr",
     "output_type": "stream",
     "text": [
      "//Using cached kernel: C:/Users/Rob/Desktop/Research/kernel-cache//mumax3kernel_[512 512 4]_[0 0 0]_[4e-09 4e-09 4e-09]_6_\n"
     ]
    },
    {
     "name": "stdout",
     "output_type": "stream",
     "text": [
      "//mumax 3.9.1c windows_amd64 go1.3.3 (gc)\n",
      "//CUDA 10020 TITAN Xp(12288MB) cc6.1, using CC53 PTX \n",
      "//(c) Arne Vansteenkiste, Dynamat LAB, Ghent University, Belgium\n",
      "//This is free software without any warranty. See license.txt\n",
      "//output directory: C:/Users/Rob/Desktop/Research/FMR_Paper/In_Plane_Field/In_Plane_Anis/HardAxis/ThinFilmFMR_BInPlane(1980.3)_In_PlaneAnis_K(20000)_Ratio(1).out/\n",
      "//starting GUI at http://127.0.0.1:35367\n",
      "SetPBC(0, 0, 0)\n",
      "SetGridSize(512, 512.0, 4)\n",
      "SetCellSize(4e-9, 4e-9, 4e-9)\n",
      "Msat = 800000.0\n",
      "Aex = 1.3e-11\n",
      "alpha = 0.008\n",
      "edgesmooth = 8\n",
      "B := 1980.3e-3\n",
      "anisU = vector(1.0, 0.0, 6.123233995736766e-17)\n",
      "Ku1 = 20000\n",
      "setSolver(5)\n",
      "TableAdd(Ku1)\n",
      "TableAdd(B_ext)\n",
      "TableAutoSave(5e-13)\n",
      "m = uniform(0, 1, 0)\n",
      "B_ext = vector(B*0.039891400317339676, B*0.9967530658528422, B*0.06994284733753288)\n",
      "relax()\n",
      "MaxDt = 5e-13\n",
      "B_ext = vector(B*0, B*1, B*0)\n",
      "run(1e-09)\n"
     ]
    },
    {
     "name": "stderr",
     "output_type": "stream",
     "text": [
      "//Using cached kernel: C:/Users/Rob/Desktop/Research/kernel-cache//mumax3kernel_[512 512 4]_[0 0 0]_[4e-09 4e-09 4e-09]_6_\n"
     ]
    },
    {
     "name": "stdout",
     "output_type": "stream",
     "text": [
      "//mumax 3.9.1c windows_amd64 go1.3.3 (gc)\n",
      "//CUDA 10020 TITAN Xp(12288MB) cc6.1, using CC53 PTX \n",
      "//(c) Arne Vansteenkiste, Dynamat LAB, Ghent University, Belgium\n",
      "//This is free software without any warranty. See license.txt\n",
      "//output directory: C:/Users/Rob/Desktop/Research/FMR_Paper/In_Plane_Field/In_Plane_Anis/HardAxis/ThinFilmFMR_BInPlane(1980.05)_In_PlaneAnis_K(10000)_Ratio(1).out/\n",
      "//starting GUI at http://127.0.0.1:35367\n",
      "SetPBC(0, 0, 0)\n",
      "SetGridSize(512, 512.0, 4)\n",
      "SetCellSize(4e-9, 4e-9, 4e-9)\n",
      "Msat = 800000.0\n",
      "Aex = 1.3e-11\n",
      "alpha = 0.008\n",
      "edgesmooth = 8\n",
      "B := 1980.05e-3\n",
      "anisU = vector(1.0, 0.0, 6.123233995736766e-17)\n",
      "Ku1 = 10000\n",
      "setSolver(5)\n",
      "TableAdd(Ku1)\n",
      "TableAdd(B_ext)\n",
      "TableAutoSave(5e-13)\n",
      "m = uniform(0, 1, 0)\n",
      "B_ext = vector(B*0.039891400317339676, B*0.9967530658528422, B*0.06994284733753288)\n",
      "relax()\n",
      "MaxDt = 5e-13\n",
      "B_ext = vector(B*0, B*1, B*0)\n",
      "run(1e-09)\n"
     ]
    },
    {
     "name": "stderr",
     "output_type": "stream",
     "text": [
      "//Using cached kernel: C:/Users/Rob/Desktop/Research/kernel-cache//mumax3kernel_[512 512 4]_[0 0 0]_[4e-09 4e-09 4e-09]_6_\n"
     ]
    },
    {
     "name": "stdout",
     "output_type": "stream",
     "text": [
      "//mumax 3.9.1c windows_amd64 go1.3.3 (gc)\n",
      "//CUDA 10020 TITAN Xp(12288MB) cc6.1, using CC53 PTX \n",
      "//(c) Arne Vansteenkiste, Dynamat LAB, Ghent University, Belgium\n",
      "//This is free software without any warranty. See license.txt\n",
      "//output directory: C:/Users/Rob/Desktop/Research/FMR_Paper/In_Plane_Field/In_Plane_Anis/HardAxis/ThinFilmFMR_BInPlane(1980)_In_PlaneAnis_K(0)_Ratio(1).out/\n",
      "//starting GUI at http://127.0.0.1:35367\n",
      "SetPBC(0, 0, 0)\n",
      "SetGridSize(512, 512.0, 4)\n",
      "SetCellSize(4e-9, 4e-9, 4e-9)\n",
      "Msat = 800000.0\n",
      "Aex = 1.3e-11\n",
      "alpha = 0.008\n",
      "edgesmooth = 8\n",
      "B := 1980e-3\n",
      "anisU = vector(1.0, 0.0, 6.123233995736766e-17)\n",
      "Ku1 = 0\n",
      "setSolver(5)\n",
      "TableAdd(Ku1)\n",
      "TableAdd(B_ext)\n",
      "TableAutoSave(5e-13)\n",
      "m = uniform(0, 1, 0)\n",
      "B_ext = vector(B*0.039891400317339676, B*0.9967530658528422, B*0.06994284733753288)\n",
      "relax()\n",
      "MaxDt = 5e-13\n",
      "B_ext = vector(B*0, B*1, B*0)\n",
      "run(1e-09)\n"
     ]
    },
    {
     "name": "stderr",
     "output_type": "stream",
     "text": [
      "//Using cached kernel: C:/Users/Rob/Desktop/Research/kernel-cache//mumax3kernel_[512 512 4]_[0 0 0]_[4e-09 4e-09 4e-09]_6_\n"
     ]
    },
    {
     "name": "stdout",
     "output_type": "stream",
     "text": [
      "//mumax 3.9.1c windows_amd64 go1.3.3 (gc)\n",
      "//CUDA 10020 TITAN Xp(12288MB) cc6.1, using CC53 PTX \n",
      "//(c) Arne Vansteenkiste, Dynamat LAB, Ghent University, Belgium\n",
      "//This is free software without any warranty. See license.txt\n",
      "//output directory: C:/Users/Rob/Desktop/Research/FMR_Paper/In_Plane_Field/In_Plane_Anis/HardAxis/ThinFilmFMR_BInPlane(1970)_In_PlaneAnis_K(0)_Ratio(1).out/\n",
      "//starting GUI at http://127.0.0.1:35367\n",
      "SetPBC(0, 0, 0)\n",
      "SetGridSize(512, 512.0, 4)\n",
      "SetCellSize(4e-9, 4e-9, 4e-9)\n",
      "Msat = 800000.0\n",
      "Aex = 1.3e-11\n",
      "alpha = 0.008\n",
      "edgesmooth = 8\n",
      "B := 1970e-3\n",
      "anisU = vector(1.0, 0.0, 6.123233995736766e-17)\n",
      "Ku1 = 0\n",
      "setSolver(5)\n",
      "TableAdd(Ku1)\n",
      "TableAdd(B_ext)\n",
      "TableAutoSave(5e-13)\n",
      "m = uniform(0, 1, 0)\n",
      "B_ext = vector(B*0.039891400317339676, B*0.9967530658528422, B*0.06994284733753288)\n",
      "relax()\n",
      "MaxDt = 5e-13\n",
      "B_ext = vector(B*0, B*1, B*0)\n",
      "run(1e-09)\n"
     ]
    },
    {
     "name": "stderr",
     "output_type": "stream",
     "text": [
      "//Using cached kernel: C:/Users/Rob/Desktop/Research/kernel-cache//mumax3kernel_[512 512 4]_[0 0 0]_[4e-09 4e-09 4e-09]_6_\n"
     ]
    },
    {
     "name": "stdout",
     "output_type": "stream",
     "text": [
      "//mumax 3.9.1c windows_amd64 go1.3.3 (gc)\n",
      "//CUDA 10020 TITAN Xp(12288MB) cc6.1, using CC53 PTX \n",
      "//(c) Arne Vansteenkiste, Dynamat LAB, Ghent University, Belgium\n",
      "//This is free software without any warranty. See license.txt\n",
      "//output directory: C:/Users/Rob/Desktop/Research/FMR_Paper/In_Plane_Field/In_Plane_Anis/HardAxis/ThinFilmFMR_BInPlane(197.98)_In_PlaneAnis_K(80000)_Ratio(1).out/\n",
      "//starting GUI at http://127.0.0.1:35367\n",
      "SetPBC(0, 0, 0)\n",
      "SetGridSize(512, 512.0, 4)\n",
      "SetCellSize(4e-9, 4e-9, 4e-9)\n",
      "Msat = 800000.0\n",
      "Aex = 1.3e-11\n",
      "alpha = 0.008\n",
      "edgesmooth = 8\n",
      "B := 197.98e-3\n",
      "anisU = vector(1.0, 0.0, 6.123233995736766e-17)\n",
      "Ku1 = 80000\n",
      "setSolver(5)\n",
      "TableAdd(Ku1)\n",
      "TableAdd(B_ext)\n",
      "TableAutoSave(5e-13)\n",
      "m = uniform(0, 1, 0)\n",
      "B_ext = vector(B*0.039891400317339676, B*0.9967530658528422, B*0.06994284733753288)\n",
      "relax()\n",
      "MaxDt = 5e-13\n",
      "B_ext = vector(B*0, B*1, B*0)\n",
      "run(1e-09)\n"
     ]
    },
    {
     "name": "stderr",
     "output_type": "stream",
     "text": [
      "//Using cached kernel: C:/Users/Rob/Desktop/Research/kernel-cache//mumax3kernel_[512 512 4]_[0 0 0]_[4e-09 4e-09 4e-09]_6_\n"
     ]
    },
    {
     "name": "stdout",
     "output_type": "stream",
     "text": [
      "//mumax 3.9.1c windows_amd64 go1.3.3 (gc)\n",
      "//CUDA 10020 TITAN Xp(12288MB) cc6.1, using CC53 PTX \n",
      "//(c) Arne Vansteenkiste, Dynamat LAB, Ghent University, Belgium\n",
      "//This is free software without any warranty. See license.txt\n",
      "//output directory: C:/Users/Rob/Desktop/Research/FMR_Paper/In_Plane_Field/In_Plane_Anis/HardAxis/ThinFilmFMR_BInPlane(197.73)_In_PlaneAnis_K(90000)_Ratio(1).out/\n",
      "//starting GUI at http://127.0.0.1:35367\n",
      "SetPBC(0, 0, 0)\n",
      "SetGridSize(512, 512.0, 4)\n",
      "SetCellSize(4e-9, 4e-9, 4e-9)\n",
      "Msat = 800000.0\n",
      "Aex = 1.3e-11\n",
      "alpha = 0.008\n",
      "edgesmooth = 8\n",
      "B := 197.73e-3\n",
      "anisU = vector(1.0, 0.0, 6.123233995736766e-17)\n",
      "Ku1 = 90000\n",
      "setSolver(5)\n",
      "TableAdd(Ku1)\n",
      "TableAdd(B_ext)\n",
      "TableAutoSave(5e-13)\n",
      "m = uniform(0, 1, 0)\n",
      "B_ext = vector(B*0.039891400317339676, B*0.9967530658528422, B*0.06994284733753288)\n",
      "relax()\n",
      "MaxDt = 5e-13\n",
      "B_ext = vector(B*0, B*1, B*0)\n",
      "run(1e-09)\n"
     ]
    },
    {
     "name": "stderr",
     "output_type": "stream",
     "text": [
      "//Using cached kernel: C:/Users/Rob/Desktop/Research/kernel-cache//mumax3kernel_[512 512 4]_[0 0 0]_[4e-09 4e-09 4e-09]_6_\n"
     ]
    },
    {
     "name": "stdout",
     "output_type": "stream",
     "text": [
      "//mumax 3.9.1c windows_amd64 go1.3.3 (gc)\n",
      "//CUDA 10020 TITAN Xp(12288MB) cc6.1, using CC53 PTX \n",
      "//(c) Arne Vansteenkiste, Dynamat LAB, Ghent University, Belgium\n",
      "//This is free software without any warranty. See license.txt\n",
      "//output directory: C:/Users/Rob/Desktop/Research/FMR_Paper/In_Plane_Field/In_Plane_Anis/HardAxis/ThinFilmFMR_BInPlane(1964.65)_In_PlaneAnis_K(100000)_Ratio(1).out/\n",
      "//starting GUI at http://127.0.0.1:35367\n",
      "SetPBC(0, 0, 0)\n",
      "SetGridSize(512, 512.0, 4)\n",
      "SetCellSize(4e-9, 4e-9, 4e-9)\n",
      "Msat = 800000.0\n",
      "Aex = 1.3e-11\n",
      "alpha = 0.008\n",
      "edgesmooth = 8\n",
      "B := 1964.65e-3\n",
      "anisU = vector(1.0, 0.0, 6.123233995736766e-17)\n",
      "Ku1 = 100000\n",
      "setSolver(5)\n",
      "TableAdd(Ku1)\n",
      "TableAdd(B_ext)\n",
      "TableAutoSave(5e-13)\n",
      "m = uniform(0, 1, 0)\n",
      "B_ext = vector(B*0.039891400317339676, B*0.9967530658528422, B*0.06994284733753288)\n",
      "relax()\n",
      "MaxDt = 5e-13\n",
      "B_ext = vector(B*0, B*1, B*0)\n",
      "run(1e-09)\n"
     ]
    },
    {
     "name": "stderr",
     "output_type": "stream",
     "text": [
      "//Using cached kernel: C:/Users/Rob/Desktop/Research/kernel-cache//mumax3kernel_[512 512 4]_[0 0 0]_[4e-09 4e-09 4e-09]_6_\n"
     ]
    },
    {
     "name": "stdout",
     "output_type": "stream",
     "text": [
      "//mumax 3.9.1c windows_amd64 go1.3.3 (gc)\n",
      "//CUDA 10020 TITAN Xp(12288MB) cc6.1, using CC53 PTX \n",
      "//(c) Arne Vansteenkiste, Dynamat LAB, Ghent University, Belgium\n",
      "//This is free software without any warranty. See license.txt\n",
      "//output directory: C:/Users/Rob/Desktop/Research/FMR_Paper/In_Plane_Field/In_Plane_Anis/HardAxis/ThinFilmFMR_BInPlane(1964.14)_In_PlaneAnis_K(90000)_Ratio(1).out/\n",
      "//starting GUI at http://127.0.0.1:35367\n",
      "SetPBC(0, 0, 0)\n",
      "SetGridSize(512, 512.0, 4)\n",
      "SetCellSize(4e-9, 4e-9, 4e-9)\n",
      "Msat = 800000.0\n",
      "Aex = 1.3e-11\n",
      "alpha = 0.008\n",
      "edgesmooth = 8\n",
      "B := 1964.14e-3\n",
      "anisU = vector(1.0, 0.0, 6.123233995736766e-17)\n",
      "Ku1 = 90000\n",
      "setSolver(5)\n",
      "TableAdd(Ku1)\n",
      "TableAdd(B_ext)\n",
      "TableAutoSave(5e-13)\n",
      "m = uniform(0, 1, 0)\n",
      "B_ext = vector(B*0.039891400317339676, B*0.9967530658528422, B*0.06994284733753288)\n",
      "relax()\n",
      "MaxDt = 5e-13\n",
      "B_ext = vector(B*0, B*1, B*0)\n",
      "run(1e-09)\n"
     ]
    },
    {
     "name": "stderr",
     "output_type": "stream",
     "text": [
      "//Using cached kernel: C:/Users/Rob/Desktop/Research/kernel-cache//mumax3kernel_[512 512 4]_[0 0 0]_[4e-09 4e-09 4e-09]_6_\n"
     ]
    },
    {
     "name": "stdout",
     "output_type": "stream",
     "text": [
      "//mumax 3.9.1c windows_amd64 go1.3.3 (gc)\n",
      "//CUDA 10020 TITAN Xp(12288MB) cc6.1, using CC53 PTX \n",
      "//(c) Arne Vansteenkiste, Dynamat LAB, Ghent University, Belgium\n",
      "//This is free software without any warranty. See license.txt\n",
      "//output directory: C:/Users/Rob/Desktop/Research/FMR_Paper/In_Plane_Field/In_Plane_Anis/HardAxis/ThinFilmFMR_BInPlane(1963.64)_In_PlaneAnis_K(80000)_Ratio(1).out/\n",
      "//starting GUI at http://127.0.0.1:35367\n",
      "SetPBC(0, 0, 0)\n",
      "SetGridSize(512, 512.0, 4)\n",
      "SetCellSize(4e-9, 4e-9, 4e-9)\n",
      "Msat = 800000.0\n",
      "Aex = 1.3e-11\n",
      "alpha = 0.008\n",
      "edgesmooth = 8\n",
      "B := 1963.64e-3\n",
      "anisU = vector(1.0, 0.0, 6.123233995736766e-17)\n",
      "Ku1 = 80000\n",
      "setSolver(5)\n",
      "TableAdd(Ku1)\n",
      "TableAdd(B_ext)\n",
      "TableAutoSave(5e-13)\n",
      "m = uniform(0, 1, 0)\n",
      "B_ext = vector(B*0.039891400317339676, B*0.9967530658528422, B*0.06994284733753288)\n",
      "relax()\n",
      "MaxDt = 5e-13\n",
      "B_ext = vector(B*0, B*1, B*0)\n",
      "run(1e-09)\n"
     ]
    },
    {
     "name": "stderr",
     "output_type": "stream",
     "text": [
      "//Using cached kernel: C:/Users/Rob/Desktop/Research/kernel-cache//mumax3kernel_[512 512 4]_[0 0 0]_[4e-09 4e-09 4e-09]_6_\n"
     ]
    },
    {
     "name": "stdout",
     "output_type": "stream",
     "text": [
      "//mumax 3.9.1c windows_amd64 go1.3.3 (gc)\n",
      "//CUDA 10020 TITAN Xp(12288MB) cc6.1, using CC53 PTX \n",
      "//(c) Arne Vansteenkiste, Dynamat LAB, Ghent University, Belgium\n",
      "//This is free software without any warranty. See license.txt\n",
      "//output directory: C:/Users/Rob/Desktop/Research/FMR_Paper/In_Plane_Field/In_Plane_Anis/HardAxis/ThinFilmFMR_BInPlane(1963.13)_In_PlaneAnis_K(70000)_Ratio(1).out/\n",
      "//starting GUI at http://127.0.0.1:35367\n",
      "SetPBC(0, 0, 0)\n",
      "SetGridSize(512, 512.0, 4)\n",
      "SetCellSize(4e-9, 4e-9, 4e-9)\n",
      "Msat = 800000.0\n",
      "Aex = 1.3e-11\n",
      "alpha = 0.008\n",
      "edgesmooth = 8\n",
      "B := 1963.13e-3\n",
      "anisU = vector(1.0, 0.0, 6.123233995736766e-17)\n",
      "Ku1 = 70000\n",
      "setSolver(5)\n",
      "TableAdd(Ku1)\n",
      "TableAdd(B_ext)\n",
      "TableAutoSave(5e-13)\n",
      "m = uniform(0, 1, 0)\n",
      "B_ext = vector(B*0.039891400317339676, B*0.9967530658528422, B*0.06994284733753288)\n",
      "relax()\n",
      "MaxDt = 5e-13\n",
      "B_ext = vector(B*0, B*1, B*0)\n",
      "run(1e-09)\n"
     ]
    },
    {
     "name": "stderr",
     "output_type": "stream",
     "text": [
      "//Using cached kernel: C:/Users/Rob/Desktop/Research/kernel-cache//mumax3kernel_[512 512 4]_[0 0 0]_[4e-09 4e-09 4e-09]_6_\n"
     ]
    },
    {
     "name": "stdout",
     "output_type": "stream",
     "text": [
      "//mumax 3.9.1c windows_amd64 go1.3.3 (gc)\n",
      "//CUDA 10020 TITAN Xp(12288MB) cc6.1, using CC53 PTX \n",
      "//(c) Arne Vansteenkiste, Dynamat LAB, Ghent University, Belgium\n",
      "//This is free software without any warranty. See license.txt\n",
      "//output directory: C:/Users/Rob/Desktop/Research/FMR_Paper/In_Plane_Field/In_Plane_Anis/HardAxis/ThinFilmFMR_BInPlane(1962.63)_In_PlaneAnis_K(60000)_Ratio(1).out/\n",
      "//starting GUI at http://127.0.0.1:35367\n",
      "SetPBC(0, 0, 0)\n",
      "SetGridSize(512, 512.0, 4)\n",
      "SetCellSize(4e-9, 4e-9, 4e-9)\n",
      "Msat = 800000.0\n",
      "Aex = 1.3e-11\n",
      "alpha = 0.008\n",
      "edgesmooth = 8\n",
      "B := 1962.63e-3\n",
      "anisU = vector(1.0, 0.0, 6.123233995736766e-17)\n",
      "Ku1 = 60000\n",
      "setSolver(5)\n",
      "TableAdd(Ku1)\n",
      "TableAdd(B_ext)\n",
      "TableAutoSave(5e-13)\n",
      "m = uniform(0, 1, 0)\n",
      "B_ext = vector(B*0.039891400317339676, B*0.9967530658528422, B*0.06994284733753288)\n",
      "relax()\n",
      "MaxDt = 5e-13\n",
      "B_ext = vector(B*0, B*1, B*0)\n",
      "run(1e-09)\n"
     ]
    },
    {
     "name": "stderr",
     "output_type": "stream",
     "text": [
      "//Using cached kernel: C:/Users/Rob/Desktop/Research/kernel-cache//mumax3kernel_[512 512 4]_[0 0 0]_[4e-09 4e-09 4e-09]_6_\n"
     ]
    },
    {
     "name": "stdout",
     "output_type": "stream",
     "text": [
      "//mumax 3.9.1c windows_amd64 go1.3.3 (gc)\n",
      "//CUDA 10020 TITAN Xp(12288MB) cc6.1, using CC53 PTX \n",
      "//(c) Arne Vansteenkiste, Dynamat LAB, Ghent University, Belgium\n",
      "//This is free software without any warranty. See license.txt\n",
      "//output directory: C:/Users/Rob/Desktop/Research/FMR_Paper/In_Plane_Field/In_Plane_Anis/HardAxis/ThinFilmFMR_BInPlane(1962.12)_In_PlaneAnis_K(50000)_Ratio(1).out/\n",
      "//starting GUI at http://127.0.0.1:35367\n",
      "SetPBC(0, 0, 0)\n",
      "SetGridSize(512, 512.0, 4)\n",
      "SetCellSize(4e-9, 4e-9, 4e-9)\n",
      "Msat = 800000.0\n",
      "Aex = 1.3e-11\n",
      "alpha = 0.008\n",
      "edgesmooth = 8\n",
      "B := 1962.12e-3\n",
      "anisU = vector(1.0, 0.0, 6.123233995736766e-17)\n",
      "Ku1 = 50000\n",
      "setSolver(5)\n",
      "TableAdd(Ku1)\n",
      "TableAdd(B_ext)\n",
      "TableAutoSave(5e-13)\n",
      "m = uniform(0, 1, 0)\n",
      "B_ext = vector(B*0.039891400317339676, B*0.9967530658528422, B*0.06994284733753288)\n",
      "relax()\n",
      "MaxDt = 5e-13\n",
      "B_ext = vector(B*0, B*1, B*0)\n",
      "run(1e-09)\n"
     ]
    },
    {
     "name": "stderr",
     "output_type": "stream",
     "text": [
      "//Using cached kernel: C:/Users/Rob/Desktop/Research/kernel-cache//mumax3kernel_[512 512 4]_[0 0 0]_[4e-09 4e-09 4e-09]_6_\n"
     ]
    },
    {
     "name": "stdout",
     "output_type": "stream",
     "text": [
      "//mumax 3.9.1c windows_amd64 go1.3.3 (gc)\n",
      "//CUDA 10020 TITAN Xp(12288MB) cc6.1, using CC53 PTX \n",
      "//(c) Arne Vansteenkiste, Dynamat LAB, Ghent University, Belgium\n",
      "//This is free software without any warranty. See license.txt\n",
      "//output directory: C:/Users/Rob/Desktop/Research/FMR_Paper/In_Plane_Field/In_Plane_Anis/HardAxis/ThinFilmFMR_BInPlane(1961.62)_In_PlaneAnis_K(40000)_Ratio(1).out/\n",
      "//starting GUI at http://127.0.0.1:35367\n",
      "SetPBC(0, 0, 0)\n",
      "SetGridSize(512, 512.0, 4)\n",
      "SetCellSize(4e-9, 4e-9, 4e-9)\n",
      "Msat = 800000.0\n",
      "Aex = 1.3e-11\n",
      "alpha = 0.008\n",
      "edgesmooth = 8\n",
      "B := 1961.62e-3\n",
      "anisU = vector(1.0, 0.0, 6.123233995736766e-17)\n",
      "Ku1 = 40000\n",
      "setSolver(5)\n",
      "TableAdd(Ku1)\n",
      "TableAdd(B_ext)\n",
      "TableAutoSave(5e-13)\n",
      "m = uniform(0, 1, 0)\n",
      "B_ext = vector(B*0.039891400317339676, B*0.9967530658528422, B*0.06994284733753288)\n",
      "relax()\n",
      "MaxDt = 5e-13\n",
      "B_ext = vector(B*0, B*1, B*0)\n",
      "run(1e-09)\n"
     ]
    },
    {
     "name": "stderr",
     "output_type": "stream",
     "text": [
      "//Using cached kernel: C:/Users/Rob/Desktop/Research/kernel-cache//mumax3kernel_[512 512 4]_[0 0 0]_[4e-09 4e-09 4e-09]_6_\n"
     ]
    },
    {
     "name": "stdout",
     "output_type": "stream",
     "text": [
      "//mumax 3.9.1c windows_amd64 go1.3.3 (gc)\n",
      "//CUDA 10020 TITAN Xp(12288MB) cc6.1, using CC53 PTX \n",
      "//(c) Arne Vansteenkiste, Dynamat LAB, Ghent University, Belgium\n",
      "//This is free software without any warranty. See license.txt\n",
      "//output directory: C:/Users/Rob/Desktop/Research/FMR_Paper/In_Plane_Field/In_Plane_Anis/HardAxis/ThinFilmFMR_BInPlane(1961.11)_In_PlaneAnis_K(30000)_Ratio(1).out/\n",
      "//starting GUI at http://127.0.0.1:35367\n",
      "SetPBC(0, 0, 0)\n",
      "SetGridSize(512, 512.0, 4)\n",
      "SetCellSize(4e-9, 4e-9, 4e-9)\n",
      "Msat = 800000.0\n",
      "Aex = 1.3e-11\n",
      "alpha = 0.008\n",
      "edgesmooth = 8\n",
      "B := 1961.11e-3\n",
      "anisU = vector(1.0, 0.0, 6.123233995736766e-17)\n",
      "Ku1 = 30000\n",
      "setSolver(5)\n",
      "TableAdd(Ku1)\n",
      "TableAdd(B_ext)\n",
      "TableAutoSave(5e-13)\n",
      "m = uniform(0, 1, 0)\n",
      "B_ext = vector(B*0.039891400317339676, B*0.9967530658528422, B*0.06994284733753288)\n",
      "relax()\n",
      "MaxDt = 5e-13\n",
      "B_ext = vector(B*0, B*1, B*0)\n",
      "run(1e-09)\n"
     ]
    },
    {
     "name": "stderr",
     "output_type": "stream",
     "text": [
      "//Using cached kernel: C:/Users/Rob/Desktop/Research/kernel-cache//mumax3kernel_[512 512 4]_[0 0 0]_[4e-09 4e-09 4e-09]_6_\n"
     ]
    },
    {
     "name": "stdout",
     "output_type": "stream",
     "text": [
      "//mumax 3.9.1c windows_amd64 go1.3.3 (gc)\n",
      "//CUDA 10020 TITAN Xp(12288MB) cc6.1, using CC53 PTX \n",
      "//(c) Arne Vansteenkiste, Dynamat LAB, Ghent University, Belgium\n",
      "//This is free software without any warranty. See license.txt\n",
      "//output directory: C:/Users/Rob/Desktop/Research/FMR_Paper/In_Plane_Field/In_Plane_Anis/HardAxis/ThinFilmFMR_BInPlane(1960.61)_In_PlaneAnis_K(20000)_Ratio(1).out/\n",
      "//starting GUI at http://127.0.0.1:35367\n",
      "SetPBC(0, 0, 0)\n",
      "SetGridSize(512, 512.0, 4)\n",
      "SetCellSize(4e-9, 4e-9, 4e-9)\n",
      "Msat = 800000.0\n",
      "Aex = 1.3e-11\n",
      "alpha = 0.008\n",
      "edgesmooth = 8\n",
      "B := 1960.61e-3\n",
      "anisU = vector(1.0, 0.0, 6.123233995736766e-17)\n",
      "Ku1 = 20000\n",
      "setSolver(5)\n",
      "TableAdd(Ku1)\n",
      "TableAdd(B_ext)\n",
      "TableAutoSave(5e-13)\n",
      "m = uniform(0, 1, 0)\n",
      "B_ext = vector(B*0.039891400317339676, B*0.9967530658528422, B*0.06994284733753288)\n",
      "relax()\n",
      "MaxDt = 5e-13\n",
      "B_ext = vector(B*0, B*1, B*0)\n",
      "run(1e-09)\n"
     ]
    },
    {
     "name": "stderr",
     "output_type": "stream",
     "text": [
      "//Using cached kernel: C:/Users/Rob/Desktop/Research/kernel-cache//mumax3kernel_[512 512 4]_[0 0 0]_[4e-09 4e-09 4e-09]_6_\n"
     ]
    },
    {
     "name": "stdout",
     "output_type": "stream",
     "text": [
      "//mumax 3.9.1c windows_amd64 go1.3.3 (gc)\n",
      "//CUDA 10020 TITAN Xp(12288MB) cc6.1, using CC53 PTX \n",
      "//(c) Arne Vansteenkiste, Dynamat LAB, Ghent University, Belgium\n",
      "//This is free software without any warranty. See license.txt\n",
      "//output directory: C:/Users/Rob/Desktop/Research/FMR_Paper/In_Plane_Field/In_Plane_Anis/HardAxis/ThinFilmFMR_BInPlane(1960.1)_In_PlaneAnis_K(10000)_Ratio(1).out/\n",
      "//starting GUI at http://127.0.0.1:35367\n",
      "SetPBC(0, 0, 0)\n",
      "SetGridSize(512, 512.0, 4)\n",
      "SetCellSize(4e-9, 4e-9, 4e-9)\n",
      "Msat = 800000.0\n",
      "Aex = 1.3e-11\n",
      "alpha = 0.008\n",
      "edgesmooth = 8\n",
      "B := 1960.1e-3\n",
      "anisU = vector(1.0, 0.0, 6.123233995736766e-17)\n",
      "Ku1 = 10000\n",
      "setSolver(5)\n",
      "TableAdd(Ku1)\n",
      "TableAdd(B_ext)\n",
      "TableAutoSave(5e-13)\n",
      "m = uniform(0, 1, 0)\n",
      "B_ext = vector(B*0.039891400317339676, B*0.9967530658528422, B*0.06994284733753288)\n",
      "relax()\n",
      "MaxDt = 5e-13\n",
      "B_ext = vector(B*0, B*1, B*0)\n",
      "run(1e-09)\n"
     ]
    },
    {
     "name": "stderr",
     "output_type": "stream",
     "text": [
      "//Using cached kernel: C:/Users/Rob/Desktop/Research/kernel-cache//mumax3kernel_[512 512 4]_[0 0 0]_[4e-09 4e-09 4e-09]_6_\n"
     ]
    },
    {
     "name": "stdout",
     "output_type": "stream",
     "text": [
      "//mumax 3.9.1c windows_amd64 go1.3.3 (gc)\n",
      "//CUDA 10020 TITAN Xp(12288MB) cc6.1, using CC53 PTX \n",
      "//(c) Arne Vansteenkiste, Dynamat LAB, Ghent University, Belgium\n",
      "//This is free software without any warranty. See license.txt\n",
      "//output directory: C:/Users/Rob/Desktop/Research/FMR_Paper/In_Plane_Field/In_Plane_Anis/HardAxis/ThinFilmFMR_BInPlane(1960)_In_PlaneAnis_K(0)_Ratio(1).out/\n",
      "//starting GUI at http://127.0.0.1:35367\n",
      "SetPBC(0, 0, 0)\n",
      "SetGridSize(512, 512.0, 4)\n",
      "SetCellSize(4e-9, 4e-9, 4e-9)\n",
      "Msat = 800000.0\n",
      "Aex = 1.3e-11\n",
      "alpha = 0.008\n",
      "edgesmooth = 8\n",
      "B := 1960e-3\n",
      "anisU = vector(1.0, 0.0, 6.123233995736766e-17)\n",
      "Ku1 = 0\n",
      "setSolver(5)\n",
      "TableAdd(Ku1)\n",
      "TableAdd(B_ext)\n",
      "TableAutoSave(5e-13)\n",
      "m = uniform(0, 1, 0)\n",
      "B_ext = vector(B*0.039891400317339676, B*0.9967530658528422, B*0.06994284733753288)\n",
      "relax()\n",
      "MaxDt = 5e-13\n",
      "B_ext = vector(B*0, B*1, B*0)\n",
      "run(1e-09)\n"
     ]
    },
    {
     "name": "stderr",
     "output_type": "stream",
     "text": [
      "//Using cached kernel: C:/Users/Rob/Desktop/Research/kernel-cache//mumax3kernel_[512 512 4]_[0 0 0]_[4e-09 4e-09 4e-09]_6_\n"
     ]
    },
    {
     "name": "stdout",
     "output_type": "stream",
     "text": [
      "//mumax 3.9.1c windows_amd64 go1.3.3 (gc)\n",
      "//CUDA 10020 TITAN Xp(12288MB) cc6.1, using CC53 PTX \n",
      "//(c) Arne Vansteenkiste, Dynamat LAB, Ghent University, Belgium\n",
      "//This is free software without any warranty. See license.txt\n",
      "//output directory: C:/Users/Rob/Desktop/Research/FMR_Paper/In_Plane_Field/In_Plane_Anis/HardAxis/ThinFilmFMR_BInPlane(196.97)_In_PlaneAnis_K(100000)_Ratio(1).out/\n",
      "//starting GUI at http://127.0.0.1:35367\n",
      "SetPBC(0, 0, 0)\n",
      "SetGridSize(512, 512.0, 4)\n",
      "SetCellSize(4e-9, 4e-9, 4e-9)\n",
      "Msat = 800000.0\n",
      "Aex = 1.3e-11\n",
      "alpha = 0.008\n",
      "edgesmooth = 8\n",
      "B := 196.97e-3\n",
      "anisU = vector(1.0, 0.0, 6.123233995736766e-17)\n",
      "Ku1 = 100000\n",
      "setSolver(5)\n",
      "TableAdd(Ku1)\n",
      "TableAdd(B_ext)\n",
      "TableAutoSave(5e-13)\n",
      "m = uniform(0, 1, 0)\n",
      "B_ext = vector(B*0.039891400317339676, B*0.9967530658528422, B*0.06994284733753288)\n",
      "relax()\n",
      "MaxDt = 5e-13\n",
      "B_ext = vector(B*0, B*1, B*0)\n",
      "run(1e-09)\n"
     ]
    },
    {
     "name": "stderr",
     "output_type": "stream",
     "text": [
      "//Using cached kernel: C:/Users/Rob/Desktop/Research/kernel-cache//mumax3kernel_[512 512 4]_[0 0 0]_[4e-09 4e-09 4e-09]_6_\n"
     ]
    },
    {
     "name": "stdout",
     "output_type": "stream",
     "text": [
      "//mumax 3.9.1c windows_amd64 go1.3.3 (gc)\n",
      "//CUDA 10020 TITAN Xp(12288MB) cc6.1, using CC53 PTX \n",
      "//(c) Arne Vansteenkiste, Dynamat LAB, Ghent University, Belgium\n",
      "//This is free software without any warranty. See license.txt\n",
      "//output directory: C:/Users/Rob/Desktop/Research/FMR_Paper/In_Plane_Field/In_Plane_Anis/HardAxis/ThinFilmFMR_BInPlane(1950)_In_PlaneAnis_K(0)_Ratio(1).out/\n",
      "//starting GUI at http://127.0.0.1:35367\n",
      "SetPBC(0, 0, 0)\n",
      "SetGridSize(512, 512.0, 4)\n",
      "SetCellSize(4e-9, 4e-9, 4e-9)\n",
      "Msat = 800000.0\n",
      "Aex = 1.3e-11\n",
      "alpha = 0.008\n",
      "edgesmooth = 8\n",
      "B := 1950e-3\n",
      "anisU = vector(1.0, 0.0, 6.123233995736766e-17)\n",
      "Ku1 = 0\n",
      "setSolver(5)\n",
      "TableAdd(Ku1)\n",
      "TableAdd(B_ext)\n",
      "TableAutoSave(5e-13)\n",
      "m = uniform(0, 1, 0)\n",
      "B_ext = vector(B*0.039891400317339676, B*0.9967530658528422, B*0.06994284733753288)\n",
      "relax()\n",
      "MaxDt = 5e-13\n",
      "B_ext = vector(B*0, B*1, B*0)\n",
      "run(1e-09)\n"
     ]
    },
    {
     "name": "stderr",
     "output_type": "stream",
     "text": [
      "//Using cached kernel: C:/Users/Rob/Desktop/Research/kernel-cache//mumax3kernel_[512 512 4]_[0 0 0]_[4e-09 4e-09 4e-09]_6_\n"
     ]
    },
    {
     "name": "stdout",
     "output_type": "stream",
     "text": [
      "//mumax 3.9.1c windows_amd64 go1.3.3 (gc)\n",
      "//CUDA 10020 TITAN Xp(12288MB) cc6.1, using CC53 PTX \n",
      "//(c) Arne Vansteenkiste, Dynamat LAB, Ghent University, Belgium\n",
      "//This is free software without any warranty. See license.txt\n",
      "//output directory: C:/Users/Rob/Desktop/Research/FMR_Paper/In_Plane_Field/In_Plane_Anis/HardAxis/ThinFilmFMR_BInPlane(195.96)_In_PlaneAnis_K(80000)_Ratio(1).out/\n",
      "//starting GUI at http://127.0.0.1:35367\n",
      "SetPBC(0, 0, 0)\n",
      "SetGridSize(512, 512.0, 4)\n",
      "SetCellSize(4e-9, 4e-9, 4e-9)\n",
      "Msat = 800000.0\n",
      "Aex = 1.3e-11\n",
      "alpha = 0.008\n",
      "edgesmooth = 8\n",
      "B := 195.96e-3\n",
      "anisU = vector(1.0, 0.0, 6.123233995736766e-17)\n",
      "Ku1 = 80000\n",
      "setSolver(5)\n",
      "TableAdd(Ku1)\n",
      "TableAdd(B_ext)\n",
      "TableAutoSave(5e-13)\n",
      "m = uniform(0, 1, 0)\n",
      "B_ext = vector(B*0.039891400317339676, B*0.9967530658528422, B*0.06994284733753288)\n",
      "relax()\n",
      "MaxDt = 5e-13\n",
      "B_ext = vector(B*0, B*1, B*0)\n",
      "run(1e-09)\n"
     ]
    },
    {
     "name": "stderr",
     "output_type": "stream",
     "text": [
      "//Using cached kernel: C:/Users/Rob/Desktop/Research/kernel-cache//mumax3kernel_[512 512 4]_[0 0 0]_[4e-09 4e-09 4e-09]_6_\n"
     ]
    },
    {
     "name": "stdout",
     "output_type": "stream",
     "text": [
      "//mumax 3.9.1c windows_amd64 go1.3.3 (gc)\n",
      "//CUDA 10020 TITAN Xp(12288MB) cc6.1, using CC53 PTX \n",
      "//(c) Arne Vansteenkiste, Dynamat LAB, Ghent University, Belgium\n",
      "//This is free software without any warranty. See license.txt\n",
      "//output directory: C:/Users/Rob/Desktop/Research/FMR_Paper/In_Plane_Field/In_Plane_Anis/HardAxis/ThinFilmFMR_BInPlane(195.96)_In_PlaneAnis_K(40000)_Ratio(1).out/\n",
      "//starting GUI at http://127.0.0.1:35367\n",
      "SetPBC(0, 0, 0)\n",
      "SetGridSize(512, 512.0, 4)\n",
      "SetCellSize(4e-9, 4e-9, 4e-9)\n",
      "Msat = 800000.0\n",
      "Aex = 1.3e-11\n",
      "alpha = 0.008\n",
      "edgesmooth = 8\n",
      "B := 195.96e-3\n",
      "anisU = vector(1.0, 0.0, 6.123233995736766e-17)\n",
      "Ku1 = 40000\n",
      "setSolver(5)\n",
      "TableAdd(Ku1)\n",
      "TableAdd(B_ext)\n",
      "TableAutoSave(5e-13)\n",
      "m = uniform(0, 1, 0)\n",
      "B_ext = vector(B*0.039891400317339676, B*0.9967530658528422, B*0.06994284733753288)\n",
      "relax()\n",
      "MaxDt = 5e-13\n",
      "B_ext = vector(B*0, B*1, B*0)\n",
      "run(1e-09)\n"
     ]
    },
    {
     "name": "stderr",
     "output_type": "stream",
     "text": [
      "//Using cached kernel: C:/Users/Rob/Desktop/Research/kernel-cache//mumax3kernel_[512 512 4]_[0 0 0]_[4e-09 4e-09 4e-09]_6_\n"
     ]
    },
    {
     "name": "stdout",
     "output_type": "stream",
     "text": [
      "//mumax 3.9.1c windows_amd64 go1.3.3 (gc)\n",
      "//CUDA 10020 TITAN Xp(12288MB) cc6.1, using CC53 PTX \n",
      "//(c) Arne Vansteenkiste, Dynamat LAB, Ghent University, Belgium\n",
      "//This is free software without any warranty. See license.txt\n",
      "//output directory: C:/Users/Rob/Desktop/Research/FMR_Paper/In_Plane_Field/In_Plane_Anis/HardAxis/ThinFilmFMR_BInPlane(195.45)_In_PlaneAnis_K(90000)_Ratio(1).out/\n",
      "//starting GUI at http://127.0.0.1:35367\n",
      "SetPBC(0, 0, 0)\n",
      "SetGridSize(512, 512.0, 4)\n",
      "SetCellSize(4e-9, 4e-9, 4e-9)\n",
      "Msat = 800000.0\n",
      "Aex = 1.3e-11\n",
      "alpha = 0.008\n",
      "edgesmooth = 8\n",
      "B := 195.45e-3\n",
      "anisU = vector(1.0, 0.0, 6.123233995736766e-17)\n",
      "Ku1 = 90000\n",
      "setSolver(5)\n",
      "TableAdd(Ku1)\n",
      "TableAdd(B_ext)\n",
      "TableAutoSave(5e-13)\n",
      "m = uniform(0, 1, 0)\n",
      "B_ext = vector(B*0.039891400317339676, B*0.9967530658528422, B*0.06994284733753288)\n",
      "relax()\n",
      "MaxDt = 5e-13\n",
      "B_ext = vector(B*0, B*1, B*0)\n",
      "run(1e-09)\n"
     ]
    },
    {
     "name": "stderr",
     "output_type": "stream",
     "text": [
      "//Using cached kernel: C:/Users/Rob/Desktop/Research/kernel-cache//mumax3kernel_[512 512 4]_[0 0 0]_[4e-09 4e-09 4e-09]_6_\n"
     ]
    },
    {
     "name": "stdout",
     "output_type": "stream",
     "text": [
      "//mumax 3.9.1c windows_amd64 go1.3.3 (gc)\n",
      "//CUDA 10020 TITAN Xp(12288MB) cc6.1, using CC53 PTX \n",
      "//(c) Arne Vansteenkiste, Dynamat LAB, Ghent University, Belgium\n",
      "//This is free software without any warranty. See license.txt\n",
      "//output directory: C:/Users/Rob/Desktop/Research/FMR_Paper/In_Plane_Field/In_Plane_Anis/HardAxis/ThinFilmFMR_BInPlane(1946.97)_In_PlaneAnis_K(100000)_Ratio(1).out/\n",
      "//starting GUI at http://127.0.0.1:35367\n",
      "SetPBC(0, 0, 0)\n",
      "SetGridSize(512, 512.0, 4)\n",
      "SetCellSize(4e-9, 4e-9, 4e-9)\n",
      "Msat = 800000.0\n",
      "Aex = 1.3e-11\n",
      "alpha = 0.008\n",
      "edgesmooth = 8\n",
      "B := 1946.97e-3\n",
      "anisU = vector(1.0, 0.0, 6.123233995736766e-17)\n",
      "Ku1 = 100000\n",
      "setSolver(5)\n",
      "TableAdd(Ku1)\n",
      "TableAdd(B_ext)\n",
      "TableAutoSave(5e-13)\n",
      "m = uniform(0, 1, 0)\n",
      "B_ext = vector(B*0.039891400317339676, B*0.9967530658528422, B*0.06994284733753288)\n",
      "relax()\n",
      "MaxDt = 5e-13\n",
      "B_ext = vector(B*0, B*1, B*0)\n",
      "run(1e-09)\n"
     ]
    },
    {
     "name": "stderr",
     "output_type": "stream",
     "text": [
      "//Using cached kernel: C:/Users/Rob/Desktop/Research/kernel-cache//mumax3kernel_[512 512 4]_[0 0 0]_[4e-09 4e-09 4e-09]_6_\n"
     ]
    },
    {
     "name": "stdout",
     "output_type": "stream",
     "text": [
      "//mumax 3.9.1c windows_amd64 go1.3.3 (gc)\n",
      "//CUDA 10020 TITAN Xp(12288MB) cc6.1, using CC53 PTX \n",
      "//(c) Arne Vansteenkiste, Dynamat LAB, Ghent University, Belgium\n",
      "//This is free software without any warranty. See license.txt\n",
      "//output directory: C:/Users/Rob/Desktop/Research/FMR_Paper/In_Plane_Field/In_Plane_Anis/HardAxis/ThinFilmFMR_BInPlane(1946.21)_In_PlaneAnis_K(90000)_Ratio(1).out/\n",
      "//starting GUI at http://127.0.0.1:35367\n",
      "SetPBC(0, 0, 0)\n",
      "SetGridSize(512, 512.0, 4)\n",
      "SetCellSize(4e-9, 4e-9, 4e-9)\n",
      "Msat = 800000.0\n",
      "Aex = 1.3e-11\n",
      "alpha = 0.008\n",
      "edgesmooth = 8\n",
      "B := 1946.21e-3\n",
      "anisU = vector(1.0, 0.0, 6.123233995736766e-17)\n",
      "Ku1 = 90000\n",
      "setSolver(5)\n",
      "TableAdd(Ku1)\n",
      "TableAdd(B_ext)\n",
      "TableAutoSave(5e-13)\n",
      "m = uniform(0, 1, 0)\n",
      "B_ext = vector(B*0.039891400317339676, B*0.9967530658528422, B*0.06994284733753288)\n",
      "relax()\n",
      "MaxDt = 5e-13\n",
      "B_ext = vector(B*0, B*1, B*0)\n",
      "run(1e-09)\n"
     ]
    },
    {
     "name": "stderr",
     "output_type": "stream",
     "text": [
      "//Using cached kernel: C:/Users/Rob/Desktop/Research/kernel-cache//mumax3kernel_[512 512 4]_[0 0 0]_[4e-09 4e-09 4e-09]_6_\n"
     ]
    },
    {
     "name": "stdout",
     "output_type": "stream",
     "text": [
      "//mumax 3.9.1c windows_amd64 go1.3.3 (gc)\n",
      "//CUDA 10020 TITAN Xp(12288MB) cc6.1, using CC53 PTX \n",
      "//(c) Arne Vansteenkiste, Dynamat LAB, Ghent University, Belgium\n",
      "//This is free software without any warranty. See license.txt\n",
      "//output directory: C:/Users/Rob/Desktop/Research/FMR_Paper/In_Plane_Field/In_Plane_Anis/HardAxis/ThinFilmFMR_BInPlane(1945.45)_In_PlaneAnis_K(80000)_Ratio(1).out/\n",
      "//starting GUI at http://127.0.0.1:35367\n",
      "SetPBC(0, 0, 0)\n",
      "SetGridSize(512, 512.0, 4)\n",
      "SetCellSize(4e-9, 4e-9, 4e-9)\n",
      "Msat = 800000.0\n",
      "Aex = 1.3e-11\n",
      "alpha = 0.008\n",
      "edgesmooth = 8\n",
      "B := 1945.45e-3\n",
      "anisU = vector(1.0, 0.0, 6.123233995736766e-17)\n",
      "Ku1 = 80000\n",
      "setSolver(5)\n",
      "TableAdd(Ku1)\n",
      "TableAdd(B_ext)\n",
      "TableAutoSave(5e-13)\n",
      "m = uniform(0, 1, 0)\n",
      "B_ext = vector(B*0.039891400317339676, B*0.9967530658528422, B*0.06994284733753288)\n",
      "relax()\n",
      "MaxDt = 5e-13\n",
      "B_ext = vector(B*0, B*1, B*0)\n",
      "run(1e-09)\n"
     ]
    },
    {
     "name": "stderr",
     "output_type": "stream",
     "text": [
      "//Using cached kernel: C:/Users/Rob/Desktop/Research/kernel-cache//mumax3kernel_[512 512 4]_[0 0 0]_[4e-09 4e-09 4e-09]_6_\n"
     ]
    },
    {
     "name": "stdout",
     "output_type": "stream",
     "text": [
      "//mumax 3.9.1c windows_amd64 go1.3.3 (gc)\n",
      "//CUDA 10020 TITAN Xp(12288MB) cc6.1, using CC53 PTX \n",
      "//(c) Arne Vansteenkiste, Dynamat LAB, Ghent University, Belgium\n",
      "//This is free software without any warranty. See license.txt\n",
      "//output directory: C:/Users/Rob/Desktop/Research/FMR_Paper/In_Plane_Field/In_Plane_Anis/HardAxis/ThinFilmFMR_BInPlane(1944.7)_In_PlaneAnis_K(70000)_Ratio(1).out/\n",
      "//starting GUI at http://127.0.0.1:35367\n",
      "SetPBC(0, 0, 0)\n",
      "SetGridSize(512, 512.0, 4)\n",
      "SetCellSize(4e-9, 4e-9, 4e-9)\n",
      "Msat = 800000.0\n",
      "Aex = 1.3e-11\n",
      "alpha = 0.008\n",
      "edgesmooth = 8\n",
      "B := 1944.7e-3\n",
      "anisU = vector(1.0, 0.0, 6.123233995736766e-17)\n",
      "Ku1 = 70000\n",
      "setSolver(5)\n",
      "TableAdd(Ku1)\n",
      "TableAdd(B_ext)\n",
      "TableAutoSave(5e-13)\n",
      "m = uniform(0, 1, 0)\n",
      "B_ext = vector(B*0.039891400317339676, B*0.9967530658528422, B*0.06994284733753288)\n",
      "relax()\n",
      "MaxDt = 5e-13\n",
      "B_ext = vector(B*0, B*1, B*0)\n",
      "run(1e-09)\n"
     ]
    },
    {
     "name": "stderr",
     "output_type": "stream",
     "text": [
      "//Using cached kernel: C:/Users/Rob/Desktop/Research/kernel-cache//mumax3kernel_[512 512 4]_[0 0 0]_[4e-09 4e-09 4e-09]_6_\n"
     ]
    },
    {
     "name": "stdout",
     "output_type": "stream",
     "text": [
      "//mumax 3.9.1c windows_amd64 go1.3.3 (gc)\n",
      "//CUDA 10020 TITAN Xp(12288MB) cc6.1, using CC53 PTX \n",
      "//(c) Arne Vansteenkiste, Dynamat LAB, Ghent University, Belgium\n",
      "//This is free software without any warranty. See license.txt\n",
      "//output directory: C:/Users/Rob/Desktop/Research/FMR_Paper/In_Plane_Field/In_Plane_Anis/HardAxis/ThinFilmFMR_BInPlane(1943.94)_In_PlaneAnis_K(60000)_Ratio(1).out/\n",
      "//starting GUI at http://127.0.0.1:35367\n",
      "SetPBC(0, 0, 0)\n",
      "SetGridSize(512, 512.0, 4)\n",
      "SetCellSize(4e-9, 4e-9, 4e-9)\n",
      "Msat = 800000.0\n",
      "Aex = 1.3e-11\n",
      "alpha = 0.008\n",
      "edgesmooth = 8\n",
      "B := 1943.94e-3\n",
      "anisU = vector(1.0, 0.0, 6.123233995736766e-17)\n",
      "Ku1 = 60000\n",
      "setSolver(5)\n",
      "TableAdd(Ku1)\n",
      "TableAdd(B_ext)\n",
      "TableAutoSave(5e-13)\n",
      "m = uniform(0, 1, 0)\n",
      "B_ext = vector(B*0.039891400317339676, B*0.9967530658528422, B*0.06994284733753288)\n",
      "relax()\n",
      "MaxDt = 5e-13\n",
      "B_ext = vector(B*0, B*1, B*0)\n",
      "run(1e-09)\n"
     ]
    },
    {
     "name": "stderr",
     "output_type": "stream",
     "text": [
      "//Using cached kernel: C:/Users/Rob/Desktop/Research/kernel-cache//mumax3kernel_[512 512 4]_[0 0 0]_[4e-09 4e-09 4e-09]_6_\n"
     ]
    },
    {
     "name": "stdout",
     "output_type": "stream",
     "text": [
      "//mumax 3.9.1c windows_amd64 go1.3.3 (gc)\n",
      "//CUDA 10020 TITAN Xp(12288MB) cc6.1, using CC53 PTX \n",
      "//(c) Arne Vansteenkiste, Dynamat LAB, Ghent University, Belgium\n",
      "//This is free software without any warranty. See license.txt\n",
      "//output directory: C:/Users/Rob/Desktop/Research/FMR_Paper/In_Plane_Field/In_Plane_Anis/HardAxis/ThinFilmFMR_BInPlane(1943.18)_In_PlaneAnis_K(50000)_Ratio(1).out/\n",
      "//starting GUI at http://127.0.0.1:35367\n",
      "SetPBC(0, 0, 0)\n",
      "SetGridSize(512, 512.0, 4)\n",
      "SetCellSize(4e-9, 4e-9, 4e-9)\n",
      "Msat = 800000.0\n",
      "Aex = 1.3e-11\n",
      "alpha = 0.008\n",
      "edgesmooth = 8\n",
      "B := 1943.18e-3\n",
      "anisU = vector(1.0, 0.0, 6.123233995736766e-17)\n",
      "Ku1 = 50000\n",
      "setSolver(5)\n",
      "TableAdd(Ku1)\n",
      "TableAdd(B_ext)\n",
      "TableAutoSave(5e-13)\n",
      "m = uniform(0, 1, 0)\n",
      "B_ext = vector(B*0.039891400317339676, B*0.9967530658528422, B*0.06994284733753288)\n",
      "relax()\n",
      "MaxDt = 5e-13\n",
      "B_ext = vector(B*0, B*1, B*0)\n",
      "run(1e-09)\n"
     ]
    },
    {
     "name": "stderr",
     "output_type": "stream",
     "text": [
      "//Using cached kernel: C:/Users/Rob/Desktop/Research/kernel-cache//mumax3kernel_[512 512 4]_[0 0 0]_[4e-09 4e-09 4e-09]_6_\n"
     ]
    },
    {
     "name": "stdout",
     "output_type": "stream",
     "text": [
      "//mumax 3.9.1c windows_amd64 go1.3.3 (gc)\n",
      "//CUDA 10020 TITAN Xp(12288MB) cc6.1, using CC53 PTX \n",
      "//(c) Arne Vansteenkiste, Dynamat LAB, Ghent University, Belgium\n",
      "//This is free software without any warranty. See license.txt\n",
      "//output directory: C:/Users/Rob/Desktop/Research/FMR_Paper/In_Plane_Field/In_Plane_Anis/HardAxis/ThinFilmFMR_BInPlane(1942.42)_In_PlaneAnis_K(40000)_Ratio(1).out/\n",
      "//starting GUI at http://127.0.0.1:35367\n",
      "SetPBC(0, 0, 0)\n",
      "SetGridSize(512, 512.0, 4)\n",
      "SetCellSize(4e-9, 4e-9, 4e-9)\n",
      "Msat = 800000.0\n",
      "Aex = 1.3e-11\n",
      "alpha = 0.008\n",
      "edgesmooth = 8\n",
      "B := 1942.42e-3\n",
      "anisU = vector(1.0, 0.0, 6.123233995736766e-17)\n",
      "Ku1 = 40000\n",
      "setSolver(5)\n",
      "TableAdd(Ku1)\n",
      "TableAdd(B_ext)\n",
      "TableAutoSave(5e-13)\n",
      "m = uniform(0, 1, 0)\n",
      "B_ext = vector(B*0.039891400317339676, B*0.9967530658528422, B*0.06994284733753288)\n",
      "relax()\n",
      "MaxDt = 5e-13\n",
      "B_ext = vector(B*0, B*1, B*0)\n",
      "run(1e-09)\n"
     ]
    },
    {
     "name": "stderr",
     "output_type": "stream",
     "text": [
      "//Using cached kernel: C:/Users/Rob/Desktop/Research/kernel-cache//mumax3kernel_[512 512 4]_[0 0 0]_[4e-09 4e-09 4e-09]_6_\n"
     ]
    },
    {
     "name": "stdout",
     "output_type": "stream",
     "text": [
      "//mumax 3.9.1c windows_amd64 go1.3.3 (gc)\n",
      "//CUDA 10020 TITAN Xp(12288MB) cc6.1, using CC53 PTX \n",
      "//(c) Arne Vansteenkiste, Dynamat LAB, Ghent University, Belgium\n",
      "//This is free software without any warranty. See license.txt\n",
      "//output directory: C:/Users/Rob/Desktop/Research/FMR_Paper/In_Plane_Field/In_Plane_Anis/HardAxis/ThinFilmFMR_BInPlane(1941.67)_In_PlaneAnis_K(30000)_Ratio(1).out/\n",
      "//starting GUI at http://127.0.0.1:35367\n",
      "SetPBC(0, 0, 0)\n",
      "SetGridSize(512, 512.0, 4)\n",
      "SetCellSize(4e-9, 4e-9, 4e-9)\n",
      "Msat = 800000.0\n",
      "Aex = 1.3e-11\n",
      "alpha = 0.008\n",
      "edgesmooth = 8\n",
      "B := 1941.67e-3\n",
      "anisU = vector(1.0, 0.0, 6.123233995736766e-17)\n",
      "Ku1 = 30000\n",
      "setSolver(5)\n",
      "TableAdd(Ku1)\n",
      "TableAdd(B_ext)\n",
      "TableAutoSave(5e-13)\n",
      "m = uniform(0, 1, 0)\n",
      "B_ext = vector(B*0.039891400317339676, B*0.9967530658528422, B*0.06994284733753288)\n",
      "relax()\n",
      "MaxDt = 5e-13\n",
      "B_ext = vector(B*0, B*1, B*0)\n",
      "run(1e-09)\n"
     ]
    },
    {
     "name": "stderr",
     "output_type": "stream",
     "text": [
      "//Using cached kernel: C:/Users/Rob/Desktop/Research/kernel-cache//mumax3kernel_[512 512 4]_[0 0 0]_[4e-09 4e-09 4e-09]_6_\n"
     ]
    },
    {
     "name": "stdout",
     "output_type": "stream",
     "text": [
      "//mumax 3.9.1c windows_amd64 go1.3.3 (gc)\n",
      "//CUDA 10020 TITAN Xp(12288MB) cc6.1, using CC53 PTX \n",
      "//(c) Arne Vansteenkiste, Dynamat LAB, Ghent University, Belgium\n",
      "//This is free software without any warranty. See license.txt\n",
      "//output directory: C:/Users/Rob/Desktop/Research/FMR_Paper/In_Plane_Field/In_Plane_Anis/HardAxis/ThinFilmFMR_BInPlane(1940.91)_In_PlaneAnis_K(20000)_Ratio(1).out/\n",
      "//starting GUI at http://127.0.0.1:35367\n",
      "SetPBC(0, 0, 0)\n",
      "SetGridSize(512, 512.0, 4)\n",
      "SetCellSize(4e-9, 4e-9, 4e-9)\n",
      "Msat = 800000.0\n",
      "Aex = 1.3e-11\n",
      "alpha = 0.008\n",
      "edgesmooth = 8\n",
      "B := 1940.91e-3\n",
      "anisU = vector(1.0, 0.0, 6.123233995736766e-17)\n",
      "Ku1 = 20000\n",
      "setSolver(5)\n",
      "TableAdd(Ku1)\n",
      "TableAdd(B_ext)\n",
      "TableAutoSave(5e-13)\n",
      "m = uniform(0, 1, 0)\n",
      "B_ext = vector(B*0.039891400317339676, B*0.9967530658528422, B*0.06994284733753288)\n",
      "relax()\n",
      "MaxDt = 5e-13\n",
      "B_ext = vector(B*0, B*1, B*0)\n",
      "run(1e-09)\n"
     ]
    },
    {
     "name": "stderr",
     "output_type": "stream",
     "text": [
      "//Using cached kernel: C:/Users/Rob/Desktop/Research/kernel-cache//mumax3kernel_[512 512 4]_[0 0 0]_[4e-09 4e-09 4e-09]_6_\n"
     ]
    },
    {
     "name": "stdout",
     "output_type": "stream",
     "text": [
      "//mumax 3.9.1c windows_amd64 go1.3.3 (gc)\n",
      "//CUDA 10020 TITAN Xp(12288MB) cc6.1, using CC53 PTX \n",
      "//(c) Arne Vansteenkiste, Dynamat LAB, Ghent University, Belgium\n",
      "//This is free software without any warranty. See license.txt\n",
      "//output directory: C:/Users/Rob/Desktop/Research/FMR_Paper/In_Plane_Field/In_Plane_Anis/HardAxis/ThinFilmFMR_BInPlane(1940.15)_In_PlaneAnis_K(10000)_Ratio(1).out/\n",
      "//starting GUI at http://127.0.0.1:35367\n",
      "SetPBC(0, 0, 0)\n",
      "SetGridSize(512, 512.0, 4)\n",
      "SetCellSize(4e-9, 4e-9, 4e-9)\n",
      "Msat = 800000.0\n",
      "Aex = 1.3e-11\n",
      "alpha = 0.008\n",
      "edgesmooth = 8\n",
      "B := 1940.15e-3\n",
      "anisU = vector(1.0, 0.0, 6.123233995736766e-17)\n",
      "Ku1 = 10000\n",
      "setSolver(5)\n",
      "TableAdd(Ku1)\n",
      "TableAdd(B_ext)\n",
      "TableAutoSave(5e-13)\n",
      "m = uniform(0, 1, 0)\n",
      "B_ext = vector(B*0.039891400317339676, B*0.9967530658528422, B*0.06994284733753288)\n",
      "relax()\n",
      "MaxDt = 5e-13\n",
      "B_ext = vector(B*0, B*1, B*0)\n",
      "run(1e-09)\n"
     ]
    },
    {
     "name": "stderr",
     "output_type": "stream",
     "text": [
      "//Using cached kernel: C:/Users/Rob/Desktop/Research/kernel-cache//mumax3kernel_[512 512 4]_[0 0 0]_[4e-09 4e-09 4e-09]_6_\n"
     ]
    },
    {
     "name": "stdout",
     "output_type": "stream",
     "text": [
      "//mumax 3.9.1c windows_amd64 go1.3.3 (gc)\n",
      "//CUDA 10020 TITAN Xp(12288MB) cc6.1, using CC53 PTX \n",
      "//(c) Arne Vansteenkiste, Dynamat LAB, Ghent University, Belgium\n",
      "//This is free software without any warranty. See license.txt\n",
      "//output directory: C:/Users/Rob/Desktop/Research/FMR_Paper/In_Plane_Field/In_Plane_Anis/HardAxis/ThinFilmFMR_BInPlane(1940)_In_PlaneAnis_K(0)_Ratio(1).out/\n",
      "//starting GUI at http://127.0.0.1:35367\n",
      "SetPBC(0, 0, 0)\n",
      "SetGridSize(512, 512.0, 4)\n",
      "SetCellSize(4e-9, 4e-9, 4e-9)\n",
      "Msat = 800000.0\n",
      "Aex = 1.3e-11\n",
      "alpha = 0.008\n",
      "edgesmooth = 8\n",
      "B := 1940e-3\n",
      "anisU = vector(1.0, 0.0, 6.123233995736766e-17)\n",
      "Ku1 = 0\n",
      "setSolver(5)\n",
      "TableAdd(Ku1)\n",
      "TableAdd(B_ext)\n",
      "TableAutoSave(5e-13)\n",
      "m = uniform(0, 1, 0)\n",
      "B_ext = vector(B*0.039891400317339676, B*0.9967530658528422, B*0.06994284733753288)\n",
      "relax()\n",
      "MaxDt = 5e-13\n",
      "B_ext = vector(B*0, B*1, B*0)\n",
      "run(1e-09)\n"
     ]
    },
    {
     "name": "stderr",
     "output_type": "stream",
     "text": [
      "//Using cached kernel: C:/Users/Rob/Desktop/Research/kernel-cache//mumax3kernel_[512 512 4]_[0 0 0]_[4e-09 4e-09 4e-09]_6_\n"
     ]
    },
    {
     "name": "stdout",
     "output_type": "stream",
     "text": [
      "//mumax 3.9.1c windows_amd64 go1.3.3 (gc)\n",
      "//CUDA 10020 TITAN Xp(12288MB) cc6.1, using CC53 PTX \n",
      "//(c) Arne Vansteenkiste, Dynamat LAB, Ghent University, Belgium\n",
      "//This is free software without any warranty. See license.txt\n",
      "//output directory: C:/Users/Rob/Desktop/Research/FMR_Paper/In_Plane_Field/In_Plane_Anis/HardAxis/ThinFilmFMR_BInPlane(194.44)_In_PlaneAnis_K(100000)_Ratio(1).out/\n",
      "//starting GUI at http://127.0.0.1:35367\n",
      "SetPBC(0, 0, 0)\n",
      "SetGridSize(512, 512.0, 4)\n",
      "SetCellSize(4e-9, 4e-9, 4e-9)\n",
      "Msat = 800000.0\n",
      "Aex = 1.3e-11\n",
      "alpha = 0.008\n",
      "edgesmooth = 8\n",
      "B := 194.44e-3\n",
      "anisU = vector(1.0, 0.0, 6.123233995736766e-17)\n",
      "Ku1 = 100000\n",
      "setSolver(5)\n",
      "TableAdd(Ku1)\n",
      "TableAdd(B_ext)\n",
      "TableAutoSave(5e-13)\n",
      "m = uniform(0, 1, 0)\n",
      "B_ext = vector(B*0.039891400317339676, B*0.9967530658528422, B*0.06994284733753288)\n",
      "relax()\n",
      "MaxDt = 5e-13\n",
      "B_ext = vector(B*0, B*1, B*0)\n",
      "run(1e-09)\n"
     ]
    },
    {
     "name": "stderr",
     "output_type": "stream",
     "text": [
      "//Using cached kernel: C:/Users/Rob/Desktop/Research/kernel-cache//mumax3kernel_[512 512 4]_[0 0 0]_[4e-09 4e-09 4e-09]_6_\n"
     ]
    },
    {
     "name": "stdout",
     "output_type": "stream",
     "text": [
      "//mumax 3.9.1c windows_amd64 go1.3.3 (gc)\n",
      "//CUDA 10020 TITAN Xp(12288MB) cc6.1, using CC53 PTX \n",
      "//(c) Arne Vansteenkiste, Dynamat LAB, Ghent University, Belgium\n",
      "//This is free software without any warranty. See license.txt\n",
      "//output directory: C:/Users/Rob/Desktop/Research/FMR_Paper/In_Plane_Field/In_Plane_Anis/HardAxis/ThinFilmFMR_BInPlane(1930)_In_PlaneAnis_K(0)_Ratio(1).out/\n",
      "//starting GUI at http://127.0.0.1:35367\n",
      "SetPBC(0, 0, 0)\n",
      "SetGridSize(512, 512.0, 4)\n",
      "SetCellSize(4e-9, 4e-9, 4e-9)\n",
      "Msat = 800000.0\n",
      "Aex = 1.3e-11\n",
      "alpha = 0.008\n",
      "edgesmooth = 8\n",
      "B := 1930e-3\n",
      "anisU = vector(1.0, 0.0, 6.123233995736766e-17)\n",
      "Ku1 = 0\n",
      "setSolver(5)\n",
      "TableAdd(Ku1)\n",
      "TableAdd(B_ext)\n",
      "TableAutoSave(5e-13)\n",
      "m = uniform(0, 1, 0)\n",
      "B_ext = vector(B*0.039891400317339676, B*0.9967530658528422, B*0.06994284733753288)\n",
      "relax()\n",
      "MaxDt = 5e-13\n",
      "B_ext = vector(B*0, B*1, B*0)\n",
      "run(1e-09)\n"
     ]
    },
    {
     "name": "stderr",
     "output_type": "stream",
     "text": [
      "//Using cached kernel: C:/Users/Rob/Desktop/Research/kernel-cache//mumax3kernel_[512 512 4]_[0 0 0]_[4e-09 4e-09 4e-09]_6_\n"
     ]
    },
    {
     "name": "stdout",
     "output_type": "stream",
     "text": [
      "//mumax 3.9.1c windows_amd64 go1.3.3 (gc)\n",
      "//CUDA 10020 TITAN Xp(12288MB) cc6.1, using CC53 PTX \n",
      "//(c) Arne Vansteenkiste, Dynamat LAB, Ghent University, Belgium\n",
      "//This is free software without any warranty. See license.txt\n",
      "//output directory: C:/Users/Rob/Desktop/Research/FMR_Paper/In_Plane_Field/In_Plane_Anis/HardAxis/ThinFilmFMR_BInPlane(193.94)_In_PlaneAnis_K(80000)_Ratio(1).out/\n",
      "//starting GUI at http://127.0.0.1:35367\n",
      "SetPBC(0, 0, 0)\n",
      "SetGridSize(512, 512.0, 4)\n",
      "SetCellSize(4e-9, 4e-9, 4e-9)\n",
      "Msat = 800000.0\n",
      "Aex = 1.3e-11\n",
      "alpha = 0.008\n",
      "edgesmooth = 8\n",
      "B := 193.94e-3\n",
      "anisU = vector(1.0, 0.0, 6.123233995736766e-17)\n",
      "Ku1 = 80000\n",
      "setSolver(5)\n",
      "TableAdd(Ku1)\n",
      "TableAdd(B_ext)\n",
      "TableAutoSave(5e-13)\n",
      "m = uniform(0, 1, 0)\n",
      "B_ext = vector(B*0.039891400317339676, B*0.9967530658528422, B*0.06994284733753288)\n",
      "relax()\n",
      "MaxDt = 5e-13\n",
      "B_ext = vector(B*0, B*1, B*0)\n",
      "run(1e-09)\n"
     ]
    },
    {
     "name": "stderr",
     "output_type": "stream",
     "text": [
      "//Using cached kernel: C:/Users/Rob/Desktop/Research/kernel-cache//mumax3kernel_[512 512 4]_[0 0 0]_[4e-09 4e-09 4e-09]_6_\n"
     ]
    },
    {
     "name": "stdout",
     "output_type": "stream",
     "text": [
      "//mumax 3.9.1c windows_amd64 go1.3.3 (gc)\n",
      "//CUDA 10020 TITAN Xp(12288MB) cc6.1, using CC53 PTX \n",
      "//(c) Arne Vansteenkiste, Dynamat LAB, Ghent University, Belgium\n",
      "//This is free software without any warranty. See license.txt\n",
      "//output directory: C:/Users/Rob/Desktop/Research/FMR_Paper/In_Plane_Field/In_Plane_Anis/HardAxis/ThinFilmFMR_BInPlane(193.43)_In_PlaneAnis_K(70000)_Ratio(1).out/\n",
      "//starting GUI at http://127.0.0.1:35367\n",
      "SetPBC(0, 0, 0)\n",
      "SetGridSize(512, 512.0, 4)\n",
      "SetCellSize(4e-9, 4e-9, 4e-9)\n",
      "Msat = 800000.0\n",
      "Aex = 1.3e-11\n",
      "alpha = 0.008\n",
      "edgesmooth = 8\n",
      "B := 193.43e-3\n",
      "anisU = vector(1.0, 0.0, 6.123233995736766e-17)\n",
      "Ku1 = 70000\n",
      "setSolver(5)\n",
      "TableAdd(Ku1)\n",
      "TableAdd(B_ext)\n",
      "TableAutoSave(5e-13)\n",
      "m = uniform(0, 1, 0)\n",
      "B_ext = vector(B*0.039891400317339676, B*0.9967530658528422, B*0.06994284733753288)\n",
      "relax()\n",
      "MaxDt = 5e-13\n",
      "B_ext = vector(B*0, B*1, B*0)\n",
      "run(1e-09)\n"
     ]
    },
    {
     "name": "stderr",
     "output_type": "stream",
     "text": [
      "//Using cached kernel: C:/Users/Rob/Desktop/Research/kernel-cache//mumax3kernel_[512 512 4]_[0 0 0]_[4e-09 4e-09 4e-09]_6_\n"
     ]
    },
    {
     "name": "stdout",
     "output_type": "stream",
     "text": [
      "//mumax 3.9.1c windows_amd64 go1.3.3 (gc)\n",
      "//CUDA 10020 TITAN Xp(12288MB) cc6.1, using CC53 PTX \n",
      "//(c) Arne Vansteenkiste, Dynamat LAB, Ghent University, Belgium\n",
      "//This is free software without any warranty. See license.txt\n",
      "//output directory: C:/Users/Rob/Desktop/Research/FMR_Paper/In_Plane_Field/In_Plane_Anis/HardAxis/ThinFilmFMR_BInPlane(193.18)_In_PlaneAnis_K(90000)_Ratio(1).out/\n",
      "//starting GUI at http://127.0.0.1:35367\n",
      "SetPBC(0, 0, 0)\n",
      "SetGridSize(512, 512.0, 4)\n",
      "SetCellSize(4e-9, 4e-9, 4e-9)\n",
      "Msat = 800000.0\n",
      "Aex = 1.3e-11\n",
      "alpha = 0.008\n",
      "edgesmooth = 8\n",
      "B := 193.18e-3\n",
      "anisU = vector(1.0, 0.0, 6.123233995736766e-17)\n",
      "Ku1 = 90000\n",
      "setSolver(5)\n",
      "TableAdd(Ku1)\n",
      "TableAdd(B_ext)\n",
      "TableAutoSave(5e-13)\n",
      "m = uniform(0, 1, 0)\n",
      "B_ext = vector(B*0.039891400317339676, B*0.9967530658528422, B*0.06994284733753288)\n",
      "relax()\n",
      "MaxDt = 5e-13\n",
      "B_ext = vector(B*0, B*1, B*0)\n",
      "run(1e-09)\n"
     ]
    },
    {
     "name": "stderr",
     "output_type": "stream",
     "text": [
      "//Using cached kernel: C:/Users/Rob/Desktop/Research/kernel-cache//mumax3kernel_[512 512 4]_[0 0 0]_[4e-09 4e-09 4e-09]_6_\n"
     ]
    },
    {
     "name": "stdout",
     "output_type": "stream",
     "text": [
      "//mumax 3.9.1c windows_amd64 go1.3.3 (gc)\n",
      "//CUDA 10020 TITAN Xp(12288MB) cc6.1, using CC53 PTX \n",
      "//(c) Arne Vansteenkiste, Dynamat LAB, Ghent University, Belgium\n",
      "//This is free software without any warranty. See license.txt\n",
      "//output directory: C:/Users/Rob/Desktop/Research/FMR_Paper/In_Plane_Field/In_Plane_Anis/HardAxis/ThinFilmFMR_BInPlane(1929.29)_In_PlaneAnis_K(100000)_Ratio(1).out/\n",
      "//starting GUI at http://127.0.0.1:35367\n",
      "SetPBC(0, 0, 0)\n",
      "SetGridSize(512, 512.0, 4)\n",
      "SetCellSize(4e-9, 4e-9, 4e-9)\n",
      "Msat = 800000.0\n",
      "Aex = 1.3e-11\n",
      "alpha = 0.008\n",
      "edgesmooth = 8\n",
      "B := 1929.29e-3\n",
      "anisU = vector(1.0, 0.0, 6.123233995736766e-17)\n",
      "Ku1 = 100000\n",
      "setSolver(5)\n",
      "TableAdd(Ku1)\n",
      "TableAdd(B_ext)\n",
      "TableAutoSave(5e-13)\n",
      "m = uniform(0, 1, 0)\n",
      "B_ext = vector(B*0.039891400317339676, B*0.9967530658528422, B*0.06994284733753288)\n",
      "relax()\n",
      "MaxDt = 5e-13\n",
      "B_ext = vector(B*0, B*1, B*0)\n",
      "run(1e-09)\n"
     ]
    },
    {
     "name": "stderr",
     "output_type": "stream",
     "text": [
      "//Using cached kernel: C:/Users/Rob/Desktop/Research/kernel-cache//mumax3kernel_[512 512 4]_[0 0 0]_[4e-09 4e-09 4e-09]_6_\n"
     ]
    },
    {
     "name": "stdout",
     "output_type": "stream",
     "text": [
      "//mumax 3.9.1c windows_amd64 go1.3.3 (gc)\n",
      "//CUDA 10020 TITAN Xp(12288MB) cc6.1, using CC53 PTX \n",
      "//(c) Arne Vansteenkiste, Dynamat LAB, Ghent University, Belgium\n",
      "//This is free software without any warranty. See license.txt\n",
      "//output directory: C:/Users/Rob/Desktop/Research/FMR_Paper/In_Plane_Field/In_Plane_Anis/HardAxis/ThinFilmFMR_BInPlane(1928.28)_In_PlaneAnis_K(90000)_Ratio(1).out/\n",
      "//starting GUI at http://127.0.0.1:35367\n",
      "SetPBC(0, 0, 0)\n",
      "SetGridSize(512, 512.0, 4)\n",
      "SetCellSize(4e-9, 4e-9, 4e-9)\n",
      "Msat = 800000.0\n",
      "Aex = 1.3e-11\n",
      "alpha = 0.008\n",
      "edgesmooth = 8\n",
      "B := 1928.28e-3\n",
      "anisU = vector(1.0, 0.0, 6.123233995736766e-17)\n",
      "Ku1 = 90000\n",
      "setSolver(5)\n",
      "TableAdd(Ku1)\n",
      "TableAdd(B_ext)\n",
      "TableAutoSave(5e-13)\n",
      "m = uniform(0, 1, 0)\n",
      "B_ext = vector(B*0.039891400317339676, B*0.9967530658528422, B*0.06994284733753288)\n",
      "relax()\n",
      "MaxDt = 5e-13\n",
      "B_ext = vector(B*0, B*1, B*0)\n",
      "run(1e-09)\n"
     ]
    },
    {
     "name": "stderr",
     "output_type": "stream",
     "text": [
      "//Using cached kernel: C:/Users/Rob/Desktop/Research/kernel-cache//mumax3kernel_[512 512 4]_[0 0 0]_[4e-09 4e-09 4e-09]_6_\n"
     ]
    },
    {
     "name": "stdout",
     "output_type": "stream",
     "text": [
      "//mumax 3.9.1c windows_amd64 go1.3.3 (gc)\n",
      "//CUDA 10020 TITAN Xp(12288MB) cc6.1, using CC53 PTX \n",
      "//(c) Arne Vansteenkiste, Dynamat LAB, Ghent University, Belgium\n",
      "//This is free software without any warranty. See license.txt\n",
      "//output directory: C:/Users/Rob/Desktop/Research/FMR_Paper/In_Plane_Field/In_Plane_Anis/HardAxis/ThinFilmFMR_BInPlane(1927.27)_In_PlaneAnis_K(80000)_Ratio(1).out/\n",
      "//starting GUI at http://127.0.0.1:35367\n",
      "SetPBC(0, 0, 0)\n",
      "SetGridSize(512, 512.0, 4)\n",
      "SetCellSize(4e-9, 4e-9, 4e-9)\n",
      "Msat = 800000.0\n",
      "Aex = 1.3e-11\n",
      "alpha = 0.008\n",
      "edgesmooth = 8\n",
      "B := 1927.27e-3\n",
      "anisU = vector(1.0, 0.0, 6.123233995736766e-17)\n",
      "Ku1 = 80000\n",
      "setSolver(5)\n",
      "TableAdd(Ku1)\n",
      "TableAdd(B_ext)\n",
      "TableAutoSave(5e-13)\n",
      "m = uniform(0, 1, 0)\n",
      "B_ext = vector(B*0.039891400317339676, B*0.9967530658528422, B*0.06994284733753288)\n",
      "relax()\n",
      "MaxDt = 5e-13\n",
      "B_ext = vector(B*0, B*1, B*0)\n",
      "run(1e-09)\n"
     ]
    },
    {
     "name": "stderr",
     "output_type": "stream",
     "text": [
      "//Using cached kernel: C:/Users/Rob/Desktop/Research/kernel-cache//mumax3kernel_[512 512 4]_[0 0 0]_[4e-09 4e-09 4e-09]_6_\n"
     ]
    },
    {
     "name": "stdout",
     "output_type": "stream",
     "text": [
      "//mumax 3.9.1c windows_amd64 go1.3.3 (gc)\n",
      "//CUDA 10020 TITAN Xp(12288MB) cc6.1, using CC53 PTX \n",
      "//(c) Arne Vansteenkiste, Dynamat LAB, Ghent University, Belgium\n",
      "//This is free software without any warranty. See license.txt\n",
      "//output directory: C:/Users/Rob/Desktop/Research/FMR_Paper/In_Plane_Field/In_Plane_Anis/HardAxis/ThinFilmFMR_BInPlane(1926.26)_In_PlaneAnis_K(70000)_Ratio(1).out/\n",
      "//starting GUI at http://127.0.0.1:35367\n",
      "SetPBC(0, 0, 0)\n",
      "SetGridSize(512, 512.0, 4)\n",
      "SetCellSize(4e-9, 4e-9, 4e-9)\n",
      "Msat = 800000.0\n",
      "Aex = 1.3e-11\n",
      "alpha = 0.008\n",
      "edgesmooth = 8\n",
      "B := 1926.26e-3\n",
      "anisU = vector(1.0, 0.0, 6.123233995736766e-17)\n",
      "Ku1 = 70000\n",
      "setSolver(5)\n",
      "TableAdd(Ku1)\n",
      "TableAdd(B_ext)\n",
      "TableAutoSave(5e-13)\n",
      "m = uniform(0, 1, 0)\n",
      "B_ext = vector(B*0.039891400317339676, B*0.9967530658528422, B*0.06994284733753288)\n",
      "relax()\n",
      "MaxDt = 5e-13\n",
      "B_ext = vector(B*0, B*1, B*0)\n",
      "run(1e-09)\n"
     ]
    },
    {
     "name": "stderr",
     "output_type": "stream",
     "text": [
      "//Using cached kernel: C:/Users/Rob/Desktop/Research/kernel-cache//mumax3kernel_[512 512 4]_[0 0 0]_[4e-09 4e-09 4e-09]_6_\n"
     ]
    },
    {
     "name": "stdout",
     "output_type": "stream",
     "text": [
      "//mumax 3.9.1c windows_amd64 go1.3.3 (gc)\n",
      "//CUDA 10020 TITAN Xp(12288MB) cc6.1, using CC53 PTX \n",
      "//(c) Arne Vansteenkiste, Dynamat LAB, Ghent University, Belgium\n",
      "//This is free software without any warranty. See license.txt\n",
      "//output directory: C:/Users/Rob/Desktop/Research/FMR_Paper/In_Plane_Field/In_Plane_Anis/HardAxis/ThinFilmFMR_BInPlane(1925.25)_In_PlaneAnis_K(60000)_Ratio(1).out/\n",
      "//starting GUI at http://127.0.0.1:35367\n",
      "SetPBC(0, 0, 0)\n",
      "SetGridSize(512, 512.0, 4)\n",
      "SetCellSize(4e-9, 4e-9, 4e-9)\n",
      "Msat = 800000.0\n",
      "Aex = 1.3e-11\n",
      "alpha = 0.008\n",
      "edgesmooth = 8\n",
      "B := 1925.25e-3\n",
      "anisU = vector(1.0, 0.0, 6.123233995736766e-17)\n",
      "Ku1 = 60000\n",
      "setSolver(5)\n",
      "TableAdd(Ku1)\n",
      "TableAdd(B_ext)\n",
      "TableAutoSave(5e-13)\n",
      "m = uniform(0, 1, 0)\n",
      "B_ext = vector(B*0.039891400317339676, B*0.9967530658528422, B*0.06994284733753288)\n",
      "relax()\n",
      "MaxDt = 5e-13\n",
      "B_ext = vector(B*0, B*1, B*0)\n",
      "run(1e-09)\n"
     ]
    },
    {
     "name": "stderr",
     "output_type": "stream",
     "text": [
      "//Using cached kernel: C:/Users/Rob/Desktop/Research/kernel-cache//mumax3kernel_[512 512 4]_[0 0 0]_[4e-09 4e-09 4e-09]_6_\n"
     ]
    },
    {
     "name": "stdout",
     "output_type": "stream",
     "text": [
      "//mumax 3.9.1c windows_amd64 go1.3.3 (gc)\n",
      "//CUDA 10020 TITAN Xp(12288MB) cc6.1, using CC53 PTX \n",
      "//(c) Arne Vansteenkiste, Dynamat LAB, Ghent University, Belgium\n",
      "//This is free software without any warranty. See license.txt\n",
      "//output directory: C:/Users/Rob/Desktop/Research/FMR_Paper/In_Plane_Field/In_Plane_Anis/HardAxis/ThinFilmFMR_BInPlane(1924.24)_In_PlaneAnis_K(50000)_Ratio(1).out/\n",
      "//starting GUI at http://127.0.0.1:35367\n",
      "SetPBC(0, 0, 0)\n",
      "SetGridSize(512, 512.0, 4)\n",
      "SetCellSize(4e-9, 4e-9, 4e-9)\n",
      "Msat = 800000.0\n",
      "Aex = 1.3e-11\n",
      "alpha = 0.008\n",
      "edgesmooth = 8\n",
      "B := 1924.24e-3\n",
      "anisU = vector(1.0, 0.0, 6.123233995736766e-17)\n",
      "Ku1 = 50000\n",
      "setSolver(5)\n",
      "TableAdd(Ku1)\n",
      "TableAdd(B_ext)\n",
      "TableAutoSave(5e-13)\n",
      "m = uniform(0, 1, 0)\n",
      "B_ext = vector(B*0.039891400317339676, B*0.9967530658528422, B*0.06994284733753288)\n",
      "relax()\n",
      "MaxDt = 5e-13\n",
      "B_ext = vector(B*0, B*1, B*0)\n",
      "run(1e-09)\n"
     ]
    },
    {
     "name": "stderr",
     "output_type": "stream",
     "text": [
      "//Using cached kernel: C:/Users/Rob/Desktop/Research/kernel-cache//mumax3kernel_[512 512 4]_[0 0 0]_[4e-09 4e-09 4e-09]_6_\n"
     ]
    },
    {
     "name": "stdout",
     "output_type": "stream",
     "text": [
      "//mumax 3.9.1c windows_amd64 go1.3.3 (gc)\n",
      "//CUDA 10020 TITAN Xp(12288MB) cc6.1, using CC53 PTX \n",
      "//(c) Arne Vansteenkiste, Dynamat LAB, Ghent University, Belgium\n",
      "//This is free software without any warranty. See license.txt\n",
      "//output directory: C:/Users/Rob/Desktop/Research/FMR_Paper/In_Plane_Field/In_Plane_Anis/HardAxis/ThinFilmFMR_BInPlane(1923.23)_In_PlaneAnis_K(40000)_Ratio(1).out/\n",
      "//starting GUI at http://127.0.0.1:35367\n",
      "SetPBC(0, 0, 0)\n",
      "SetGridSize(512, 512.0, 4)\n",
      "SetCellSize(4e-9, 4e-9, 4e-9)\n",
      "Msat = 800000.0\n",
      "Aex = 1.3e-11\n",
      "alpha = 0.008\n",
      "edgesmooth = 8\n",
      "B := 1923.23e-3\n",
      "anisU = vector(1.0, 0.0, 6.123233995736766e-17)\n",
      "Ku1 = 40000\n",
      "setSolver(5)\n",
      "TableAdd(Ku1)\n",
      "TableAdd(B_ext)\n",
      "TableAutoSave(5e-13)\n",
      "m = uniform(0, 1, 0)\n",
      "B_ext = vector(B*0.039891400317339676, B*0.9967530658528422, B*0.06994284733753288)\n",
      "relax()\n",
      "MaxDt = 5e-13\n",
      "B_ext = vector(B*0, B*1, B*0)\n",
      "run(1e-09)\n"
     ]
    },
    {
     "name": "stderr",
     "output_type": "stream",
     "text": [
      "//Using cached kernel: C:/Users/Rob/Desktop/Research/kernel-cache//mumax3kernel_[512 512 4]_[0 0 0]_[4e-09 4e-09 4e-09]_6_\n"
     ]
    },
    {
     "name": "stdout",
     "output_type": "stream",
     "text": [
      "//mumax 3.9.1c windows_amd64 go1.3.3 (gc)\n",
      "//CUDA 10020 TITAN Xp(12288MB) cc6.1, using CC53 PTX \n",
      "//(c) Arne Vansteenkiste, Dynamat LAB, Ghent University, Belgium\n",
      "//This is free software without any warranty. See license.txt\n",
      "//output directory: C:/Users/Rob/Desktop/Research/FMR_Paper/In_Plane_Field/In_Plane_Anis/HardAxis/ThinFilmFMR_BInPlane(1922.22)_In_PlaneAnis_K(30000)_Ratio(1).out/\n",
      "//starting GUI at http://127.0.0.1:35367\n",
      "SetPBC(0, 0, 0)\n",
      "SetGridSize(512, 512.0, 4)\n",
      "SetCellSize(4e-9, 4e-9, 4e-9)\n",
      "Msat = 800000.0\n",
      "Aex = 1.3e-11\n",
      "alpha = 0.008\n",
      "edgesmooth = 8\n",
      "B := 1922.22e-3\n",
      "anisU = vector(1.0, 0.0, 6.123233995736766e-17)\n",
      "Ku1 = 30000\n",
      "setSolver(5)\n",
      "TableAdd(Ku1)\n",
      "TableAdd(B_ext)\n",
      "TableAutoSave(5e-13)\n",
      "m = uniform(0, 1, 0)\n",
      "B_ext = vector(B*0.039891400317339676, B*0.9967530658528422, B*0.06994284733753288)\n",
      "relax()\n",
      "MaxDt = 5e-13\n",
      "B_ext = vector(B*0, B*1, B*0)\n",
      "run(1e-09)\n"
     ]
    },
    {
     "name": "stderr",
     "output_type": "stream",
     "text": [
      "//Using cached kernel: C:/Users/Rob/Desktop/Research/kernel-cache//mumax3kernel_[512 512 4]_[0 0 0]_[4e-09 4e-09 4e-09]_6_\n"
     ]
    },
    {
     "name": "stdout",
     "output_type": "stream",
     "text": [
      "//mumax 3.9.1c windows_amd64 go1.3.3 (gc)\n",
      "//CUDA 10020 TITAN Xp(12288MB) cc6.1, using CC53 PTX \n",
      "//(c) Arne Vansteenkiste, Dynamat LAB, Ghent University, Belgium\n",
      "//This is free software without any warranty. See license.txt\n",
      "//output directory: C:/Users/Rob/Desktop/Research/FMR_Paper/In_Plane_Field/In_Plane_Anis/HardAxis/ThinFilmFMR_BInPlane(1921.21)_In_PlaneAnis_K(20000)_Ratio(1).out/\n",
      "//starting GUI at http://127.0.0.1:35367\n",
      "SetPBC(0, 0, 0)\n",
      "SetGridSize(512, 512.0, 4)\n",
      "SetCellSize(4e-9, 4e-9, 4e-9)\n",
      "Msat = 800000.0\n",
      "Aex = 1.3e-11\n",
      "alpha = 0.008\n",
      "edgesmooth = 8\n",
      "B := 1921.21e-3\n",
      "anisU = vector(1.0, 0.0, 6.123233995736766e-17)\n",
      "Ku1 = 20000\n",
      "setSolver(5)\n",
      "TableAdd(Ku1)\n",
      "TableAdd(B_ext)\n",
      "TableAutoSave(5e-13)\n",
      "m = uniform(0, 1, 0)\n",
      "B_ext = vector(B*0.039891400317339676, B*0.9967530658528422, B*0.06994284733753288)\n",
      "relax()\n",
      "MaxDt = 5e-13\n",
      "B_ext = vector(B*0, B*1, B*0)\n",
      "run(1e-09)\n"
     ]
    },
    {
     "name": "stderr",
     "output_type": "stream",
     "text": [
      "//Using cached kernel: C:/Users/Rob/Desktop/Research/kernel-cache//mumax3kernel_[512 512 4]_[0 0 0]_[4e-09 4e-09 4e-09]_6_\n"
     ]
    },
    {
     "name": "stdout",
     "output_type": "stream",
     "text": [
      "//mumax 3.9.1c windows_amd64 go1.3.3 (gc)\n",
      "//CUDA 10020 TITAN Xp(12288MB) cc6.1, using CC53 PTX \n",
      "//(c) Arne Vansteenkiste, Dynamat LAB, Ghent University, Belgium\n",
      "//This is free software without any warranty. See license.txt\n",
      "//output directory: C:/Users/Rob/Desktop/Research/FMR_Paper/In_Plane_Field/In_Plane_Anis/HardAxis/ThinFilmFMR_BInPlane(1920.2)_In_PlaneAnis_K(10000)_Ratio(1).out/\n",
      "//starting GUI at http://127.0.0.1:35367\n",
      "SetPBC(0, 0, 0)\n",
      "SetGridSize(512, 512.0, 4)\n",
      "SetCellSize(4e-9, 4e-9, 4e-9)\n",
      "Msat = 800000.0\n",
      "Aex = 1.3e-11\n",
      "alpha = 0.008\n",
      "edgesmooth = 8\n",
      "B := 1920.2e-3\n",
      "anisU = vector(1.0, 0.0, 6.123233995736766e-17)\n",
      "Ku1 = 10000\n",
      "setSolver(5)\n",
      "TableAdd(Ku1)\n",
      "TableAdd(B_ext)\n",
      "TableAutoSave(5e-13)\n",
      "m = uniform(0, 1, 0)\n",
      "B_ext = vector(B*0.039891400317339676, B*0.9967530658528422, B*0.06994284733753288)\n",
      "relax()\n",
      "MaxDt = 5e-13\n",
      "B_ext = vector(B*0, B*1, B*0)\n",
      "run(1e-09)\n"
     ]
    },
    {
     "name": "stderr",
     "output_type": "stream",
     "text": [
      "//Using cached kernel: C:/Users/Rob/Desktop/Research/kernel-cache//mumax3kernel_[512 512 4]_[0 0 0]_[4e-09 4e-09 4e-09]_6_\n"
     ]
    },
    {
     "name": "stdout",
     "output_type": "stream",
     "text": [
      "//mumax 3.9.1c windows_amd64 go1.3.3 (gc)\n",
      "//CUDA 10020 TITAN Xp(12288MB) cc6.1, using CC53 PTX \n",
      "//(c) Arne Vansteenkiste, Dynamat LAB, Ghent University, Belgium\n",
      "//This is free software without any warranty. See license.txt\n",
      "//output directory: C:/Users/Rob/Desktop/Research/FMR_Paper/In_Plane_Field/In_Plane_Anis/HardAxis/ThinFilmFMR_BInPlane(1920)_In_PlaneAnis_K(0)_Ratio(1).out/\n",
      "//starting GUI at http://127.0.0.1:35367\n",
      "SetPBC(0, 0, 0)\n",
      "SetGridSize(512, 512.0, 4)\n",
      "SetCellSize(4e-9, 4e-9, 4e-9)\n",
      "Msat = 800000.0\n",
      "Aex = 1.3e-11\n",
      "alpha = 0.008\n",
      "edgesmooth = 8\n",
      "B := 1920e-3\n",
      "anisU = vector(1.0, 0.0, 6.123233995736766e-17)\n",
      "Ku1 = 0\n",
      "setSolver(5)\n",
      "TableAdd(Ku1)\n",
      "TableAdd(B_ext)\n",
      "TableAutoSave(5e-13)\n",
      "m = uniform(0, 1, 0)\n",
      "B_ext = vector(B*0.039891400317339676, B*0.9967530658528422, B*0.06994284733753288)\n",
      "relax()\n",
      "MaxDt = 5e-13\n",
      "B_ext = vector(B*0, B*1, B*0)\n",
      "run(1e-09)\n"
     ]
    },
    {
     "name": "stderr",
     "output_type": "stream",
     "text": [
      "//Using cached kernel: C:/Users/Rob/Desktop/Research/kernel-cache//mumax3kernel_[512 512 4]_[0 0 0]_[4e-09 4e-09 4e-09]_6_\n"
     ]
    },
    {
     "name": "stdout",
     "output_type": "stream",
     "text": [
      "//mumax 3.9.1c windows_amd64 go1.3.3 (gc)\n",
      "//CUDA 10020 TITAN Xp(12288MB) cc6.1, using CC53 PTX \n",
      "//(c) Arne Vansteenkiste, Dynamat LAB, Ghent University, Belgium\n",
      "//This is free software without any warranty. See license.txt\n",
      "//output directory: C:/Users/Rob/Desktop/Research/FMR_Paper/In_Plane_Field/In_Plane_Anis/HardAxis/ThinFilmFMR_BInPlane(1911.62)_In_PlaneAnis_K(100000)_Ratio(1).out/\n",
      "//starting GUI at http://127.0.0.1:35367\n",
      "SetPBC(0, 0, 0)\n",
      "SetGridSize(512, 512.0, 4)\n",
      "SetCellSize(4e-9, 4e-9, 4e-9)\n",
      "Msat = 800000.0\n",
      "Aex = 1.3e-11\n",
      "alpha = 0.008\n",
      "edgesmooth = 8\n",
      "B := 1911.62e-3\n",
      "anisU = vector(1.0, 0.0, 6.123233995736766e-17)\n",
      "Ku1 = 100000\n",
      "setSolver(5)\n",
      "TableAdd(Ku1)\n",
      "TableAdd(B_ext)\n",
      "TableAutoSave(5e-13)\n",
      "m = uniform(0, 1, 0)\n",
      "B_ext = vector(B*0.039891400317339676, B*0.9967530658528422, B*0.06994284733753288)\n",
      "relax()\n",
      "MaxDt = 5e-13\n",
      "B_ext = vector(B*0, B*1, B*0)\n",
      "run(1e-09)\n"
     ]
    },
    {
     "name": "stderr",
     "output_type": "stream",
     "text": [
      "//Using cached kernel: C:/Users/Rob/Desktop/Research/kernel-cache//mumax3kernel_[512 512 4]_[0 0 0]_[4e-09 4e-09 4e-09]_6_\n"
     ]
    },
    {
     "name": "stdout",
     "output_type": "stream",
     "text": [
      "//mumax 3.9.1c windows_amd64 go1.3.3 (gc)\n",
      "//CUDA 10020 TITAN Xp(12288MB) cc6.1, using CC53 PTX \n",
      "//(c) Arne Vansteenkiste, Dynamat LAB, Ghent University, Belgium\n",
      "//This is free software without any warranty. See license.txt\n",
      "//output directory: C:/Users/Rob/Desktop/Research/FMR_Paper/In_Plane_Field/In_Plane_Anis/HardAxis/ThinFilmFMR_BInPlane(1910.35)_In_PlaneAnis_K(90000)_Ratio(1).out/\n",
      "//starting GUI at http://127.0.0.1:35367\n",
      "SetPBC(0, 0, 0)\n",
      "SetGridSize(512, 512.0, 4)\n",
      "SetCellSize(4e-9, 4e-9, 4e-9)\n",
      "Msat = 800000.0\n",
      "Aex = 1.3e-11\n",
      "alpha = 0.008\n",
      "edgesmooth = 8\n",
      "B := 1910.35e-3\n",
      "anisU = vector(1.0, 0.0, 6.123233995736766e-17)\n",
      "Ku1 = 90000\n",
      "setSolver(5)\n",
      "TableAdd(Ku1)\n",
      "TableAdd(B_ext)\n",
      "TableAutoSave(5e-13)\n",
      "m = uniform(0, 1, 0)\n",
      "B_ext = vector(B*0.039891400317339676, B*0.9967530658528422, B*0.06994284733753288)\n",
      "relax()\n",
      "MaxDt = 5e-13\n",
      "B_ext = vector(B*0, B*1, B*0)\n",
      "run(1e-09)\n"
     ]
    },
    {
     "name": "stderr",
     "output_type": "stream",
     "text": [
      "//Using cached kernel: C:/Users/Rob/Desktop/Research/kernel-cache//mumax3kernel_[512 512 4]_[0 0 0]_[4e-09 4e-09 4e-09]_6_\n"
     ]
    },
    {
     "name": "stdout",
     "output_type": "stream",
     "text": [
      "//mumax 3.9.1c windows_amd64 go1.3.3 (gc)\n",
      "//CUDA 10020 TITAN Xp(12288MB) cc6.1, using CC53 PTX \n",
      "//(c) Arne Vansteenkiste, Dynamat LAB, Ghent University, Belgium\n",
      "//This is free software without any warranty. See license.txt\n",
      "//output directory: C:/Users/Rob/Desktop/Research/FMR_Paper/In_Plane_Field/In_Plane_Anis/HardAxis/ThinFilmFMR_BInPlane(1910)_In_PlaneAnis_K(0)_Ratio(1).out/\n",
      "//starting GUI at http://127.0.0.1:35367\n",
      "SetPBC(0, 0, 0)\n",
      "SetGridSize(512, 512.0, 4)\n",
      "SetCellSize(4e-9, 4e-9, 4e-9)\n",
      "Msat = 800000.0\n",
      "Aex = 1.3e-11\n",
      "alpha = 0.008\n",
      "edgesmooth = 8\n",
      "B := 1910e-3\n",
      "anisU = vector(1.0, 0.0, 6.123233995736766e-17)\n",
      "Ku1 = 0\n",
      "setSolver(5)\n",
      "TableAdd(Ku1)\n",
      "TableAdd(B_ext)\n",
      "TableAutoSave(5e-13)\n",
      "m = uniform(0, 1, 0)\n",
      "B_ext = vector(B*0.039891400317339676, B*0.9967530658528422, B*0.06994284733753288)\n",
      "relax()\n",
      "MaxDt = 5e-13\n",
      "B_ext = vector(B*0, B*1, B*0)\n",
      "run(1e-09)\n"
     ]
    },
    {
     "name": "stderr",
     "output_type": "stream",
     "text": [
      "//Using cached kernel: C:/Users/Rob/Desktop/Research/kernel-cache//mumax3kernel_[512 512 4]_[0 0 0]_[4e-09 4e-09 4e-09]_6_\n"
     ]
    },
    {
     "name": "stdout",
     "output_type": "stream",
     "text": [
      "//mumax 3.9.1c windows_amd64 go1.3.3 (gc)\n",
      "//CUDA 10020 TITAN Xp(12288MB) cc6.1, using CC53 PTX \n",
      "//(c) Arne Vansteenkiste, Dynamat LAB, Ghent University, Belgium\n",
      "//This is free software without any warranty. See license.txt\n",
      "//output directory: C:/Users/Rob/Desktop/Research/FMR_Paper/In_Plane_Field/In_Plane_Anis/HardAxis/ThinFilmFMR_BInPlane(191.92)_In_PlaneAnis_K(80000)_Ratio(1).out/\n",
      "//starting GUI at http://127.0.0.1:35367\n",
      "SetPBC(0, 0, 0)\n",
      "SetGridSize(512, 512.0, 4)\n",
      "SetCellSize(4e-9, 4e-9, 4e-9)\n",
      "Msat = 800000.0\n",
      "Aex = 1.3e-11\n",
      "alpha = 0.008\n",
      "edgesmooth = 8\n",
      "B := 191.92e-3\n",
      "anisU = vector(1.0, 0.0, 6.123233995736766e-17)\n",
      "Ku1 = 80000\n",
      "setSolver(5)\n",
      "TableAdd(Ku1)\n",
      "TableAdd(B_ext)\n",
      "TableAutoSave(5e-13)\n",
      "m = uniform(0, 1, 0)\n",
      "B_ext = vector(B*0.039891400317339676, B*0.9967530658528422, B*0.06994284733753288)\n",
      "relax()\n",
      "MaxDt = 5e-13\n",
      "B_ext = vector(B*0, B*1, B*0)\n",
      "run(1e-09)\n"
     ]
    },
    {
     "name": "stderr",
     "output_type": "stream",
     "text": [
      "//Using cached kernel: C:/Users/Rob/Desktop/Research/kernel-cache//mumax3kernel_[512 512 4]_[0 0 0]_[4e-09 4e-09 4e-09]_6_\n"
     ]
    },
    {
     "name": "stdout",
     "output_type": "stream",
     "text": [
      "//mumax 3.9.1c windows_amd64 go1.3.3 (gc)\n",
      "//CUDA 10020 TITAN Xp(12288MB) cc6.1, using CC53 PTX \n",
      "//(c) Arne Vansteenkiste, Dynamat LAB, Ghent University, Belgium\n",
      "//This is free software without any warranty. See license.txt\n",
      "//output directory: C:/Users/Rob/Desktop/Research/FMR_Paper/In_Plane_Field/In_Plane_Anis/HardAxis/ThinFilmFMR_BInPlane(191.92)_In_PlaneAnis_K(100000)_Ratio(1).out/\n",
      "//starting GUI at http://127.0.0.1:35367\n",
      "SetPBC(0, 0, 0)\n",
      "SetGridSize(512, 512.0, 4)\n",
      "SetCellSize(4e-9, 4e-9, 4e-9)\n",
      "Msat = 800000.0\n",
      "Aex = 1.3e-11\n",
      "alpha = 0.008\n",
      "edgesmooth = 8\n",
      "B := 191.92e-3\n",
      "anisU = vector(1.0, 0.0, 6.123233995736766e-17)\n",
      "Ku1 = 100000\n",
      "setSolver(5)\n",
      "TableAdd(Ku1)\n",
      "TableAdd(B_ext)\n",
      "TableAutoSave(5e-13)\n",
      "m = uniform(0, 1, 0)\n",
      "B_ext = vector(B*0.039891400317339676, B*0.9967530658528422, B*0.06994284733753288)\n",
      "relax()\n",
      "MaxDt = 5e-13\n",
      "B_ext = vector(B*0, B*1, B*0)\n",
      "run(1e-09)\n"
     ]
    },
    {
     "name": "stderr",
     "output_type": "stream",
     "text": [
      "//Using cached kernel: C:/Users/Rob/Desktop/Research/kernel-cache//mumax3kernel_[512 512 4]_[0 0 0]_[4e-09 4e-09 4e-09]_6_\n"
     ]
    },
    {
     "name": "stdout",
     "output_type": "stream",
     "text": [
      "//mumax 3.9.1c windows_amd64 go1.3.3 (gc)\n",
      "//CUDA 10020 TITAN Xp(12288MB) cc6.1, using CC53 PTX \n",
      "//(c) Arne Vansteenkiste, Dynamat LAB, Ghent University, Belgium\n",
      "//This is free software without any warranty. See license.txt\n",
      "//output directory: C:/Users/Rob/Desktop/Research/FMR_Paper/In_Plane_Field/In_Plane_Anis/HardAxis/ThinFilmFMR_BInPlane(191.67)_In_PlaneAnis_K(30000)_Ratio(1).out/\n",
      "//starting GUI at http://127.0.0.1:35367\n",
      "SetPBC(0, 0, 0)\n",
      "SetGridSize(512, 512.0, 4)\n",
      "SetCellSize(4e-9, 4e-9, 4e-9)\n",
      "Msat = 800000.0\n",
      "Aex = 1.3e-11\n",
      "alpha = 0.008\n",
      "edgesmooth = 8\n",
      "B := 191.67e-3\n",
      "anisU = vector(1.0, 0.0, 6.123233995736766e-17)\n",
      "Ku1 = 30000\n",
      "setSolver(5)\n",
      "TableAdd(Ku1)\n",
      "TableAdd(B_ext)\n",
      "TableAutoSave(5e-13)\n",
      "m = uniform(0, 1, 0)\n",
      "B_ext = vector(B*0.039891400317339676, B*0.9967530658528422, B*0.06994284733753288)\n",
      "relax()\n",
      "MaxDt = 5e-13\n",
      "B_ext = vector(B*0, B*1, B*0)\n",
      "run(1e-09)\n"
     ]
    },
    {
     "name": "stderr",
     "output_type": "stream",
     "text": [
      "//Using cached kernel: C:/Users/Rob/Desktop/Research/kernel-cache//mumax3kernel_[512 512 4]_[0 0 0]_[4e-09 4e-09 4e-09]_6_\n"
     ]
    },
    {
     "name": "stdout",
     "output_type": "stream",
     "text": [
      "//mumax 3.9.1c windows_amd64 go1.3.3 (gc)\n",
      "//CUDA 10020 TITAN Xp(12288MB) cc6.1, using CC53 PTX \n",
      "//(c) Arne Vansteenkiste, Dynamat LAB, Ghent University, Belgium\n",
      "//This is free software without any warranty. See license.txt\n",
      "//output directory: C:/Users/Rob/Desktop/Research/FMR_Paper/In_Plane_Field/In_Plane_Anis/HardAxis/ThinFilmFMR_BInPlane(1909.09)_In_PlaneAnis_K(80000)_Ratio(1).out/\n",
      "//starting GUI at http://127.0.0.1:35367\n",
      "SetPBC(0, 0, 0)\n",
      "SetGridSize(512, 512.0, 4)\n",
      "SetCellSize(4e-9, 4e-9, 4e-9)\n",
      "Msat = 800000.0\n",
      "Aex = 1.3e-11\n",
      "alpha = 0.008\n",
      "edgesmooth = 8\n",
      "B := 1909.09e-3\n",
      "anisU = vector(1.0, 0.0, 6.123233995736766e-17)\n",
      "Ku1 = 80000\n",
      "setSolver(5)\n",
      "TableAdd(Ku1)\n",
      "TableAdd(B_ext)\n",
      "TableAutoSave(5e-13)\n",
      "m = uniform(0, 1, 0)\n",
      "B_ext = vector(B*0.039891400317339676, B*0.9967530658528422, B*0.06994284733753288)\n",
      "relax()\n",
      "MaxDt = 5e-13\n",
      "B_ext = vector(B*0, B*1, B*0)\n",
      "run(1e-09)\n"
     ]
    },
    {
     "name": "stderr",
     "output_type": "stream",
     "text": [
      "//Using cached kernel: C:/Users/Rob/Desktop/Research/kernel-cache//mumax3kernel_[512 512 4]_[0 0 0]_[4e-09 4e-09 4e-09]_6_\n"
     ]
    },
    {
     "name": "stdout",
     "output_type": "stream",
     "text": [
      "//mumax 3.9.1c windows_amd64 go1.3.3 (gc)\n",
      "//CUDA 10020 TITAN Xp(12288MB) cc6.1, using CC53 PTX \n",
      "//(c) Arne Vansteenkiste, Dynamat LAB, Ghent University, Belgium\n",
      "//This is free software without any warranty. See license.txt\n",
      "//output directory: C:/Users/Rob/Desktop/Research/FMR_Paper/In_Plane_Field/In_Plane_Anis/HardAxis/ThinFilmFMR_BInPlane(1907.83)_In_PlaneAnis_K(70000)_Ratio(1).out/\n",
      "//starting GUI at http://127.0.0.1:35367\n",
      "SetPBC(0, 0, 0)\n",
      "SetGridSize(512, 512.0, 4)\n",
      "SetCellSize(4e-9, 4e-9, 4e-9)\n",
      "Msat = 800000.0\n",
      "Aex = 1.3e-11\n",
      "alpha = 0.008\n",
      "edgesmooth = 8\n",
      "B := 1907.83e-3\n",
      "anisU = vector(1.0, 0.0, 6.123233995736766e-17)\n",
      "Ku1 = 70000\n",
      "setSolver(5)\n",
      "TableAdd(Ku1)\n",
      "TableAdd(B_ext)\n",
      "TableAutoSave(5e-13)\n",
      "m = uniform(0, 1, 0)\n",
      "B_ext = vector(B*0.039891400317339676, B*0.9967530658528422, B*0.06994284733753288)\n",
      "relax()\n",
      "MaxDt = 5e-13\n",
      "B_ext = vector(B*0, B*1, B*0)\n",
      "run(1e-09)\n"
     ]
    },
    {
     "name": "stderr",
     "output_type": "stream",
     "text": [
      "//Using cached kernel: C:/Users/Rob/Desktop/Research/kernel-cache//mumax3kernel_[512 512 4]_[0 0 0]_[4e-09 4e-09 4e-09]_6_\n"
     ]
    },
    {
     "name": "stdout",
     "output_type": "stream",
     "text": [
      "//mumax 3.9.1c windows_amd64 go1.3.3 (gc)\n",
      "//CUDA 10020 TITAN Xp(12288MB) cc6.1, using CC53 PTX \n",
      "//(c) Arne Vansteenkiste, Dynamat LAB, Ghent University, Belgium\n",
      "//This is free software without any warranty. See license.txt\n",
      "//output directory: C:/Users/Rob/Desktop/Research/FMR_Paper/In_Plane_Field/In_Plane_Anis/HardAxis/ThinFilmFMR_BInPlane(1906.57)_In_PlaneAnis_K(60000)_Ratio(1).out/\n",
      "//starting GUI at http://127.0.0.1:35367\n",
      "SetPBC(0, 0, 0)\n",
      "SetGridSize(512, 512.0, 4)\n",
      "SetCellSize(4e-9, 4e-9, 4e-9)\n",
      "Msat = 800000.0\n",
      "Aex = 1.3e-11\n",
      "alpha = 0.008\n",
      "edgesmooth = 8\n",
      "B := 1906.57e-3\n",
      "anisU = vector(1.0, 0.0, 6.123233995736766e-17)\n",
      "Ku1 = 60000\n",
      "setSolver(5)\n",
      "TableAdd(Ku1)\n",
      "TableAdd(B_ext)\n",
      "TableAutoSave(5e-13)\n",
      "m = uniform(0, 1, 0)\n",
      "B_ext = vector(B*0.039891400317339676, B*0.9967530658528422, B*0.06994284733753288)\n",
      "relax()\n",
      "MaxDt = 5e-13\n",
      "B_ext = vector(B*0, B*1, B*0)\n",
      "run(1e-09)\n"
     ]
    },
    {
     "name": "stderr",
     "output_type": "stream",
     "text": [
      "//Using cached kernel: C:/Users/Rob/Desktop/Research/kernel-cache//mumax3kernel_[512 512 4]_[0 0 0]_[4e-09 4e-09 4e-09]_6_\n"
     ]
    },
    {
     "name": "stdout",
     "output_type": "stream",
     "text": [
      "//mumax 3.9.1c windows_amd64 go1.3.3 (gc)\n",
      "//CUDA 10020 TITAN Xp(12288MB) cc6.1, using CC53 PTX \n",
      "//(c) Arne Vansteenkiste, Dynamat LAB, Ghent University, Belgium\n",
      "//This is free software without any warranty. See license.txt\n",
      "//output directory: C:/Users/Rob/Desktop/Research/FMR_Paper/In_Plane_Field/In_Plane_Anis/HardAxis/ThinFilmFMR_BInPlane(1905.3)_In_PlaneAnis_K(50000)_Ratio(1).out/\n",
      "//starting GUI at http://127.0.0.1:35367\n",
      "SetPBC(0, 0, 0)\n",
      "SetGridSize(512, 512.0, 4)\n",
      "SetCellSize(4e-9, 4e-9, 4e-9)\n",
      "Msat = 800000.0\n",
      "Aex = 1.3e-11\n",
      "alpha = 0.008\n",
      "edgesmooth = 8\n",
      "B := 1905.3e-3\n",
      "anisU = vector(1.0, 0.0, 6.123233995736766e-17)\n",
      "Ku1 = 50000\n",
      "setSolver(5)\n",
      "TableAdd(Ku1)\n",
      "TableAdd(B_ext)\n",
      "TableAutoSave(5e-13)\n",
      "m = uniform(0, 1, 0)\n",
      "B_ext = vector(B*0.039891400317339676, B*0.9967530658528422, B*0.06994284733753288)\n",
      "relax()\n",
      "MaxDt = 5e-13\n",
      "B_ext = vector(B*0, B*1, B*0)\n",
      "run(1e-09)\n"
     ]
    },
    {
     "name": "stderr",
     "output_type": "stream",
     "text": [
      "//Using cached kernel: C:/Users/Rob/Desktop/Research/kernel-cache//mumax3kernel_[512 512 4]_[0 0 0]_[4e-09 4e-09 4e-09]_6_\n"
     ]
    },
    {
     "name": "stdout",
     "output_type": "stream",
     "text": [
      "//mumax 3.9.1c windows_amd64 go1.3.3 (gc)\n",
      "//CUDA 10020 TITAN Xp(12288MB) cc6.1, using CC53 PTX \n",
      "//(c) Arne Vansteenkiste, Dynamat LAB, Ghent University, Belgium\n",
      "//This is free software without any warranty. See license.txt\n",
      "//output directory: C:/Users/Rob/Desktop/Research/FMR_Paper/In_Plane_Field/In_Plane_Anis/HardAxis/ThinFilmFMR_BInPlane(1904.04)_In_PlaneAnis_K(40000)_Ratio(1).out/\n",
      "//starting GUI at http://127.0.0.1:35367\n",
      "SetPBC(0, 0, 0)\n",
      "SetGridSize(512, 512.0, 4)\n",
      "SetCellSize(4e-9, 4e-9, 4e-9)\n",
      "Msat = 800000.0\n",
      "Aex = 1.3e-11\n",
      "alpha = 0.008\n",
      "edgesmooth = 8\n",
      "B := 1904.04e-3\n",
      "anisU = vector(1.0, 0.0, 6.123233995736766e-17)\n",
      "Ku1 = 40000\n",
      "setSolver(5)\n",
      "TableAdd(Ku1)\n",
      "TableAdd(B_ext)\n",
      "TableAutoSave(5e-13)\n",
      "m = uniform(0, 1, 0)\n",
      "B_ext = vector(B*0.039891400317339676, B*0.9967530658528422, B*0.06994284733753288)\n",
      "relax()\n",
      "MaxDt = 5e-13\n",
      "B_ext = vector(B*0, B*1, B*0)\n",
      "run(1e-09)\n"
     ]
    },
    {
     "name": "stderr",
     "output_type": "stream",
     "text": [
      "//Using cached kernel: C:/Users/Rob/Desktop/Research/kernel-cache//mumax3kernel_[512 512 4]_[0 0 0]_[4e-09 4e-09 4e-09]_6_\n"
     ]
    }
   ],
   "source": [
    "\n",
    "for s in [o.split('.mx3')[0] for o in scripts][::-1]:\n",
    "    if s in [o.split('.out')[0] for o in outfiles]:\n",
    "        continue\n",
    "    cache = r'C:/Users/Rob/Desktop/Research/kernel-cache/'\n",
    "    !C:/Users/Rob/Desktop/Research/mumax3.exe  -cache={cache} {s.replace('\\\\','/')}.mx3\n"
   ]
  },
  {
   "cell_type": "code",
   "execution_count": null,
   "metadata": {},
   "outputs": [],
   "source": []
  },
  {
   "cell_type": "code",
   "execution_count": null,
   "metadata": {},
   "outputs": [],
   "source": []
  },
  {
   "cell_type": "code",
   "execution_count": null,
   "metadata": {},
   "outputs": [],
   "source": []
  },
  {
   "cell_type": "code",
   "execution_count": null,
   "metadata": {},
   "outputs": [],
   "source": []
  }
 ],
 "metadata": {
  "kernelspec": {
   "display_name": "Python 3",
   "language": "python",
   "name": "python3"
  },
  "language_info": {
   "codemirror_mode": {
    "name": "ipython",
    "version": 3
   },
   "file_extension": ".py",
   "mimetype": "text/x-python",
   "name": "python",
   "nbconvert_exporter": "python",
   "pygments_lexer": "ipython3",
   "version": "3.7.6"
  }
 },
 "nbformat": 4,
 "nbformat_minor": 4
}
